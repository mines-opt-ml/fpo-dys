{
 "cells": [
  {
   "cell_type": "code",
   "execution_count": 1,
   "id": "9d37fec5",
   "metadata": {},
   "outputs": [
    {
     "name": "stdout",
     "output_type": "stream",
     "text": [
      "Auto-Sklearn cannot be imported.\n"
     ]
    }
   ],
   "source": [
    "from Initialize_and_Train import initialize_and_train\n",
    "from generate_knapsack_data import Gen_Knapsack_data\n",
    "import numpy as np"
   ]
  },
  {
   "cell_type": "code",
   "execution_count": 2,
   "id": "dda79988",
   "metadata": {},
   "outputs": [],
   "source": [
    "models = ['DYS', 'SPO+', 'BBOpt'] #, 'PertOpt', 'PertOpt-FY']\n",
    "item_values = np.arange(30,60,5)\n",
    "num_repeats = 2\n",
    "results_test_loss = np.zeros((len(models), len(item_values), num_repeats))\n",
    "results_train_time = np.zeros((len(models), len(item_values), num_repeats))\n",
    "results_time_till_val_loss = np.zeros((len(models), len(item_values), num_repeats))\n",
    "\n",
    "# hard code some data parameters\n",
    "num_knapsack = 2\n",
    "num_feat = 5\n",
    "num_data = 1100\n",
    "\n",
    "# max values\n",
    "max_epochs = 10\n",
    "# max time hardcoded to 1 hour"
   ]
  },
  {
   "cell_type": "code",
   "execution_count": null,
   "id": "7fb14fc4",
   "metadata": {},
   "outputs": [
    {
     "name": "stdout",
     "output_type": "stream",
     "text": [
      "Generating training data for knapsack problem with 2 knapsacks and 30 items\n",
      "Restricted license - for non-production use only - expires 2024-10-28\n",
      "Optimizing for optDataset...\n"
     ]
    },
    {
     "name": "stderr",
     "output_type": "stream",
     "text": [
      "100%|████████████████████████████████████████| 900/900 [00:01<00:00, 528.27it/s]\n"
     ]
    },
    {
     "name": "stdout",
     "output_type": "stream",
     "text": [
      "Optimizing for optDataset...\n"
     ]
    },
    {
     "name": "stderr",
     "output_type": "stream",
     "text": [
      "100%|████████████████████████████████████████| 100/100 [00:00<00:00, 453.40it/s]\n"
     ]
    },
    {
     "name": "stdout",
     "output_type": "stream",
     "text": [
      "Optimizing for optDataset...\n"
     ]
    },
    {
     "name": "stderr",
     "output_type": "stream",
     "text": [
      "100%|████████████████████████████████████████| 100/100 [00:00<00:00, 435.20it/s]\n",
      "/Users/danielmckenzie/My-Drive/Research/Fixed_Point_Networks/Diff-Opt-Over-Polytopes-Project/SPO_with_DYS/source/Knapsack/dYS_opt_net.py:29: UserWarning: The operator 'aten::linalg_svd' is not currently supported on the MPS backend and will fall back to run on the CPU. This may have performance implications. (Triggered internally at /Users/runner/work/pytorch/pytorch/pytorch/aten/src/ATen/mps/MPSFallback.mm:11.)\n",
      "  U, s, VT = torch.linalg.svd(self.A, full_matrices=False)\n"
     ]
    },
    {
     "name": "stdout",
     "output_type": "stream",
     "text": [
      "Finished building dataset\n",
      "\n",
      " Currently training DYS\n",
      "\n",
      "Initial validation loss is  0.347759485244751\n",
      "epoch:  1 validation loss is  0.2499023824930191 epoch time:  1.3501460552215576\n",
      "epoch:  2 validation loss is  0.26747363805770874 epoch time:  1.0176830291748047\n",
      "epoch:  3 validation loss is  0.26747363805770874 epoch time:  1.0589308738708496\n",
      "epoch:  4 validation loss is  0.26747363805770874 epoch time:  1.013355016708374\n",
      "epoch:  5 validation loss is  0.26747363805770874 epoch time:  1.0351841449737549\n",
      "epoch:  6 validation loss is  0.26747363805770874 epoch time:  0.9884059429168701\n",
      "epoch:  7 validation loss is  0.26747363805770874 epoch time:  1.0216879844665527\n",
      "epoch:  8 validation loss is  0.26747363805770874 epoch time:  1.0614409446716309\n",
      "epoch:  9 validation loss is  0.26747363805770874 epoch time:  1.0309531688690186\n",
      "epoch:  10 validation loss is  0.26747363805770874 epoch time:  1.0298547744750977\n",
      "\n",
      " Currently training SPO+\n",
      "\n",
      "Num of cores: 1\n",
      "Initial validation loss is  0.347759485244751\n",
      "epoch:  1 validation loss is  0.06989457458257675 epoch time:  0.3967170715332031\n",
      "epoch:  2 validation loss is  0.029285436496138573 epoch time:  0.5681941509246826\n",
      "epoch:  3 validation loss is  0.015228426083922386 epoch time:  0.9110498428344727\n",
      "epoch:  4 validation loss is  0.012495119124650955 epoch time:  0.7667481899261475\n",
      "epoch:  5 validation loss is  0.012104647234082222 epoch time:  0.4948279857635498\n",
      "epoch:  6 validation loss is  0.008980866521596909 epoch time:  0.4367561340332031\n",
      "epoch:  7 validation loss is  0.007028504274785519 epoch time:  0.4486110210418701\n",
      "epoch:  8 validation loss is  0.006247559562325478 epoch time:  0.45035600662231445\n",
      "epoch:  9 validation loss is  0.00585708674043417 epoch time:  0.43213415145874023\n",
      "epoch:  10 validation loss is  0.00585708674043417 epoch time:  0.40979814529418945\n",
      "\n",
      " Currently training BBOpt\n",
      "\n",
      "Num of cores: 1\n",
      "Initial validation loss is  0.347759485244751\n",
      "epoch:  1 validation loss is  0.17532213032245636 epoch time:  1.537980079650879\n",
      "epoch:  2 validation loss is  0.06833268702030182 epoch time:  2.1029889583587646\n",
      "epoch:  3 validation loss is  0.062475595623254776 epoch time:  2.5550808906555176\n",
      "epoch:  4 validation loss is  0.04217102378606796 epoch time:  2.5568430423736572\n",
      "epoch:  5 validation loss is  0.04490433633327484 epoch time:  2.674436092376709\n",
      "epoch:  6 validation loss is  0.04880905896425247 epoch time:  2.622123956680298\n",
      "epoch:  7 validation loss is  0.04490433633327484 epoch time:  2.5687029361724854\n",
      "epoch:  8 validation loss is  0.03553299605846405 epoch time:  2.5924601554870605\n",
      "epoch:  9 validation loss is  0.034752052277326584 epoch time:  2.6103131771087646\n",
      "epoch:  10 validation loss is  0.034752052277326584 epoch time:  2.5676229000091553\n",
      "Generating training data for knapsack problem with 2 knapsacks and 30 items\n",
      "Optimizing for optDataset...\n"
     ]
    },
    {
     "name": "stderr",
     "output_type": "stream",
     "text": [
      "100%|████████████████████████████████████████| 900/900 [00:01<00:00, 476.86it/s]\n"
     ]
    },
    {
     "name": "stdout",
     "output_type": "stream",
     "text": [
      "Optimizing for optDataset...\n"
     ]
    },
    {
     "name": "stderr",
     "output_type": "stream",
     "text": [
      "100%|████████████████████████████████████████| 100/100 [00:00<00:00, 418.59it/s]\n"
     ]
    },
    {
     "name": "stdout",
     "output_type": "stream",
     "text": [
      "Optimizing for optDataset...\n"
     ]
    },
    {
     "name": "stderr",
     "output_type": "stream",
     "text": [
      "100%|████████████████████████████████████████| 100/100 [00:00<00:00, 432.22it/s]\n"
     ]
    },
    {
     "name": "stdout",
     "output_type": "stream",
     "text": [
      "Finished building dataset\n",
      "\n",
      " Currently training DYS\n",
      "\n",
      "Initial validation loss is  0.3554792106151581\n",
      "epoch:  1 validation loss is  0.26286762952804565 epoch time:  1.1168591976165771\n",
      "epoch:  2 validation loss is  0.2724264860153198 epoch time:  0.955834150314331\n",
      "epoch:  3 validation loss is  0.2724264860153198 epoch time:  1.0016429424285889\n",
      "epoch:  4 validation loss is  0.2724264860153198 epoch time:  1.026543140411377\n",
      "epoch:  5 validation loss is  0.2724264860153198 epoch time:  0.9933688640594482\n",
      "epoch:  6 validation loss is  0.2724264860153198 epoch time:  1.037261962890625\n",
      "epoch:  7 validation loss is  0.2724264860153198 epoch time:  1.0159831047058105\n",
      "epoch:  8 validation loss is  0.2724264860153198 epoch time:  1.0104529857635498\n",
      "epoch:  9 validation loss is  0.2724264860153198 epoch time:  1.0286369323730469\n",
      "epoch:  10 validation loss is  0.2724264860153198 epoch time:  0.9672629833221436\n",
      "\n",
      " Currently training SPO+\n",
      "\n",
      "Num of cores: 1\n",
      "Initial validation loss is  0.3554792106151581\n",
      "epoch:  1 validation loss is  0.05257352814078331 epoch time:  0.3724558353424072\n",
      "epoch:  2 validation loss is  0.026838235557079315 epoch time:  0.540107011795044\n",
      "epoch:  3 validation loss is  0.014705882407724857 epoch time:  0.9751169681549072\n",
      "epoch:  4 validation loss is  0.012867647223174572 epoch time:  0.8182840347290039\n",
      "epoch:  5 validation loss is  0.01360294222831726 epoch time:  0.4695160388946533\n",
      "epoch:  6 validation loss is  0.014705882407724857 epoch time:  0.4264497756958008\n",
      "epoch:  7 validation loss is  0.01066176500171423 epoch time:  0.4568300247192383\n",
      "epoch:  8 validation loss is  0.008455881848931313 epoch time:  0.4557809829711914\n",
      "epoch:  9 validation loss is  0.00992646999657154 epoch time:  0.42987918853759766\n",
      "epoch:  10 validation loss is  0.00992646999657154 epoch time:  0.42387986183166504\n",
      "\n",
      " Currently training BBOpt\n",
      "\n",
      "Num of cores: 1\n",
      "Initial validation loss is  0.3554792106151581\n",
      "epoch:  1 validation loss is  0.17058824002742767 epoch time:  1.565591812133789\n",
      "epoch:  2 validation loss is  0.1408088207244873 epoch time:  2.159446954727173\n",
      "epoch:  3 validation loss is  0.11911765486001968 epoch time:  2.350229024887085\n",
      "epoch:  4 validation loss is  0.10147058963775635 epoch time:  2.515676975250244\n",
      "epoch:  5 validation loss is  0.05477941408753395 epoch time:  2.556830883026123\n",
      "epoch:  6 validation loss is  0.03455882519483566 epoch time:  2.5553648471832275\n",
      "epoch:  7 validation loss is  0.03235294297337532 epoch time:  2.6190907955169678\n",
      "epoch:  8 validation loss is  0.031985294073820114 epoch time:  2.508216142654419\n",
      "epoch:  9 validation loss is  0.03345588222146034 epoch time:  2.5583620071411133\n",
      "epoch:  10 validation loss is  0.03125 epoch time:  2.5441887378692627\n",
      "Generating training data for knapsack problem with 2 knapsacks and 35 items\n",
      "Optimizing for optDataset...\n"
     ]
    },
    {
     "name": "stderr",
     "output_type": "stream",
     "text": [
      "100%|████████████████████████████████████████| 900/900 [00:02<00:00, 360.65it/s]\n"
     ]
    },
    {
     "name": "stdout",
     "output_type": "stream",
     "text": [
      "Optimizing for optDataset...\n"
     ]
    },
    {
     "name": "stderr",
     "output_type": "stream",
     "text": [
      "100%|████████████████████████████████████████| 100/100 [00:00<00:00, 393.12it/s]\n"
     ]
    },
    {
     "name": "stdout",
     "output_type": "stream",
     "text": [
      "Optimizing for optDataset...\n"
     ]
    },
    {
     "name": "stderr",
     "output_type": "stream",
     "text": [
      "100%|████████████████████████████████████████| 100/100 [00:00<00:00, 352.99it/s]\n"
     ]
    },
    {
     "name": "stdout",
     "output_type": "stream",
     "text": [
      "Finished building dataset\n",
      "\n",
      " Currently training DYS\n",
      "\n",
      "Initial validation loss is  0.4021608829498291\n",
      "epoch:  1 validation loss is  0.2693697512149811 epoch time:  1.264976978302002\n",
      "epoch:  2 validation loss is  0.27900442481040955 epoch time:  1.1170377731323242\n",
      "epoch:  3 validation loss is  0.27900442481040955 epoch time:  1.0576198101043701\n",
      "epoch:  4 validation loss is  0.27900442481040955 epoch time:  1.0115971565246582\n",
      "epoch:  5 validation loss is  0.27900442481040955 epoch time:  0.9955439567565918\n",
      "epoch:  6 validation loss is  0.27900442481040955 epoch time:  1.1156220436096191\n",
      "epoch:  7 validation loss is  0.27900442481040955 epoch time:  1.077775001525879\n",
      "epoch:  8 validation loss is  0.27900442481040955 epoch time:  1.051598072052002\n",
      "epoch:  9 validation loss is  0.27900442481040955 epoch time:  1.022463083267212\n",
      "epoch:  10 validation loss is  0.27900442481040955 epoch time:  1.0400879383087158\n",
      "\n",
      " Currently training SPO+\n",
      "\n",
      "Num of cores: 1\n",
      "Initial validation loss is  0.4021608829498291\n",
      "epoch:  1 validation loss is  0.07466880977153778 epoch time:  0.43517494201660156\n",
      "epoch:  2 validation loss is  0.02007226087152958 epoch time:  0.7165660858154297\n",
      "epoch:  3 validation loss is  0.012043355964124203 epoch time:  1.096006155014038\n",
      "epoch:  4 validation loss is  0.011240466497838497 epoch time:  0.8193881511688232\n",
      "epoch:  5 validation loss is  0.011240466497838497 epoch time:  0.5148439407348633\n",
      "epoch:  6 validation loss is  0.008831794373691082 epoch time:  0.48885083198547363\n",
      "epoch:  7 validation loss is  0.00843034964054823 epoch time:  0.5419058799743652\n",
      "epoch:  8 validation loss is  0.007226013578474522 epoch time:  0.5195069313049316\n",
      "epoch:  9 validation loss is  0.007627459242939949 epoch time:  0.48741722106933594\n",
      "epoch:  10 validation loss is  0.01003613043576479 epoch time:  0.4763641357421875\n",
      "\n",
      " Currently training BBOpt\n",
      "\n",
      "Num of cores: 1\n",
      "Initial validation loss is  0.4021608829498291\n",
      "epoch:  1 validation loss is  0.22159776091575623 epoch time:  1.8203399181365967\n",
      "epoch:  2 validation loss is  0.19028502702713013 epoch time:  2.00797176361084\n",
      "epoch:  3 validation loss is  0.13408270478248596 epoch time:  2.230070114135742\n",
      "epoch:  4 validation loss is  0.08229626715183258 epoch time:  2.5716638565063477\n",
      "epoch:  5 validation loss is  0.05620232969522476 epoch time:  2.743140935897827\n",
      "epoch:  6 validation loss is  0.04817342385649681 epoch time:  2.653503894805908\n",
      "epoch:  7 validation loss is  0.044560421258211136 epoch time:  2.626088857650757\n",
      "epoch:  8 validation loss is  0.044560421258211136 epoch time:  2.5764529705047607\n",
      "epoch:  9 validation loss is  0.04335607960820198 epoch time:  2.5697567462921143\n",
      "epoch:  10 validation loss is  0.03853873908519745 epoch time:  2.6803138256073\n",
      "Generating training data for knapsack problem with 2 knapsacks and 35 items\n",
      "Optimizing for optDataset...\n"
     ]
    },
    {
     "name": "stderr",
     "output_type": "stream",
     "text": [
      "100%|████████████████████████████████████████| 900/900 [00:02<00:00, 377.72it/s]\n"
     ]
    },
    {
     "name": "stdout",
     "output_type": "stream",
     "text": [
      "Optimizing for optDataset...\n"
     ]
    },
    {
     "name": "stderr",
     "output_type": "stream",
     "text": [
      "100%|████████████████████████████████████████| 100/100 [00:00<00:00, 391.44it/s]\n"
     ]
    },
    {
     "name": "stdout",
     "output_type": "stream",
     "text": [
      "Optimizing for optDataset...\n"
     ]
    },
    {
     "name": "stderr",
     "output_type": "stream",
     "text": [
      "100%|████████████████████████████████████████| 100/100 [00:00<00:00, 345.59it/s]\n"
     ]
    },
    {
     "name": "stdout",
     "output_type": "stream",
     "text": [
      "Finished building dataset\n",
      "\n",
      " Currently training DYS\n",
      "\n",
      "Initial validation loss is  0.38141024112701416\n",
      "epoch:  1 validation loss is  0.2263009250164032 epoch time:  1.1402902603149414\n",
      "epoch:  2 validation loss is  0.24364663660526276 epoch time:  1.134063720703125\n",
      "epoch:  3 validation loss is  0.2488906979560852 epoch time:  1.0521810054779053\n",
      "epoch:  4 validation loss is  0.2488906979560852 epoch time:  1.086967945098877\n",
      "epoch:  5 validation loss is  0.2488906979560852 epoch time:  1.1036417484283447\n",
      "epoch:  6 validation loss is  0.2488906979560852 epoch time:  1.06229567527771\n",
      "epoch:  7 validation loss is  0.2488906979560852 epoch time:  1.0531771183013916\n",
      "epoch:  8 validation loss is  0.2488906979560852 epoch time:  1.0491929054260254\n",
      "epoch:  9 validation loss is  0.2488906979560852 epoch time:  1.0960948467254639\n",
      "epoch:  10 validation loss is  0.2488906979560852 epoch time:  1.0309150218963623\n",
      "\n",
      " Currently training SPO+\n",
      "\n",
      "Num of cores: 1\n",
      "Initial validation loss is  0.38141024112701416\n",
      "epoch:  1 validation loss is  0.07503025233745575 epoch time:  0.42954111099243164\n",
      "epoch:  2 validation loss is  0.01492537371814251 epoch time:  0.6862530708312988\n",
      "epoch:  3 validation loss is  0.00806776899844408 epoch time:  1.1217162609100342\n",
      "epoch:  4 validation loss is  0.007664381060749292 epoch time:  0.8057701587677002\n",
      "epoch:  5 validation loss is  0.010488100349903107 epoch time:  0.49651098251342773\n",
      "epoch:  6 validation loss is  0.008874546736478806 epoch time:  0.48013806343078613\n",
      "epoch:  7 validation loss is  0.005647438578307629 epoch time:  0.5055482387542725\n",
      "epoch:  8 validation loss is  0.007664381060749292 epoch time:  0.5043611526489258\n",
      "epoch:  9 validation loss is  0.008874546736478806 epoch time:  0.47310900688171387\n",
      "epoch:  10 validation loss is  0.007664381060749292 epoch time:  0.46285295486450195\n",
      "\n",
      " Currently training BBOpt\n",
      "\n",
      "Num of cores: 1\n",
      "Initial validation loss is  0.38141024112701416\n",
      "epoch:  1 validation loss is  0.22025011479854584 epoch time:  1.804171085357666\n",
      "epoch:  2 validation loss is  0.16901977360248566 epoch time:  2.1825480461120605\n",
      "epoch:  3 validation loss is  0.13190802931785583 epoch time:  2.3226611614227295\n",
      "epoch:  4 validation loss is  0.10246067494153976 epoch time:  2.662238121032715\n",
      "epoch:  5 validation loss is  0.07745058834552765 epoch time:  2.6415202617645264\n",
      "epoch:  6 validation loss is  0.052037112414836884 epoch time:  2.685586929321289\n",
      "epoch:  7 validation loss is  0.05042355880141258 epoch time:  2.7082159519195557\n",
      "epoch:  8 validation loss is  0.04195240139961243 epoch time:  2.5011157989501953\n",
      "epoch:  9 validation loss is  0.04437273368239403 epoch time:  2.449282169342041\n",
      "epoch:  10 validation loss is  0.03509479761123657 epoch time:  2.600675106048584\n",
      "Generating training data for knapsack problem with 2 knapsacks and 40 items\n",
      "Optimizing for optDataset...\n"
     ]
    },
    {
     "name": "stderr",
     "output_type": "stream",
     "text": [
      "100%|████████████████████████████████████████| 900/900 [00:02<00:00, 370.32it/s]\n"
     ]
    },
    {
     "name": "stdout",
     "output_type": "stream",
     "text": [
      "Optimizing for optDataset...\n"
     ]
    },
    {
     "name": "stderr",
     "output_type": "stream",
     "text": [
      "100%|████████████████████████████████████████| 100/100 [00:00<00:00, 358.37it/s]\n"
     ]
    },
    {
     "name": "stdout",
     "output_type": "stream",
     "text": [
      "Optimizing for optDataset...\n"
     ]
    },
    {
     "name": "stderr",
     "output_type": "stream",
     "text": [
      "100%|████████████████████████████████████████| 100/100 [00:00<00:00, 315.23it/s]\n"
     ]
    },
    {
     "name": "stdout",
     "output_type": "stream",
     "text": [
      "Finished building dataset\n",
      "\n",
      " Currently training DYS\n",
      "\n",
      "Initial validation loss is  0.33246269822120667\n",
      "epoch:  1 validation loss is  0.28807342052459717 epoch time:  1.2810430526733398\n",
      "epoch:  2 validation loss is  0.2946788966655731 epoch time:  1.1631109714508057\n",
      "epoch:  3 validation loss is  0.2946788966655731 epoch time:  1.1926357746124268\n",
      "epoch:  4 validation loss is  0.2946788966655731 epoch time:  1.1904470920562744\n",
      "epoch:  5 validation loss is  0.2946788966655731 epoch time:  1.1304919719696045\n",
      "epoch:  6 validation loss is  0.2946788966655731 epoch time:  1.159214973449707\n",
      "epoch:  7 validation loss is  0.2946788966655731 epoch time:  1.1532251834869385\n",
      "epoch:  8 validation loss is  0.2946788966655731 epoch time:  1.1663811206817627\n",
      "epoch:  9 validation loss is  0.2946788966655731 epoch time:  1.1493420600891113\n",
      "epoch:  10 validation loss is  0.2946788966655731 epoch time:  1.12819504737854\n",
      "\n",
      " Currently training SPO+\n",
      "\n",
      "Num of cores: 1\n",
      "Initial validation loss is  0.33246269822120667\n",
      "epoch:  1 validation loss is  0.05724770948290825 epoch time:  0.4966309070587158\n",
      "epoch:  2 validation loss is  0.024220183491706848 epoch time:  0.7604858875274658\n",
      "epoch:  3 validation loss is  0.012110091745853424 epoch time:  1.1617980003356934\n",
      "epoch:  4 validation loss is  0.013211009092628956 epoch time:  0.8899667263031006\n",
      "epoch:  5 validation loss is  0.008073395118117332 epoch time:  0.5908679962158203\n",
      "epoch:  6 validation loss is  0.005871559958904982 epoch time:  0.5376029014587402\n",
      "epoch:  7 validation loss is  0.0073394495993852615 epoch time:  0.5593552589416504\n",
      "epoch:  8 validation loss is  0.006605504546314478 epoch time:  0.5691769123077393\n",
      "epoch:  9 validation loss is  0.0073394495993852615 epoch time:  0.5146229267120361\n",
      "epoch:  10 validation loss is  0.007706422358751297 epoch time:  0.5280241966247559\n",
      "\n",
      " Currently training BBOpt\n",
      "\n",
      "Num of cores: 1\n",
      "Initial validation loss is  0.33246269822120667\n",
      "epoch:  1 validation loss is  0.2286238670349121 epoch time:  1.9930682182312012\n",
      "epoch:  2 validation loss is  0.13908258080482483 epoch time:  2.668821096420288\n",
      "epoch:  3 validation loss is  0.10385321080684662 epoch time:  2.9902100563049316\n",
      "epoch:  4 validation loss is  0.07816513627767563 epoch time:  3.1264851093292236\n",
      "epoch:  5 validation loss is  0.06238532066345215 epoch time:  3.2390358448028564\n",
      "epoch:  6 validation loss is  0.0381651371717453 epoch time:  3.368626117706299\n",
      "epoch:  7 validation loss is  0.024587156251072884 epoch time:  3.5450258255004883\n",
      "epoch:  8 validation loss is  0.027522936463356018 epoch time:  3.4388952255249023\n",
      "epoch:  9 validation loss is  0.027155965566635132 epoch time:  3.5967907905578613\n",
      "epoch:  10 validation loss is  0.027522936463356018 epoch time:  3.471919059753418\n",
      "Generating training data for knapsack problem with 2 knapsacks and 40 items\n",
      "Optimizing for optDataset...\n"
     ]
    },
    {
     "name": "stderr",
     "output_type": "stream",
     "text": [
      "100%|████████████████████████████████████████| 900/900 [00:02<00:00, 371.66it/s]\n"
     ]
    },
    {
     "name": "stdout",
     "output_type": "stream",
     "text": [
      "Optimizing for optDataset...\n"
     ]
    },
    {
     "name": "stderr",
     "output_type": "stream",
     "text": [
      "100%|████████████████████████████████████████| 100/100 [00:00<00:00, 305.51it/s]\n"
     ]
    },
    {
     "name": "stdout",
     "output_type": "stream",
     "text": [
      "Optimizing for optDataset...\n"
     ]
    },
    {
     "name": "stderr",
     "output_type": "stream",
     "text": [
      "100%|████████████████████████████████████████| 100/100 [00:00<00:00, 361.55it/s]\n"
     ]
    },
    {
     "name": "stdout",
     "output_type": "stream",
     "text": [
      "Finished building dataset\n",
      "\n",
      " Currently training DYS\n",
      "\n",
      "Initial validation loss is  0.3324538469314575\n",
      "epoch:  1 validation loss is  0.2957283556461334 epoch time:  1.1823718547821045\n",
      "epoch:  2 validation loss is  0.29718875885009766 epoch time:  1.2070889472961426\n",
      "epoch:  3 validation loss is  0.29718875885009766 epoch time:  1.218595266342163\n",
      "epoch:  4 validation loss is  0.29718875885009766 epoch time:  1.187988042831421\n",
      "epoch:  5 validation loss is  0.29718875885009766 epoch time:  1.2933170795440674\n",
      "epoch:  6 validation loss is  0.29718875885009766 epoch time:  1.2067878246307373\n",
      "epoch:  7 validation loss is  0.29718875885009766 epoch time:  1.28009033203125\n",
      "epoch:  8 validation loss is  0.29718875885009766 epoch time:  1.2678139209747314\n",
      "epoch:  9 validation loss is  0.29718875885009766 epoch time:  1.2068088054656982\n",
      "epoch:  10 validation loss is  0.29718875885009766 epoch time:  1.1935832500457764\n",
      "\n",
      " Currently training SPO+\n",
      "\n",
      "Num of cores: 1\n",
      "Initial validation loss is  0.3324538469314575\n",
      "epoch:  1 validation loss is  0.062066450715065 epoch time:  0.4777488708496094\n",
      "epoch:  2 validation loss is  0.03541438654065132 epoch time:  0.7453341484069824\n",
      "epoch:  3 validation loss is  0.01131800003349781 epoch time:  1.1507980823516846\n",
      "epoch:  4 validation loss is  0.01314348354935646 epoch time:  0.8715920448303223\n",
      "epoch:  5 validation loss is  0.01131800003349781 epoch time:  0.5937919616699219\n",
      "epoch:  6 validation loss is  0.010222709737718105 epoch time:  0.5381519794464111\n",
      "epoch:  7 validation loss is  0.00839722529053688 epoch time:  0.547860860824585\n",
      "epoch:  8 validation loss is  0.00839722529053688 epoch time:  0.5309963226318359\n",
      "epoch:  9 validation loss is  0.005476451478898525 epoch time:  0.543626070022583\n",
      "epoch:  10 validation loss is  0.006206645164638758 epoch time:  0.5212841033935547\n",
      "\n",
      " Currently training BBOpt\n",
      "\n",
      "Num of cores: 1\n",
      "Initial validation loss is  0.3324538469314575\n",
      "epoch:  1 validation loss is  0.23147134482860565 epoch time:  2.1165199279785156\n",
      "epoch:  2 validation loss is  0.1515151709318161 epoch time:  2.9972479343414307\n",
      "epoch:  3 validation loss is  0.08798831701278687 epoch time:  3.339599847793579\n",
      "epoch:  4 validation loss is  0.07192406058311462 epoch time:  3.5784900188446045\n",
      "epoch:  5 validation loss is  0.05403432250022888 epoch time:  3.7984979152679443\n",
      "epoch:  6 validation loss is  0.03723987191915512 epoch time:  3.8109500408172607\n",
      "epoch:  7 validation loss is  0.03797006234526634 epoch time:  3.8808138370513916\n",
      "epoch:  8 validation loss is  0.03577948361635208 epoch time:  3.8908820152282715\n",
      "epoch:  9 validation loss is  0.03358890116214752 epoch time:  3.8636910915374756\n",
      "epoch:  10 validation loss is  0.02847754769027233 epoch time:  3.908984899520874\n",
      "Generating training data for knapsack problem with 2 knapsacks and 45 items\n",
      "Optimizing for optDataset...\n"
     ]
    },
    {
     "name": "stderr",
     "output_type": "stream",
     "text": [
      "100%|████████████████████████████████████████| 900/900 [00:02<00:00, 421.17it/s]\n"
     ]
    },
    {
     "name": "stdout",
     "output_type": "stream",
     "text": [
      "Optimizing for optDataset...\n"
     ]
    },
    {
     "name": "stderr",
     "output_type": "stream",
     "text": [
      "100%|████████████████████████████████████████| 100/100 [00:00<00:00, 354.82it/s]\n"
     ]
    },
    {
     "name": "stdout",
     "output_type": "stream",
     "text": [
      "Optimizing for optDataset...\n"
     ]
    },
    {
     "name": "stderr",
     "output_type": "stream",
     "text": [
      "100%|████████████████████████████████████████| 100/100 [00:00<00:00, 353.25it/s]\n"
     ]
    },
    {
     "name": "stdout",
     "output_type": "stream",
     "text": [
      "Finished building dataset\n",
      "\n",
      " Currently training DYS\n",
      "\n",
      "Initial validation loss is  0.3682892322540283\n",
      "epoch:  1 validation loss is  0.31230607628822327 epoch time:  1.2975049018859863\n",
      "epoch:  2 validation loss is  0.2947259545326233 epoch time:  1.1628899574279785\n",
      "epoch:  3 validation loss is  0.3119613826274872 epoch time:  1.1681981086730957\n",
      "epoch:  4 validation loss is  0.3119613826274872 epoch time:  1.108341932296753\n",
      "epoch:  5 validation loss is  0.3119613826274872 epoch time:  1.163783311843872\n",
      "epoch:  6 validation loss is  0.3119613826274872 epoch time:  1.12919020652771\n",
      "epoch:  7 validation loss is  0.3119613826274872 epoch time:  1.1798739433288574\n",
      "epoch:  8 validation loss is  0.3119613826274872 epoch time:  1.183547019958496\n",
      "epoch:  9 validation loss is  0.3119613826274872 epoch time:  1.242424726486206\n",
      "epoch:  10 validation loss is  0.3119613826274872 epoch time:  1.161637783050537\n",
      "\n",
      " Currently training SPO+\n",
      "\n",
      "Num of cores: 1\n",
      "Initial validation loss is  0.3682892322540283\n",
      "epoch:  1 validation loss is  0.05377455800771713 epoch time:  0.5194711685180664\n",
      "epoch:  2 validation loss is  0.024474317207932472 epoch time:  0.7118327617645264\n",
      "epoch:  3 validation loss is  0.007928299717605114 epoch time:  1.2392818927764893\n",
      "epoch:  4 validation loss is  0.009996552020311356 epoch time:  0.9044520854949951\n",
      "epoch:  5 validation loss is  0.010341260582208633 epoch time:  0.6050670146942139\n",
      "epoch:  6 validation loss is  0.008962426334619522 epoch time:  0.6019330024719238\n",
      "epoch:  7 validation loss is  0.009651844389736652 epoch time:  0.6277291774749756\n",
      "epoch:  8 validation loss is  0.0093071348965168 epoch time:  0.6066529750823975\n",
      "epoch:  9 validation loss is  0.007928299717605114 epoch time:  0.5812747478485107\n",
      "epoch:  10 validation loss is  0.008273009210824966 epoch time:  0.5841150283813477\n",
      "\n",
      " Currently training BBOpt\n",
      "\n",
      "Num of cores: 1\n",
      "Initial validation loss is  0.3682892322540283\n",
      "epoch:  1 validation loss is  0.21130642294883728 epoch time:  2.2843708992004395\n",
      "epoch:  2 validation loss is  0.13374698162078857 epoch time:  3.2466843128204346\n",
      "epoch:  3 validation loss is  0.0744570791721344 epoch time:  2.7389450073242188\n",
      "epoch:  4 validation loss is  0.05928989499807358 epoch time:  2.7316789627075195\n",
      "epoch:  5 validation loss is  0.04446742311120033 epoch time:  2.9828999042510986\n",
      "epoch:  6 validation loss is  0.045846257358789444 epoch time:  3.4673478603363037\n",
      "epoch:  7 validation loss is  0.041020333766937256 epoch time:  3.618124008178711\n",
      "epoch:  8 validation loss is  0.028266113251447678 epoch time:  3.7556819915771484\n",
      "epoch:  9 validation loss is  0.028610821813344955 epoch time:  3.7441463470458984\n",
      "epoch:  10 validation loss is  0.02964494749903679 epoch time:  3.6359260082244873\n",
      "Generating training data for knapsack problem with 2 knapsacks and 45 items\n",
      "Optimizing for optDataset...\n"
     ]
    },
    {
     "name": "stderr",
     "output_type": "stream",
     "text": [
      "100%|████████████████████████████████████████| 900/900 [00:02<00:00, 421.09it/s]\n"
     ]
    },
    {
     "name": "stdout",
     "output_type": "stream",
     "text": [
      "Optimizing for optDataset...\n"
     ]
    },
    {
     "name": "stderr",
     "output_type": "stream",
     "text": [
      "100%|████████████████████████████████████████| 100/100 [00:00<00:00, 392.71it/s]\n"
     ]
    },
    {
     "name": "stdout",
     "output_type": "stream",
     "text": [
      "Optimizing for optDataset...\n"
     ]
    },
    {
     "name": "stderr",
     "output_type": "stream",
     "text": [
      "100%|████████████████████████████████████████| 100/100 [00:00<00:00, 394.65it/s]\n"
     ]
    },
    {
     "name": "stdout",
     "output_type": "stream",
     "text": [
      "Finished building dataset\n",
      "\n",
      " Currently training DYS\n",
      "\n",
      "Initial validation loss is  0.3717993497848511\n",
      "epoch:  1 validation loss is  0.31499120593070984 epoch time:  1.124739170074463\n",
      "epoch:  2 validation loss is  0.3125220835208893 epoch time:  1.1510982513427734\n",
      "epoch:  3 validation loss is  0.3044092059135437 epoch time:  1.188439130783081\n",
      "epoch:  4 validation loss is  0.3044092059135437 epoch time:  1.1629068851470947\n",
      "epoch:  5 validation loss is  0.3044092059135437 epoch time:  1.1235158443450928\n",
      "epoch:  6 validation loss is  0.3044092059135437 epoch time:  1.1810948848724365\n",
      "epoch:  7 validation loss is  0.3044092059135437 epoch time:  1.144773006439209\n",
      "epoch:  8 validation loss is  0.3044092059135437 epoch time:  1.208406925201416\n",
      "epoch:  9 validation loss is  0.3044092059135437 epoch time:  1.1232011318206787\n",
      "epoch:  10 validation loss is  0.3044092059135437 epoch time:  1.173598051071167\n",
      "\n",
      " Currently training SPO+\n",
      "\n",
      "Num of cores: 1\n",
      "Initial validation loss is  0.3717993497848511\n",
      "epoch:  1 validation loss is  0.0634920671582222 epoch time:  0.5278799533843994\n",
      "epoch:  2 validation loss is  0.022574957460165024 epoch time:  0.7016379833221436\n",
      "epoch:  3 validation loss is  0.014109347946941853 epoch time:  1.191237211227417\n",
      "epoch:  4 validation loss is  0.013756615109741688 epoch time:  0.9873831272125244\n",
      "epoch:  5 validation loss is  0.013051148504018784 epoch time:  0.6190800666809082\n",
      "epoch:  6 validation loss is  0.01234568003565073 epoch time:  0.6238820552825928\n",
      "epoch:  7 validation loss is  0.010934745892882347 epoch time:  0.6146221160888672\n",
      "epoch:  8 validation loss is  0.010582011193037033 epoch time:  0.6448140144348145\n",
      "epoch:  9 validation loss is  0.010934745892882347 epoch time:  0.5947787761688232\n",
      "epoch:  10 validation loss is  0.010229278355836868 epoch time:  0.5794811248779297\n",
      "\n",
      " Currently training BBOpt\n",
      "\n",
      "Num of cores: 1\n",
      "Initial validation loss is  0.3717993497848511\n",
      "epoch:  1 validation loss is  0.18624339997768402 epoch time:  2.4254910945892334\n",
      "epoch:  2 validation loss is  0.1347442865371704 epoch time:  2.970479726791382\n",
      "epoch:  3 validation loss is  0.08289242535829544 epoch time:  2.6426138877868652\n",
      "epoch:  4 validation loss is  0.058553799986839294 epoch time:  2.9217660427093506\n",
      "epoch:  5 validation loss is  0.05396825820207596 epoch time:  3.2776529788970947\n",
      "epoch:  6 validation loss is  0.04056437686085701 epoch time:  3.718424081802368\n",
      "epoch:  7 validation loss is  0.040211644023656845 epoch time:  3.8645780086517334\n",
      "epoch:  8 validation loss is  0.033156972378492355 epoch time:  4.125263929367065\n",
      "epoch:  9 validation loss is  0.027513230219483376 epoch time:  4.0952911376953125\n",
      "epoch:  10 validation loss is  0.02398589439690113 epoch time:  3.91133189201355\n",
      "Generating training data for knapsack problem with 2 knapsacks and 50 items\n",
      "Optimizing for optDataset...\n"
     ]
    },
    {
     "name": "stderr",
     "output_type": "stream",
     "text": [
      "100%|████████████████████████████████████████| 900/900 [00:02<00:00, 440.73it/s]\n"
     ]
    },
    {
     "name": "stdout",
     "output_type": "stream",
     "text": [
      "Optimizing for optDataset...\n"
     ]
    },
    {
     "name": "stderr",
     "output_type": "stream",
     "text": [
      "100%|████████████████████████████████████████| 100/100 [00:00<00:00, 413.35it/s]\n"
     ]
    },
    {
     "name": "stdout",
     "output_type": "stream",
     "text": [
      "Optimizing for optDataset...\n"
     ]
    },
    {
     "name": "stderr",
     "output_type": "stream",
     "text": [
      "100%|████████████████████████████████████████| 100/100 [00:00<00:00, 420.08it/s]\n"
     ]
    },
    {
     "name": "stdout",
     "output_type": "stream",
     "text": [
      "Finished building dataset\n",
      "\n",
      " Currently training DYS\n",
      "\n",
      "Initial validation loss is  0.35829249024391174\n",
      "epoch:  1 validation loss is  0.1880977600812912 epoch time:  1.3286902904510498\n",
      "epoch:  2 validation loss is  0.17428268492221832 epoch time:  1.0923759937286377\n",
      "epoch:  3 validation loss is  0.17428268492221832 epoch time:  1.0855610370635986\n",
      "epoch:  4 validation loss is  0.17428268492221832 epoch time:  1.0951619148254395\n",
      "epoch:  5 validation loss is  0.17428268492221832 epoch time:  1.050264835357666\n",
      "epoch:  6 validation loss is  0.17428268492221832 epoch time:  1.1102042198181152\n",
      "epoch:  7 validation loss is  0.17428268492221832 epoch time:  1.091547966003418\n",
      "epoch:  8 validation loss is  0.17428268492221832 epoch time:  1.099025011062622\n",
      "epoch:  9 validation loss is  0.17428268492221832 epoch time:  1.0603508949279785\n",
      "epoch:  10 validation loss is  0.17428268492221832 epoch time:  1.1012299060821533\n",
      "\n",
      " Currently training SPO+\n",
      "\n",
      "Num of cores: 1\n",
      "Initial validation loss is  0.35829249024391174\n"
     ]
    }
   ],
   "source": [
    "for item_counter, num_item in enumerate(item_values):\n",
    "    knapsack_data_dict = {'num_knapsack': num_knapsack,\n",
    "                          'num_item': num_item,\n",
    "                          'num_feat': num_feat,\n",
    "                          'num_data': num_data\n",
    "                         } \n",
    "    \n",
    "    # Do the thing\n",
    "    for repeat in range(num_repeats):\n",
    "        # Generate Data\n",
    "        knapsack_dict = Gen_Knapsack_data(num_data, num_feat, num_item, num_knapsack)\n",
    "        for model_counter, model_type in enumerate(models):\n",
    "            train_time, best_test_loss, time_till_best_test_loss = initialize_and_train(knapsack_dict, knapsack_data_dict, model_type, max_epochs)\n",
    "            results_test_loss[model_counter, item_counter, repeat] = best_test_loss\n",
    "            results_train_time[model_counter, item_counter, repeat] = train_time\n",
    "            results_time_till_val_loss[model_counter, item_counter, repeat] = time_till_best_test_loss\n",
    "    "
   ]
  },
  {
   "cell_type": "code",
   "execution_count": null,
   "id": "67d3e6d1",
   "metadata": {},
   "outputs": [],
   "source": [
    "print(results_train_time)"
   ]
  },
  {
   "cell_type": "code",
   "execution_count": null,
   "id": "24f40dcf",
   "metadata": {},
   "outputs": [],
   "source": [
    "print(results_test_loss)"
   ]
  },
  {
   "cell_type": "code",
   "execution_count": null,
   "id": "2a93c416",
   "metadata": {},
   "outputs": [],
   "source": [
    "results_test_loss_mean = np.mean(results_test_loss, axis=2)\n",
    "print(results_test_loss_mean)"
   ]
  },
  {
   "cell_type": "code",
   "execution_count": null,
   "id": "00be30e3",
   "metadata": {},
   "outputs": [],
   "source": [
    "import matplotlib.pyplot as plt\n",
    "\n",
    "for idx, model_type in enumerate(models):\n",
    "    plt.plot(item_values, results_test_loss_mean[idx,:], label=model_type)\n",
    "\n",
    "plt.title(\"Best Regret Achieved\")\n",
    "plt.legend()\n",
    "plt.savefig('Knapsack_experiment_varying_num_items_regret_55.pdf')\n",
    "plt.show()\n",
    "\n",
    "    "
   ]
  },
  {
   "cell_type": "code",
   "execution_count": null,
   "id": "333c9f74",
   "metadata": {},
   "outputs": [],
   "source": [
    "results_time_till_val_loss_mean = np.mean(results_time_till_val_loss, axis=2)\n",
    "print(results_time_till_val_loss_mean)"
   ]
  },
  {
   "cell_type": "code",
   "execution_count": null,
   "id": "145d2f03",
   "metadata": {},
   "outputs": [],
   "source": [
    "for idx, model_type in enumerate(models):\n",
    "    print(idx, model_type)\n",
    "    plt.plot(item_values, results_time_till_val_loss_mean[idx,:], label=model_type)\n",
    "\n",
    "plt.title(\"Train Time\")\n",
    "plt.legend()\n",
    "plt.savefig('Knapsack_experiment_varying_num_items_train_time_55.pdf')\n",
    "plt.show()"
   ]
  },
  {
   "cell_type": "code",
   "execution_count": null,
   "id": "c8bed3a7",
   "metadata": {},
   "outputs": [],
   "source": [
    "for idx, model_type in enumerate(models):\n",
    "    print(idx, model_type)\n",
    "    plt.plot(item_values, results_time_till_best_loss[idx,:], label=model_type)\n",
    "\n",
    "plt.title(\"Train Time till Best Model\")\n",
    "plt.legend()\n",
    "# plt.savefig('Knapsack_experiment_varying_num_items_train_time.pdf')\n",
    "plt.show()"
   ]
  },
  {
   "cell_type": "code",
   "execution_count": null,
   "id": "5f136463",
   "metadata": {},
   "outputs": [],
   "source": [
    "print(results_time_till_best_loss)"
   ]
  },
  {
   "cell_type": "code",
   "execution_count": null,
   "id": "e883fa84",
   "metadata": {},
   "outputs": [],
   "source": []
  }
 ],
 "metadata": {
  "kernelspec": {
   "display_name": "Python 3 (ipykernel)",
   "language": "python",
   "name": "python3"
  },
  "language_info": {
   "codemirror_mode": {
    "name": "ipython",
    "version": 3
   },
   "file_extension": ".py",
   "mimetype": "text/x-python",
   "name": "python",
   "nbconvert_exporter": "python",
   "pygments_lexer": "ipython3",
   "version": "3.10.10"
  }
 },
 "nbformat": 4,
 "nbformat_minor": 5
}

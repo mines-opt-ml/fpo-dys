{
 "cells": [
  {
   "cell_type": "code",
   "execution_count": 1,
   "id": "9d37fec5",
   "metadata": {},
   "outputs": [
    {
     "name": "stdout",
     "output_type": "stream",
     "text": [
      "Auto-Sklearn cannot be imported.\n"
     ]
    }
   ],
   "source": [
    "from Initialize_and_Train import initialize_and_train\n",
    "from generate_knapsack_data import Gen_Knapsack_data\n",
    "import numpy as np"
   ]
  },
  {
   "cell_type": "code",
   "execution_count": 2,
   "id": "dda79988",
   "metadata": {},
   "outputs": [],
   "source": [
    "models = ['DYS', 'SPO+', 'BBOpt'] #, 'PertOpt', 'PertOpt-FY']\n",
    "item_values = np.arange(30,60,5)\n",
    "num_repeats = 2\n",
    "results_test_loss = np.zeros((len(models), len(item_values), num_repeats))\n",
    "results_train_time = np.zeros((len(models), len(item_values), num_repeats))\n",
    "results_time_till_val_loss = np.zeros((len(models), len(item_values), num_repeats))\n",
    "\n",
    "# hard code some data parameters\n",
    "num_knapsack = 2\n",
    "num_feat = 5\n",
    "num_data = 1100\n",
    "\n",
    "# max values\n",
    "max_epochs = 10\n",
    "# max time hardcoded to 1 hour"
   ]
  },
  {
   "cell_type": "code",
   "execution_count": 3,
   "id": "7fb14fc4",
   "metadata": {},
   "outputs": [
    {
     "name": "stdout",
     "output_type": "stream",
     "text": [
      "Generating training data for knapsack problem with 2 knapsacks and 30 items\n",
      "Restricted license - for non-production use only - expires 2024-10-28\n",
      "Optimizing for optDataset...\n"
     ]
    },
    {
     "name": "stderr",
     "output_type": "stream",
     "text": [
      "100%|████████████████████████████████████████| 900/900 [00:01<00:00, 505.41it/s]\n"
     ]
    },
    {
     "name": "stdout",
     "output_type": "stream",
     "text": [
      "Optimizing for optDataset...\n"
     ]
    },
    {
     "name": "stderr",
     "output_type": "stream",
     "text": [
      "100%|████████████████████████████████████████| 100/100 [00:00<00:00, 464.86it/s]\n"
     ]
    },
    {
     "name": "stdout",
     "output_type": "stream",
     "text": [
      "Optimizing for optDataset...\n"
     ]
    },
    {
     "name": "stderr",
     "output_type": "stream",
     "text": [
      "100%|████████████████████████████████████████| 100/100 [00:00<00:00, 384.90it/s]\n",
      "/Users/danielmckenzie/My-Drive/Research/Fixed_Point_Networks/Diff-Opt-Over-Polytopes-Project/SPO_with_DYS/source/Knapsack/dYS_opt_net.py:29: UserWarning: The operator 'aten::linalg_svd' is not currently supported on the MPS backend and will fall back to run on the CPU. This may have performance implications. (Triggered internally at /Users/runner/work/pytorch/pytorch/pytorch/aten/src/ATen/mps/MPSFallback.mm:11.)\n",
      "  U, s, VT = torch.linalg.svd(self.A, full_matrices=False)\n"
     ]
    },
    {
     "name": "stdout",
     "output_type": "stream",
     "text": [
      "Finished building dataset\n",
      "\n",
      " Currently training DYS\n",
      "\n",
      "Initial validation loss is  0.3391336500644684\n",
      "epoch:  1 validation loss is  0.08048684895038605 epoch time:  1.3021140098571777\n",
      "epoch:  2 validation loss is  0.08048684895038605 epoch time:  1.0557239055633545\n",
      "epoch:  3 validation loss is  0.08048684895038605 epoch time:  1.0089542865753174\n",
      "epoch:  4 validation loss is  0.08048684895038605 epoch time:  0.9978139400482178\n",
      "epoch:  5 validation loss is  0.08048684895038605 epoch time:  1.040229082107544\n",
      "epoch:  6 validation loss is  0.08048684895038605 epoch time:  1.0392467975616455\n",
      "epoch:  7 validation loss is  0.08048684895038605 epoch time:  1.003514289855957\n",
      "epoch:  8 validation loss is  0.08048684895038605 epoch time:  0.9857892990112305\n",
      "epoch:  9 validation loss is  0.08048684895038605 epoch time:  1.003093957901001\n",
      "epoch:  10 validation loss is  0.08048684895038605 epoch time:  1.035912036895752\n",
      "\n",
      " Currently training SPO+\n",
      "\n",
      "Num of cores: 1\n",
      "Initial validation loss is  0.3391336500644684\n",
      "epoch:  1 validation loss is  0.05025520175695419 epoch time:  0.3926401138305664\n",
      "epoch:  2 validation loss is  0.026698077097535133 epoch time:  0.5648350715637207\n",
      "epoch:  3 validation loss is  0.013741657137870789 epoch time:  0.9434759616851807\n",
      "epoch:  4 validation loss is  0.009422850795090199 epoch time:  0.755389928817749\n",
      "epoch:  5 validation loss is  0.007459756452590227 epoch time:  0.4696331024169922\n",
      "epoch:  6 validation loss is  0.00863761268556118 epoch time:  0.427731990814209\n",
      "epoch:  7 validation loss is  0.007852374576032162 epoch time:  0.45215511322021484\n",
      "epoch:  8 validation loss is  0.006281900219619274 epoch time:  0.44576311111450195\n",
      "epoch:  9 validation loss is  0.00549666304141283 epoch time:  0.43331193923950195\n",
      "epoch:  10 validation loss is  0.00431880634278059 epoch time:  0.42556285858154297\n",
      "\n",
      " Currently training BBOpt\n",
      "\n",
      "Num of cores: 1\n",
      "Initial validation loss is  0.3391336500644684\n",
      "epoch:  1 validation loss is  0.08833922445774078 epoch time:  1.4611120223999023\n",
      "epoch:  2 validation loss is  0.0738123282790184 epoch time:  1.9238841533660889\n",
      "epoch:  3 validation loss is  0.0494699664413929 epoch time:  2.21481990814209\n",
      "epoch:  4 validation loss is  0.040047112852334976 epoch time:  2.395972728729248\n",
      "epoch:  5 validation loss is  0.027875931933522224 epoch time:  2.4860846996307373\n",
      "epoch:  6 validation loss is  0.028661169111728668 epoch time:  2.517502784729004\n",
      "epoch:  7 validation loss is  0.026698077097535133 epoch time:  2.575524091720581\n",
      "epoch:  8 validation loss is  0.02120141312479973 epoch time:  2.601294994354248\n",
      "epoch:  9 validation loss is  0.02120141312479973 epoch time:  2.6377851963043213\n",
      "epoch:  10 validation loss is  0.017667844891548157 epoch time:  2.67851185798645\n",
      "Generating training data for knapsack problem with 2 knapsacks and 30 items\n",
      "Optimizing for optDataset...\n"
     ]
    },
    {
     "name": "stderr",
     "output_type": "stream",
     "text": [
      "100%|████████████████████████████████████████| 900/900 [00:01<00:00, 473.63it/s]\n"
     ]
    },
    {
     "name": "stdout",
     "output_type": "stream",
     "text": [
      "Optimizing for optDataset...\n"
     ]
    },
    {
     "name": "stderr",
     "output_type": "stream",
     "text": [
      "100%|████████████████████████████████████████| 100/100 [00:00<00:00, 467.68it/s]\n"
     ]
    },
    {
     "name": "stdout",
     "output_type": "stream",
     "text": [
      "Optimizing for optDataset...\n"
     ]
    },
    {
     "name": "stderr",
     "output_type": "stream",
     "text": [
      "100%|████████████████████████████████████████| 100/100 [00:00<00:00, 466.47it/s]\n"
     ]
    },
    {
     "name": "stdout",
     "output_type": "stream",
     "text": [
      "Finished building dataset\n",
      "\n",
      " Currently training DYS\n",
      "\n",
      "Initial validation loss is  0.3214285969734192\n",
      "epoch:  1 validation loss is  0.07890684902667999 epoch time:  1.222355842590332\n",
      "epoch:  2 validation loss is  0.07890684902667999 epoch time:  1.0141229629516602\n",
      "epoch:  3 validation loss is  0.07890684902667999 epoch time:  1.0151011943817139\n",
      "epoch:  4 validation loss is  0.07890684902667999 epoch time:  1.0052249431610107\n",
      "epoch:  5 validation loss is  0.07890684902667999 epoch time:  0.9824578762054443\n",
      "epoch:  6 validation loss is  0.07890684902667999 epoch time:  1.0247321128845215\n",
      "epoch:  7 validation loss is  0.07890684902667999 epoch time:  0.9841511249542236\n",
      "epoch:  8 validation loss is  0.07890684902667999 epoch time:  1.041489839553833\n",
      "epoch:  9 validation loss is  0.07890684902667999 epoch time:  0.9888288974761963\n",
      "epoch:  10 validation loss is  0.07890684902667999 epoch time:  1.017313003540039\n",
      "\n",
      " Currently training SPO+\n",
      "\n",
      "Num of cores: 1\n",
      "Initial validation loss is  0.3214285969734192\n",
      "epoch:  1 validation loss is  0.045804463326931 epoch time:  0.3825678825378418\n",
      "epoch:  2 validation loss is  0.019630486145615578 epoch time:  0.5504777431488037\n",
      "epoch:  3 validation loss is  0.01308699045330286 epoch time:  0.9363970756530762\n",
      "epoch:  4 validation loss is  0.011932255700230598 epoch time:  0.7195508480072021\n",
      "epoch:  5 validation loss is  0.008468052372336388 epoch time:  0.47468018531799316\n",
      "epoch:  6 validation loss is  0.00923787523061037 epoch time:  0.43894195556640625\n",
      "epoch:  7 validation loss is  0.005388760939240456 epoch time:  0.4553389549255371\n",
      "epoch:  8 validation loss is  0.005388760939240456 epoch time:  0.45897483825683594\n",
      "epoch:  9 validation loss is  0.005003849044442177 epoch time:  0.4434471130371094\n",
      "epoch:  10 validation loss is  0.006158583797514439 epoch time:  0.42297983169555664\n",
      "\n",
      " Currently training BBOpt\n",
      "\n",
      "Num of cores: 1\n",
      "Initial validation loss is  0.3214285969734192\n",
      "epoch:  1 validation loss is  0.08391069620847702 epoch time:  1.4761390686035156\n",
      "epoch:  2 validation loss is  0.06889915466308594 epoch time:  1.9870030879974365\n",
      "epoch:  3 validation loss is  0.06312548369169235 epoch time:  2.2877309322357178\n",
      "epoch:  4 validation loss is  0.042725175619125366 epoch time:  2.56392502784729\n",
      "epoch:  5 validation loss is  0.036566589027643204 epoch time:  2.804983139038086\n",
      "epoch:  6 validation loss is  0.031177829951047897 epoch time:  2.7279276847839355\n",
      "epoch:  7 validation loss is  0.03040800616145134 epoch time:  2.7985010147094727\n",
      "epoch:  8 validation loss is  0.036566589027643204 epoch time:  2.7492787837982178\n",
      "epoch:  9 validation loss is  0.03502694517374039 epoch time:  2.724062919616699\n",
      "epoch:  10 validation loss is  0.024249423295259476 epoch time:  2.9256608486175537\n",
      "Generating training data for knapsack problem with 2 knapsacks and 35 items\n",
      "Optimizing for optDataset...\n"
     ]
    },
    {
     "name": "stderr",
     "output_type": "stream",
     "text": [
      "100%|████████████████████████████████████████| 900/900 [00:02<00:00, 351.55it/s]\n"
     ]
    },
    {
     "name": "stdout",
     "output_type": "stream",
     "text": [
      "Optimizing for optDataset...\n"
     ]
    },
    {
     "name": "stderr",
     "output_type": "stream",
     "text": [
      "100%|████████████████████████████████████████| 100/100 [00:00<00:00, 330.59it/s]\n"
     ]
    },
    {
     "name": "stdout",
     "output_type": "stream",
     "text": [
      "Optimizing for optDataset...\n"
     ]
    },
    {
     "name": "stderr",
     "output_type": "stream",
     "text": [
      "100%|████████████████████████████████████████| 100/100 [00:00<00:00, 376.08it/s]\n"
     ]
    },
    {
     "name": "stdout",
     "output_type": "stream",
     "text": [
      "Finished building dataset\n",
      "\n",
      " Currently training DYS\n",
      "\n",
      "Initial validation loss is  0.33741605281829834\n",
      "epoch:  1 validation loss is  0.2278897613286972 epoch time:  1.3536121845245361\n",
      "epoch:  2 validation loss is  0.23282600939273834 epoch time:  1.2092270851135254\n",
      "epoch:  3 validation loss is  0.23282600939273834 epoch time:  1.1362178325653076\n",
      "epoch:  4 validation loss is  0.23282600939273834 epoch time:  1.1275370121002197\n",
      "epoch:  5 validation loss is  0.23282600939273834 epoch time:  1.142076015472412\n",
      "epoch:  6 validation loss is  0.23282600939273834 epoch time:  1.107940912246704\n",
      "epoch:  7 validation loss is  0.23282600939273834 epoch time:  1.1271419525146484\n",
      "epoch:  8 validation loss is  0.23282600939273834 epoch time:  1.153083086013794\n",
      "epoch:  9 validation loss is  0.23282600939273834 epoch time:  1.107435941696167\n",
      "epoch:  10 validation loss is  0.23282600939273834 epoch time:  1.063927173614502\n",
      "\n",
      " Currently training SPO+\n",
      "\n",
      "Num of cores: 1\n",
      "Initial validation loss is  0.33741605281829834\n",
      "epoch:  1 validation loss is  0.09872480481863022 epoch time:  0.4336080551147461\n",
      "epoch:  2 validation loss is  0.015631427988409996 epoch time:  0.6450681686401367\n",
      "epoch:  3 validation loss is  0.006993007380515337 epoch time:  1.0678291320800781\n",
      "epoch:  4 validation loss is  0.007404360454529524 epoch time:  0.8769540786743164\n",
      "epoch:  5 validation loss is  0.007404360454529524 epoch time:  0.4985320568084717\n",
      "epoch:  6 validation loss is  0.006581653840839863 epoch time:  0.48554396629333496\n",
      "epoch:  7 validation loss is  0.0041135335341095924 epoch time:  0.502028226852417\n",
      "epoch:  8 validation loss is  0.0041135335341095924 epoch time:  0.5213801860809326\n",
      "epoch:  9 validation loss is  0.004524887073785067 epoch time:  0.4723026752471924\n",
      "epoch:  10 validation loss is  0.0041135335341095924 epoch time:  0.4757530689239502\n",
      "\n",
      " Currently training BBOpt\n",
      "\n",
      "Num of cores: 1\n",
      "Initial validation loss is  0.33741605281829834\n",
      "epoch:  1 validation loss is  0.17935006320476532 epoch time:  1.6465480327606201\n",
      "epoch:  2 validation loss is  0.14068284630775452 epoch time:  2.0918421745300293\n",
      "epoch:  3 validation loss is  0.09707938879728317 epoch time:  2.3700740337371826\n",
      "epoch:  4 validation loss is  0.09255450963973999 epoch time:  2.5435080528259277\n",
      "epoch:  5 validation loss is  0.07980255037546158 epoch time:  2.5486931800842285\n",
      "epoch:  6 validation loss is  0.06787330657243729 epoch time:  2.6123929023742676\n",
      "epoch:  7 validation loss is  0.06828466057777405 epoch time:  2.7701220512390137\n",
      "epoch:  8 validation loss is  0.05758947134017944 epoch time:  2.8155100345611572\n",
      "epoch:  9 validation loss is  0.055532705038785934 epoch time:  2.8293800354003906\n",
      "epoch:  10 validation loss is  0.055944059044122696 epoch time:  2.794419050216675\n",
      "Generating training data for knapsack problem with 2 knapsacks and 35 items\n",
      "Optimizing for optDataset...\n"
     ]
    },
    {
     "name": "stderr",
     "output_type": "stream",
     "text": [
      "100%|████████████████████████████████████████| 900/900 [00:02<00:00, 341.01it/s]\n"
     ]
    },
    {
     "name": "stdout",
     "output_type": "stream",
     "text": [
      "Optimizing for optDataset...\n"
     ]
    },
    {
     "name": "stderr",
     "output_type": "stream",
     "text": [
      "100%|████████████████████████████████████████| 100/100 [00:00<00:00, 332.79it/s]\n"
     ]
    },
    {
     "name": "stdout",
     "output_type": "stream",
     "text": [
      "Optimizing for optDataset...\n"
     ]
    },
    {
     "name": "stderr",
     "output_type": "stream",
     "text": [
      "100%|████████████████████████████████████████| 100/100 [00:00<00:00, 355.29it/s]\n"
     ]
    },
    {
     "name": "stdout",
     "output_type": "stream",
     "text": [
      "Finished building dataset\n",
      "\n",
      " Currently training DYS\n",
      "\n",
      "Initial validation loss is  0.3419983983039856\n",
      "epoch:  1 validation loss is  0.24099186062812805 epoch time:  1.1324341297149658\n",
      "epoch:  2 validation loss is  0.25920185446739197 epoch time:  1.1264748573303223\n",
      "epoch:  3 validation loss is  0.25920185446739197 epoch time:  1.063960075378418\n",
      "epoch:  4 validation loss is  0.25920185446739197 epoch time:  1.0506517887115479\n",
      "epoch:  5 validation loss is  0.25920185446739197 epoch time:  1.0673449039459229\n",
      "epoch:  6 validation loss is  0.25920185446739197 epoch time:  1.1023948192596436\n",
      "epoch:  7 validation loss is  0.25920185446739197 epoch time:  1.0731499195098877\n",
      "epoch:  8 validation loss is  0.25920185446739197 epoch time:  1.1057710647583008\n",
      "epoch:  9 validation loss is  0.25920185446739197 epoch time:  1.0388562679290771\n",
      "epoch:  10 validation loss is  0.25920185446739197 epoch time:  1.0568058490753174\n",
      "\n",
      " Currently training SPO+\n",
      "\n",
      "Num of cores: 1\n",
      "Initial validation loss is  0.3419983983039856\n",
      "epoch:  1 validation loss is  0.10228592902421951 epoch time:  0.42850303649902344\n",
      "epoch:  2 validation loss is  0.02053467556834221 epoch time:  0.6697289943695068\n",
      "epoch:  3 validation loss is  0.006586594507098198 epoch time:  1.1097908020019531\n",
      "epoch:  4 validation loss is  0.008911274373531342 epoch time:  0.8640561103820801\n",
      "epoch:  5 validation loss is  0.010073614306747913 epoch time:  0.501957893371582\n",
      "epoch:  6 validation loss is  0.006199147552251816 epoch time:  0.4727480411529541\n",
      "epoch:  7 validation loss is  0.005424254108220339 epoch time:  0.5097360610961914\n",
      "epoch:  8 validation loss is  0.005424254108220339 epoch time:  0.5259339809417725\n",
      "epoch:  9 validation loss is  0.006586594507098198 epoch time:  0.49630117416381836\n",
      "epoch:  10 validation loss is  0.005424254108220339 epoch time:  0.49430418014526367\n",
      "\n",
      " Currently training BBOpt\n",
      "\n",
      "Num of cores: 1\n",
      "Initial validation loss is  0.3419983983039856\n",
      "epoch:  1 validation loss is  0.19682294130325317 epoch time:  1.6663920879364014\n",
      "epoch:  2 validation loss is  0.14645487070083618 epoch time:  2.124307155609131\n",
      "epoch:  3 validation loss is  0.1069352999329567 epoch time:  2.4660627841949463\n",
      "epoch:  4 validation loss is  0.09066253155469894 epoch time:  2.4742820262908936\n",
      "epoch:  5 validation loss is  0.07555211335420609 epoch time:  2.599890947341919\n",
      "epoch:  6 validation loss is  0.058117009699344635 epoch time:  2.7091050148010254\n",
      "epoch:  7 validation loss is  0.0468810498714447 epoch time:  2.5597939491271973\n",
      "epoch:  8 validation loss is  0.040681906044483185 epoch time:  2.6892409324645996\n",
      "epoch:  9 validation loss is  0.03951956704258919 epoch time:  2.6923341751098633\n",
      "epoch:  10 validation loss is  0.0360325425863266 epoch time:  2.582937240600586\n",
      "Generating training data for knapsack problem with 2 knapsacks and 40 items\n",
      "Optimizing for optDataset...\n"
     ]
    },
    {
     "name": "stderr",
     "output_type": "stream",
     "text": [
      "100%|████████████████████████████████████████| 900/900 [00:02<00:00, 369.72it/s]\n"
     ]
    },
    {
     "name": "stdout",
     "output_type": "stream",
     "text": [
      "Optimizing for optDataset...\n"
     ]
    },
    {
     "name": "stderr",
     "output_type": "stream",
     "text": [
      "100%|████████████████████████████████████████| 100/100 [00:00<00:00, 337.27it/s]\n"
     ]
    },
    {
     "name": "stdout",
     "output_type": "stream",
     "text": [
      "Optimizing for optDataset...\n"
     ]
    },
    {
     "name": "stderr",
     "output_type": "stream",
     "text": [
      "100%|████████████████████████████████████████| 100/100 [00:00<00:00, 334.21it/s]\n"
     ]
    },
    {
     "name": "stdout",
     "output_type": "stream",
     "text": [
      "Finished building dataset\n",
      "\n",
      " Currently training DYS\n",
      "\n",
      "Initial validation loss is  0.3503135144710541\n",
      "epoch:  1 validation loss is  0.18185199797153473 epoch time:  1.2402069568634033\n",
      "epoch:  2 validation loss is  0.1335068792104721 epoch time:  1.2235610485076904\n",
      "epoch:  3 validation loss is  0.1335068792104721 epoch time:  1.0801339149475098\n",
      "epoch:  4 validation loss is  0.1335068792104721 epoch time:  1.197608232498169\n",
      "epoch:  5 validation loss is  0.1335068792104721 epoch time:  1.1221039295196533\n",
      "epoch:  6 validation loss is  0.1335068792104721 epoch time:  1.3041679859161377\n",
      "epoch:  7 validation loss is  0.1335068792104721 epoch time:  1.1166791915893555\n",
      "epoch:  8 validation loss is  0.1335068792104721 epoch time:  1.1439659595489502\n",
      "epoch:  9 validation loss is  0.1335068792104721 epoch time:  1.2745931148529053\n",
      "epoch:  10 validation loss is  0.1335068792104721 epoch time:  1.1936907768249512\n",
      "\n",
      " Currently training SPO+\n",
      "\n",
      "Num of cores: 1\n",
      "Initial validation loss is  0.3503135144710541\n",
      "epoch:  1 validation loss is  0.06210487335920334 epoch time:  0.47080111503601074\n",
      "epoch:  2 validation loss is  0.029378952458500862 epoch time:  0.6439878940582275\n",
      "epoch:  3 validation loss is  0.011156563647091389 epoch time:  1.1075851917266846\n",
      "epoch:  4 validation loss is  0.009669022634625435 epoch time:  0.8802530765533447\n",
      "epoch:  5 validation loss is  0.006693938281387091 epoch time:  0.5775208473205566\n",
      "epoch:  6 validation loss is  0.00706582423299551 epoch time:  0.5497689247131348\n",
      "epoch:  7 validation loss is  0.00706582423299551 epoch time:  0.5729789733886719\n",
      "epoch:  8 validation loss is  0.006322053261101246 epoch time:  0.573415994644165\n",
      "epoch:  9 validation loss is  0.005578281823545694 epoch time:  0.5359330177307129\n",
      "epoch:  10 validation loss is  0.0052063968032598495 epoch time:  0.5197980403900146\n",
      "\n",
      " Currently training BBOpt\n",
      "\n",
      "Num of cores: 1\n",
      "Initial validation loss is  0.3503135144710541\n",
      "epoch:  1 validation loss is  0.14206025004386902 epoch time:  1.7003519535064697\n",
      "epoch:  2 validation loss is  0.1327631175518036 epoch time:  2.2552850246429443\n",
      "epoch:  3 validation loss is  0.08664931356906891 epoch time:  2.7225441932678223\n",
      "epoch:  4 validation loss is  0.0676831528544426 epoch time:  2.8646299839019775\n",
      "epoch:  5 validation loss is  0.03756043314933777 epoch time:  3.4002699851989746\n",
      "epoch:  6 validation loss is  0.036816660314798355 epoch time:  3.9184372425079346\n",
      "epoch:  7 validation loss is  0.032725922763347626 epoch time:  4.056673049926758\n",
      "epoch:  8 validation loss is  0.029378952458500862 epoch time:  3.9039807319641113\n",
      "epoch:  9 validation loss is  0.029378952458500862 epoch time:  3.9092791080474854\n",
      "epoch:  10 validation loss is  0.029378952458500862 epoch time:  3.9907751083374023\n",
      "Generating training data for knapsack problem with 2 knapsacks and 40 items\n",
      "Optimizing for optDataset...\n"
     ]
    },
    {
     "name": "stderr",
     "output_type": "stream",
     "text": [
      "100%|████████████████████████████████████████| 900/900 [00:02<00:00, 377.92it/s]\n"
     ]
    },
    {
     "name": "stdout",
     "output_type": "stream",
     "text": [
      "Optimizing for optDataset...\n"
     ]
    },
    {
     "name": "stderr",
     "output_type": "stream",
     "text": [
      "100%|████████████████████████████████████████| 100/100 [00:00<00:00, 356.21it/s]\n"
     ]
    },
    {
     "name": "stdout",
     "output_type": "stream",
     "text": [
      "Optimizing for optDataset...\n"
     ]
    },
    {
     "name": "stderr",
     "output_type": "stream",
     "text": [
      "100%|████████████████████████████████████████| 100/100 [00:00<00:00, 333.97it/s]\n"
     ]
    },
    {
     "name": "stdout",
     "output_type": "stream",
     "text": [
      "Finished building dataset\n",
      "\n",
      " Currently training DYS\n",
      "\n",
      "Initial validation loss is  0.3663840889930725\n",
      "epoch:  1 validation loss is  0.11949215084314346 epoch time:  1.1734302043914795\n",
      "epoch:  2 validation loss is  0.11613143980503082 epoch time:  1.2631778717041016\n",
      "epoch:  3 validation loss is  0.11613143980503082 epoch time:  1.0712828636169434\n",
      "epoch:  4 validation loss is  0.11613143980503082 epoch time:  1.140178918838501\n",
      "epoch:  5 validation loss is  0.11613143980503082 epoch time:  1.1115169525146484\n",
      "epoch:  6 validation loss is  0.11613143980503082 epoch time:  1.1563489437103271\n",
      "epoch:  7 validation loss is  0.11613143980503082 epoch time:  1.0692059993743896\n",
      "epoch:  8 validation loss is  0.11613143980503082 epoch time:  1.211313009262085\n",
      "epoch:  9 validation loss is  0.11613143980503082 epoch time:  1.0409610271453857\n",
      "epoch:  10 validation loss is  0.11613143980503082 epoch time:  1.2327749729156494\n",
      "\n",
      " Currently training SPO+\n",
      "\n",
      "Num of cores: 1\n",
      "Initial validation loss is  0.3663840889930725\n",
      "epoch:  1 validation loss is  0.05377146974205971 epoch time:  0.46454811096191406\n",
      "epoch:  2 validation loss is  0.023525018244981766 epoch time:  0.6387968063354492\n",
      "epoch:  3 validation loss is  0.010828976519405842 epoch time:  1.1651310920715332\n",
      "epoch:  4 validation loss is  0.009335325099527836 epoch time:  0.9204628467559814\n",
      "epoch:  5 validation loss is  0.0074682594276964664 epoch time:  0.5842728614807129\n",
      "epoch:  6 validation loss is  0.007841672748327255 epoch time:  0.5619840621948242\n",
      "epoch:  7 validation loss is  0.004854368977248669 epoch time:  0.5941147804260254\n",
      "epoch:  8 validation loss is  0.0052277822978794575 epoch time:  0.556455135345459\n",
      "epoch:  9 validation loss is  0.0037341297138482332 epoch time:  0.554271936416626\n",
      "epoch:  10 validation loss is  0.004480956122279167 epoch time:  0.5428307056427002\n",
      "\n",
      " Currently training BBOpt\n",
      "\n",
      "Num of cores: 1\n",
      "Initial validation loss is  0.3663840889930725\n",
      "epoch:  1 validation loss is  0.13778939843177795 epoch time:  1.7546989917755127\n",
      "epoch:  2 validation loss is  0.11613143980503082 epoch time:  2.3678171634674072\n",
      "epoch:  3 validation loss is  0.10679611563682556 epoch time:  2.9766669273376465\n",
      "epoch:  4 validation loss is  0.05899925157427788 epoch time:  3.6284589767456055\n",
      "epoch:  5 validation loss is  0.044436145573854446 epoch time:  3.696255922317505\n",
      "epoch:  6 validation loss is  0.0324869304895401 epoch time:  3.7653908729553223\n",
      "epoch:  7 validation loss is  0.03435399383306503 epoch time:  3.954357862472534\n",
      "epoch:  8 validation loss is  0.026885734871029854 epoch time:  3.8218889236450195\n",
      "epoch:  9 validation loss is  0.021657953038811684 epoch time:  3.9759092330932617\n",
      "epoch:  10 validation loss is  0.0190440621227026 epoch time:  4.015588998794556\n",
      "Generating training data for knapsack problem with 2 knapsacks and 45 items\n",
      "Optimizing for optDataset...\n"
     ]
    },
    {
     "name": "stderr",
     "output_type": "stream",
     "text": [
      "100%|████████████████████████████████████████| 900/900 [00:02<00:00, 447.02it/s]\n"
     ]
    },
    {
     "name": "stdout",
     "output_type": "stream",
     "text": [
      "Optimizing for optDataset...\n"
     ]
    },
    {
     "name": "stderr",
     "output_type": "stream",
     "text": [
      "100%|████████████████████████████████████████| 100/100 [00:00<00:00, 391.88it/s]\n"
     ]
    },
    {
     "name": "stdout",
     "output_type": "stream",
     "text": [
      "Optimizing for optDataset...\n"
     ]
    },
    {
     "name": "stderr",
     "output_type": "stream",
     "text": [
      "100%|████████████████████████████████████████| 100/100 [00:00<00:00, 413.57it/s]\n"
     ]
    },
    {
     "name": "stdout",
     "output_type": "stream",
     "text": [
      "Finished building dataset\n",
      "\n",
      " Currently training DYS\n",
      "\n",
      "Initial validation loss is  0.37361419200897217\n",
      "epoch:  1 validation loss is  0.27399712800979614 epoch time:  1.3530800342559814\n",
      "epoch:  2 validation loss is  0.22027219831943512 epoch time:  1.1258370876312256\n",
      "epoch:  3 validation loss is  0.17371061444282532 epoch time:  1.1762609481811523\n",
      "epoch:  4 validation loss is  0.13717766106128693 epoch time:  1.1065788269042969\n",
      "epoch:  5 validation loss is  0.13717766106128693 epoch time:  1.107330083847046\n",
      "epoch:  6 validation loss is  0.13717766106128693 epoch time:  1.1101648807525635\n",
      "epoch:  7 validation loss is  0.13717766106128693 epoch time:  1.2252941131591797\n",
      "epoch:  8 validation loss is  0.13717766106128693 epoch time:  1.1578989028930664\n",
      "epoch:  9 validation loss is  0.13717766106128693 epoch time:  1.2172081470489502\n",
      "epoch:  10 validation loss is  0.13717766106128693 epoch time:  1.1830382347106934\n",
      "\n",
      " Currently training SPO+\n",
      "\n",
      "Num of cores: 1\n",
      "Initial validation loss is  0.37361419200897217\n",
      "epoch:  1 validation loss is  0.0684097483754158 epoch time:  0.5576019287109375\n",
      "epoch:  2 validation loss is  0.022564470767974854 epoch time:  0.7316873073577881\n",
      "epoch:  3 validation loss is  0.007521490100771189 epoch time:  1.193519115447998\n",
      "epoch:  4 validation loss is  0.00537249306216836 epoch time:  0.9310708045959473\n",
      "epoch:  5 validation loss is  0.005730659235268831 epoch time:  0.6488921642303467\n",
      "epoch:  6 validation loss is  0.005014326889067888 epoch time:  0.5761129856109619\n",
      "epoch:  7 validation loss is  0.00537249306216836 epoch time:  0.6172292232513428\n",
      "epoch:  8 validation loss is  0.004297994542866945 epoch time:  0.6599788665771484\n",
      "epoch:  9 validation loss is  0.004297994542866945 epoch time:  0.6465728282928467\n",
      "epoch:  10 validation loss is  0.004297994542866945 epoch time:  0.5719397068023682\n",
      "\n",
      " Currently training BBOpt\n",
      "\n",
      "Num of cores: 1\n",
      "Initial validation loss is  0.37361419200897217\n",
      "epoch:  1 validation loss is  0.2532235085964203 epoch time:  2.10830020904541\n",
      "epoch:  2 validation loss is  0.09204871207475662 epoch time:  3.3147521018981934\n",
      "epoch:  3 validation loss is  0.06303725391626358 epoch time:  3.2634401321411133\n",
      "epoch:  4 validation loss is  0.046919770538806915 epoch time:  3.2044317722320557\n",
      "epoch:  5 validation loss is  0.03653295338153839 epoch time:  3.1104390621185303\n",
      "epoch:  6 validation loss is  0.03438395634293556 epoch time:  3.346277952194214\n",
      "epoch:  7 validation loss is  0.032951291650533676 epoch time:  3.5295448303222656\n",
      "epoch:  8 validation loss is  0.03187679126858711 epoch time:  3.489182949066162\n",
      "epoch:  9 validation loss is  0.033309455960989 epoch time:  3.5854358673095703\n",
      "epoch:  10 validation loss is  0.028295129537582397 epoch time:  3.5776309967041016\n",
      "Generating training data for knapsack problem with 2 knapsacks and 45 items\n",
      "Optimizing for optDataset...\n"
     ]
    },
    {
     "name": "stderr",
     "output_type": "stream",
     "text": [
      "100%|████████████████████████████████████████| 900/900 [00:02<00:00, 426.95it/s]\n"
     ]
    },
    {
     "name": "stdout",
     "output_type": "stream",
     "text": [
      "Optimizing for optDataset...\n"
     ]
    },
    {
     "name": "stderr",
     "output_type": "stream",
     "text": [
      "100%|████████████████████████████████████████| 100/100 [00:00<00:00, 391.71it/s]\n"
     ]
    },
    {
     "name": "stdout",
     "output_type": "stream",
     "text": [
      "Optimizing for optDataset...\n"
     ]
    },
    {
     "name": "stderr",
     "output_type": "stream",
     "text": [
      "100%|████████████████████████████████████████| 100/100 [00:00<00:00, 391.86it/s]\n"
     ]
    },
    {
     "name": "stdout",
     "output_type": "stream",
     "text": [
      "Finished building dataset\n",
      "\n",
      " Currently training DYS\n",
      "\n",
      "Initial validation loss is  0.3708730638027191\n",
      "epoch:  1 validation loss is  0.23079609870910645 epoch time:  1.1273436546325684\n",
      "epoch:  2 validation loss is  0.1340782195329666 epoch time:  1.1038050651550293\n",
      "epoch:  3 validation loss is  0.1340782195329666 epoch time:  1.128342866897583\n",
      "epoch:  4 validation loss is  0.1340782195329666 epoch time:  1.1159391403198242\n",
      "epoch:  5 validation loss is  0.1340782195329666 epoch time:  1.1269278526306152\n",
      "epoch:  6 validation loss is  0.1340782195329666 epoch time:  1.0904872417449951\n",
      "epoch:  7 validation loss is  0.1340782195329666 epoch time:  1.1068150997161865\n",
      "epoch:  8 validation loss is  0.1340782195329666 epoch time:  1.101590871810913\n",
      "epoch:  9 validation loss is  0.1340782195329666 epoch time:  1.1432979106903076\n",
      "epoch:  10 validation loss is  0.1340782195329666 epoch time:  1.1546061038970947\n",
      "\n",
      " Currently training SPO+\n",
      "\n",
      "Num of cores: 1\n",
      "Initial validation loss is  0.3708730638027191\n",
      "epoch:  1 validation loss is  0.052025143057107925 epoch time:  0.5483272075653076\n",
      "epoch:  2 validation loss is  0.016759777441620827 epoch time:  0.7515377998352051\n",
      "epoch:  3 validation loss is  0.006983240135014057 epoch time:  1.2016820907592773\n",
      "epoch:  4 validation loss is  0.006983240135014057 epoch time:  0.9242439270019531\n",
      "epoch:  5 validation loss is  0.0052374303340911865 epoch time:  0.6123561859130859\n",
      "epoch:  6 validation loss is  0.005586592480540276 epoch time:  0.5864830017089844\n",
      "epoch:  7 validation loss is  0.005935754626989365 epoch time:  0.6326448917388916\n",
      "epoch:  8 validation loss is  0.0052374303340911865 epoch time:  0.6320428848266602\n",
      "epoch:  9 validation loss is  0.004189944360405207 epoch time:  0.6307120323181152\n",
      "epoch:  10 validation loss is  0.005586592480540276 epoch time:  0.5987367630004883\n",
      "\n",
      " Currently training BBOpt\n",
      "\n",
      "Num of cores: 1\n",
      "Initial validation loss is  0.3708730638027191\n",
      "epoch:  1 validation loss is  0.20670393109321594 epoch time:  2.0537190437316895\n",
      "epoch:  2 validation loss is  0.07891061902046204 epoch time:  3.3286027908325195\n",
      "epoch:  3 validation loss is  0.05865921825170517 epoch time:  3.1220619678497314\n",
      "epoch:  4 validation loss is  0.05831005796790123 epoch time:  2.9327850341796875\n",
      "epoch:  5 validation loss is  0.04189944267272949 epoch time:  3.150822877883911\n",
      "epoch:  6 validation loss is  0.03177374228835106 epoch time:  3.3291337490081787\n",
      "epoch:  7 validation loss is  0.0272346381098032 epoch time:  3.7677998542785645\n",
      "epoch:  8 validation loss is  0.024092180654406548 epoch time:  3.8756039142608643\n",
      "epoch:  9 validation loss is  0.02374301850795746 epoch time:  3.9820010662078857\n",
      "epoch:  10 validation loss is  0.02304469235241413 epoch time:  4.1249730587005615\n"
     ]
    }
   ],
   "source": [
    "for item_counter, num_item in enumerate(item_values):\n",
    "    knapsack_data_dict = {'num_knapsack': num_knapsack,\n",
    "                          'num_item': num_item,\n",
    "                          'num_feat': num_feat,\n",
    "                          'num_data': num_data\n",
    "                         } \n",
    "    \n",
    "    # Do the thing\n",
    "    for repeat in range(num_repeats):\n",
    "        # Generate Data\n",
    "        knapsack_dict = Gen_Knapsack_data(num_data, num_feat, num_item, num_knapsack)\n",
    "        for model_counter, model_type in enumerate(models):\n",
    "            train_time, best_test_loss, time_till_best_test_loss = initialize_and_train(knapsack_dict, knapsack_data_dict, model_type, max_epochs)\n",
    "            results_test_loss[model_counter, item_counter, repeat] = best_test_loss\n",
    "            results_train_time[model_counter, item_counter, repeat] = train_time\n",
    "            results_time_till_val_loss[model_counter, item_counter, repeat] = time_till_best_test_loss\n",
    "    "
   ]
  },
  {
   "cell_type": "code",
   "execution_count": 4,
   "id": "67d3e6d1",
   "metadata": {},
   "outputs": [
    {
     "name": "stdout",
     "output_type": "stream",
     "text": [
      "[[[10.47239161 10.2957778 ]\n",
      "  [11.5281992  10.81784368]\n",
      "  [11.89671111 11.47019076]\n",
      "  [11.76269126 11.19915581]]\n",
      "\n",
      " [[ 5.31049919  5.28335643]\n",
      "  [ 5.97899961  6.07306027]\n",
      "  [ 6.43204308  6.58286834]\n",
      "  [ 7.13460493  7.11876678]]\n",
      "\n",
      " [[23.49249244 25.04521251]\n",
      "  [25.02248955 24.56434631]\n",
      "  [32.72222638 33.95703387]\n",
      "  [32.52943587 33.66750336]]]\n"
     ]
    }
   ],
   "source": [
    "print(results_train_time)"
   ]
  },
  {
   "cell_type": "code",
   "execution_count": 5,
   "id": "24f40dcf",
   "metadata": {},
   "outputs": [
    {
     "name": "stdout",
     "output_type": "stream",
     "text": [
      "[[[0.08048685 0.07890685]\n",
      "  [0.23282601 0.25920185]\n",
      "  [0.13350688 0.11613144]\n",
      "  [0.13717766 0.13407822]]\n",
      "\n",
      " [[0.00431881 0.00615858]\n",
      "  [0.00411353 0.00542425]\n",
      "  [0.0052064  0.00448096]\n",
      "  [0.00429799 0.00558659]]\n",
      "\n",
      " [[0.01766784 0.02424942]\n",
      "  [0.05594406 0.03603254]\n",
      "  [0.02937895 0.01904406]\n",
      "  [0.02829513 0.02304469]]]\n"
     ]
    }
   ],
   "source": [
    "print(results_test_loss)"
   ]
  },
  {
   "cell_type": "code",
   "execution_count": 6,
   "id": "2a93c416",
   "metadata": {},
   "outputs": [
    {
     "name": "stdout",
     "output_type": "stream",
     "text": [
      "[[0.07969685 0.24601393 0.12481916 0.13562794]\n",
      " [0.0052387  0.00476889 0.00484368 0.00494229]\n",
      " [0.02095863 0.0459883  0.02421151 0.02566991]]\n"
     ]
    }
   ],
   "source": [
    "results_test_loss_mean = np.mean(results_test_loss[:,0:4,:], axis=2)\n",
    "print(results_test_loss_mean)"
   ]
  },
  {
   "cell_type": "code",
   "execution_count": 7,
   "id": "00be30e3",
   "metadata": {},
   "outputs": [
    {
     "data": {
      "image/png": "[encoded data removed]",
      "text/plain": [
       "<Figure size 640x480 with 1 Axes>"
      ]
     },
     "metadata": {},
     "output_type": "display_data"
    }
   ],
   "source": [
    "import matplotlib.pyplot as plt\n",
    "\n",
    "for idx, model_type in enumerate(models):\n",
    "    plt.plot(item_values[:4], results_test_loss_mean[idx,:], label=model_type)\n",
    "\n",
    "plt.title(\"Best Regret Achieved\")\n",
    "plt.legend()\n",
    "# plt.savefig('Knapsack_experiment_varying_num_items_regret.pdf')\n",
    "plt.show()\n",
    "\n",
    "    "
   ]
  },
  {
   "cell_type": "code",
   "execution_count": 8,
   "id": "333c9f74",
   "metadata": {},
   "outputs": [
    {
     "name": "stdout",
     "output_type": "stream",
     "text": [
      "[[10.3840847  11.17302144 11.68345094 11.48092353]\n",
      " [ 5.29692781  6.02602994  6.50745571  7.12668586]\n",
      " [24.26885247 24.79341793 33.33963013 33.09846961]]\n"
     ]
    }
   ],
   "source": [
    "results_time_till_val_loss_mean = np.mean(results_time_till_val_loss[:,0:4,:], axis=2)\n",
    "print(results_time_till_val_loss_mean)"
   ]
  },
  {
   "cell_type": "code",
   "execution_count": 9,
   "id": "145d2f03",
   "metadata": {},
   "outputs": [
    {
     "name": "stdout",
     "output_type": "stream",
     "text": [
      "0 DYS\n",
      "1 SPO+\n",
      "2 BBOpt\n"
     ]
    },
    {
     "data": {
      "image/png": "[encoded data removed]",
      "text/plain": [
       "<Figure size 640x480 with 1 Axes>"
      ]
     },
     "metadata": {},
     "output_type": "display_data"
    }
   ],
   "source": [
    "for idx, model_type in enumerate(models):\n",
    "    print(idx, model_type)\n",
    "    plt.plot(item_values[:4], results_time_till_val_loss_mean[idx,:], label=model_type)\n",
    "\n",
    "plt.title(\"Train Time\")\n",
    "plt.legend()\n",
    "# plt.savefig('Knapsack_experiment_varying_num_items_train_time.pdf')\n",
    "plt.show()"
   ]
  },
  {
   "cell_type": "code",
   "execution_count": 10,
   "id": "c8bed3a7",
   "metadata": {},
   "outputs": [
    {
     "name": "stdout",
     "output_type": "stream",
     "text": [
      "0 DYS\n"
     ]
    },
    {
     "ename": "NameError",
     "evalue": "name 'results_time_till_best_loss' is not defined",
     "output_type": "error",
     "traceback": [
      "\u001b[0;31m---------------------------------------------------------------------------\u001b[0m",
      "\u001b[0;31mNameError\u001b[0m                                 Traceback (most recent call last)",
      "Cell \u001b[0;32mIn[10], line 3\u001b[0m\n\u001b[1;32m      1\u001b[0m \u001b[38;5;28;01mfor\u001b[39;00m idx, model_type \u001b[38;5;129;01min\u001b[39;00m \u001b[38;5;28menumerate\u001b[39m(models):\n\u001b[1;32m      2\u001b[0m     \u001b[38;5;28mprint\u001b[39m(idx, model_type)\n\u001b[0;32m----> 3\u001b[0m     plt\u001b[38;5;241m.\u001b[39mplot(item_values, \u001b[43mresults_time_till_best_loss\u001b[49m[idx,:], label\u001b[38;5;241m=\u001b[39mmodel_type)\n\u001b[1;32m      5\u001b[0m plt\u001b[38;5;241m.\u001b[39mtitle(\u001b[38;5;124m\"\u001b[39m\u001b[38;5;124mTrain Time till Best Model\u001b[39m\u001b[38;5;124m\"\u001b[39m)\n\u001b[1;32m      6\u001b[0m plt\u001b[38;5;241m.\u001b[39mlegend()\n",
      "\u001b[0;31mNameError\u001b[0m: name 'results_time_till_best_loss' is not defined"
     ]
    }
   ],
   "source": [
    "for idx, model_type in enumerate(models):\n",
    "    print(idx, model_type)\n",
    "    plt.plot(item_values, results_time_till_best_loss[idx,:], label=model_type)\n",
    "\n",
    "plt.title(\"Train Time till Best Model\")\n",
    "plt.legend()\n",
    "# plt.savefig('Knapsack_experiment_varying_num_items_train_time.pdf')\n",
    "plt.show()"
   ]
  },
  {
   "cell_type": "code",
   "execution_count": null,
   "id": "5f136463",
   "metadata": {},
   "outputs": [],
   "source": [
    "print(results_time_till_best_loss)"
   ]
  },
  {
   "cell_type": "code",
   "execution_count": null,
   "id": "e883fa84",
   "metadata": {},
   "outputs": [],
   "source": []
  }
 ],
 "metadata": {
  "kernelspec": {
   "display_name": "Python 3 (ipykernel)",
   "language": "python",
   "name": "python3"
  },
  "language_info": {
   "codemirror_mode": {
    "name": "ipython",
    "version": 3
   },
   "file_extension": ".py",
   "mimetype": "text/x-python",
   "name": "python",
   "nbconvert_exporter": "python",
   "pygments_lexer": "ipython3",
   "version": "3.10.10"
  }
 },
 "nbformat": 4,
 "nbformat_minor": 5
}

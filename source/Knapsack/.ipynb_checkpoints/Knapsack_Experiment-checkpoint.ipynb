{
 "cells": [
  {
   "cell_type": "code",
   "execution_count": 1,
   "id": "9d37fec5",
   "metadata": {},
   "outputs": [
    {
     "name": "stdout",
     "output_type": "stream",
     "text": [
      "Auto-Sklearn cannot be imported.\n"
     ]
    }
   ],
   "source": [
    "from Initialize_and_Train import initialize_and_train\n",
    "from generate_knapsack_data import Gen_Knapsack_data\n",
    "import numpy as np"
   ]
  },
  {
   "cell_type": "code",
   "execution_count": 2,
   "id": "dda79988",
   "metadata": {},
   "outputs": [],
   "source": [
    "models = ['DYS', 'SPO+', 'BBOpt'] #, 'PertOpt', 'PertOpt-FY']\n",
    "item_values = np.arange(30,50,5)\n",
    "num_repeats = 2\n",
    "results_test_loss = np.zeros((len(models), len(item_values), num_repeats))\n",
    "results_train_time = np.zeros((len(models), len(item_values), num_repeats))\n",
    "results_time_till_val_loss = np.zeros((len(models), len(item_values), num_repeats))\n",
    "\n",
    "# hard code some data parameters\n",
    "num_knapsack = 2\n",
    "num_feat = 5\n",
    "num_data = 1100\n",
    "\n",
    "# max values\n",
    "max_epochs = 10\n",
    "# max time hardcoded to 1 hour"
   ]
  },
  {
   "cell_type": "code",
   "execution_count": 3,
   "id": "7fb14fc4",
   "metadata": {},
   "outputs": [
    {
     "name": "stdout",
     "output_type": "stream",
     "text": [
      "Generating training data for knapsack problem with 2 knapsacks and 5 items\n",
      "Restricted license - for non-production use only - expires 2024-10-28\n",
      "Optimizing for optDataset...\n"
     ]
    },
    {
     "name": "stderr",
     "output_type": "stream",
     "text": [
      "100%|███████████████████████████████████████| 900/900 [00:00<00:00, 7042.36it/s]\n"
     ]
    },
    {
     "name": "stdout",
     "output_type": "stream",
     "text": [
      "Optimizing for optDataset...\n"
     ]
    },
    {
     "name": "stderr",
     "output_type": "stream",
     "text": [
      "100%|███████████████████████████████████████| 100/100 [00:00<00:00, 2788.64it/s]\n"
     ]
    },
    {
     "name": "stdout",
     "output_type": "stream",
     "text": [
      "Optimizing for optDataset...\n"
     ]
    },
    {
     "name": "stderr",
     "output_type": "stream",
     "text": [
      "100%|███████████████████████████████████████| 100/100 [00:00<00:00, 2735.10it/s]\n",
      "/Users/danielmckenzie/My-Drive/Research/Fixed_Point_Networks/Diff-Opt-Over-Polytopes-Project/SPO_with_DYS/source/Knapsack/dYS_opt_net.py:29: UserWarning: The operator 'aten::linalg_svd' is not currently supported on the MPS backend and will fall back to run on the CPU. This may have performance implications. (Triggered internally at /Users/runner/work/pytorch/pytorch/pytorch/aten/src/ATen/mps/MPSFallback.mm:11.)\n",
      "  U, s, VT = torch.linalg.svd(self.A, full_matrices=False)\n"
     ]
    },
    {
     "name": "stdout",
     "output_type": "stream",
     "text": [
      "Finished building dataset\n",
      "\n",
      " Currently training DYS\n",
      "\n",
      "Initial validation loss is  0.2546933591365814\n",
      "epoch:  1 validation loss is  0.14031971991062164 epoch time:  1.7604689598083496\n",
      "epoch:  2 validation loss is  0.15097691118717194 epoch time:  2.099005937576294\n",
      "epoch:  3 validation loss is  0.18354056775569916 epoch time:  2.124281167984009\n",
      "epoch:  4 validation loss is  0.1959739625453949 epoch time:  2.1195180416107178\n",
      "epoch:  5 validation loss is  0.16637064516544342 epoch time:  2.0694739818573\n",
      "epoch:  6 validation loss is  0.15985791385173798 epoch time:  2.0548057556152344\n",
      "epoch:  7 validation loss is  0.16281825304031372 epoch time:  2.0330312252044678\n",
      "epoch:  8 validation loss is  0.18354056775569916 epoch time:  2.063652753829956\n",
      "epoch:  9 validation loss is  0.17643576860427856 epoch time:  2.114682912826538\n",
      "epoch:  10 validation loss is  0.16814683377742767 epoch time:  2.023993730545044\n",
      "\n",
      " Currently training SPO+\n",
      "\n",
      "Num of cores: 1\n",
      "Initial validation loss is  0.2546933591365814\n",
      "epoch:  1 validation loss is  0.010657194070518017 epoch time:  0.1261579990386963\n",
      "epoch:  2 validation loss is  0.004144464619457722 epoch time:  0.13926100730895996\n",
      "epoch:  3 validation loss is  0.0 epoch time:  0.13596487045288086\n",
      "epoch:  4 validation loss is  0.0017761989729478955 epoch time:  0.12104201316833496\n",
      "epoch:  5 validation loss is  0.0017761989729478955 epoch time:  0.1184999942779541\n",
      "epoch:  6 validation loss is  0.0 epoch time:  0.11836862564086914\n",
      "epoch:  7 validation loss is  0.0 epoch time:  0.1192026138305664\n",
      "epoch:  8 validation loss is  0.0005920663243159652 epoch time:  0.11958694458007812\n",
      "epoch:  9 validation loss is  0.0 epoch time:  0.11838507652282715\n",
      "epoch:  10 validation loss is  0.0 epoch time:  0.12167215347290039\n",
      "\n",
      " Currently training BBOpt\n",
      "\n",
      "Num of cores: 1\n",
      "Initial validation loss is  0.2546933591365814\n",
      "epoch:  1 validation loss is  0.08880995213985443 epoch time:  0.20875906944274902\n",
      "epoch:  2 validation loss is  0.07874482125043869 epoch time:  0.2558770179748535\n",
      "epoch:  3 validation loss is  0.045589108020067215 epoch time:  0.2526710033416748\n",
      "epoch:  4 validation loss is  0.04854943975806236 epoch time:  0.26213979721069336\n",
      "epoch:  5 validation loss is  0.04203670844435692 epoch time:  0.2533149719238281\n",
      "epoch:  6 validation loss is  0.02605091966688633 epoch time:  0.2842278480529785\n",
      "epoch:  7 validation loss is  0.017169924452900887 epoch time:  0.2912712097167969\n",
      "epoch:  8 validation loss is  0.018354056403040886 epoch time:  0.28667211532592773\n",
      "epoch:  9 validation loss is  0.015393724665045738 epoch time:  0.2946135997772217\n",
      "epoch:  10 validation loss is  0.005920663010329008 epoch time:  0.300555944442749\n",
      "Generating training data for knapsack problem with 2 knapsacks and 5 items\n",
      "Optimizing for optDataset...\n"
     ]
    },
    {
     "name": "stderr",
     "output_type": "stream",
     "text": [
      "100%|███████████████████████████████████████| 900/900 [00:00<00:00, 6070.05it/s]\n"
     ]
    },
    {
     "name": "stdout",
     "output_type": "stream",
     "text": [
      "Optimizing for optDataset...\n"
     ]
    },
    {
     "name": "stderr",
     "output_type": "stream",
     "text": [
      "100%|███████████████████████████████████████| 100/100 [00:00<00:00, 2469.37it/s]\n"
     ]
    },
    {
     "name": "stdout",
     "output_type": "stream",
     "text": [
      "Optimizing for optDataset...\n"
     ]
    },
    {
     "name": "stderr",
     "output_type": "stream",
     "text": [
      "100%|███████████████████████████████████████| 100/100 [00:00<00:00, 2460.75it/s]\n"
     ]
    },
    {
     "name": "stdout",
     "output_type": "stream",
     "text": [
      "Finished building dataset\n",
      "\n",
      " Currently training DYS\n",
      "\n",
      "Initial validation loss is  0.31550154089927673\n",
      "epoch:  1 validation loss is  0.12261905521154404 epoch time:  1.5211069583892822\n",
      "epoch:  2 validation loss is  0.130952388048172 epoch time:  2.0472567081451416\n",
      "epoch:  3 validation loss is  0.1636904925107956 epoch time:  2.063094139099121\n",
      "epoch:  4 validation loss is  0.1785714328289032 epoch time:  2.0796780586242676\n",
      "epoch:  5 validation loss is  0.16130954027175903 epoch time:  2.052670955657959\n",
      "epoch:  6 validation loss is  0.14761905372142792 epoch time:  2.074389934539795\n",
      "epoch:  7 validation loss is  0.15357142686843872 epoch time:  2.089895248413086\n",
      "epoch:  8 validation loss is  0.15595237910747528 epoch time:  2.0837368965148926\n",
      "epoch:  9 validation loss is  0.17023810744285583 epoch time:  2.102013349533081\n",
      "epoch:  10 validation loss is  0.1636904925107956 epoch time:  2.1228699684143066\n",
      "\n",
      " Currently training SPO+\n",
      "\n",
      "Num of cores: 1\n",
      "Initial validation loss is  0.31550154089927673\n",
      "epoch:  1 validation loss is  0.01666666753590107 epoch time:  0.10665011405944824\n",
      "epoch:  2 validation loss is  0.0029761905316263437 epoch time:  0.1384279727935791\n",
      "epoch:  3 validation loss is  0.0017857144121080637 epoch time:  0.14587116241455078\n",
      "epoch:  4 validation loss is  0.0011904762359336019 epoch time:  0.12526392936706543\n",
      "epoch:  5 validation loss is  0.0005952381179668009 epoch time:  0.12160611152648926\n",
      "epoch:  6 validation loss is  0.0011904762359336019 epoch time:  0.12468719482421875\n",
      "epoch:  7 validation loss is  0.0017857144121080637 epoch time:  0.12394094467163086\n",
      "epoch:  8 validation loss is  0.0011904762359336019 epoch time:  0.12235784530639648\n",
      "epoch:  9 validation loss is  0.0005952381179668009 epoch time:  0.12388300895690918\n",
      "epoch:  10 validation loss is  0.0005952381179668009 epoch time:  0.12168502807617188\n",
      "\n",
      " Currently training BBOpt\n",
      "\n",
      "Num of cores: 1\n",
      "Initial validation loss is  0.31550154089927673\n",
      "epoch:  1 validation loss is  0.1041666716337204 epoch time:  0.21117496490478516\n",
      "epoch:  2 validation loss is  0.065476194024086 epoch time:  0.2544567584991455\n",
      "epoch:  3 validation loss is  0.04523809626698494 epoch time:  0.2795989513397217\n",
      "epoch:  4 validation loss is  0.04285714402794838 epoch time:  0.27268409729003906\n",
      "epoch:  5 validation loss is  0.02500000037252903 epoch time:  0.28066372871398926\n",
      "epoch:  6 validation loss is  0.010714286006987095 epoch time:  0.2977311611175537\n",
      "epoch:  7 validation loss is  0.011904762126505375 epoch time:  0.2837200164794922\n",
      "epoch:  8 validation loss is  0.008928571827709675 epoch time:  0.2898440361022949\n",
      "epoch:  9 validation loss is  0.004761904943734407 epoch time:  0.2849898338317871\n",
      "epoch:  10 validation loss is  0.0017857144121080637 epoch time:  0.26995086669921875\n",
      "Generating training data for knapsack problem with 2 knapsacks and 10 items\n",
      "Optimizing for optDataset...\n"
     ]
    },
    {
     "name": "stderr",
     "output_type": "stream",
     "text": [
      "100%|███████████████████████████████████████| 900/900 [00:00<00:00, 1515.77it/s]\n"
     ]
    },
    {
     "name": "stdout",
     "output_type": "stream",
     "text": [
      "Optimizing for optDataset...\n"
     ]
    },
    {
     "name": "stderr",
     "output_type": "stream",
     "text": [
      "100%|███████████████████████████████████████| 100/100 [00:00<00:00, 1070.53it/s]\n"
     ]
    },
    {
     "name": "stdout",
     "output_type": "stream",
     "text": [
      "Optimizing for optDataset...\n"
     ]
    },
    {
     "name": "stderr",
     "output_type": "stream",
     "text": [
      "100%|███████████████████████████████████████| 100/100 [00:00<00:00, 1043.22it/s]\n"
     ]
    },
    {
     "name": "stdout",
     "output_type": "stream",
     "text": [
      "Finished building dataset\n",
      "\n",
      " Currently training DYS\n",
      "\n",
      "Initial validation loss is  0.32859110832214355\n",
      "epoch:  1 validation loss is  0.08797380328178406 epoch time:  1.1355597972869873\n",
      "epoch:  2 validation loss is  0.11230697482824326 epoch time:  0.913161039352417\n",
      "epoch:  3 validation loss is  0.11979410797357559 epoch time:  0.9181969165802002\n",
      "epoch:  4 validation loss is  0.11979410797357559 epoch time:  0.9046957492828369\n",
      "epoch:  5 validation loss is  0.11979410797357559 epoch time:  0.9786198139190674\n",
      "epoch:  6 validation loss is  0.11979410797357559 epoch time:  0.9671230316162109\n",
      "epoch:  7 validation loss is  0.11979410797357559 epoch time:  0.9161348342895508\n",
      "epoch:  8 validation loss is  0.11979410797357559 epoch time:  0.9535763263702393\n",
      "epoch:  9 validation loss is  0.11979410797357559 epoch time:  0.9088280200958252\n",
      "epoch:  10 validation loss is  0.11979410797357559 epoch time:  0.965961217880249\n",
      "\n",
      " Currently training SPO+\n",
      "\n",
      "Num of cores: 1\n",
      "Initial validation loss is  0.32859110832214355\n",
      "epoch:  1 validation loss is  0.037435658276081085 epoch time:  0.17397403717041016\n",
      "epoch:  2 validation loss is  0.010294806212186813 epoch time:  0.2568988800048828\n",
      "epoch:  3 validation loss is  0.0070191859267652035 epoch time:  0.42289304733276367\n",
      "epoch:  4 validation loss is  0.0070191859267652035 epoch time:  0.27133893966674805\n",
      "epoch:  5 validation loss is  0.005147403106093407 epoch time:  0.18747186660766602\n",
      "epoch:  6 validation loss is  0.005147403106093407 epoch time:  0.18625402450561523\n",
      "epoch:  7 validation loss is  0.005615348927676678 epoch time:  0.18886590003967285\n",
      "epoch:  8 validation loss is  0.005615348927676678 epoch time:  0.19661307334899902\n",
      "epoch:  9 validation loss is  0.004679457284510136 epoch time:  0.19493818283081055\n",
      "epoch:  10 validation loss is  0.0037435658741742373 epoch time:  0.1866450309753418\n",
      "\n",
      " Currently training BBOpt\n",
      "\n",
      "Num of cores: 1\n",
      "Initial validation loss is  0.32859110832214355\n",
      "epoch:  1 validation loss is  0.07955077290534973 epoch time:  0.5803370475769043\n",
      "epoch:  2 validation loss is  0.056621432304382324 epoch time:  0.8859131336212158\n",
      "epoch:  3 validation loss is  0.03790360689163208 epoch time:  1.1389288902282715\n",
      "epoch:  4 validation loss is  0.023397287353873253 epoch time:  1.2237029075622559\n",
      "epoch:  5 validation loss is  0.020589612424373627 epoch time:  1.2995545864105225\n",
      "epoch:  6 validation loss is  0.016378100961446762 epoch time:  1.3221728801727295\n",
      "epoch:  7 validation loss is  0.011698643676936626 epoch time:  1.2264082431793213\n",
      "epoch:  8 validation loss is  0.008890968747437 epoch time:  1.2927770614624023\n",
      "epoch:  9 validation loss is  0.00655124057084322 epoch time:  1.3108668327331543\n",
      "epoch:  10 validation loss is  0.005147403106093407 epoch time:  1.3304080963134766\n",
      "Generating training data for knapsack problem with 2 knapsacks and 10 items\n",
      "Optimizing for optDataset...\n"
     ]
    },
    {
     "name": "stderr",
     "output_type": "stream",
     "text": [
      "100%|███████████████████████████████████████| 900/900 [00:00<00:00, 1530.98it/s]\n"
     ]
    },
    {
     "name": "stdout",
     "output_type": "stream",
     "text": [
      "Optimizing for optDataset...\n"
     ]
    },
    {
     "name": "stderr",
     "output_type": "stream",
     "text": [
      "100%|███████████████████████████████████████| 100/100 [00:00<00:00, 1021.13it/s]\n"
     ]
    },
    {
     "name": "stdout",
     "output_type": "stream",
     "text": [
      "Optimizing for optDataset...\n"
     ]
    },
    {
     "name": "stderr",
     "output_type": "stream",
     "text": [
      "100%|███████████████████████████████████████| 100/100 [00:00<00:00, 1021.85it/s]\n"
     ]
    },
    {
     "name": "stdout",
     "output_type": "stream",
     "text": [
      "Finished building dataset\n",
      "\n",
      " Currently training DYS\n",
      "\n",
      "Initial validation loss is  0.30305755138397217\n",
      "epoch:  1 validation loss is  0.07286892831325531 epoch time:  0.9594171047210693\n",
      "epoch:  2 validation loss is  0.09807515889406204 epoch time:  1.0313169956207275\n",
      "epoch:  3 validation loss is  0.09945004433393478 epoch time:  0.9415528774261475\n",
      "epoch:  4 validation loss is  0.10174153000116348 epoch time:  0.9674952030181885\n",
      "epoch:  5 validation loss is  0.10174153000116348 epoch time:  0.9316978454589844\n",
      "epoch:  6 validation loss is  0.10174153000116348 epoch time:  0.891120195388794\n",
      "epoch:  7 validation loss is  0.10174153000116348 epoch time:  0.9422318935394287\n",
      "epoch:  8 validation loss is  0.10174153000116348 epoch time:  0.8931810855865479\n",
      "epoch:  9 validation loss is  0.10174153000116348 epoch time:  1.0230767726898193\n",
      "epoch:  10 validation loss is  0.10174153000116348 epoch time:  0.9352340698242188\n",
      "\n",
      " Currently training SPO+\n",
      "\n",
      "Num of cores: 1\n",
      "Initial validation loss is  0.30305755138397217\n",
      "epoch:  1 validation loss is  0.045829515904188156 epoch time:  0.1583080291748047\n",
      "epoch:  2 validation loss is  0.01191567350178957 epoch time:  0.25191283226013184\n",
      "epoch:  3 validation loss is  0.005499541759490967 epoch time:  0.4406561851501465\n",
      "epoch:  4 validation loss is  0.00641613220795989 epoch time:  0.2943229675292969\n",
      "epoch:  5 validation loss is  0.005041246768087149 epoch time:  0.1878190040588379\n",
      "epoch:  6 validation loss is  0.00641613220795989 epoch time:  0.18224120140075684\n",
      "epoch:  7 validation loss is  0.003208066103979945 epoch time:  0.18753623962402344\n",
      "epoch:  8 validation loss is  0.0022914756555110216 epoch time:  0.2010359764099121\n",
      "epoch:  9 validation loss is  0.0022914756555110216 epoch time:  0.18988704681396484\n",
      "epoch:  10 validation loss is  0.0022914756555110216 epoch time:  0.18451976776123047\n",
      "\n",
      " Currently training BBOpt\n",
      "\n",
      "Num of cores: 1\n",
      "Initial validation loss is  0.30305755138397217\n",
      "epoch:  1 validation loss is  0.06736938655376434 epoch time:  0.5717930793762207\n",
      "epoch:  2 validation loss is  0.04903757944703102 epoch time:  0.8824121952056885\n",
      "epoch:  3 validation loss is  0.04262144863605499 epoch time:  1.0519917011260986\n",
      "epoch:  4 validation loss is  0.03803849592804909 epoch time:  1.1258752346038818\n",
      "epoch:  5 validation loss is  0.019706690683960915 epoch time:  1.1361351013183594\n",
      "epoch:  6 validation loss is  0.02337305247783661 epoch time:  1.1738669872283936\n",
      "epoch:  7 validation loss is  0.02383134700357914 epoch time:  1.2320499420166016\n",
      "epoch:  8 validation loss is  0.019248396158218384 epoch time:  1.2238399982452393\n",
      "epoch:  9 validation loss is  0.019248396158218384 epoch time:  1.294219970703125\n",
      "epoch:  10 validation loss is  0.010999083518981934 epoch time:  1.337630271911621\n",
      "Generating training data for knapsack problem with 2 knapsacks and 15 items\n",
      "Optimizing for optDataset...\n"
     ]
    },
    {
     "name": "stderr",
     "output_type": "stream",
     "text": [
      "100%|███████████████████████████████████████| 900/900 [00:00<00:00, 1120.64it/s]\n"
     ]
    },
    {
     "name": "stdout",
     "output_type": "stream",
     "text": [
      "Optimizing for optDataset...\n"
     ]
    },
    {
     "name": "stderr",
     "output_type": "stream",
     "text": [
      "100%|████████████████████████████████████████| 100/100 [00:00<00:00, 855.79it/s]\n"
     ]
    },
    {
     "name": "stdout",
     "output_type": "stream",
     "text": [
      "Optimizing for optDataset...\n"
     ]
    },
    {
     "name": "stderr",
     "output_type": "stream",
     "text": [
      "100%|████████████████████████████████████████| 100/100 [00:00<00:00, 807.44it/s]\n"
     ]
    },
    {
     "name": "stdout",
     "output_type": "stream",
     "text": [
      "Finished building dataset\n",
      "\n",
      " Currently training DYS\n",
      "\n",
      "Initial validation loss is  0.3718737065792084\n",
      "epoch:  1 validation loss is  0.16550306975841522 epoch time:  1.241459846496582\n",
      "epoch:  2 validation loss is  0.18069815635681152 epoch time:  1.0179991722106934\n",
      "epoch:  3 validation loss is  0.18069815635681152 epoch time:  1.212480068206787\n",
      "epoch:  4 validation loss is  0.18069815635681152 epoch time:  1.3678417205810547\n",
      "epoch:  5 validation loss is  0.18069815635681152 epoch time:  1.380587100982666\n",
      "epoch:  6 validation loss is  0.18069815635681152 epoch time:  1.3894610404968262\n",
      "epoch:  7 validation loss is  0.18069815635681152 epoch time:  1.410451889038086\n",
      "epoch:  8 validation loss is  0.18069815635681152 epoch time:  1.4458518028259277\n",
      "epoch:  9 validation loss is  0.18069815635681152 epoch time:  1.3033299446105957\n",
      "epoch:  10 validation loss is  0.18069815635681152 epoch time:  1.5228371620178223\n",
      "\n",
      " Currently training SPO+\n",
      "\n",
      "Num of cores: 1\n",
      "Initial validation loss is  0.3718737065792084\n",
      "epoch:  1 validation loss is  0.05995892733335495 epoch time:  0.21548724174499512\n",
      "epoch:  2 validation loss is  0.007802874315530062 epoch time:  0.39918088912963867\n",
      "epoch:  3 validation loss is  0.006570841651409864 epoch time:  0.6626162528991699\n",
      "epoch:  4 validation loss is  0.0049281311221420765 epoch time:  0.4430227279663086\n",
      "epoch:  5 validation loss is  0.0041067758575081825 epoch time:  0.2503969669342041\n",
      "epoch:  6 validation loss is  0.004517453722655773 epoch time:  0.23488998413085938\n",
      "epoch:  7 validation loss is  0.0024640655610710382 epoch time:  0.2515408992767334\n",
      "epoch:  8 validation loss is  0.0024640655610710382 epoch time:  0.26595211029052734\n",
      "epoch:  9 validation loss is  0.0041067758575081825 epoch time:  0.2506570816040039\n",
      "epoch:  10 validation loss is  0.004517453722655773 epoch time:  0.24923276901245117\n",
      "\n",
      " Currently training BBOpt\n",
      "\n",
      "Num of cores: 1\n",
      "Initial validation loss is  0.3718737065792084\n",
      "epoch:  1 validation loss is  0.16180697083473206 epoch time:  0.8762481212615967\n",
      "epoch:  2 validation loss is  0.13963037729263306 epoch time:  1.212928056716919\n",
      "epoch:  3 validation loss is  0.11334701627492905 epoch time:  1.383741855621338\n",
      "epoch:  4 validation loss is  0.08583161234855652 epoch time:  1.4809520244598389\n",
      "epoch:  5 validation loss is  0.09240245819091797 epoch time:  1.549321174621582\n",
      "epoch:  6 validation loss is  0.07433264702558517 epoch time:  1.5126080513000488\n",
      "epoch:  7 validation loss is  0.05954825133085251 epoch time:  1.5169060230255127\n",
      "epoch:  8 validation loss is  0.03901437297463417 epoch time:  1.6031641960144043\n",
      "epoch:  9 validation loss is  0.03449691832065582 epoch time:  1.704617977142334\n",
      "epoch:  10 validation loss is  0.031211497262120247 epoch time:  1.646407127380371\n",
      "Generating training data for knapsack problem with 2 knapsacks and 15 items\n",
      "Optimizing for optDataset...\n"
     ]
    },
    {
     "name": "stderr",
     "output_type": "stream",
     "text": [
      "100%|███████████████████████████████████████| 900/900 [00:00<00:00, 1125.12it/s]\n"
     ]
    },
    {
     "name": "stdout",
     "output_type": "stream",
     "text": [
      "Optimizing for optDataset...\n"
     ]
    },
    {
     "name": "stderr",
     "output_type": "stream",
     "text": [
      "100%|████████████████████████████████████████| 100/100 [00:00<00:00, 866.35it/s]\n"
     ]
    },
    {
     "name": "stdout",
     "output_type": "stream",
     "text": [
      "Optimizing for optDataset...\n"
     ]
    },
    {
     "name": "stderr",
     "output_type": "stream",
     "text": [
      "100%|████████████████████████████████████████| 100/100 [00:00<00:00, 852.05it/s]\n"
     ]
    },
    {
     "name": "stdout",
     "output_type": "stream",
     "text": [
      "Finished building dataset\n",
      "\n",
      " Currently training DYS\n",
      "\n",
      "Initial validation loss is  0.3897216022014618\n",
      "epoch:  1 validation loss is  0.1906900852918625 epoch time:  1.1563630104064941\n",
      "epoch:  2 validation loss is  0.2106982320547104 epoch time:  0.9489061832427979\n",
      "epoch:  3 validation loss is  0.2106982320547104 epoch time:  1.0150377750396729\n",
      "epoch:  4 validation loss is  0.2106982320547104 epoch time:  1.122960090637207\n",
      "epoch:  5 validation loss is  0.2106982320547104 epoch time:  1.1858298778533936\n",
      "epoch:  6 validation loss is  0.2106982320547104 epoch time:  1.4691190719604492\n",
      "epoch:  7 validation loss is  0.2106982320547104 epoch time:  1.377958059310913\n",
      "epoch:  8 validation loss is  0.2106982320547104 epoch time:  1.3113231658935547\n",
      "epoch:  9 validation loss is  0.2106982320547104 epoch time:  1.34555983543396\n",
      "epoch:  10 validation loss is  0.2106982320547104 epoch time:  1.4982621669769287\n",
      "\n",
      " Currently training SPO+\n",
      "\n",
      "Num of cores: 1\n",
      "Initial validation loss is  0.3897216022014618\n",
      "epoch:  1 validation loss is  0.07758268713951111 epoch time:  0.205596923828125\n",
      "epoch:  2 validation loss is  0.010616578161716461 epoch time:  0.3984031677246094\n",
      "epoch:  3 validation loss is  0.006533278618007898 epoch time:  0.656552791595459\n",
      "epoch:  4 validation loss is  0.007758268620818853 epoch time:  0.4430961608886719\n",
      "epoch:  5 validation loss is  0.008983258157968521 epoch time:  0.25365114212036133\n",
      "epoch:  6 validation loss is  0.008574928157031536 epoch time:  0.22947978973388672\n",
      "epoch:  7 validation loss is  0.008166598156094551 epoch time:  0.25084519386291504\n",
      "epoch:  8 validation loss is  0.007349938154220581 epoch time:  0.2752361297607422\n",
      "epoch:  9 validation loss is  0.006941608618944883 epoch time:  0.2640831470489502\n",
      "epoch:  10 validation loss is  0.006941608618944883 epoch time:  0.25498223304748535\n",
      "\n",
      " Currently training BBOpt\n",
      "\n",
      "Num of cores: 1\n",
      "Initial validation loss is  0.3897216022014618\n",
      "epoch:  1 validation loss is  0.17313188314437866 epoch time:  0.8945960998535156\n",
      "epoch:  2 validation loss is  0.13515719771385193 epoch time:  1.2535171508789062\n",
      "epoch:  3 validation loss is  0.1053491160273552 epoch time:  1.5051419734954834\n",
      "epoch:  4 validation loss is  0.08370763063430786 epoch time:  1.5782172679901123\n",
      "epoch:  5 validation loss is  0.06982441246509552 epoch time:  1.5988409519195557\n",
      "epoch:  6 validation loss is  0.05471620708703995 epoch time:  1.5920701026916504\n",
      "epoch:  7 validation loss is  0.051041241735219955 epoch time:  1.6226611137390137\n",
      "epoch:  8 validation loss is  0.050224579870700836 epoch time:  1.6042218208312988\n",
      "epoch:  9 validation loss is  0.050224579870700836 epoch time:  1.6278069019317627\n",
      "epoch:  10 validation loss is  0.040424659848213196 epoch time:  1.6297192573547363\n",
      "Generating training data for knapsack problem with 2 knapsacks and 20 items\n",
      "Optimizing for optDataset...\n"
     ]
    },
    {
     "name": "stderr",
     "output_type": "stream",
     "text": [
      "100%|████████████████████████████████████████| 900/900 [00:01<00:00, 605.13it/s]\n"
     ]
    },
    {
     "name": "stdout",
     "output_type": "stream",
     "text": [
      "Optimizing for optDataset...\n"
     ]
    },
    {
     "name": "stderr",
     "output_type": "stream",
     "text": [
      "100%|████████████████████████████████████████| 100/100 [00:00<00:00, 534.95it/s]\n"
     ]
    },
    {
     "name": "stdout",
     "output_type": "stream",
     "text": [
      "Optimizing for optDataset...\n"
     ]
    },
    {
     "name": "stderr",
     "output_type": "stream",
     "text": [
      "100%|████████████████████████████████████████| 100/100 [00:00<00:00, 578.76it/s]\n"
     ]
    },
    {
     "name": "stdout",
     "output_type": "stream",
     "text": [
      "Finished building dataset\n",
      "\n",
      " Currently training DYS\n",
      "\n",
      "Initial validation loss is  0.38272613286972046\n",
      "epoch:  1 validation loss is  0.20717909932136536 epoch time:  1.245352029800415\n",
      "epoch:  2 validation loss is  0.22746782004833221 epoch time:  1.1289398670196533\n",
      "epoch:  3 validation loss is  0.22746782004833221 epoch time:  1.0475749969482422\n",
      "epoch:  4 validation loss is  0.22746782004833221 epoch time:  1.0219340324401855\n",
      "epoch:  5 validation loss is  0.22746782004833221 epoch time:  1.0936393737792969\n",
      "epoch:  6 validation loss is  0.22746782004833221 epoch time:  1.1685810089111328\n",
      "epoch:  7 validation loss is  0.22746782004833221 epoch time:  1.015526294708252\n",
      "epoch:  8 validation loss is  0.22746782004833221 epoch time:  1.037895917892456\n",
      "epoch:  9 validation loss is  0.22746782004833221 epoch time:  1.0014030933380127\n",
      "epoch:  10 validation loss is  0.22746782004833221 epoch time:  1.0675938129425049\n",
      "\n",
      " Currently training SPO+\n",
      "\n",
      "Num of cores: 1\n",
      "Initial validation loss is  0.38272613286972046\n",
      "epoch:  1 validation loss is  0.061646509915590286 epoch time:  0.2707400321960449\n",
      "epoch:  2 validation loss is  0.015216543339192867 epoch time:  0.46933698654174805\n",
      "epoch:  3 validation loss is  0.009754194878041744 epoch time:  0.8027310371398926\n",
      "epoch:  4 validation loss is  0.005852516740560532 epoch time:  0.6207118034362793\n",
      "epoch:  5 validation loss is  0.009754194878041744 epoch time:  0.3407402038574219\n",
      "epoch:  6 validation loss is  0.007803355343639851 epoch time:  0.291729211807251\n",
      "epoch:  7 validation loss is  0.006242684554308653 epoch time:  0.3254389762878418\n",
      "epoch:  8 validation loss is  0.004682013299316168 epoch time:  0.32707715034484863\n",
      "epoch:  9 validation loss is  0.006242684554308653 epoch time:  0.3324720859527588\n",
      "epoch:  10 validation loss is  0.005072181113064289 epoch time:  0.3106539249420166\n",
      "\n",
      " Currently training BBOpt\n",
      "\n",
      "Num of cores: 1\n",
      "Initial validation loss is  0.38272613286972046\n",
      "epoch:  1 validation loss is  0.1463129222393036 epoch time:  1.1434431076049805\n",
      "epoch:  2 validation loss is  0.12290284782648087 epoch time:  1.5561368465423584\n",
      "epoch:  3 validation loss is  0.10885681211948395 epoch time:  1.613905906677246\n",
      "epoch:  4 validation loss is  0.08310573548078537 epoch time:  1.6890192031860352\n",
      "epoch:  5 validation loss is  0.06984003633260727 epoch time:  1.6840999126434326\n",
      "epoch:  6 validation loss is  0.06086617335677147 epoch time:  1.6158299446105957\n",
      "epoch:  7 validation loss is  0.05735466256737709 epoch time:  1.6415119171142578\n",
      "epoch:  8 validation loss is  0.04721029847860336 epoch time:  1.680677890777588\n",
      "epoch:  9 validation loss is  0.03784627467393875 epoch time:  1.7850980758666992\n",
      "epoch:  10 validation loss is  0.03277409449219704 epoch time:  1.789518117904663\n",
      "Generating training data for knapsack problem with 2 knapsacks and 20 items\n",
      "Optimizing for optDataset...\n"
     ]
    },
    {
     "name": "stderr",
     "output_type": "stream",
     "text": [
      "100%|████████████████████████████████████████| 900/900 [00:01<00:00, 635.21it/s]\n"
     ]
    },
    {
     "name": "stdout",
     "output_type": "stream",
     "text": [
      "Optimizing for optDataset...\n"
     ]
    },
    {
     "name": "stderr",
     "output_type": "stream",
     "text": [
      "100%|████████████████████████████████████████| 100/100 [00:00<00:00, 545.68it/s]\n"
     ]
    },
    {
     "name": "stdout",
     "output_type": "stream",
     "text": [
      "Optimizing for optDataset...\n"
     ]
    },
    {
     "name": "stderr",
     "output_type": "stream",
     "text": [
      "100%|████████████████████████████████████████| 100/100 [00:00<00:00, 515.88it/s]\n"
     ]
    },
    {
     "name": "stdout",
     "output_type": "stream",
     "text": [
      "Finished building dataset\n",
      "\n",
      " Currently training DYS\n",
      "\n",
      "Initial validation loss is  0.38142624497413635\n",
      "epoch:  1 validation loss is  0.1932528018951416 epoch time:  1.196254014968872\n",
      "epoch:  2 validation loss is  0.21241149306297302 epoch time:  1.0295851230621338\n",
      "epoch:  3 validation loss is  0.21241149306297302 epoch time:  1.0448918342590332\n",
      "epoch:  4 validation loss is  0.21241149306297302 epoch time:  0.943519115447998\n",
      "epoch:  5 validation loss is  0.21241149306297302 epoch time:  0.9662649631500244\n",
      "epoch:  6 validation loss is  0.21241149306297302 epoch time:  1.0015528202056885\n",
      "epoch:  7 validation loss is  0.21241149306297302 epoch time:  0.9645140171051025\n",
      "epoch:  8 validation loss is  0.21241149306297302 epoch time:  0.9760541915893555\n",
      "epoch:  9 validation loss is  0.21241149306297302 epoch time:  1.0901210308074951\n",
      "epoch:  10 validation loss is  0.21241149306297302 epoch time:  1.0433311462402344\n",
      "\n",
      " Currently training SPO+\n",
      "\n",
      "Num of cores: 1\n",
      "Initial validation loss is  0.38142624497413635\n",
      "epoch:  1 validation loss is  0.06080799177289009 epoch time:  0.26312804222106934\n",
      "epoch:  2 validation loss is  0.017076218500733376 epoch time:  0.4766049385070801\n",
      "epoch:  3 validation loss is  0.00624739658087492 epoch time:  0.8425140380859375\n",
      "epoch:  4 validation loss is  0.00624739658087492 epoch time:  0.6549508571624756\n",
      "epoch:  5 validation loss is  0.009579340927302837 epoch time:  0.3252408504486084\n",
      "epoch:  6 validation loss is  0.009579340927302837 epoch time:  0.28977203369140625\n",
      "epoch:  7 validation loss is  0.004997917450964451 epoch time:  0.31731414794921875\n",
      "epoch:  8 validation loss is  0.004164930898696184 epoch time:  0.32109904289245605\n",
      "epoch:  9 validation loss is  0.004581424407660961 epoch time:  0.30384111404418945\n",
      "epoch:  10 validation loss is  0.004164930898696184 epoch time:  0.30262112617492676\n",
      "\n",
      " Currently training BBOpt\n",
      "\n",
      "Num of cores: 1\n",
      "Initial validation loss is  0.38142624497413635\n",
      "epoch:  1 validation loss is  0.15368595719337463 epoch time:  1.1976239681243896\n",
      "epoch:  2 validation loss is  0.12619741261005402 epoch time:  1.6604969501495361\n",
      "epoch:  3 validation loss is  0.10953768342733383 epoch time:  1.7505900859832764\n",
      "epoch:  4 validation loss is  0.1049562618136406 epoch time:  1.6957588195800781\n",
      "epoch:  5 validation loss is  0.09620990604162216 epoch time:  1.7462859153747559\n",
      "epoch:  6 validation loss is  0.08454810082912445 epoch time:  1.8278369903564453\n",
      "epoch:  7 validation loss is  0.06872136145830154 epoch time:  1.8852589130401611\n",
      "epoch:  8 validation loss is  0.05705955624580383 epoch time:  1.7994978427886963\n",
      "epoch:  9 validation loss is  0.054560594260692596 epoch time:  1.7417070865631104\n",
      "epoch:  10 validation loss is  0.05081216245889664 epoch time:  1.8052747249603271\n",
      "Generating training data for knapsack problem with 2 knapsacks and 25 items\n",
      "Optimizing for optDataset...\n"
     ]
    },
    {
     "name": "stderr",
     "output_type": "stream",
     "text": [
      "100%|████████████████████████████████████████| 900/900 [00:02<00:00, 381.49it/s]\n"
     ]
    },
    {
     "name": "stdout",
     "output_type": "stream",
     "text": [
      "Optimizing for optDataset...\n"
     ]
    },
    {
     "name": "stderr",
     "output_type": "stream",
     "text": [
      "100%|████████████████████████████████████████| 100/100 [00:00<00:00, 373.30it/s]\n"
     ]
    },
    {
     "name": "stdout",
     "output_type": "stream",
     "text": [
      "Optimizing for optDataset...\n"
     ]
    },
    {
     "name": "stderr",
     "output_type": "stream",
     "text": [
      "100%|████████████████████████████████████████| 100/100 [00:00<00:00, 308.54it/s]\n"
     ]
    },
    {
     "name": "stdout",
     "output_type": "stream",
     "text": [
      "Finished building dataset\n",
      "\n",
      " Currently training DYS\n",
      "\n",
      "Initial validation loss is  0.256623774766922\n",
      "epoch:  1 validation loss is  0.2154158353805542 epoch time:  1.2913789749145508\n",
      "epoch:  2 validation loss is  0.23691684007644653 epoch time:  1.0805420875549316\n",
      "epoch:  3 validation loss is  0.23691684007644653 epoch time:  1.024120807647705\n",
      "epoch:  4 validation loss is  0.23691684007644653 epoch time:  1.0497469902038574\n",
      "epoch:  5 validation loss is  0.23691684007644653 epoch time:  0.9579966068267822\n",
      "epoch:  6 validation loss is  0.23691684007644653 epoch time:  0.9584140777587891\n",
      "epoch:  7 validation loss is  0.23691684007644653 epoch time:  0.9514942169189453\n",
      "epoch:  8 validation loss is  0.23691684007644653 epoch time:  0.9975779056549072\n",
      "epoch:  9 validation loss is  0.23691684007644653 epoch time:  0.9822499752044678\n",
      "epoch:  10 validation loss is  0.23691684007644653 epoch time:  0.9562318325042725\n",
      "\n",
      " Currently training SPO+\n",
      "\n",
      "Num of cores: 1\n",
      "Initial validation loss is  0.256623774766922\n",
      "epoch:  1 validation loss is  0.06450304388999939 epoch time:  0.3239161968231201\n",
      "epoch:  2 validation loss is  0.01501014269888401 epoch time:  0.5991709232330322\n",
      "epoch:  3 validation loss is  0.0064908722415566444 epoch time:  0.9493510723114014\n",
      "epoch:  4 validation loss is  0.004462474957108498 epoch time:  0.7113649845123291\n",
      "epoch:  5 validation loss is  0.0064908722415566444 epoch time:  0.3955497741699219\n",
      "epoch:  6 validation loss is  0.0064908722415566444 epoch time:  0.3612210750579834\n",
      "epoch:  7 validation loss is  0.005273833870887756 epoch time:  0.4135010242462158\n",
      "epoch:  8 validation loss is  0.004056795034557581 epoch time:  0.40120816230773926\n",
      "epoch:  9 validation loss is  0.004462474957108498 epoch time:  0.36852312088012695\n",
      "epoch:  10 validation loss is  0.004868154413998127 epoch time:  0.35710906982421875\n",
      "\n",
      " Currently training BBOpt\n",
      "\n",
      "Num of cores: 1\n",
      "Initial validation loss is  0.256623774766922\n",
      "epoch:  1 validation loss is  0.15131846070289612 epoch time:  1.439418077468872\n",
      "epoch:  2 validation loss is  0.11521298438310623 epoch time:  1.9482698440551758\n",
      "epoch:  3 validation loss is  0.09736308455467224 epoch time:  2.014723062515259\n",
      "epoch:  4 validation loss is  0.07586207240819931 epoch time:  2.305248975753784\n",
      "epoch:  5 validation loss is  0.04503042995929718 epoch time:  2.4882140159606934\n",
      "epoch:  6 validation loss is  0.028397567570209503 epoch time:  2.3988161087036133\n",
      "epoch:  7 validation loss is  0.021906692534685135 epoch time:  2.3475229740142822\n",
      "epoch:  8 validation loss is  0.01582150161266327 epoch time:  2.355772018432617\n",
      "epoch:  9 validation loss is  0.016632860526442528 epoch time:  2.2580740451812744\n",
      "epoch:  10 validation loss is  0.017038539052009583 epoch time:  2.2262861728668213\n",
      "Generating training data for knapsack problem with 2 knapsacks and 25 items\n",
      "Optimizing for optDataset...\n"
     ]
    },
    {
     "name": "stderr",
     "output_type": "stream",
     "text": [
      "100%|████████████████████████████████████████| 900/900 [00:02<00:00, 367.72it/s]\n"
     ]
    },
    {
     "name": "stdout",
     "output_type": "stream",
     "text": [
      "Optimizing for optDataset...\n"
     ]
    },
    {
     "name": "stderr",
     "output_type": "stream",
     "text": [
      "100%|████████████████████████████████████████| 100/100 [00:00<00:00, 401.49it/s]\n"
     ]
    },
    {
     "name": "stdout",
     "output_type": "stream",
     "text": [
      "Optimizing for optDataset...\n"
     ]
    },
    {
     "name": "stderr",
     "output_type": "stream",
     "text": [
      "100%|████████████████████████████████████████| 100/100 [00:00<00:00, 342.27it/s]\n"
     ]
    },
    {
     "name": "stdout",
     "output_type": "stream",
     "text": [
      "Finished building dataset\n",
      "\n",
      " Currently training DYS\n",
      "\n",
      "Initial validation loss is  0.2706403434276581\n",
      "epoch:  1 validation loss is  0.21655283868312836 epoch time:  1.1644408702850342\n",
      "epoch:  2 validation loss is  0.23021294176578522 epoch time:  1.0428318977355957\n",
      "epoch:  3 validation loss is  0.23021294176578522 epoch time:  1.0346860885620117\n",
      "epoch:  4 validation loss is  0.23021294176578522 epoch time:  1.0131993293762207\n",
      "epoch:  5 validation loss is  0.23021294176578522 epoch time:  1.0176000595092773\n",
      "epoch:  6 validation loss is  0.23021294176578522 epoch time:  0.9676291942596436\n",
      "epoch:  7 validation loss is  0.23021294176578522 epoch time:  1.0611021518707275\n",
      "epoch:  8 validation loss is  0.23021294176578522 epoch time:  0.9576942920684814\n",
      "epoch:  9 validation loss is  0.23021294176578522 epoch time:  0.9564368724822998\n",
      "epoch:  10 validation loss is  0.23021294176578522 epoch time:  0.91314697265625\n",
      "\n",
      " Currently training SPO+\n",
      "\n",
      "Num of cores: 1\n",
      "Initial validation loss is  0.2706403434276581\n",
      "epoch:  1 validation loss is  0.07392527163028717 epoch time:  0.30797386169433594\n",
      "epoch:  2 validation loss is  0.018079550936818123 epoch time:  0.6218469142913818\n",
      "epoch:  3 validation loss is  0.0028123746160417795 epoch time:  0.9799380302429199\n",
      "epoch:  4 validation loss is  0.004017677623778582 epoch time:  0.7534937858581543\n",
      "epoch:  5 validation loss is  0.004419445525854826 epoch time:  0.37320494651794434\n",
      "epoch:  6 validation loss is  0.0032141422852873802 epoch time:  0.35924315452575684\n",
      "epoch:  7 validation loss is  0.003615909954532981 epoch time:  0.4155440330505371\n",
      "epoch:  8 validation loss is  0.0032141422852873802 epoch time:  0.3972351551055908\n",
      "epoch:  9 validation loss is  0.004017677623778582 epoch time:  0.35718679428100586\n",
      "epoch:  10 validation loss is  0.003615909954532981 epoch time:  0.3644747734069824\n",
      "\n",
      " Currently training BBOpt\n",
      "\n",
      "Num of cores: 1\n",
      "Initial validation loss is  0.2706403434276581\n",
      "epoch:  1 validation loss is  0.1659301072359085 epoch time:  1.4630229473114014\n",
      "epoch:  2 validation loss is  0.13298512995243073 epoch time:  1.867798089981079\n",
      "epoch:  3 validation loss is  0.10285255312919617 epoch time:  1.9842791557312012\n",
      "epoch:  4 validation loss is  0.09079951792955399 epoch time:  2.075888156890869\n",
      "epoch:  5 validation loss is  0.07111290097236633 epoch time:  2.150446891784668\n",
      "epoch:  6 validation loss is  0.06187223643064499 epoch time:  2.1011240482330322\n",
      "epoch:  7 validation loss is  0.05504218861460686 epoch time:  2.080179214477539\n",
      "epoch:  8 validation loss is  0.049417439848184586 epoch time:  2.230478048324585\n",
      "epoch:  9 validation loss is  0.038167938590049744 epoch time:  2.363633155822754\n",
      "epoch:  10 validation loss is  0.03334672749042511 epoch time:  2.3356070518493652\n",
      "Generating training data for knapsack problem with 2 knapsacks and 30 items\n",
      "Optimizing for optDataset...\n"
     ]
    },
    {
     "name": "stderr",
     "output_type": "stream",
     "text": [
      "100%|████████████████████████████████████████| 900/900 [00:01<00:00, 476.31it/s]\n"
     ]
    },
    {
     "name": "stdout",
     "output_type": "stream",
     "text": [
      "Optimizing for optDataset...\n"
     ]
    },
    {
     "name": "stderr",
     "output_type": "stream",
     "text": [
      "100%|████████████████████████████████████████| 100/100 [00:00<00:00, 378.99it/s]\n"
     ]
    },
    {
     "name": "stdout",
     "output_type": "stream",
     "text": [
      "Optimizing for optDataset...\n"
     ]
    },
    {
     "name": "stderr",
     "output_type": "stream",
     "text": [
      "100%|████████████████████████████████████████| 100/100 [00:00<00:00, 363.96it/s]\n"
     ]
    },
    {
     "name": "stdout",
     "output_type": "stream",
     "text": [
      "Finished building dataset\n",
      "\n",
      " Currently training DYS\n",
      "\n",
      "Initial validation loss is  0.4064774513244629\n",
      "epoch:  1 validation loss is  0.11177347600460052 epoch time:  1.325361728668213\n",
      "epoch:  2 validation loss is  0.09463486820459366 epoch time:  1.0124619007110596\n",
      "epoch:  3 validation loss is  0.09463486820459366 epoch time:  1.0749218463897705\n",
      "epoch:  4 validation loss is  0.09463486820459366 epoch time:  1.0706942081451416\n",
      "epoch:  5 validation loss is  0.09463486820459366 epoch time:  1.0047268867492676\n",
      "epoch:  6 validation loss is  0.09463486820459366 epoch time:  0.9864199161529541\n",
      "epoch:  7 validation loss is  0.09463486820459366 epoch time:  0.972222089767456\n",
      "epoch:  8 validation loss is  0.09463486820459366 epoch time:  1.0473339557647705\n",
      "epoch:  9 validation loss is  0.09463486820459366 epoch time:  1.0506839752197266\n",
      "epoch:  10 validation loss is  0.09463486820459366 epoch time:  1.0035560131072998\n",
      "\n",
      " Currently training SPO+\n",
      "\n",
      "Num of cores: 1\n",
      "Initial validation loss is  0.4064774513244629\n",
      "epoch:  1 validation loss is  0.06408345699310303 epoch time:  0.3694932460784912\n",
      "epoch:  2 validation loss is  0.028688523918390274 epoch time:  0.5366637706756592\n",
      "epoch:  3 validation loss is  0.012295081280171871 epoch time:  0.9088277816772461\n",
      "epoch:  4 validation loss is  0.011177346110343933 epoch time:  0.7714569568634033\n",
      "epoch:  5 validation loss is  0.011549925431609154 epoch time:  0.4739809036254883\n",
      "epoch:  6 validation loss is  0.00856929924339056 epoch time:  0.44773387908935547\n",
      "epoch:  7 validation loss is  0.0059612519107759 epoch time:  0.4441211223602295\n",
      "epoch:  8 validation loss is  0.0055886730551719666 epoch time:  0.43523311614990234\n",
      "epoch:  9 validation loss is  0.004843516740947962 epoch time:  0.42075586318969727\n",
      "epoch:  10 validation loss is  0.005216095596551895 epoch time:  0.4103093147277832\n",
      "\n",
      " Currently training BBOpt\n",
      "\n",
      "Num of cores: 1\n",
      "Initial validation loss is  0.4064774513244629\n",
      "epoch:  1 validation loss is  0.11773471534252167 epoch time:  1.6364500522613525\n",
      "epoch:  2 validation loss is  0.0707898661494255 epoch time:  2.116957902908325\n",
      "epoch:  3 validation loss is  0.0644560307264328 epoch time:  1.9499561786651611\n",
      "epoch:  4 validation loss is  0.052906107157468796 epoch time:  2.115478992462158\n",
      "epoch:  5 validation loss is  0.05104321986436844 epoch time:  2.292407751083374\n",
      "epoch:  6 validation loss is  0.056259315460920334 epoch time:  2.2795908451080322\n",
      "epoch:  7 validation loss is  0.045827124267816544 epoch time:  2.210876941680908\n",
      "epoch:  8 validation loss is  0.03763040155172348 epoch time:  2.316049814224243\n",
      "epoch:  9 validation loss is  0.03464977443218231 epoch time:  2.339571952819824\n",
      "epoch:  10 validation loss is  0.03502235561609268 epoch time:  2.3034770488739014\n",
      "Generating training data for knapsack problem with 2 knapsacks and 30 items\n",
      "Optimizing for optDataset...\n"
     ]
    },
    {
     "name": "stderr",
     "output_type": "stream",
     "text": [
      "100%|████████████████████████████████████████| 900/900 [00:01<00:00, 480.70it/s]\n"
     ]
    },
    {
     "name": "stdout",
     "output_type": "stream",
     "text": [
      "Optimizing for optDataset...\n"
     ]
    },
    {
     "name": "stderr",
     "output_type": "stream",
     "text": [
      "100%|████████████████████████████████████████| 100/100 [00:00<00:00, 422.48it/s]\n"
     ]
    },
    {
     "name": "stdout",
     "output_type": "stream",
     "text": [
      "Optimizing for optDataset...\n"
     ]
    },
    {
     "name": "stderr",
     "output_type": "stream",
     "text": [
      "100%|████████████████████████████████████████| 100/100 [00:00<00:00, 425.35it/s]\n"
     ]
    },
    {
     "name": "stdout",
     "output_type": "stream",
     "text": [
      "Finished building dataset\n",
      "\n",
      " Currently training DYS\n",
      "\n",
      "Initial validation loss is  0.41128405928611755\n",
      "epoch:  1 validation loss is  0.08936651796102524 epoch time:  1.1529290676116943\n",
      "epoch:  2 validation loss is  0.08257918804883957 epoch time:  1.07572603225708\n",
      "epoch:  3 validation loss is  0.08257918804883957 epoch time:  1.0431339740753174\n",
      "epoch:  4 validation loss is  0.08257918804883957 epoch time:  1.036468267440796\n",
      "epoch:  5 validation loss is  0.08257918804883957 epoch time:  1.0082030296325684\n",
      "epoch:  6 validation loss is  0.08257918804883957 epoch time:  1.0341811180114746\n",
      "epoch:  7 validation loss is  0.08257918804883957 epoch time:  1.0131068229675293\n",
      "epoch:  8 validation loss is  0.08257918804883957 epoch time:  1.045375108718872\n",
      "epoch:  9 validation loss is  0.08257918804883957 epoch time:  1.1032781600952148\n",
      "epoch:  10 validation loss is  0.08257918804883957 epoch time:  1.000859022140503\n",
      "\n",
      " Currently training SPO+\n",
      "\n",
      "Num of cores: 1\n",
      "Initial validation loss is  0.41128405928611755\n",
      "epoch:  1 validation loss is  0.05128205567598343 epoch time:  0.36573290824890137\n",
      "epoch:  2 validation loss is  0.029411764815449715 epoch time:  0.5446767807006836\n",
      "epoch:  3 validation loss is  0.009049774147570133 epoch time:  0.9928970336914062\n",
      "epoch:  4 validation loss is  0.012820513918995857 epoch time:  0.8181350231170654\n",
      "epoch:  5 validation loss is  0.012443439103662968 epoch time:  0.46918797492980957\n",
      "epoch:  6 validation loss is  0.008672699332237244 epoch time:  0.41541290283203125\n",
      "epoch:  7 validation loss is  0.007541478145867586 epoch time:  0.4460270404815674\n",
      "epoch:  8 validation loss is  0.007164404261857271 epoch time:  0.44074320793151855\n",
      "epoch:  9 validation loss is  0.007164404261857271 epoch time:  0.4216330051422119\n",
      "epoch:  10 validation loss is  0.0049019609577953815 epoch time:  0.42707014083862305\n",
      "\n",
      " Currently training BBOpt\n",
      "\n",
      "Num of cores: 1\n",
      "Initial validation loss is  0.41128405928611755\n",
      "epoch:  1 validation loss is  0.1440422385931015 epoch time:  1.643090009689331\n",
      "epoch:  2 validation loss is  0.06372549384832382 epoch time:  2.14924693107605\n",
      "epoch:  3 validation loss is  0.052413273602724075 epoch time:  2.0968241691589355\n",
      "epoch:  4 validation loss is  0.04977375641465187 epoch time:  2.20178484916687\n",
      "epoch:  5 validation loss is  0.05957767739892006 epoch time:  2.258545160293579\n",
      "epoch:  6 validation loss is  0.06146305054426193 epoch time:  2.1959481239318848\n",
      "epoch:  7 validation loss is  0.058446455746889114 epoch time:  2.354996919631958\n",
      "epoch:  8 validation loss is  0.047888386994600296 epoch time:  2.650423049926758\n",
      "epoch:  9 validation loss is  0.03846153989434242 epoch time:  2.5800940990448\n",
      "epoch:  10 validation loss is  0.03355957940220833 epoch time:  2.651510000228882\n"
     ]
    }
   ],
   "source": [
    "for item_counter, num_item in enumerate(item_values):\n",
    "    knapsack_data_dict = {'num_knapsack': num_knapsack,\n",
    "                          'num_item': num_item,\n",
    "                          'num_feat': num_feat,\n",
    "                          'num_data': num_data\n",
    "                         } \n",
    "    \n",
    "    # Do the thing\n",
    "    for repeat in range(num_repeats):\n",
    "        # Generate Data\n",
    "        knapsack_dict = Gen_Knapsack_data(num_data, num_feat, num_item, num_knapsack)\n",
    "        for model_counter, model_type in enumerate(models):\n",
    "            train_time, best_test_loss, time_till_best_test_loss = initialize_and_train(knapsack_dict, knapsack_data_dict, model_type, max_epochs)\n",
    "            results_test_loss[model_counter, item_counter, repeat] = best_test_loss\n",
    "            results_train_time[model_counter, item_counter, repeat] = train_time\n",
    "            results_time_till_val_loss[model_counter, item_counter, repeat] = time_till_best_test_loss\n",
    "    "
   ]
  },
  {
   "cell_type": "code",
   "execution_count": 4,
   "id": "67d3e6d1",
   "metadata": {},
   "outputs": [
    {
     "name": "stdout",
     "output_type": "stream",
     "text": [
      "[[[20.46291447 20.23671222]\n",
      "  [ 9.56185675  9.51632404]\n",
      "  [13.29229975 12.43131924]\n",
      "  [10.82844043 10.25608826]\n",
      "  [10.24975348 10.12876773]\n",
      "  [10.54838252 10.5132606 ]]\n",
      "\n",
      " [[ 1.2381413   1.25437331]\n",
      "  [ 2.26589298  2.27823925]\n",
      "  [ 3.22297692  3.23192668]\n",
      "  [ 4.09163141  4.09708619]\n",
      "  [ 4.8809154   4.93014145]\n",
      "  [ 5.21857595  5.34151602]]\n",
      "\n",
      " [[ 2.69010258  2.72481441]\n",
      "  [11.61106968 11.02981448]\n",
      "  [14.48689461 14.90679264]\n",
      "  [16.19924092 17.1103313 ]\n",
      "  [21.78234529 20.65245676]\n",
      "  [21.56081748 22.78246331]]]\n"
     ]
    }
   ],
   "source": [
    "print(results_train_time)"
   ]
  },
  {
   "cell_type": "code",
   "execution_count": 5,
   "id": "24f40dcf",
   "metadata": {},
   "outputs": [
    {
     "name": "stdout",
     "output_type": "stream",
     "text": [
      "[[[0.16814683 0.16369049]\n",
      "  [0.11979411 0.10174153]\n",
      "  [0.18069816 0.21069823]\n",
      "  [0.22746782 0.21241149]\n",
      "  [0.23691684 0.23021294]\n",
      "  [0.09463487 0.08257919]]\n",
      "\n",
      " [[0.         0.00059524]\n",
      "  [0.00374357 0.00229148]\n",
      "  [0.00451745 0.00694161]\n",
      "  [0.00507218 0.00416493]\n",
      "  [0.00486815 0.00361591]\n",
      "  [0.0052161  0.00490196]]\n",
      "\n",
      " [[0.00592066 0.00178571]\n",
      "  [0.0051474  0.01099908]\n",
      "  [0.0312115  0.04042466]\n",
      "  [0.03277409 0.05081216]\n",
      "  [0.01703854 0.03334673]\n",
      "  [0.03502236 0.03355958]]]\n"
     ]
    }
   ],
   "source": [
    "print(results_test_loss)"
   ]
  },
  {
   "cell_type": "code",
   "execution_count": 6,
   "id": "2a93c416",
   "metadata": {},
   "outputs": [
    {
     "name": "stdout",
     "output_type": "stream",
     "text": [
      "[[0.16591866 0.11076782 0.19569819 0.21993966]\n",
      " [0.00029762 0.00301752 0.00572953 0.00461856]\n",
      " [0.00385319 0.00807324 0.03581808 0.04179313]]\n"
     ]
    }
   ],
   "source": [
    "results_test_loss_mean = np.mean(results_test_loss[:,0:4,:], axis=2)\n",
    "print(results_test_loss_mean)"
   ]
  },
  {
   "cell_type": "code",
   "execution_count": 7,
   "id": "00be30e3",
   "metadata": {},
   "outputs": [
    {
     "data": {
      "image/png": "[encoded data removed]",
      "text/plain": [
       "<Figure size 640x480 with 1 Axes>"
      ]
     },
     "metadata": {},
     "output_type": "display_data"
    }
   ],
   "source": [
    "import matplotlib.pyplot as plt\n",
    "\n",
    "for idx, model_type in enumerate(models):\n",
    "    plt.plot(item_values[:4], results_test_loss_mean[idx,:], label=model_type)\n",
    "\n",
    "plt.title(\"Best Regret Achieved\")\n",
    "plt.legend()\n",
    "# plt.savefig('Knapsack_experiment_varying_num_items_regret.pdf')\n",
    "plt.show()\n",
    "\n",
    "    "
   ]
  },
  {
   "cell_type": "code",
   "execution_count": 8,
   "id": "333c9f74",
   "metadata": {},
   "outputs": [
    {
     "name": "stdout",
     "output_type": "stream",
     "text": [
      "[[20.34981334  9.53909039 12.86180949 10.54226434]\n",
      " [ 1.24625731  2.27206612  3.2274518   4.0943588 ]\n",
      " [ 2.7074585  11.32044208 14.69684362 16.65478611]]\n"
     ]
    }
   ],
   "source": [
    "results_time_till_val_loss_mean = np.mean(results_time_till_val_loss[:,0:4,:], axis=2)\n",
    "print(results_time_till_val_loss_mean)"
   ]
  },
  {
   "cell_type": "code",
   "execution_count": 9,
   "id": "145d2f03",
   "metadata": {},
   "outputs": [
    {
     "name": "stdout",
     "output_type": "stream",
     "text": [
      "0 DYS\n",
      "1 SPO+\n",
      "2 BBOpt\n"
     ]
    },
    {
     "data": {
      "image/png": "[encoded data removed]",
      "text/plain": [
       "<Figure size 640x480 with 1 Axes>"
      ]
     },
     "metadata": {},
     "output_type": "display_data"
    }
   ],
   "source": [
    "for idx, model_type in enumerate(models):\n",
    "    print(idx, model_type)\n",
    "    plt.plot(item_values[:4], results_time_till_val_loss_mean[idx,:], label=model_type)\n",
    "\n",
    "plt.title(\"Train Time\")\n",
    "plt.legend()\n",
    "# plt.savefig('Knapsack_experiment_varying_num_items_train_time.pdf')\n",
    "plt.show()"
   ]
  },
  {
   "cell_type": "code",
   "execution_count": 10,
   "id": "c8bed3a7",
   "metadata": {},
   "outputs": [
    {
     "name": "stdout",
     "output_type": "stream",
     "text": [
      "0 DYS\n"
     ]
    },
    {
     "ename": "NameError",
     "evalue": "name 'results_time_till_best_loss' is not defined",
     "output_type": "error",
     "traceback": [
      "\u001b[0;31m---------------------------------------------------------------------------\u001b[0m",
      "\u001b[0;31mNameError\u001b[0m                                 Traceback (most recent call last)",
      "Cell \u001b[0;32mIn[10], line 3\u001b[0m\n\u001b[1;32m      1\u001b[0m \u001b[38;5;28;01mfor\u001b[39;00m idx, model_type \u001b[38;5;129;01min\u001b[39;00m \u001b[38;5;28menumerate\u001b[39m(models):\n\u001b[1;32m      2\u001b[0m     \u001b[38;5;28mprint\u001b[39m(idx, model_type)\n\u001b[0;32m----> 3\u001b[0m     plt\u001b[38;5;241m.\u001b[39mplot(item_values, \u001b[43mresults_time_till_best_loss\u001b[49m[idx,:], label\u001b[38;5;241m=\u001b[39mmodel_type)\n\u001b[1;32m      5\u001b[0m plt\u001b[38;5;241m.\u001b[39mtitle(\u001b[38;5;124m\"\u001b[39m\u001b[38;5;124mTrain Time till Best Model\u001b[39m\u001b[38;5;124m\"\u001b[39m)\n\u001b[1;32m      6\u001b[0m plt\u001b[38;5;241m.\u001b[39mlegend()\n",
      "\u001b[0;31mNameError\u001b[0m: name 'results_time_till_best_loss' is not defined"
     ]
    }
   ],
   "source": [
    "for idx, model_type in enumerate(models):\n",
    "    print(idx, model_type)\n",
    "    plt.plot(item_values, results_time_till_best_loss[idx,:], label=model_type)\n",
    "\n",
    "plt.title(\"Train Time till Best Model\")\n",
    "plt.legend()\n",
    "# plt.savefig('Knapsack_experiment_varying_num_items_train_time.pdf')\n",
    "plt.show()"
   ]
  },
  {
   "cell_type": "code",
   "execution_count": null,
   "id": "5f136463",
   "metadata": {},
   "outputs": [],
   "source": [
    "print(results_time_till_best_loss)"
   ]
  },
  {
   "cell_type": "code",
   "execution_count": null,
   "id": "e883fa84",
   "metadata": {},
   "outputs": [],
   "source": []
  }
 ],
 "metadata": {
  "kernelspec": {
   "display_name": "Python 3 (ipykernel)",
   "language": "python",
   "name": "python3"
  },
  "language_info": {
   "codemirror_mode": {
    "name": "ipython",
    "version": 3
   },
   "file_extension": ".py",
   "mimetype": "text/x-python",
   "name": "python",
   "nbconvert_exporter": "python",
   "pygments_lexer": "ipython3",
   "version": "3.10.10"
  }
 },
 "nbformat": 4,
 "nbformat_minor": 5
}

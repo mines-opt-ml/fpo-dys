{
 "cells": [
  {
   "cell_type": "code",
   "execution_count": 1,
   "id": "bd1badee",
   "metadata": {},
   "outputs": [
    {
     "name": "stdout",
     "output_type": "stream",
     "text": [
      "Auto-Sklearn cannot be imported.\n"
     ]
    },
    {
     "data": {
      "text/plain": [
       "<torch._C.Generator at 0x117a3c4f0>"
      ]
     },
     "execution_count": 1,
     "metadata": {},
     "output_type": "execute_result"
    }
   ],
   "source": [
    "import gurobipy as gp\n",
    "from gurobipy import GRB\n",
    "import numpy as np\n",
    "import pyepo\n",
    "from pyepo.model.grb import optGrbModel\n",
    "import torch\n",
    "from torch import nn\n",
    "from torch.utils.data import DataLoader\n",
    "import time as time\n",
    "import torch.optim as optim\n",
    "import torch.nn as nn\n",
    "from torch.optim.lr_scheduler import ReduceLROnPlateau, StepLR\n",
    "from ModelsKnapSack import KnapSackNet, ValPredictNet\n",
    "from generate_knapsack_data import Gen_Knapsack_data\n",
    "from knapsack_utils import RegretLoss\n",
    "from Trainer import trainer\n",
    "import matplotlib.pyplot as plt\n",
    "\n",
    "# Set the random seed\n",
    "seed = 42\n",
    "torch.manual_seed(seed)"
   ]
  },
  {
   "cell_type": "code",
   "execution_count": 2,
   "id": "e8b2b6e5",
   "metadata": {},
   "outputs": [
    {
     "name": "stdout",
     "output_type": "stream",
     "text": [
      "Generating training data for knapsack problem with 2 knapsacks and 10 items\n",
      "Restricted license - for non-production use only - expires 2024-10-28\n",
      "Optimizing for optDataset...\n"
     ]
    },
    {
     "name": "stderr",
     "output_type": "stream",
     "text": [
      "100%|█████████████████████████████████████████| 900/900 [00:00<00:00, 1389.03it/s]\n"
     ]
    },
    {
     "name": "stdout",
     "output_type": "stream",
     "text": [
      "Optimizing for optDataset...\n"
     ]
    },
    {
     "name": "stderr",
     "output_type": "stream",
     "text": [
      "100%|█████████████████████████████████████████| 100/100 [00:00<00:00, 1448.35it/s]"
     ]
    },
    {
     "name": "stdout",
     "output_type": "stream",
     "text": [
      "Finished building dataset\n"
     ]
    },
    {
     "name": "stderr",
     "output_type": "stream",
     "text": [
      "\n"
     ]
    }
   ],
   "source": [
    "# Data parameters\n",
    "num_knapsack = 2\n",
    "num_item = 10\n",
    "num_feat = 10\n",
    "num_data = 1000\n",
    "# Load Data\n",
    "state = Gen_Knapsack_data(num_data, num_feat, num_item, num_knapsack)"
   ]
  },
  {
   "cell_type": "code",
   "execution_count": 3,
   "id": "dc29dca0",
   "metadata": {},
   "outputs": [],
   "source": [
    "weights_numpy = state[\"weights_numpy\"]\n",
    "capacities = state[\"capacities\"]\n",
    "dataset_train = state[\"dataset_train\"]\n",
    "dataset_test = state[\"dataset_test\"]\n",
    "contexts_numpy = state[\"contexts_numpy\"]"
   ]
  },
  {
   "cell_type": "code",
   "execution_count": 4,
   "id": "81ff9290",
   "metadata": {},
   "outputs": [
    {
     "name": "stderr",
     "output_type": "stream",
     "text": [
      "/Users/danielmckenzie/My-Drive/Research/Fixed_Point_Networks/Diff-Opt-Over-Polytopes-Project/SPO_with_DYS/Knapsack_Testing/dYS_opt_net.py:29: UserWarning: The operator 'aten::linalg_svd' is not currently supported on the MPS backend and will fall back to run on the CPU. This may have performance implications. (Triggered internally at /Users/runner/work/pytorch/pytorch/pytorch/aten/src/ATen/mps/MPSFallback.mm:11.)\n",
      "  U, s, VT = torch.linalg.svd(self.A, full_matrices=False)\n"
     ]
    },
    {
     "data": {
      "text/plain": [
       "KnapSackNet(\n",
       "  (fc_1): Linear(in_features=10, out_features=100, bias=True)\n",
       "  (fc_2): Linear(in_features=100, out_features=100, bias=True)\n",
       "  (fc_3): Linear(in_features=100, out_features=10, bias=True)\n",
       "  (leaky_relu): LeakyReLU(negative_slope=0.1)\n",
       "  (dropout): Dropout(p=0.3, inplace=False)\n",
       ")"
      ]
     },
     "execution_count": 4,
     "metadata": {},
     "output_type": "execute_result"
    }
   ],
   "source": [
    "# Initialize DYS_net\n",
    "device = 'mps'\n",
    "weights = torch.Tensor(weights_numpy).to(device)\n",
    "capacities_DYS = capacities.to(device)\n",
    "DYS_net = KnapSackNet(weights, capacities_DYS, num_knapsack, num_item, num_feat, device=device)\n",
    "DYS_net.to(device)"
   ]
  },
  {
   "cell_type": "code",
   "execution_count": 5,
   "id": "5bb22a24",
   "metadata": {},
   "outputs": [
    {
     "name": "stdout",
     "output_type": "stream",
     "text": [
      "Initial test loss is  0.414912611246109\n",
      "epoch:  1 test loss is  0.3289332687854767 epoch time:  0.2962968349456787\n",
      "epoch:  2 test loss is  0.18943989276885986 epoch time:  0.07810306549072266\n",
      "epoch:  3 test loss is  0.10809846967458725 epoch time:  0.7843279838562012\n",
      "epoch:  4 test loss is  0.10631466656923294 epoch time:  1.4594612121582031\n",
      "epoch:  5 test loss is  0.10417409241199493 epoch time:  1.565906047821045\n",
      "epoch:  6 test loss is  0.10346057265996933 epoch time:  1.6131610870361328\n",
      "epoch:  7 test loss is  0.10631466656923294 epoch time:  1.7325780391693115\n",
      "epoch:  8 test loss is  0.10631466656923294 epoch time:  1.6839659214019775\n",
      "epoch:  9 test loss is  0.10631466656923294 epoch time:  1.5737311840057373\n",
      "epoch:  10 test loss is  0.10631466656923294 epoch time:  1.5611817836761475\n",
      "epoch:  11 test loss is  0.10631466656923294 epoch time:  1.6091060638427734\n",
      "epoch:  12 test loss is  0.10631466656923294 epoch time:  1.5274598598480225\n",
      "epoch:  13 test loss is  0.10631466656923294 epoch time:  2.1083261966705322\n",
      "epoch:  14 test loss is  0.10631466656923294 epoch time:  2.407837390899658\n",
      "epoch:  15 test loss is  0.10631466656923294 epoch time:  2.409097909927368\n",
      "epoch:  16 test loss is  0.10631466656923294 epoch time:  2.4133880138397217\n",
      "epoch:  17 test loss is  0.10631466656923294 epoch time:  2.3974831104278564\n",
      "epoch:  18 test loss is  0.10631466656923294 epoch time:  2.38713002204895\n",
      "epoch:  19 test loss is  0.10631466656923294 epoch time:  2.3828399181365967\n",
      "epoch:  20 test loss is  0.10631466656923294 epoch time:  2.437747001647949\n"
     ]
    }
   ],
   "source": [
    "# Train\n",
    "max_epochs = 20\n",
    "learning_rate = 1e-3\n",
    "test_loss_hist_DYS, epoch_time_hist_DYS, best_test_loss_DYS = trainer(DYS_net, dataset_train, dataset_test, num_item,\n",
    "                         num_knapsack, max_epochs, learning_rate, model_type = \"DYS\",\n",
    "                         device=device)"
   ]
  },
  {
   "cell_type": "markdown",
   "id": "9d40b6d0",
   "metadata": {},
   "source": [
    "# Preparing the benchmark approaches"
   ]
  },
  {
   "cell_type": "code",
   "execution_count": 6,
   "id": "a2a26c11",
   "metadata": {},
   "outputs": [
    {
     "data": {
      "text/plain": [
       "ValPredictNet(\n",
       "  (fc_1): Linear(in_features=10, out_features=100, bias=True)\n",
       "  (fc_2): Linear(in_features=100, out_features=100, bias=True)\n",
       "  (fc_3): Linear(in_features=100, out_features=10, bias=True)\n",
       "  (leaky_relu): LeakyReLU(negative_slope=0.1)\n",
       "  (dropout): Dropout(p=0.3, inplace=False)\n",
       ")"
      ]
     },
     "execution_count": 6,
     "metadata": {},
     "output_type": "execute_result"
    }
   ],
   "source": [
    "torch.manual_seed(seed)\n",
    "val_net = ValPredictNet(num_knapsack, num_item, num_feat, weights,\n",
    "                        capacities, device=device)\n",
    "val_net.to(device)"
   ]
  },
  {
   "cell_type": "code",
   "execution_count": 7,
   "id": "3aca9550",
   "metadata": {},
   "outputs": [
    {
     "name": "stdout",
     "output_type": "stream",
     "text": [
      "Initial test loss is  0.414912611246109\n",
      "epoch:  1 test loss is  0.32215481996536255 epoch time:  0.035308122634887695\n",
      "epoch:  2 test loss is  0.2525865137577057 epoch time:  0.026706933975219727\n",
      "epoch:  3 test loss is  0.16268284618854523 epoch time:  0.02544713020324707\n",
      "epoch:  4 test loss is  0.12308240681886673 epoch time:  0.02524280548095703\n",
      "epoch:  5 test loss is  0.12379593402147293 epoch time:  0.02591109275817871\n",
      "epoch:  6 test loss is  0.12807705998420715 epoch time:  0.024871110916137695\n",
      "epoch:  7 test loss is  0.12843382358551025 epoch time:  0.025705814361572266\n",
      "epoch:  8 test loss is  0.12914733588695526 epoch time:  0.027877092361450195\n",
      "epoch:  9 test loss is  0.13164466619491577 epoch time:  0.026617050170898438\n",
      "epoch:  10 test loss is  0.13307170569896698 epoch time:  0.02590799331665039\n",
      "epoch:  11 test loss is  0.13378523290157318 epoch time:  0.026027917861938477\n",
      "epoch:  12 test loss is  0.13093113899230957 epoch time:  0.026792049407958984\n",
      "epoch:  13 test loss is  0.12308240681886673 epoch time:  0.026676177978515625\n",
      "epoch:  14 test loss is  0.12058508396148682 epoch time:  0.025092124938964844\n",
      "epoch:  15 test loss is  0.11416339129209518 epoch time:  0.025135278701782227\n",
      "epoch:  16 test loss is  0.11523368209600449 epoch time:  0.024580955505371094\n",
      "epoch:  17 test loss is  0.11023902893066406 epoch time:  0.027029991149902344\n",
      "epoch:  18 test loss is  0.10952550917863846 epoch time:  0.027354001998901367\n",
      "epoch:  19 test loss is  0.10274705290794373 epoch time:  0.026242733001708984\n",
      "epoch:  20 test loss is  0.10310381650924683 epoch time:  0.02598404884338379\n"
     ]
    }
   ],
   "source": [
    "test_loss_hist_2stage, epoch_time_hist_2stage, best_test_loss_2stage = trainer(val_net, dataset_train, dataset_test, num_item,\n",
    "                         num_knapsack, max_epochs, learning_rate, \n",
    "                         model_type = \"Two-stage\", device=device)"
   ]
  },
  {
   "cell_type": "markdown",
   "id": "cc7efc7f",
   "metadata": {},
   "source": [
    "## Implementing the SPO+ Approach"
   ]
  },
  {
   "cell_type": "code",
   "execution_count": 8,
   "id": "7ab3eb54",
   "metadata": {},
   "outputs": [
    {
     "data": {
      "text/plain": [
       "ValPredictNet(\n",
       "  (fc_1): Linear(in_features=10, out_features=100, bias=True)\n",
       "  (fc_2): Linear(in_features=100, out_features=100, bias=True)\n",
       "  (fc_3): Linear(in_features=100, out_features=10, bias=True)\n",
       "  (leaky_relu): LeakyReLU(negative_slope=0.1)\n",
       "  (dropout): Dropout(p=0.3, inplace=False)\n",
       ")"
      ]
     },
     "execution_count": 8,
     "metadata": {},
     "output_type": "execute_result"
    }
   ],
   "source": [
    "torch.manual_seed(seed)\n",
    "val_net2 = ValPredictNet(num_knapsack, num_item, num_feat, weights,\n",
    "                        capacities, device=device)\n",
    "val_net2.to(device)"
   ]
  },
  {
   "cell_type": "code",
   "execution_count": 9,
   "id": "d9dd13be",
   "metadata": {},
   "outputs": [
    {
     "name": "stdout",
     "output_type": "stream",
     "text": [
      "Num of cores: 1\n",
      "Initial test loss is  0.414912611246109\n",
      "epoch:  1 test loss is  0.2761327028274536 epoch time:  0.1737961769104004\n",
      "epoch:  2 test loss is  0.1352122724056244 epoch time:  0.1432809829711914\n",
      "epoch:  3 test loss is  0.12022832781076431 epoch time:  0.14559602737426758\n",
      "epoch:  4 test loss is  0.12094184756278992 epoch time:  0.14959311485290527\n",
      "epoch:  5 test loss is  0.11630396544933319 epoch time:  0.150374174118042\n",
      "epoch:  6 test loss is  0.11987156420946121 epoch time:  0.161329984664917\n",
      "epoch:  7 test loss is  0.11951480805873871 epoch time:  0.1762230396270752\n",
      "epoch:  8 test loss is  0.11452015489339828 epoch time:  0.20382404327392578\n",
      "epoch:  9 test loss is  0.11987156420946121 epoch time:  0.23953509330749512\n",
      "epoch:  10 test loss is  0.12129860371351242 epoch time:  0.26375484466552734\n",
      "epoch:  11 test loss is  0.12022832781076431 epoch time:  0.27785396575927734\n",
      "epoch:  12 test loss is  0.11844452470541 epoch time:  0.27623677253723145\n",
      "epoch:  13 test loss is  0.10738494992256165 epoch time:  0.26415586471557617\n",
      "epoch:  14 test loss is  0.10702818632125854 epoch time:  0.23981404304504395\n",
      "epoch:  15 test loss is  0.10560114681720734 epoch time:  0.22027921676635742\n",
      "epoch:  16 test loss is  0.10239029675722122 epoch time:  0.22055506706237793\n",
      "epoch:  17 test loss is  0.10595790296792984 epoch time:  0.2067248821258545\n",
      "epoch:  18 test loss is  0.10631466656923294 epoch time:  0.20540904998779297\n",
      "epoch:  19 test loss is  0.10524437576532364 epoch time:  0.2056272029876709\n",
      "epoch:  20 test loss is  0.0988226905465126 epoch time:  0.2139899730682373\n"
     ]
    }
   ],
   "source": [
    "torch.manual_seed(seed)\n",
    "test_loss_hist_SPO, epoch_time_hist_SPO, best_test_loss_SPO = trainer(val_net2, dataset_train, dataset_test, num_item,\n",
    "                         num_knapsack, max_epochs, learning_rate, \n",
    "                         model_type = \"SPO+\", device=device)"
   ]
  },
  {
   "cell_type": "markdown",
   "id": "f2f1aa83",
   "metadata": {},
   "source": [
    "## Differentiable Blackbox Optimization Approach\n"
   ]
  },
  {
   "cell_type": "code",
   "execution_count": 10,
   "id": "39ae0b88",
   "metadata": {},
   "outputs": [
    {
     "data": {
      "text/plain": [
       "ValPredictNet(\n",
       "  (fc_1): Linear(in_features=10, out_features=100, bias=True)\n",
       "  (fc_2): Linear(in_features=100, out_features=100, bias=True)\n",
       "  (fc_3): Linear(in_features=100, out_features=10, bias=True)\n",
       "  (leaky_relu): LeakyReLU(negative_slope=0.1)\n",
       "  (dropout): Dropout(p=0.3, inplace=False)\n",
       ")"
      ]
     },
     "execution_count": 10,
     "metadata": {},
     "output_type": "execute_result"
    }
   ],
   "source": [
    "torch.manual_seed(seed)\n",
    "val_net3 = ValPredictNet(num_knapsack, num_item, num_feat, weights,\n",
    "                        capacities, device=device)\n",
    "val_net3.to(device)"
   ]
  },
  {
   "cell_type": "code",
   "execution_count": 11,
   "id": "e2fe97dc",
   "metadata": {},
   "outputs": [
    {
     "name": "stdout",
     "output_type": "stream",
     "text": [
      "Num of cores: 1\n",
      "Initial test loss is  0.414912611246109\n",
      "epoch:  1 test loss is  0.34284693002700806 epoch time:  0.32112908363342285\n",
      "epoch:  2 test loss is  0.34391722083091736 epoch time:  0.4335768222808838\n",
      "epoch:  3 test loss is  0.34427398443222046 epoch time:  0.5389697551727295\n",
      "epoch:  4 test loss is  0.336425244808197 epoch time:  0.6286818981170654\n",
      "epoch:  5 test loss is  0.2978951036930084 epoch time:  0.7827939987182617\n",
      "epoch:  6 test loss is  0.20299679040908813 epoch time:  0.9380099773406982\n",
      "epoch:  7 test loss is  0.1348555088043213 epoch time:  1.0525281429290771\n",
      "epoch:  8 test loss is  0.12807705998420715 epoch time:  1.0910899639129639\n",
      "epoch:  9 test loss is  0.11915804445743561 epoch time:  1.0683009624481201\n",
      "epoch:  10 test loss is  0.11880128085613251 epoch time:  1.033696174621582\n",
      "epoch:  11 test loss is  0.12165536731481552 epoch time:  1.0279967784881592\n",
      "epoch:  12 test loss is  0.12308240681886673 epoch time:  1.0239121913909912\n",
      "epoch:  13 test loss is  0.12201212346553802 epoch time:  0.9945719242095947\n",
      "epoch:  14 test loss is  0.12415269762277603 epoch time:  0.9780170917510986\n",
      "epoch:  15 test loss is  0.12343917042016983 epoch time:  0.9901430606842041\n",
      "epoch:  16 test loss is  0.12343917042016983 epoch time:  0.971632719039917\n",
      "epoch:  17 test loss is  0.12415269762277603 epoch time:  0.9507880210876465\n",
      "epoch:  18 test loss is  0.12450945377349854 epoch time:  1.030440092086792\n",
      "epoch:  19 test loss is  0.12165536731481552 epoch time:  0.9466912746429443\n",
      "epoch:  20 test loss is  0.12022832781076431 epoch time:  0.938223123550415\n"
     ]
    }
   ],
   "source": [
    "test_loss_hist_BBOpt, epoch_time_hist_BBOpt, best_test_loss_SPO = trainer(val_net3, dataset_train, dataset_test, num_item,\n",
    "                         num_knapsack, max_epochs, learning_rate, \n",
    "                         model_type = \"BBOpt\", device=device)"
   ]
  },
  {
   "cell_type": "markdown",
   "id": "6c729eb4",
   "metadata": {},
   "source": [
    "## Perterbed Optimizer Approach"
   ]
  },
  {
   "cell_type": "code",
   "execution_count": 12,
   "id": "91937f2e",
   "metadata": {},
   "outputs": [
    {
     "data": {
      "text/plain": [
       "ValPredictNet(\n",
       "  (fc_1): Linear(in_features=10, out_features=100, bias=True)\n",
       "  (fc_2): Linear(in_features=100, out_features=100, bias=True)\n",
       "  (fc_3): Linear(in_features=100, out_features=10, bias=True)\n",
       "  (leaky_relu): LeakyReLU(negative_slope=0.1)\n",
       "  (dropout): Dropout(p=0.3, inplace=False)\n",
       ")"
      ]
     },
     "execution_count": 12,
     "metadata": {},
     "output_type": "execute_result"
    }
   ],
   "source": [
    "torch.manual_seed(seed)\n",
    "val_net4 = ValPredictNet(num_knapsack, num_item, num_feat, weights,\n",
    "                        capacities, device=device)\n",
    "val_net4.to(device)"
   ]
  },
  {
   "cell_type": "code",
   "execution_count": 13,
   "id": "b201a33e",
   "metadata": {},
   "outputs": [
    {
     "name": "stdout",
     "output_type": "stream",
     "text": [
      "Num of cores: 1\n",
      "Initial test loss is  0.414912611246109\n",
      "epoch:  1 test loss is  0.34249016642570496 epoch time:  2.717254877090454\n",
      "epoch:  2 test loss is  0.2504459619522095 epoch time:  3.1271181106567383\n",
      "epoch:  3 test loss is  0.1569746732711792 epoch time:  3.639073133468628\n",
      "epoch:  4 test loss is  0.12129860371351242 epoch time:  3.8379077911376953\n",
      "epoch:  5 test loss is  0.12486621737480164 epoch time:  4.085493087768555\n",
      "epoch:  6 test loss is  0.12308240681886673 epoch time:  4.1669111251831055\n",
      "epoch:  7 test loss is  0.12415269762277603 epoch time:  4.037712097167969\n",
      "epoch:  8 test loss is  0.12308240681886673 epoch time:  3.8751988410949707\n",
      "epoch:  9 test loss is  0.12129860371351242 epoch time:  3.7044107913970947\n",
      "epoch:  10 test loss is  0.12165536731481552 epoch time:  3.5275819301605225\n",
      "epoch:  11 test loss is  0.1180877611041069 epoch time:  3.31960129737854\n",
      "epoch:  12 test loss is  0.11987156420946121 epoch time:  3.2318248748779297\n",
      "epoch:  13 test loss is  0.12236888706684113 epoch time:  3.1752681732177734\n",
      "epoch:  14 test loss is  0.12201212346553802 epoch time:  3.1326701641082764\n",
      "epoch:  15 test loss is  0.11880128085613251 epoch time:  2.918037176132202\n",
      "epoch:  16 test loss is  0.12094184756278992 epoch time:  2.982830047607422\n",
      "epoch:  17 test loss is  0.11951480805873871 epoch time:  2.9086129665374756\n",
      "epoch:  18 test loss is  0.11630396544933319 epoch time:  2.8993289470672607\n",
      "epoch:  19 test loss is  0.11951480805873871 epoch time:  2.962040901184082\n",
      "epoch:  20 test loss is  0.11844452470541 epoch time:  2.7939209938049316\n"
     ]
    }
   ],
   "source": [
    "test_loss_hist_PertOpt, epoch_time_hist_PertOpt, best_test_loss_PertOpt = trainer(val_net4, dataset_train, dataset_test, num_item,\n",
    "                         num_knapsack, max_epochs, learning_rate, \n",
    "                         model_type = \"PertOpt\", device=device)"
   ]
  },
  {
   "cell_type": "markdown",
   "id": "9aaadbc9",
   "metadata": {},
   "source": [
    "## Fenchel-Young Approach"
   ]
  },
  {
   "cell_type": "code",
   "execution_count": 14,
   "id": "f2c1c1cf",
   "metadata": {},
   "outputs": [
    {
     "data": {
      "text/plain": [
       "ValPredictNet(\n",
       "  (fc_1): Linear(in_features=10, out_features=100, bias=True)\n",
       "  (fc_2): Linear(in_features=100, out_features=100, bias=True)\n",
       "  (fc_3): Linear(in_features=100, out_features=10, bias=True)\n",
       "  (leaky_relu): LeakyReLU(negative_slope=0.1)\n",
       "  (dropout): Dropout(p=0.3, inplace=False)\n",
       ")"
      ]
     },
     "execution_count": 14,
     "metadata": {},
     "output_type": "execute_result"
    }
   ],
   "source": [
    "torch.manual_seed(seed)\n",
    "val_net5 = ValPredictNet(num_knapsack, num_item, num_feat, weights,\n",
    "                        capacities, device=device)\n",
    "val_net5.to(device)"
   ]
  },
  {
   "cell_type": "code",
   "execution_count": 15,
   "id": "f9b10fc0",
   "metadata": {},
   "outputs": [
    {
     "name": "stdout",
     "output_type": "stream",
     "text": [
      "Num of cores: 1\n",
      "Initial test loss is  0.414912611246109\n",
      "epoch:  1 test loss is  0.32001423835754395 epoch time:  2.9049642086029053\n",
      "epoch:  2 test loss is  0.2697110176086426 epoch time:  3.8434040546417236\n",
      "epoch:  3 test loss is  0.16981804370880127 epoch time:  4.602258920669556\n",
      "epoch:  4 test loss is  0.12629325687885284 epoch time:  5.508409023284912\n",
      "epoch:  5 test loss is  0.12165536731481552 epoch time:  6.360371828079224\n",
      "epoch:  6 test loss is  0.12772029638290405 epoch time:  6.803128957748413\n",
      "epoch:  7 test loss is  0.12950409948825836 epoch time:  7.208797216415405\n",
      "epoch:  8 test loss is  0.13021762669086456 epoch time:  7.41086483001709\n",
      "epoch:  9 test loss is  0.13235817849636078 epoch time:  7.574665307998657\n",
      "epoch:  10 test loss is  0.13271494209766388 epoch time:  7.914287090301514\n",
      "epoch:  11 test loss is  0.13200142979621887 epoch time:  8.010560035705566\n",
      "epoch:  12 test loss is  0.13235817849636078 epoch time:  8.035032033920288\n",
      "epoch:  13 test loss is  0.13235817849636078 epoch time:  8.402817726135254\n",
      "epoch:  14 test loss is  0.13235817849636078 epoch time:  8.372476816177368\n",
      "epoch:  15 test loss is  0.13235817849636078 epoch time:  8.551011085510254\n",
      "epoch:  16 test loss is  0.13235817849636078 epoch time:  8.649556875228882\n",
      "epoch:  17 test loss is  0.13235817849636078 epoch time:  8.39708399772644\n",
      "epoch:  18 test loss is  0.13235817849636078 epoch time:  8.608030080795288\n",
      "epoch:  19 test loss is  0.13235817849636078 epoch time:  8.936984777450562\n",
      "epoch:  20 test loss is  0.13235817849636078 epoch time:  9.01656699180603\n"
     ]
    }
   ],
   "source": [
    "test_loss_hist_PertOpt_FY, epoch_time_hist_PertOpt_FY, best_test_loss_FY = trainer(val_net5, dataset_train, dataset_test, num_item,\n",
    "                         num_knapsack, max_epochs, learning_rate, \n",
    "                         model_type = \"PertOpt-FY\", device=device)"
   ]
  },
  {
   "cell_type": "code",
   "execution_count": 16,
   "id": "87fc5f90",
   "metadata": {},
   "outputs": [
    {
     "data": {
      "image/png": "[encoded data removed]",
      "text/plain": [
       "<Figure size 640x480 with 1 Axes>"
      ]
     },
     "metadata": {},
     "output_type": "display_data"
    }
   ],
   "source": [
    "plt.plot(test_loss_hist_DYS, label='DYS')\n",
    "plt.plot(test_loss_hist_2stage, label='Two stage')\n",
    "plt.plot(test_loss_hist_SPO, label='SPO+')\n",
    "plt.plot(test_loss_hist_BBOpt, label=\"BBOpt\")\n",
    "plt.plot(test_loss_hist_PertOpt, label=\"PertOpt\")\n",
    "plt.plot(test_loss_hist_PertOpt_FY, label=\"PertOpt-FY\")\n",
    "plt.legend()\n",
    "plt.title(\"Regret vs epochs\")\n",
    "plt.savefig('Knapsack_regret.png')\n",
    "plt.show()"
   ]
  },
  {
   "cell_type": "code",
   "execution_count": 17,
   "id": "3cc2a8f3",
   "metadata": {},
   "outputs": [
    {
     "name": "stdout",
     "output_type": "stream",
     "text": [
      "0.001\n"
     ]
    }
   ],
   "source": [
    "print(learning_rate)"
   ]
  },
  {
   "cell_type": "code",
   "execution_count": 18,
   "id": "ec20d599",
   "metadata": {},
   "outputs": [
    {
     "data": {
      "image/png": "[encoded data removed]",
      "text/plain": [
       "<Figure size 640x480 with 1 Axes>"
      ]
     },
     "metadata": {},
     "output_type": "display_data"
    }
   ],
   "source": [
    "plt.plot(np.cumsum(epoch_time_hist_DYS), label='DYS')\n",
    "plt.plot(np.cumsum(epoch_time_hist_2stage), label='Two stage')\n",
    "plt.plot(np.cumsum(epoch_time_hist_SPO), label='SPO+')\n",
    "plt.plot(np.cumsum(epoch_time_hist_BBOpt), label='BBOpt')\n",
    "plt.plot(np.cumsum(epoch_time_hist_PertOpt), label='PertOpt')\n",
    "plt.plot(np.cumsum(epoch_time_hist_PertOpt_FY), label='PertOpt-FY')\n",
    "plt.legend()\n",
    "plt.title(\"Cumulative Training Time vs Epochs\")\n",
    "plt.savefig('Knapsack_train_time.png')\n",
    "plt.show()"
   ]
  },
  {
   "cell_type": "code",
   "execution_count": null,
   "id": "75e9f6ac",
   "metadata": {},
   "outputs": [],
   "source": []
  }
 ],
 "metadata": {
  "kernelspec": {
   "display_name": "Python 3 (ipykernel)",
   "language": "python",
   "name": "python3"
  },
  "language_info": {
   "codemirror_mode": {
    "name": "ipython",
    "version": 3
   },
   "file_extension": ".py",
   "mimetype": "text/x-python",
   "name": "python",
   "nbconvert_exporter": "python",
   "pygments_lexer": "ipython3",
   "version": "3.10.10"
  }
 },
 "nbformat": 4,
 "nbformat_minor": 5
}

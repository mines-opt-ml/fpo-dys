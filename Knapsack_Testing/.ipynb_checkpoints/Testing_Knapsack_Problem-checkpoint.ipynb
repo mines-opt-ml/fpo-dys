{
 "cells": [
  {
   "cell_type": "code",
   "execution_count": 1,
   "metadata": {},
   "outputs": [
    {
     "name": "stdout",
     "output_type": "stream",
     "text": [
      "Auto-Sklearn cannot be imported.\n"
     ]
    },
    {
     "data": {
      "text/plain": [
       "<torch._C.Generator at 0x105d40550>"
      ]
     },
     "execution_count": 1,
     "metadata": {},
     "output_type": "execute_result"
    }
   ],
   "source": [
    "import gurobipy as gp\n",
    "from gurobipy import GRB\n",
    "import numpy as np\n",
    "import pyepo\n",
    "from pyepo.model.grb import optGrbModel\n",
    "import torch\n",
    "from torch import nn\n",
    "from torch.utils.data import DataLoader\n",
    "import time as time\n",
    "import torch.optim as optim\n",
    "import torch.nn as nn\n",
    "from torch.optim.lr_scheduler import ReduceLROnPlateau, StepLR\n",
    "from ModelsKnapSack import KnapSackNet, ValPredictNet \n",
    "\n",
    "# Set the random seed\n",
    "seed = 42\n",
    "torch.manual_seed(seed)"
   ]
  },
  {
   "cell_type": "code",
   "execution_count": 2,
   "metadata": {},
   "outputs": [],
   "source": [
    "# generate data\n",
    "num_data = 1000 # number of data\n",
    "num_feat = 5 # size of feature\n",
    "num_item = 10 # number of items\n",
    "num_constraints = 2 # number of knapsacks\n",
    "weights_numpy, contexts_numpy, costs_numpy = pyepo.data.knapsack.genData(num_data, num_feat, num_item,\n",
    "                                                dim=num_constraints, deg=1, noise_width=0.5, seed=135)"
   ]
  },
  {
   "cell_type": "code",
   "execution_count": 3,
   "metadata": {},
   "outputs": [],
   "source": [
    "device = 'mps'\n",
    "weights = torch.Tensor(weights_numpy).to(device)\n",
    "# print(weights)\n",
    "## NB: Weights here refer to the weights of the items in the knapsack problem.\n",
    "# They become part of the constraints."
   ]
  },
  {
   "cell_type": "code",
   "execution_count": 4,
   "metadata": {},
   "outputs": [
    {
     "name": "stderr",
     "output_type": "stream",
     "text": [
      "/Users/danielmckenzie/My-Drive/Research/Fixed_Point_Networks/Diff-Opt-Over-Polytopes-Project/SPO_with_DYS/Knapsack_Testing/dYS_opt_net.py:29: UserWarning: The operator 'aten::linalg_svd' is not currently supported on the MPS backend and will fall back to run on the CPU. This may have performance implications. (Triggered internally at /Users/runner/work/pytorch/pytorch/pytorch/aten/src/ATen/mps/MPSFallback.mm:11.)\n",
      "  U, s, VT = torch.linalg.svd(self.A, full_matrices=False)\n"
     ]
    },
    {
     "data": {
      "text/plain": [
       "KnapSackNet(\n",
       "  (fc_1): Linear(in_features=5, out_features=50, bias=True)\n",
       "  (fc_2): Linear(in_features=50, out_features=50, bias=True)\n",
       "  (fc_3): Linear(in_features=50, out_features=10, bias=True)\n",
       "  (leaky_relu): LeakyReLU(negative_slope=0.1)\n",
       "  (relu): ReLU()\n",
       "  (dropout): Dropout(p=0.3, inplace=False)\n",
       ")"
      ]
     },
     "execution_count": 4,
     "metadata": {},
     "output_type": "execute_result"
    }
   ],
   "source": [
    "capacities_numpy = 20*torch.ones(2)\n",
    "capacities = capacities_numpy.to(device)\n",
    "capacities_DYS = 18*torch.ones(2, device=device)\n",
    "DYS_net = KnapSackNet(weights, capacities_DYS, num_constraints, num_item, num_feat, device=device)\n",
    "DYS_net.to(device)"
   ]
  },
  {
   "cell_type": "code",
   "execution_count": 5,
   "metadata": {},
   "outputs": [],
   "source": [
    "# ans = DYS_net(contexts)"
   ]
  },
  {
   "cell_type": "code",
   "execution_count": 6,
   "metadata": {},
   "outputs": [],
   "source": [
    "# print(ans)"
   ]
  },
  {
   "cell_type": "markdown",
   "metadata": {},
   "source": [
    "## 2. Setting up the Training\n"
   ]
  },
  {
   "cell_type": "code",
   "execution_count": 7,
   "metadata": {},
   "outputs": [],
   "source": [
    "# split train test data\n",
    "from sklearn.model_selection import train_test_split\n",
    "d_train, d_test, w_train, w_test = train_test_split(contexts_numpy, costs_numpy, test_size=100, random_state=42)"
   ]
  },
  {
   "cell_type": "code",
   "execution_count": 8,
   "metadata": {},
   "outputs": [
    {
     "name": "stdout",
     "output_type": "stream",
     "text": [
      "Restricted license - for non-production use only - expires 2024-10-28\n"
     ]
    }
   ],
   "source": [
    "caps = capacities.cpu() #[20] * 2 # capacity\n",
    "optmodel = pyepo.model.grb.knapsackModel(weights_numpy, caps)"
   ]
  },
  {
   "cell_type": "code",
   "execution_count": 9,
   "metadata": {},
   "outputs": [
    {
     "name": "stdout",
     "output_type": "stream",
     "text": [
      "Optimizing for optDataset...\n"
     ]
    },
    {
     "name": "stderr",
     "output_type": "stream",
     "text": [
      "100%|█████████████████████████████████████| 900/900 [00:00<00:00, 1427.54it/s]\n"
     ]
    },
    {
     "name": "stdout",
     "output_type": "stream",
     "text": [
      "Optimizing for optDataset...\n"
     ]
    },
    {
     "name": "stderr",
     "output_type": "stream",
     "text": [
      "100%|██████████████████████████████████████| 100/100 [00:00<00:00, 981.08it/s]\n"
     ]
    }
   ],
   "source": [
    "# get optDataset\n",
    "dataset_train = pyepo.data.dataset.optDataset(optmodel, d_train, w_train)\n",
    "dataset_test = pyepo.data.dataset.optDataset(optmodel, d_test, w_test)"
   ]
  },
  {
   "cell_type": "code",
   "execution_count": 10,
   "metadata": {},
   "outputs": [],
   "source": [
    "# set data loader\n",
    "from torch.utils.data import DataLoader\n",
    "batch_size = 256\n",
    "loader_train = DataLoader(dataset_train, batch_size=batch_size, shuffle=True)\n",
    "loader_test = DataLoader(dataset_test, batch_size=batch_size, shuffle=False)"
   ]
  },
  {
   "cell_type": "markdown",
   "metadata": {},
   "source": [
    "### Training Set-up\n",
    "Hyperparameters, initialize optimizer, initialize arrays etc"
   ]
  },
  {
   "cell_type": "code",
   "execution_count": 11,
   "metadata": {},
   "outputs": [],
   "source": [
    "test_loss_hist = []\n",
    "fmt = '[{:4d}/{:4d}]: train loss = {:7.3e} | test_loss = {:7.3e} ]'\n",
    "train_start_time = time.time()\n",
    "epoch = 0\n",
    "max_epochs = 10\n",
    "train_loss_ave = 0"
   ]
  },
  {
   "cell_type": "code",
   "execution_count": 12,
   "metadata": {},
   "outputs": [],
   "source": [
    "#### Testing Regret loss function\n",
    "# Make eval mode that rounds before computing cost.\n",
    "class RegretLoss(nn.Module):\n",
    "    def __init__(self, num_item, num_constraints, device):\n",
    "        super(RegretLoss, self).__init__()\n",
    "        self.device = device\n",
    "        self.num_items = num_item  # number of items, i.e. non-dummy variables\n",
    "        self.num_constraints = num_constraints # number of constraints, i.e. dummy variables\n",
    "    \n",
    "    def forward(self, w_true, x_pred, x_opt, opt_value, eval_mode=False):\n",
    "        '''\n",
    "          d is (batch of) contexts, w_true is (batch of) true \n",
    "          cost vectors.\n",
    "        '''\n",
    "        if eval_mode:\n",
    "            regret = opt_value - (w_true*torch.round(x_pred[:,:-(self.num_constraints + self.num_items)])).sum(dim=-1)\n",
    "            regret = torch.mean(regret)/torch.mean(opt_value) #normalized regret\n",
    "        else:\n",
    "            regret = opt_value - (w_true*x_pred[:,:-(self.num_constraints + self.num_items)]).sum(dim=-1)\n",
    "            regret = torch.mean(regret)\n",
    "        return regret\n",
    "    \n",
    "    # cost = torch.matmul(w_true.view(-1, self.num_items), x_pred[:,:-self.num_constraints]) # leave out dummy variables"
   ]
  },
  {
   "cell_type": "code",
   "execution_count": 92,
   "metadata": {},
   "outputs": [],
   "source": [
    "optimizer = optim.Adam(DYS_net.parameters(), lr=1e-3, weight_decay = 5e-4)\n",
    "criterion = RegretLoss(num_item, num_constraints, device=device)\n",
    "scheduler = ReduceLROnPlateau(optimizer, 'min')"
   ]
  },
  {
   "cell_type": "code",
   "execution_count": 93,
   "metadata": {},
   "outputs": [
    {
     "name": "stdout",
     "output_type": "stream",
     "text": [
      "epoch:  0 test loss is  0.03321428596973419\n",
      "epoch:  1 test loss is  0.046071428805589676\n",
      "epoch:  2 test loss is  0.03428571671247482\n",
      "epoch:  3 test loss is  0.030714284628629684\n",
      "epoch:  4 test loss is  0.0446428582072258\n",
      "epoch:  5 test loss is  0.05535714328289032\n",
      "epoch:  6 test loss is  0.04357143118977547\n",
      "epoch:  7 test loss is  0.055714286863803864\n",
      "epoch:  8 test loss is  0.082857146859169\n",
      "epoch:  9 test loss is  0.05285714566707611\n",
      "epoch:  10 test loss is  0.08500000089406967\n"
     ]
    }
   ],
   "source": [
    "epoch = 0\n",
    "while epoch <= max_epochs:\n",
    "    for d_batch, w_batch, opt_sol, opt_value in loader_train:\n",
    "        d_batch = d_batch.to(device)\n",
    "        w_batch = w_batch.to(device)\n",
    "        opt_sol = opt_sol.to(device)\n",
    "        opt_value = opt_value.to(device)\n",
    "        DYS_net.train()\n",
    "        optimizer.zero_grad()\n",
    "        predicted = DYS_net(d_batch)\n",
    "        loss = criterion(w_batch, predicted, opt_sol, opt_value)\n",
    "        loss.backward()\n",
    "        optimizer.step()\n",
    "        train_loss_ave = 0.95*train_loss_ave + 0.05*loss.item()\n",
    "        \n",
    "    DYS_net.eval()\n",
    "    test_loss = 0\n",
    "    for d_batch, w_batch, opt_sol, opt_value in loader_test:\n",
    "        d_batch = d_batch.to(device)\n",
    "        w_batch = w_batch.to(device)\n",
    "        opt_sol = opt_sol.to(device)\n",
    "        opt_value = opt_value.to(device)\n",
    "        predicted = DYS_net(d_batch)\n",
    "        test_loss += criterion(w_batch, predicted, opt_sol, opt_value, eval_mode=True).item()\n",
    "    \n",
    "    # print(predicted)\n",
    "    scheduler.step(test_loss)\n",
    "    test_loss_hist.append(test_loss)\n",
    "    print('epoch: ', epoch, 'test loss is ', test_loss)\n",
    "    epoch += 1"
   ]
  },
  {
   "cell_type": "code",
   "execution_count": 94,
   "metadata": {},
   "outputs": [
    {
     "name": "stdout",
     "output_type": "stream",
     "text": [
      "tensor([22., 25., 39., 20., 40., 25., 30., 26., 33., 27., 23., 29., 22., 27.,\n",
      "        28., 25., 29., 29., 25., 16., 26., 19., 29., 31., 30., 22., 29., 28.,\n",
      "        28., 35., 31., 25., 25., 15., 22., 29., 27., 21., 24., 26., 22., 37.,\n",
      "        24., 20., 23., 26., 32., 29., 32., 28., 26., 20., 16., 29., 22., 29.,\n",
      "        18., 26., 20., 22., 31., 25., 18., 32., 22., 25., 25., 20., 24., 23.,\n",
      "        21., 25., 33., 21., 26., 29., 25., 20., 29., 22., 22., 30., 15., 30.,\n",
      "        22., 24., 28., 21., 18., 21., 27., 21., 17., 25., 28., 29., 36., 26.,\n",
      "        30., 33.], device='mps:0')\n"
     ]
    }
   ],
   "source": [
    "print((w_batch*torch.round(predicted[:,:-(num_item + num_constraints)])).sum(dim=-1))"
   ]
  },
  {
   "cell_type": "code",
   "execution_count": 95,
   "metadata": {},
   "outputs": [
    {
     "name": "stdout",
     "output_type": "stream",
     "text": [
      "tensor([[31.],\n",
      "        [30.],\n",
      "        [39.],\n",
      "        [26.],\n",
      "        [37.],\n",
      "        [27.],\n",
      "        [32.],\n",
      "        [29.],\n",
      "        [30.],\n",
      "        [27.],\n",
      "        [30.],\n",
      "        [29.],\n",
      "        [26.],\n",
      "        [27.],\n",
      "        [30.],\n",
      "        [29.],\n",
      "        [24.],\n",
      "        [29.],\n",
      "        [29.],\n",
      "        [23.],\n",
      "        [33.],\n",
      "        [22.],\n",
      "        [29.],\n",
      "        [31.],\n",
      "        [28.],\n",
      "        [26.],\n",
      "        [26.],\n",
      "        [29.],\n",
      "        [28.],\n",
      "        [31.],\n",
      "        [36.],\n",
      "        [28.],\n",
      "        [26.],\n",
      "        [19.],\n",
      "        [22.],\n",
      "        [28.],\n",
      "        [29.],\n",
      "        [29.],\n",
      "        [26.],\n",
      "        [26.],\n",
      "        [30.],\n",
      "        [37.],\n",
      "        [36.],\n",
      "        [21.],\n",
      "        [23.],\n",
      "        [30.],\n",
      "        [27.],\n",
      "        [38.],\n",
      "        [32.],\n",
      "        [31.],\n",
      "        [26.],\n",
      "        [26.],\n",
      "        [24.],\n",
      "        [29.],\n",
      "        [25.],\n",
      "        [27.],\n",
      "        [20.],\n",
      "        [26.],\n",
      "        [26.],\n",
      "        [25.],\n",
      "        [37.],\n",
      "        [26.],\n",
      "        [23.],\n",
      "        [32.],\n",
      "        [29.],\n",
      "        [23.],\n",
      "        [29.],\n",
      "        [26.],\n",
      "        [24.],\n",
      "        [26.],\n",
      "        [27.],\n",
      "        [26.],\n",
      "        [27.],\n",
      "        [27.],\n",
      "        [31.],\n",
      "        [33.],\n",
      "        [33.],\n",
      "        [21.],\n",
      "        [31.],\n",
      "        [22.],\n",
      "        [25.],\n",
      "        [34.],\n",
      "        [18.],\n",
      "        [30.],\n",
      "        [24.],\n",
      "        [26.],\n",
      "        [30.],\n",
      "        [25.],\n",
      "        [20.],\n",
      "        [32.],\n",
      "        [31.],\n",
      "        [25.],\n",
      "        [25.],\n",
      "        [28.],\n",
      "        [30.],\n",
      "        [27.],\n",
      "        [30.],\n",
      "        [30.],\n",
      "        [31.],\n",
      "        [31.]], device='mps:0')\n"
     ]
    }
   ],
   "source": [
    "print(opt_value)"
   ]
  },
  {
   "cell_type": "code",
   "execution_count": 96,
   "metadata": {},
   "outputs": [
    {
     "name": "stdout",
     "output_type": "stream",
     "text": [
      "tensor([[17.6200, 17.6200, 17.6200, 17.6200, 25.2100, 17.6200, 17.6200, 17.6200,\n",
      "         20.3700, 17.6200, 17.6200, 17.6200, 17.6200, 17.6200, 17.6200, 17.6200,\n",
      "         25.2100, 17.6200, 20.3700, 17.6200, 17.6200, 17.6200, 17.6200, 17.6200,\n",
      "         25.2100, 20.3700, 25.2100, 25.2100, 17.6200, 25.2100, 17.6200, 17.6200,\n",
      "         17.6200, 17.6200, 17.6200, 25.2100, 17.6200, 17.6200, 17.6200, 17.6200,\n",
      "         17.6200, 17.6200, 17.6200, 25.2100, 17.6200, 20.3700, 25.2100, 17.6200,\n",
      "         17.6200, 20.3700, 17.6200, 17.6200, 17.6200, 17.6200, 17.6200, 25.2100,\n",
      "         17.6200, 17.6200, 17.6200, 25.2100, 17.6200, 20.3700, 17.6200, 17.6200,\n",
      "         17.6200, 25.2100, 17.6200, 17.6200, 17.6200, 17.6200, 17.6200, 17.6200,\n",
      "         25.2100, 17.6200, 17.6200, 17.6200, 20.3700, 17.6200, 17.6200, 17.6200,\n",
      "         17.6200, 17.6200, 17.6200, 17.6200, 25.2100, 20.3700, 25.2100, 17.6200,\n",
      "         17.6200, 17.6200, 17.6200, 17.6200, 17.6200, 17.6200, 17.6200, 25.2100,\n",
      "         23.9900, 17.6200, 20.3700, 25.2100],\n",
      "        [19.6900, 19.6900, 19.6900, 19.6900, 22.9200, 19.6900, 19.6900, 19.6900,\n",
      "         16.8100, 19.6900, 19.6900, 19.6900, 19.6900, 19.6900, 19.6900, 19.6900,\n",
      "         22.9200, 19.6900, 16.8100, 19.6900, 19.6900, 19.6900, 19.6900, 19.6900,\n",
      "         22.9200, 16.8100, 22.9200, 22.9200, 19.6900, 22.9200, 19.6900, 19.6900,\n",
      "         19.6900, 19.6900, 19.6900, 22.9200, 19.6900, 19.6900, 19.6900, 19.6900,\n",
      "         19.6900, 19.6900, 19.6900, 22.9200, 19.6900, 16.8100, 22.9200, 19.6900,\n",
      "         19.6900, 16.8100, 19.6900, 19.6900, 19.6900, 19.6900, 19.6900, 22.9200,\n",
      "         19.6900, 19.6900, 19.6900, 22.9200, 19.6900, 16.8100, 19.6900, 19.6900,\n",
      "         19.6900, 22.9200, 19.6900, 19.6900, 19.6900, 19.6900, 19.6900, 19.6900,\n",
      "         22.9200, 19.6900, 19.6900, 19.6900, 16.8100, 19.6900, 19.6900, 19.6900,\n",
      "         19.6900, 19.6900, 19.6900, 19.6900, 22.9200, 16.8100, 22.9200, 19.6900,\n",
      "         19.6900, 19.6900, 19.6900, 19.6900, 19.6900, 19.6900, 19.6900, 22.9200,\n",
      "         23.4700, 19.6900, 16.8100, 22.9200]], device='mps:0')\n"
     ]
    }
   ],
   "source": [
    "print(torch.matmul(weights, torch.t(torch.round(predicted[:,:-(num_item + num_constraints)]))))"
   ]
  },
  {
   "cell_type": "code",
   "execution_count": 97,
   "metadata": {},
   "outputs": [
    {
     "name": "stdout",
     "output_type": "stream",
     "text": [
      "tensor([[ 7.,  5.,  7.,  9.,  7.,  5.,  3.,  7.,  4.,  8.],\n",
      "        [ 4.,  4.,  7.,  5.,  9., 10.,  5.,  6., 10.,  7.],\n",
      "        [ 9.,  8.,  5., 10.,  9.,  9., 12.,  9., 10., 10.],\n",
      "        [ 6.,  9.,  5.,  7.,  7.,  4.,  6.,  4.,  5.,  8.],\n",
      "        [11.,  8.,  3., 10.,  5.,  6.,  4.,  9.,  4.,  7.],\n",
      "        [ 5.,  9.,  5.,  6.,  4.,  5.,  6.,  9.,  3.,  5.],\n",
      "        [ 9.,  8.,  3.,  4.,  5.,  4.,  8.,  9.,  8.,  6.],\n",
      "        [ 8.,  7.,  6.,  6.,  5.,  6.,  7.,  5.,  8.,  8.],\n",
      "        [ 6.,  8.,  6.,  9.,  4.,  9.,  4.,  9.,  8.,  6.],\n",
      "        [ 6.,  4.,  9.,  6.,  4.,  9.,  6.,  6.,  6.,  6.],\n",
      "        [ 7., 10.,  3.,  5.,  8.,  7.,  4.,  5.,  6.,  6.],\n",
      "        [ 6.,  5.,  7.,  5.,  5.,  8.,  7.,  8.,  5.,  5.],\n",
      "        [ 6.,  9.,  7.,  5.,  5.,  6.,  4.,  6.,  5.,  5.],\n",
      "        [ 7.,  6.,  5.,  4.,  5.,  6.,  6.,  8.,  8.,  4.],\n",
      "        [ 7.,  7., 10., 10.,  7.,  6., 10.,  5.,  8.,  7.],\n",
      "        [ 5.,  6.,  8.,  7.,  7.,  6.,  5.,  9.,  7.,  8.],\n",
      "        [ 5.,  5.,  8.,  6.,  5.,  9.,  4.,  5.,  7.,  4.],\n",
      "        [ 8.,  4.,  4.,  4.,  5.,  8.,  9.,  4.,  5.,  7.],\n",
      "        [ 6.,  5.,  6.,  4.,  8.,  7.,  5.,  8.,  6.,  7.],\n",
      "        [ 4.,  8.,  5.,  5.,  7.,  3.,  5.,  4.,  6.,  4.],\n",
      "        [ 5.,  4.,  9.,  7.,  9.,  6.,  5., 10.,  7.,  7.],\n",
      "        [ 4.,  7.,  4.,  4.,  6.,  4.,  6.,  5.,  6.,  5.],\n",
      "        [ 4.,  8.,  7.,  6.,  4., 10.,  5., 10.,  7.,  4.],\n",
      "        [ 7.,  7.,  7.,  8.,  7.,  9.,  7.,  8.,  5.,  7.],\n",
      "        [ 6.,  7.,  5.,  4.,  5.,  7.,  5.,  8.,  8.,  6.],\n",
      "        [ 3.,  6.,  9.,  4.,  7.,  9.,  3.,  6.,  5.,  7.],\n",
      "        [ 3.,  5., 10.,  5.,  5.,  9.,  7.,  5.,  7.,  5.],\n",
      "        [ 6.,  7.,  7.,  4.,  8.,  6.,  5.,  7.,  6.,  8.],\n",
      "        [ 5.,  4.,  5.,  8.,  4.,  7.,  9.,  7.,  7.,  8.],\n",
      "        [ 6.,  5.,  7.,  5.,  8.,  7., 10.,  7.,  8.,  8.],\n",
      "        [ 8.,  6.,  7., 10.,  5.,  8.,  7.,  8., 10., 10.],\n",
      "        [ 8.,  6.,  6.,  6.,  6.,  7.,  4.,  6.,  5.,  7.],\n",
      "        [ 6.,  7.,  5.,  3.,  6.,  5., 10.,  4.,  4.,  5.],\n",
      "        [ 5.,  7.,  4.,  5.,  4.,  4.,  3.,  3.,  4.,  3.],\n",
      "        [ 6.,  4.,  7.,  6.,  4.,  7.,  5.,  4.,  7.,  5.],\n",
      "        [ 8.,  4.,  9.,  5.,  6.,  3.,  9.,  4.,  8.,  8.],\n",
      "        [ 8.,  8.,  6.,  5.,  6.,  8.,  4.,  7.,  3.,  5.],\n",
      "        [ 8.,  5.,  6.,  4.,  8.,  3.,  5.,  5.,  8.,  8.],\n",
      "        [ 5.,  4.,  7.,  6.,  7.,  7.,  5.,  7.,  6.,  6.],\n",
      "        [ 7.,  7.,  6.,  5.,  4.,  7.,  5.,  7.,  5.,  5.],\n",
      "        [ 5.,  9.,  7.,  5.,  3.,  5.,  4.,  8.,  8.,  9.],\n",
      "        [ 9.,  6., 10.,  7.,  4.,  8.,  9., 11.,  8.,  6.],\n",
      "        [ 5.,  6.,  7.,  9.,  5.,  5.,  5.,  9.,  8., 13.],\n",
      "        [ 4.,  7.,  8.,  3.,  4.,  4.,  5.,  4.,  6.,  3.],\n",
      "        [ 5.,  4.,  4.,  4.,  4.,  5.,  7.,  6.,  3.,  4.],\n",
      "        [ 6.,  8.,  7.,  9.,  5.,  4.,  8.,  7.,  8.,  8.],\n",
      "        [ 5.,  4.,  4.,  5.,  4.,  8.,  7.,  7.,  8.,  7.],\n",
      "        [10., 10.,  4.,  8.,  6.,  5.,  5.,  9., 11.,  8.],\n",
      "        [ 5.,  4., 10.,  6.,  9.,  9., 10.,  8., 10.,  7.],\n",
      "        [ 9.,  6.,  9.,  8.,  6.,  6.,  9.,  5.,  8.,  9.],\n",
      "        [ 7.,  5.,  6.,  4.,  6.,  8.,  7.,  4.,  5.,  4.],\n",
      "        [ 6.,  9.,  7.,  5.,  7.,  6.,  4.,  4.,  6.,  3.],\n",
      "        [ 3.,  6.,  7.,  3., 10.,  6.,  3.,  4.,  6.,  4.],\n",
      "        [ 7., 10.,  8.,  4.,  5.,  8.,  7.,  7.,  7.,  4.],\n",
      "        [ 4.,  5.,  3.,  3.,  7.,  8.,  4.,  6.,  3.,  6.],\n",
      "        [ 5.,  7.,  7.,  5.,  4.,  7.,  4.,  8.,  8.,  6.],\n",
      "        [ 4.,  6.,  6.,  4.,  5.,  6.,  3.,  5.,  5.,  3.],\n",
      "        [ 6.,  6.,  5.,  5.,  3.,  7.,  7.,  6.,  5.,  5.],\n",
      "        [ 5.,  4.,  6., 12.,  4.,  4.,  8.,  3.,  5.,  4.],\n",
      "        [ 4.,  8.,  8.,  4.,  8.,  7.,  4.,  3.,  7.,  6.],\n",
      "        [11., 10.,  4.,  8.,  7.,  7.,  4.,  9., 10.,  3.],\n",
      "        [ 5.,  4.,  5.,  6.,  7.,  9.,  4.,  5.,  7.,  3.],\n",
      "        [ 3.,  8.,  4.,  4.,  7.,  4.,  6.,  5.,  8.,  7.],\n",
      "        [ 8.,  6.,  8.,  7.,  4.,  7., 11.,  6.,  4.,  7.],\n",
      "        [ 6.,  8., 11.,  8.,  6.,  5.,  5.,  6.,  5.,  9.],\n",
      "        [ 4.,  6.,  5.,  4.,  8.,  6.,  6.,  5.,  6.,  4.],\n",
      "        [ 5.,  5., 10.,  5.,  4.,  6.,  5.,  9.,  8.,  7.],\n",
      "        [ 5.,  4.,  8.,  7.,  4.,  5.,  4.,  6.,  3.,  8.],\n",
      "        [ 6.,  6.,  4.,  4.,  4.,  9.,  5.,  4.,  6.,  4.],\n",
      "        [ 6.,  3.,  3.,  8.,  7.,  5.,  5.,  7.,  5.,  5.],\n",
      "        [ 5.,  2.,  9.,  4.,  9.,  8.,  4.,  4.,  5.,  5.],\n",
      "        [ 4.,  6.,  6.,  4.,  7.,  8.,  6.,  7.,  4.,  6.],\n",
      "        [ 7.,  8.,  9.,  6.,  4.,  6.,  8.,  6.,  6.,  6.],\n",
      "        [ 6.,  8.,  9.,  3.,  8.,  6.,  5.,  4.,  8.,  7.],\n",
      "        [ 9.,  5.,  3.,  7.,  4.,  6.,  5.,  6.,  7.,  9.],\n",
      "        [ 9.,  5.,  8., 11.,  7.,  7.,  9.,  4.,  8.,  9.],\n",
      "        [ 4.,  5., 10.,  5., 10.,  7.,  8.,  9.,  9., 10.],\n",
      "        [ 7.,  6.,  3.,  4.,  4.,  5.,  4.,  4.,  7.,  2.],\n",
      "        [ 8.,  7.,  4.,  6.,  8.,  8.,  8.,  5.,  5.,  7.],\n",
      "        [ 4.,  6.,  4.,  8.,  6.,  6.,  6.,  6.,  6.,  4.],\n",
      "        [ 6.,  5.,  5.,  6.,  6.,  3.,  7.,  6.,  3.,  7.],\n",
      "        [ 9., 10.,  4.,  7.,  3.,  4.,  8.,  9.,  4.,  9.],\n",
      "        [ 3.,  5.,  3.,  3.,  6.,  5.,  3.,  4.,  6.,  3.],\n",
      "        [ 7.,  5.,  6.,  5.,  3.,  7.,  8.,  8.,  5.,  6.],\n",
      "        [ 5.,  5.,  7.,  3.,  5.,  4.,  4.,  6.,  5.,  8.],\n",
      "        [ 5.,  6.,  9.,  8.,  5.,  5.,  9.,  6.,  3.,  5.],\n",
      "        [ 7.,  4.,  4.,  4.,  5.,  6.,  4.,  7.,  8.,  8.],\n",
      "        [ 5.,  7.,  7.,  4.,  7.,  8.,  4.,  4.,  4.,  5.],\n",
      "        [ 4.,  5.,  5.,  6.,  3.,  4.,  4.,  6.,  6.,  4.],\n",
      "        [ 6.,  4.,  6.,  7.,  9.,  7.,  4.,  4.,  3., 10.],\n",
      "        [ 7.,  7.,  4., 10.,  6.,  5.,  8.,  7.,  5.,  7.],\n",
      "        [ 8.,  7.,  6.,  4.,  6.,  3.,  6.,  4.,  6.,  4.],\n",
      "        [ 5.,  5.,  7.,  7.,  8.,  4.,  4.,  4.,  5.,  8.],\n",
      "        [ 8.,  6.,  6.,  4.,  7.,  8.,  4.,  5.,  6.,  4.],\n",
      "        [ 6.,  6.,  9.,  8.,  5.,  7.,  5., 10.,  8.,  5.],\n",
      "        [ 8.,  8.,  6.,  5.,  4.,  8.,  4.,  4.,  4.,  7.],\n",
      "        [ 6.,  9.,  7.,  6.,  4.,  9.,  5., 10.,  7.,  5.],\n",
      "        [ 7.,  7.,  4.,  7.,  4.,  6.,  7.,  6.,  6., 10.],\n",
      "        [ 7.,  4.,  6.,  9.,  8.,  8.,  7.,  6.,  8.,  8.],\n",
      "        [ 8.,  9.,  7., 10.,  7.,  4.,  5.,  6.,  7.,  7.]], device='mps:0')\n"
     ]
    }
   ],
   "source": [
    "print(w_batch)"
   ]
  },
  {
   "cell_type": "code",
   "execution_count": 19,
   "metadata": {},
   "outputs": [
    {
     "name": "stdout",
     "output_type": "stream",
     "text": [
      "tensor([[4.5900, 4.8700, 5.1900, 7.5900, 6.8000, 4.9700, 4.8400, 3.2200, 7.9000,\n",
      "         3.6200],\n",
      "        [3.1200, 6.8100, 7.0900, 3.2300, 4.4700, 5.2300, 6.1100, 5.2300, 4.2700,\n",
      "         6.6600]], device='mps:0')\n"
     ]
    }
   ],
   "source": [
    "print(weights) # S matrix"
   ]
  },
  {
   "cell_type": "code",
   "execution_count": 20,
   "metadata": {},
   "outputs": [
    {
     "name": "stdout",
     "output_type": "stream",
     "text": [
      "tensor([[1., 0., 0., 1., 0., 1., 0., 1., 0., 0.],\n",
      "        [1., 0., 0., 0., 0., 1., 1., 1., 0., 0.],\n",
      "        [1., 0., 0., 0., 0., 1., 1., 1., 0., 0.],\n",
      "        [1., 1., 0., 1., 0., 1., 1., 1., 0., 0.],\n",
      "        [1., 0., 0., 1., 0., 1., 0., 1., 0., 1.],\n",
      "        [1., 0., 0., 0., 0., 1., 0., 1., 0., 0.],\n",
      "        [1., 0., 0., 1., 0., 1., 1., 1., 0., 0.],\n",
      "        [1., 0., 0., 1., 0., 1., 0., 1., 0., 0.],\n",
      "        [1., 0., 0., 1., 0., 1., 1., 1., 0., 0.],\n",
      "        [1., 0., 0., 1., 0., 1., 0., 1., 0., 0.],\n",
      "        [1., 0., 0., 1., 0., 1., 1., 1., 0., 0.],\n",
      "        [1., 0., 0., 0., 0., 1., 1., 1., 0., 0.],\n",
      "        [1., 0., 0., 0., 0., 1., 0., 1., 0., 0.],\n",
      "        [1., 0., 0., 0., 0., 1., 0., 1., 0., 0.],\n",
      "        [1., 0., 0., 1., 0., 1., 1., 1., 0., 0.],\n",
      "        [1., 0., 0., 0., 0., 1., 1., 1., 0., 0.],\n",
      "        [1., 0., 0., 1., 0., 1., 1., 1., 0., 0.],\n",
      "        [1., 0., 0., 0., 0., 1., 1., 1., 0., 0.],\n",
      "        [1., 0., 0., 0., 0., 1., 1., 1., 0., 0.],\n",
      "        [1., 0., 0., 0., 0., 1., 1., 1., 0., 0.],\n",
      "        [1., 0., 0., 0., 0., 1., 1., 1., 0., 0.],\n",
      "        [1., 0., 0., 0., 0., 1., 1., 1., 0., 0.],\n",
      "        [1., 0., 0., 0., 0., 1., 1., 1., 0., 0.],\n",
      "        [1., 0., 0., 0., 0., 1., 1., 1., 0., 0.],\n",
      "        [1., 0., 0., 0., 0., 1., 1., 1., 0., 0.],\n",
      "        [1., 0., 0., 1., 0., 1., 0., 1., 0., 0.],\n",
      "        [1., 0., 0., 1., 0., 1., 1., 1., 0., 0.],\n",
      "        [1., 0., 0., 0., 0., 1., 0., 1., 0., 0.],\n",
      "        [1., 0., 0., 1., 0., 1., 1., 1., 0., 0.],\n",
      "        [1., 0., 0., 0., 0., 1., 1., 1., 0., 0.],\n",
      "        [1., 0., 0., 0., 0., 1., 1., 1., 0., 0.],\n",
      "        [1., 0., 0., 0., 0., 1., 1., 1., 0., 0.],\n",
      "        [1., 0., 0., 0., 0., 1., 1., 1., 0., 0.],\n",
      "        [1., 0., 0., 0., 0., 1., 1., 1., 0., 0.],\n",
      "        [1., 0., 0., 1., 0., 1., 1., 1., 0., 0.],\n",
      "        [1., 0., 0., 1., 0., 1., 1., 1., 0., 0.],\n",
      "        [1., 0., 0., 0., 0., 1., 1., 1., 0., 0.],\n",
      "        [1., 0., 0., 0., 0., 1., 1., 1., 0., 0.],\n",
      "        [1., 0., 0., 1., 0., 1., 0., 1., 0., 0.],\n",
      "        [1., 0., 0., 1., 0., 1., 1., 1., 0., 0.],\n",
      "        [1., 0., 0., 0., 0., 1., 0., 1., 0., 0.],\n",
      "        [1., 0., 0., 1., 0., 1., 0., 1., 0., 0.],\n",
      "        [1., 0., 0., 0., 0., 1., 1., 1., 0., 0.],\n",
      "        [1., 0., 0., 1., 0., 1., 1., 1., 0., 0.],\n",
      "        [1., 0., 0., 1., 0., 1., 1., 1., 0., 0.],\n",
      "        [1., 0., 0., 1., 0., 1., 1., 1., 0., 0.],\n",
      "        [1., 0., 0., 1., 0., 1., 1., 1., 0., 0.],\n",
      "        [1., 0., 0., 1., 0., 1., 1., 1., 0., 0.],\n",
      "        [1., 0., 0., 0., 0., 1., 1., 1., 0., 0.],\n",
      "        [1., 0., 0., 1., 0., 1., 1., 1., 0., 0.],\n",
      "        [1., 0., 0., 1., 0., 1., 0., 1., 0., 1.],\n",
      "        [1., 0., 0., 0., 0., 1., 0., 1., 0., 0.],\n",
      "        [1., 0., 0., 0., 0., 1., 1., 1., 0., 0.],\n",
      "        [1., 0., 0., 0., 0., 1., 1., 1., 0., 0.],\n",
      "        [1., 0., 0., 1., 0., 1., 1., 1., 0., 0.],\n",
      "        [1., 0., 0., 1., 0., 1., 0., 1., 0., 0.],\n",
      "        [1., 0., 0., 1., 0., 1., 0., 1., 0., 0.],\n",
      "        [1., 0., 0., 1., 0., 1., 0., 1., 0., 0.],\n",
      "        [1., 0., 0., 1., 0., 1., 0., 1., 0., 0.],\n",
      "        [1., 0., 0., 1., 0., 1., 0., 1., 0., 1.],\n",
      "        [1., 0., 0., 1., 0., 0., 1., 1., 0., 0.],\n",
      "        [1., 0., 0., 1., 0., 1., 1., 1., 0., 0.],\n",
      "        [1., 1., 0., 1., 0., 1., 0., 1., 0., 0.],\n",
      "        [1., 0., 0., 1., 0., 1., 1., 1., 0., 1.],\n",
      "        [1., 0., 0., 1., 0., 1., 0., 1., 0., 0.],\n",
      "        [1., 0., 0., 1., 0., 1., 0., 1., 0., 0.],\n",
      "        [1., 0., 0., 1., 0., 1., 1., 1., 0., 0.],\n",
      "        [1., 0., 0., 0., 0., 1., 1., 1., 0., 0.],\n",
      "        [1., 0., 0., 0., 0., 1., 1., 1., 0., 0.],\n",
      "        [1., 0., 0., 0., 0., 1., 0., 1., 0., 0.],\n",
      "        [1., 0., 0., 1., 0., 1., 1., 1., 0., 0.],\n",
      "        [1., 0., 0., 1., 0., 1., 1., 1., 0., 0.],\n",
      "        [1., 0., 0., 0., 0., 1., 1., 1., 0., 0.],\n",
      "        [1., 0., 0., 0., 0., 1., 1., 1., 0., 0.],\n",
      "        [1., 0., 0., 1., 0., 1., 1., 1., 0., 0.],\n",
      "        [1., 0., 0., 1., 0., 1., 1., 1., 0., 0.],\n",
      "        [1., 0., 0., 1., 0., 1., 0., 1., 0., 0.],\n",
      "        [1., 0., 0., 1., 0., 1., 1., 1., 0., 0.],\n",
      "        [1., 0., 0., 0., 0., 1., 1., 1., 0., 0.],\n",
      "        [1., 0., 0., 0., 0., 1., 1., 1., 0., 0.],\n",
      "        [1., 0., 0., 1., 0., 1., 0., 1., 0., 0.],\n",
      "        [1., 0., 0., 0., 0., 1., 1., 1., 0., 0.],\n",
      "        [1., 0., 0., 0., 0., 1., 1., 1., 0., 0.],\n",
      "        [1., 0., 0., 0., 0., 1., 1., 1., 0., 0.],\n",
      "        [1., 0., 0., 0., 0., 1., 0., 1., 0., 0.],\n",
      "        [1., 0., 0., 1., 0., 1., 0., 1., 0., 0.],\n",
      "        [1., 0., 0., 1., 0., 1., 0., 1., 0., 0.],\n",
      "        [1., 0., 0., 1., 0., 1., 1., 1., 0., 0.],\n",
      "        [1., 0., 0., 0., 0., 1., 0., 1., 0., 0.],\n",
      "        [1., 0., 0., 1., 0., 1., 1., 1., 0., 0.],\n",
      "        [1., 0., 0., 0., 0., 1., 1., 1., 0., 0.],\n",
      "        [1., 0., 0., 0., 0., 1., 1., 1., 0., 0.],\n",
      "        [1., 0., 0., 1., 0., 1., 0., 1., 0., 1.],\n",
      "        [1., 0., 0., 1., 0., 1., 1., 1., 0., 0.],\n",
      "        [1., 0., 0., 0., 0., 1., 0., 1., 0., 0.],\n",
      "        [1., 0., 0., 1., 0., 1., 1., 1., 0., 0.],\n",
      "        [1., 0., 0., 0., 0., 1., 1., 1., 0., 0.],\n",
      "        [1., 0., 0., 1., 0., 1., 1., 1., 0., 0.],\n",
      "        [1., 0., 0., 1., 0., 1., 1., 1., 0., 0.],\n",
      "        [1., 0., 0., 1., 0., 1., 1., 1., 0., 0.]], device='mps:0')\n"
     ]
    }
   ],
   "source": [
    "# print(torch.round(predicted[:,:-12]) - torch.round(predicted[0,:-12]))\n",
    "print(torch.round((predicted[:,:-(num_constraints + num_item)])))"
   ]
  },
  {
   "cell_type": "code",
   "execution_count": 21,
   "metadata": {},
   "outputs": [
    {
     "name": "stdout",
     "output_type": "stream",
     "text": [
      "tensor([[ 0.,  0.,  0.,  0.,  0.,  0.,  0.,  0.,  0.,  0.],\n",
      "        [ 0.,  0.,  0., -1.,  1.,  1.,  0., -1.,  0.,  0.],\n",
      "        [ 0.,  0.,  0., -1.,  0.,  1.,  1.,  0.,  0., -1.],\n",
      "        [ 0.,  1.,  0., -1.,  1.,  0.,  0.,  0.,  0., -1.],\n",
      "        [ 0.,  0.,  0.,  0.,  0.,  0.,  0.,  0.,  0.,  0.],\n",
      "        [ 0.,  1.,  0., -1.,  1.,  0.,  0.,  0.,  0., -1.],\n",
      "        [ 0.,  0.,  0., -1.,  0.,  0.,  0.,  0.,  1.,  0.],\n",
      "        [ 0.,  0.,  0., -1.,  0.,  0.,  0.,  0.,  1.,  0.],\n",
      "        [ 0.,  0.,  0.,  0.,  0.,  0.,  0.,  0.,  0.,  0.],\n",
      "        [ 0.,  0.,  0., -1.,  0.,  1.,  1.,  0.,  0., -1.],\n",
      "        [ 0.,  1.,  0., -1.,  1.,  0.,  0.,  0.,  0., -1.],\n",
      "        [ 0.,  0.,  0., -1.,  0.,  1.,  1.,  0.,  0., -1.],\n",
      "        [ 0.,  1.,  0., -1.,  1.,  0.,  0.,  0.,  0., -1.],\n",
      "        [ 0.,  0.,  0., -1.,  0.,  1.,  1.,  0.,  0., -1.],\n",
      "        [-1.,  0.,  1.,  0.,  0.,  0.,  1., -1.,  0., -1.]], device='mps:0')\n"
     ]
    }
   ],
   "source": [
    "print(opt_sol[:15,:] - opt_sol[0,:])"
   ]
  },
  {
   "cell_type": "code",
   "execution_count": 22,
   "metadata": {},
   "outputs": [],
   "source": [
    "import matplotlib.pyplot as plt"
   ]
  },
  {
   "cell_type": "code",
   "execution_count": 23,
   "metadata": {},
   "outputs": [
    {
     "data": {
      "text/plain": [
       "[<matplotlib.lines.Line2D at 0x2cbe3fc40>]"
      ]
     },
     "execution_count": 23,
     "metadata": {},
     "output_type": "execute_result"
    },
    {
     "data": {
      "image/png": "[encoded data removed]",
      "text/plain": [
       "<Figure size 640x480 with 1 Axes>"
      ]
     },
     "metadata": {},
     "output_type": "display_data"
    }
   ],
   "source": [
    "plt.plot(test_loss_hist)"
   ]
  },
  {
   "cell_type": "code",
   "execution_count": 24,
   "metadata": {},
   "outputs": [
    {
     "name": "stdout",
     "output_type": "stream",
     "text": [
      "tensor([0.0418, 0.1743, 0.7071, 0.7071, 0.7071, 0.7071, 0.7071, 0.7071, 0.7071,\n",
      "        0.7071, 1.0000, 1.0000], device='mps:0')\n"
     ]
    }
   ],
   "source": [
    "print(DYS_net.s_inv)"
   ]
  },
  {
   "cell_type": "code",
   "execution_count": 25,
   "metadata": {},
   "outputs": [
    {
     "name": "stdout",
     "output_type": "stream",
     "text": [
      "22\n"
     ]
    }
   ],
   "source": [
    "print(DYS_net.n2)"
   ]
  },
  {
   "cell_type": "code",
   "execution_count": 26,
   "metadata": {},
   "outputs": [
    {
     "name": "stdout",
     "output_type": "stream",
     "text": [
      "tensor([[4.5900, 4.8700, 5.1900, 7.5900, 6.8000, 4.9700, 4.8400, 3.2200, 7.9000,\n",
      "         3.6200, 1.0000, 0.0000, 0.0000, 0.0000, 0.0000, 0.0000, 0.0000, 0.0000,\n",
      "         0.0000, 0.0000, 0.0000, 0.0000],\n",
      "        [3.1200, 6.8100, 7.0900, 3.2300, 4.4700, 5.2300, 6.1100, 5.2300, 4.2700,\n",
      "         6.6600, 0.0000, 1.0000, 0.0000, 0.0000, 0.0000, 0.0000, 0.0000, 0.0000,\n",
      "         0.0000, 0.0000, 0.0000, 0.0000],\n",
      "        [1.0000, 0.0000, 0.0000, 0.0000, 0.0000, 0.0000, 0.0000, 0.0000, 0.0000,\n",
      "         0.0000, 0.0000, 0.0000, 1.0000, 0.0000, 0.0000, 0.0000, 0.0000, 0.0000,\n",
      "         0.0000, 0.0000, 0.0000, 0.0000],\n",
      "        [0.0000, 1.0000, 0.0000, 0.0000, 0.0000, 0.0000, 0.0000, 0.0000, 0.0000,\n",
      "         0.0000, 0.0000, 0.0000, 0.0000, 1.0000, 0.0000, 0.0000, 0.0000, 0.0000,\n",
      "         0.0000, 0.0000, 0.0000, 0.0000],\n",
      "        [0.0000, 0.0000, 1.0000, 0.0000, 0.0000, 0.0000, 0.0000, 0.0000, 0.0000,\n",
      "         0.0000, 0.0000, 0.0000, 0.0000, 0.0000, 1.0000, 0.0000, 0.0000, 0.0000,\n",
      "         0.0000, 0.0000, 0.0000, 0.0000],\n",
      "        [0.0000, 0.0000, 0.0000, 1.0000, 0.0000, 0.0000, 0.0000, 0.0000, 0.0000,\n",
      "         0.0000, 0.0000, 0.0000, 0.0000, 0.0000, 0.0000, 1.0000, 0.0000, 0.0000,\n",
      "         0.0000, 0.0000, 0.0000, 0.0000],\n",
      "        [0.0000, 0.0000, 0.0000, 0.0000, 1.0000, 0.0000, 0.0000, 0.0000, 0.0000,\n",
      "         0.0000, 0.0000, 0.0000, 0.0000, 0.0000, 0.0000, 0.0000, 1.0000, 0.0000,\n",
      "         0.0000, 0.0000, 0.0000, 0.0000],\n",
      "        [0.0000, 0.0000, 0.0000, 0.0000, 0.0000, 1.0000, 0.0000, 0.0000, 0.0000,\n",
      "         0.0000, 0.0000, 0.0000, 0.0000, 0.0000, 0.0000, 0.0000, 0.0000, 1.0000,\n",
      "         0.0000, 0.0000, 0.0000, 0.0000],\n",
      "        [0.0000, 0.0000, 0.0000, 0.0000, 0.0000, 0.0000, 1.0000, 0.0000, 0.0000,\n",
      "         0.0000, 0.0000, 0.0000, 0.0000, 0.0000, 0.0000, 0.0000, 0.0000, 0.0000,\n",
      "         1.0000, 0.0000, 0.0000, 0.0000],\n",
      "        [0.0000, 0.0000, 0.0000, 0.0000, 0.0000, 0.0000, 0.0000, 1.0000, 0.0000,\n",
      "         0.0000, 0.0000, 0.0000, 0.0000, 0.0000, 0.0000, 0.0000, 0.0000, 0.0000,\n",
      "         0.0000, 1.0000, 0.0000, 0.0000],\n",
      "        [0.0000, 0.0000, 0.0000, 0.0000, 0.0000, 0.0000, 0.0000, 0.0000, 1.0000,\n",
      "         0.0000, 0.0000, 0.0000, 0.0000, 0.0000, 0.0000, 0.0000, 0.0000, 0.0000,\n",
      "         0.0000, 0.0000, 1.0000, 0.0000],\n",
      "        [0.0000, 0.0000, 0.0000, 0.0000, 0.0000, 0.0000, 0.0000, 0.0000, 0.0000,\n",
      "         1.0000, 0.0000, 0.0000, 0.0000, 0.0000, 0.0000, 0.0000, 0.0000, 0.0000,\n",
      "         0.0000, 0.0000, 0.0000, 1.0000]], device='mps:0')\n"
     ]
    }
   ],
   "source": [
    "print(DYS_net.A)"
   ]
  },
  {
   "cell_type": "code",
   "execution_count": 27,
   "metadata": {},
   "outputs": [
    {
     "name": "stdout",
     "output_type": "stream",
     "text": [
      "[[4.59 4.87 5.19 7.59 6.8  4.97 4.84 3.22 7.9  3.62]\n",
      " [3.12 6.81 7.09 3.23 4.47 5.23 6.11 5.23 4.27 6.66]]\n"
     ]
    }
   ],
   "source": [
    "print(weights_numpy)"
   ]
  },
  {
   "cell_type": "code",
   "execution_count": 28,
   "metadata": {},
   "outputs": [
    {
     "name": "stdout",
     "output_type": "stream",
     "text": [
      "[7. 4. 6. 8. 9. 8. 8. 4. 7. 7.]\n"
     ]
    }
   ],
   "source": [
    "print(costs_numpy[0,:])"
   ]
  },
  {
   "cell_type": "code",
   "execution_count": 29,
   "metadata": {},
   "outputs": [
    {
     "name": "stdout",
     "output_type": "stream",
     "text": [
      "tensor([20., 20.,  1.,  1.,  1.,  1.,  1.,  1.,  1.,  1.,  1.,  1.],\n",
      "       device='mps:0')\n"
     ]
    }
   ],
   "source": [
    "print(DYS_net.b)"
   ]
  },
  {
   "cell_type": "code",
   "execution_count": 30,
   "metadata": {},
   "outputs": [
    {
     "data": {
      "text/plain": [
       "tensor(24.5152, device='mps:0')"
      ]
     },
     "execution_count": 30,
     "metadata": {},
     "output_type": "execute_result"
    }
   ],
   "source": [
    "torch.norm(weights)"
   ]
  },
  {
   "cell_type": "markdown",
   "metadata": {},
   "source": [
    "# 3. Preparing the benchmark approaches"
   ]
  },
  {
   "cell_type": "code",
   "execution_count": 77,
   "metadata": {},
   "outputs": [],
   "source": [
    "optmodel = pyepo.model.grb.knapsackModel(weights_numpy, capacities_numpy)\n",
    "val_net = ValPredictNet(num_constraints, num_item, num_feat, device=device)\n",
    "val_net.to(device)\n",
    "max_epochs = 10"
   ]
  },
  {
   "cell_type": "code",
   "execution_count": 78,
   "metadata": {},
   "outputs": [],
   "source": [
    "## Train a two-stage approach\n",
    "optimizer = optim.Adam(val_net.parameters(), lr=1e-2)\n",
    "criterion = nn.MSELoss()\n",
    "scheduler = ReduceLROnPlateau(optimizer, 'min')"
   ]
  },
  {
   "cell_type": "code",
   "execution_count": 79,
   "metadata": {},
   "outputs": [
    {
     "name": "stdout",
     "output_type": "stream",
     "text": [
      "epoch:  0 test loss is  39.046939849853516\n",
      "epoch:  1 test loss is  37.78224182128906\n",
      "epoch:  2 test loss is  35.933258056640625\n",
      "epoch:  3 test loss is  33.123779296875\n",
      "epoch:  4 test loss is  29.031131744384766\n",
      "epoch:  5 test loss is  23.48961067199707\n",
      "epoch:  6 test loss is  16.995243072509766\n",
      "epoch:  7 test loss is  11.083303451538086\n",
      "epoch:  8 test loss is  7.683116912841797\n",
      "epoch:  9 test loss is  6.476044178009033\n",
      "epoch:  10 test loss is  5.358477592468262\n"
     ]
    }
   ],
   "source": [
    "epoch = 0\n",
    "while epoch <= max_epochs:\n",
    "    for d_batch, w_batch, opt_sol, opt_value in loader_train:\n",
    "        d_batch = d_batch.to(device)\n",
    "        w_batch = w_batch.to(device)\n",
    "        opt_sol = opt_sol.to(device)\n",
    "        opt_value = opt_value.to(device)\n",
    "        val_net.train()\n",
    "        optimizer.zero_grad()\n",
    "        w_predicted = val_net(d_batch)\n",
    "        loss = criterion(w_batch, w_predicted)\n",
    "        loss.backward()\n",
    "        optimizer.step()\n",
    "        train_loss_ave = 0.95*train_loss_ave + 0.05*loss.item()\n",
    "        \n",
    "    val_net.eval()\n",
    "    test_loss = 0\n",
    "    for d_batch, w_batch, opt_sol, opt_value in loader_test:\n",
    "        d_batch = d_batch.to(device)\n",
    "        w_batch = w_batch.to(device)\n",
    "        opt_sol = opt_sol.to(device)\n",
    "        opt_value = opt_value.to(device)\n",
    "        w_predicted = val_net(d_batch)\n",
    "        test_loss += criterion(w_batch, w_predicted)\n",
    "    \n",
    "    # print(predicted)\n",
    "    scheduler.step(test_loss)\n",
    "    test_loss_hist.append(test_loss)\n",
    "    print('epoch: ', epoch, 'test loss is ', test_loss.item())\n",
    "    epoch += 1"
   ]
  },
  {
   "cell_type": "code",
   "execution_count": 88,
   "metadata": {},
   "outputs": [
    {
     "name": "stdout",
     "output_type": "stream",
     "text": [
      "Optimal value is  [31.]  while predicted value is  26.0\n",
      "Optimal value is  [30.]  while predicted value is  27.0\n",
      "Optimal value is  [39.]  while predicted value is  38.0\n",
      "Optimal value is  [26.]  while predicted value is  23.0\n",
      "Optimal value is  [37.]  while predicted value is  31.0\n",
      "Optimal value is  [27.]  while predicted value is  22.0\n",
      "Optimal value is  [32.]  while predicted value is  32.0\n",
      "Optimal value is  [29.]  while predicted value is  29.0\n",
      "Optimal value is  [30.]  while predicted value is  29.0\n",
      "Optimal value is  [27.]  while predicted value is  27.0\n",
      "Optimal value is  [30.]  while predicted value is  24.0\n",
      "Optimal value is  [29.]  while predicted value is  24.0\n",
      "Optimal value is  [26.]  while predicted value is  22.0\n",
      "Optimal value is  [27.]  while predicted value is  27.0\n",
      "Optimal value is  [30.]  while predicted value is  27.0\n",
      "Optimal value is  [29.]  while predicted value is  29.0\n",
      "Optimal value is  [24.]  while predicted value is  21.0\n",
      "Optimal value is  [29.]  while predicted value is  29.0\n",
      "Optimal value is  [29.]  while predicted value is  27.0\n",
      "Optimal value is  [23.]  while predicted value is  18.0\n",
      "Optimal value is  [33.]  while predicted value is  29.0\n",
      "Optimal value is  [22.]  while predicted value is  20.0\n",
      "Optimal value is  [29.]  while predicted value is  25.0\n",
      "Optimal value is  [31.]  while predicted value is  27.0\n",
      "Optimal value is  [28.]  while predicted value is  28.0\n",
      "Optimal value is  [26.]  while predicted value is  21.0\n",
      "Optimal value is  [26.]  while predicted value is  20.0\n",
      "Optimal value is  [29.]  while predicted value is  27.0\n",
      "Optimal value is  [28.]  while predicted value is  27.0\n",
      "Optimal value is  [31.]  while predicted value is  29.0\n",
      "Optimal value is  [36.]  while predicted value is  36.0\n",
      "Optimal value is  [28.]  while predicted value is  25.0\n",
      "Optimal value is  [26.]  while predicted value is  25.0\n",
      "Optimal value is  [19.]  while predicted value is  15.0\n",
      "Optimal value is  [22.]  while predicted value is  22.0\n",
      "Optimal value is  [28.]  while predicted value is  28.0\n",
      "Optimal value is  [29.]  while predicted value is  23.0\n",
      "Optimal value is  [29.]  while predicted value is  29.0\n",
      "Optimal value is  [26.]  while predicted value is  24.0\n",
      "Optimal value is  [26.]  while predicted value is  24.0\n",
      "Optimal value is  [30.]  while predicted value is  30.0\n",
      "Optimal value is  [37.]  while predicted value is  34.0\n",
      "Optimal value is  [36.]  while predicted value is  24.0\n",
      "Optimal value is  [21.]  while predicted value is  17.0\n",
      "Optimal value is  [23.]  while predicted value is  23.0\n",
      "Optimal value is  [30.]  while predicted value is  29.0\n",
      "Optimal value is  [27.]  while predicted value is  27.0\n",
      "Optimal value is  [38.]  while predicted value is  38.0\n",
      "Optimal value is  [32.]  while predicted value is  30.0\n",
      "Optimal value is  [31.]  while predicted value is  31.0\n",
      "Optimal value is  [26.]  while predicted value is  20.0\n",
      "Optimal value is  [26.]  while predicted value is  19.0\n",
      "Optimal value is  [24.]  while predicted value is  17.0\n",
      "Optimal value is  [29.]  while predicted value is  25.0\n",
      "Optimal value is  [25.]  while predicted value is  19.0\n",
      "Optimal value is  [27.]  while predicted value is  27.0\n",
      "Optimal value is  [20.]  while predicted value is  17.0\n",
      "Optimal value is  [26.]  while predicted value is  22.0\n",
      "Optimal value is  [26.]  while predicted value is  17.0\n",
      "Optimal value is  [25.]  while predicted value is  20.0\n",
      "Optimal value is  [37.]  while predicted value is  33.0\n",
      "Optimal value is  [26.]  while predicted value is  20.0\n",
      "Optimal value is  [23.]  while predicted value is  23.0\n",
      "Optimal value is  [32.]  while predicted value is  32.0\n",
      "Optimal value is  [29.]  while predicted value is  22.0\n",
      "Optimal value is  [23.]  while predicted value is  19.0\n",
      "Optimal value is  [29.]  while predicted value is  29.0\n",
      "Optimal value is  [26.]  while predicted value is  22.0\n",
      "Optimal value is  [24.]  while predicted value is  20.0\n",
      "Optimal value is  [26.]  while predicted value is  23.0\n",
      "Optimal value is  [27.]  while predicted value is  21.0\n",
      "Optimal value is  [26.]  while predicted value is  21.0\n",
      "Optimal value is  [27.]  while predicted value is  25.0\n",
      "Optimal value is  [27.]  while predicted value is  25.0\n",
      "Optimal value is  [31.]  while predicted value is  26.0\n",
      "Optimal value is  [33.]  while predicted value is  29.0\n",
      "Optimal value is  [33.]  while predicted value is  32.0\n",
      "Optimal value is  [21.]  while predicted value is  20.0\n",
      "Optimal value is  [31.]  while predicted value is  25.0\n",
      "Optimal value is  [22.]  while predicted value is  20.0\n",
      "Optimal value is  [25.]  while predicted value is  22.0\n",
      "Optimal value is  [34.]  while predicted value is  30.0\n",
      "Optimal value is  [18.]  while predicted value is  16.0\n",
      "Optimal value is  [30.]  while predicted value is  30.0\n",
      "Optimal value is  [24.]  while predicted value is  19.0\n",
      "Optimal value is  [26.]  while predicted value is  19.0\n",
      "Optimal value is  [30.]  while predicted value is  30.0\n",
      "Optimal value is  [25.]  while predicted value is  18.0\n",
      "Optimal value is  [20.]  while predicted value is  20.0\n",
      "Optimal value is  [32.]  while predicted value is  23.0\n",
      "Optimal value is  [31.]  while predicted value is  26.0\n",
      "Optimal value is  [25.]  while predicted value is  22.0\n",
      "Optimal value is  [25.]  while predicted value is  17.0\n",
      "Optimal value is  [28.]  while predicted value is  23.0\n",
      "Optimal value is  [30.]  while predicted value is  29.0\n",
      "Optimal value is  [27.]  while predicted value is  23.0\n",
      "Optimal value is  [30.]  while predicted value is  28.0\n",
      "Optimal value is  [30.]  while predicted value is  29.0\n",
      "Optimal value is  [31.]  while predicted value is  29.0\n",
      "Optimal value is  [31.]  while predicted value is  28.0\n"
     ]
    }
   ],
   "source": [
    "# compare solutions\n",
    "for d_batch, w_batch, opt_sol, opt_value in loader_test:\n",
    "    # load data\n",
    "    # convert to numpy\n",
    "    d_batch = d_batch.to(device)\n",
    "    # d_batch = d_batch.to(\"cpu\").detach().numpy()\n",
    "    w_batch = w_batch.to(\"cpu\").detach().numpy()\n",
    "    opt_sol = opt_sol.to(\"cpu\").detach().numpy()\n",
    "    opt_value = opt_value.to(\"cpu\").detach().numpy()\n",
    "    # predict\n",
    "    w_predicted = val_net(d_batch)\n",
    "    # print(w_predicted)\n",
    "    batch_size = d_batch.shape[0]\n",
    "    regret = 0\n",
    "    for i in range(batch_size):\n",
    "        optmodel.setObj(w_predicted[i])\n",
    "        pred_sol, pred_val = optmodel.solve()\n",
    "        regret += np.max(np.squeeze(opt_value[i]) - np.dot(w_batch[i], pred_sol),0)\n",
    "        # print((opt_value[i] - pred_val)/opt_value[i])\n",
    "        print('Optimal value is ', opt_value[i], ' while predicted value is ', np.dot(w_batch[i], pred_sol))\n",
    "#     if i == ind:\n",
    "#         # solve\n",
    "#         optmodel.setObj(cp[0])\n",
    "#         wp, _ = optmodel.solve()\n",
    "#         fig = plotSol(m, c, wp, weights, caps, \"Two-Stage with Linear Regression\")\n",
    "#         break\n",
    "\n",
    "    normalized_regret = regret/np.sum(opt_value)"
   ]
  },
  {
   "cell_type": "code",
   "execution_count": 89,
   "metadata": {},
   "outputs": [
    {
     "name": "stdout",
     "output_type": "stream",
     "text": [
      "0.11071428571428571\n"
     ]
    }
   ],
   "source": [
    "print(normalized_regret)"
   ]
  },
  {
   "cell_type": "code",
   "execution_count": null,
   "metadata": {},
   "outputs": [],
   "source": []
  }
 ],
 "metadata": {
  "kernelspec": {
   "display_name": "Python 3 (ipykernel)",
   "language": "python",
   "name": "python3"
  },
  "language_info": {
   "codemirror_mode": {
    "name": "ipython",
    "version": 3
   },
   "file_extension": ".py",
   "mimetype": "text/x-python",
   "name": "python",
   "nbconvert_exporter": "python",
   "pygments_lexer": "ipython3",
   "version": "3.10.10"
  }
 },
 "nbformat": 4,
 "nbformat_minor": 4
}

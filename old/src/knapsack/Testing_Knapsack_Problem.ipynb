{
 "cells": [
  {
   "cell_type": "code",
   "execution_count": 1,
   "metadata": {},
   "outputs": [
    {
     "name": "stdout",
     "output_type": "stream",
     "text": [
      "Auto-Sklearn cannot be imported.\n"
     ]
    },
    {
     "data": {
      "text/plain": [
       "<torch._C.Generator at 0x10be48570>"
      ]
     },
     "execution_count": 1,
     "metadata": {},
     "output_type": "execute_result"
    }
   ],
   "source": [
    "import gurobipy as gp\n",
    "from gurobipy import GRB\n",
    "import numpy as np\n",
    "import pyepo\n",
    "from pyepo.model.grb import optGrbModel\n",
    "import torch\n",
    "from torch import nn\n",
    "from torch.utils.data import DataLoader\n",
    "import time as time\n",
    "import torch.optim as optim\n",
    "import torch.nn as nn\n",
    "from torch.optim.lr_scheduler import ReduceLROnPlateau, StepLR\n",
    "from ModelsKnapSack import KnapSackNet, ValPredictNet \n",
    "\n",
    "# Set the random seed\n",
    "seed = 42\n",
    "torch.manual_seed(seed)"
   ]
  },
  {
   "cell_type": "code",
   "execution_count": 2,
   "metadata": {},
   "outputs": [],
   "source": [
    "# generate data\n",
    "num_data = 10000 # number of data\n",
    "num_feat = 5 # size of feature\n",
    "num_item = 100 # number of items\n",
    "num_constraints = 2 # number of knapsacks\n",
    "weights_numpy, contexts_numpy, costs_numpy = pyepo.data.knapsack.genData(num_data, num_feat, num_item,\n",
    "                                                dim=num_constraints, deg=1, noise_width=0.5, seed=135)"
   ]
  },
  {
   "cell_type": "code",
   "execution_count": 3,
   "metadata": {},
   "outputs": [],
   "source": [
    "device = 'mps'\n",
    "weights = torch.Tensor(weights_numpy).to(device)\n",
    "# print(weights)\n",
    "## NB: Weights here refer to the weights of the items in the knapsack problem.\n",
    "# They become part of the constraints."
   ]
  },
  {
   "cell_type": "code",
   "execution_count": 4,
   "metadata": {},
   "outputs": [
    {
     "name": "stderr",
     "output_type": "stream",
     "text": [
      "/Users/danielmckenzie/My-Drive/Research/Fixed_Point_Networks/Diff-Opt-Over-Polytopes-Project/SPO_with_DYS/Knapsack_Testing/dYS_opt_net.py:29: UserWarning: The operator 'aten::linalg_svd' is not currently supported on the MPS backend and will fall back to run on the CPU. This may have performance implications. (Triggered internally at /Users/runner/work/pytorch/pytorch/pytorch/aten/src/ATen/mps/MPSFallback.mm:11.)\n",
      "  U, s, VT = torch.linalg.svd(self.A, full_matrices=False)\n"
     ]
    },
    {
     "data": {
      "text/plain": [
       "KnapSackNet(\n",
       "  (fc_1): Linear(in_features=5, out_features=50, bias=True)\n",
       "  (fc_2): Linear(in_features=50, out_features=50, bias=True)\n",
       "  (fc_3): Linear(in_features=50, out_features=100, bias=True)\n",
       "  (leaky_relu): LeakyReLU(negative_slope=0.1)\n",
       "  (relu): ReLU()\n",
       "  (dropout): Dropout(p=0.3, inplace=False)\n",
       ")"
      ]
     },
     "execution_count": 4,
     "metadata": {},
     "output_type": "execute_result"
    }
   ],
   "source": [
    "capacities_numpy = 20*torch.ones(2)\n",
    "capacities = capacities_numpy.to(device)\n",
    "capacities_DYS = 18*torch.ones(2, device=device)\n",
    "DYS_net = KnapSackNet(weights, capacities_DYS, num_constraints, num_item, num_feat, device=device)\n",
    "DYS_net.to(device)"
   ]
  },
  {
   "cell_type": "code",
   "execution_count": 5,
   "metadata": {},
   "outputs": [],
   "source": [
    "# ans = DYS_net(contexts)"
   ]
  },
  {
   "cell_type": "code",
   "execution_count": 6,
   "metadata": {},
   "outputs": [],
   "source": [
    "# print(ans)"
   ]
  },
  {
   "cell_type": "markdown",
   "metadata": {},
   "source": [
    "## 2. Setting up the Training\n"
   ]
  },
  {
   "cell_type": "code",
   "execution_count": 8,
   "metadata": {},
   "outputs": [
    {
     "name": "stdout",
     "output_type": "stream",
     "text": [
      "\u001b[33mWARNING: Package(s) not found: sklearn\u001b[0m\u001b[33m\r\n",
      "\u001b[0m"
     ]
    }
   ],
   "source": [
    "! pip show sklearn"
   ]
  },
  {
   "cell_type": "code",
   "execution_count": 9,
   "metadata": {},
   "outputs": [],
   "source": [
    "# split train test data\n",
    "from sklearn.model_selection import train_test_split\n",
    "d_train, d_test, w_train, w_test = train_test_split(contexts_numpy, costs_numpy, test_size=100, random_state=42)"
   ]
  },
  {
   "cell_type": "code",
   "execution_count": 10,
   "metadata": {},
   "outputs": [
    {
     "name": "stdout",
     "output_type": "stream",
     "text": [
      "Restricted license - for non-production use only - expires 2024-10-28\n"
     ]
    }
   ],
   "source": [
    "caps = capacities.cpu() #[20] * 2 # capacity\n",
    "optmodel = pyepo.model.grb.knapsackModel(weights_numpy, caps)"
   ]
  },
  {
   "cell_type": "code",
   "execution_count": 11,
   "metadata": {},
   "outputs": [
    {
     "name": "stdout",
     "output_type": "stream",
     "text": [
      "Optimizing for optDataset...\n"
     ]
    },
    {
     "name": "stderr",
     "output_type": "stream",
     "text": [
      " 47%|█████████████████▊                    | 4631/9900 [00:19<00:20, 257.23it/s]"
     ]
    },
    {
     "name": "stdout",
     "output_type": "stream",
     "text": [
      "\n",
      "Interrupt request received\n"
     ]
    },
    {
     "name": "stderr",
     "output_type": "stream",
     "text": [
      " 53%|████████████████████▎                 | 5280/9900 [00:21<00:17, 259.77it/s]"
     ]
    },
    {
     "name": "stdout",
     "output_type": "stream",
     "text": [
      "\n",
      "Interrupt request received\n"
     ]
    },
    {
     "name": "stderr",
     "output_type": "stream",
     "text": [
      "100%|██████████████████████████████████████| 9900/9900 [00:41<00:00, 241.24it/s]\n"
     ]
    },
    {
     "name": "stdout",
     "output_type": "stream",
     "text": [
      "Optimizing for optDataset...\n"
     ]
    },
    {
     "name": "stderr",
     "output_type": "stream",
     "text": [
      "100%|████████████████████████████████████████| 100/100 [00:00<00:00, 233.29it/s]\n"
     ]
    }
   ],
   "source": [
    "# get optDataset\n",
    "dataset_train = pyepo.data.dataset.optDataset(optmodel, d_train, w_train)\n",
    "dataset_test = pyepo.data.dataset.optDataset(optmodel, d_test, w_test)"
   ]
  },
  {
   "cell_type": "code",
   "execution_count": 9,
   "metadata": {},
   "outputs": [],
   "source": [
    "# set data loader\n",
    "from torch.utils.data import DataLoader\n",
    "batch_size = 256\n",
    "loader_train = DataLoader(dataset_train, batch_size=batch_size, shuffle=True)\n",
    "loader_test = DataLoader(dataset_test, batch_size=batch_size, shuffle=False)"
   ]
  },
  {
   "cell_type": "markdown",
   "metadata": {},
   "source": [
    "### Training Set-up\n",
    "Hyperparameters, initialize optimizer, initialize arrays etc"
   ]
  },
  {
   "cell_type": "code",
   "execution_count": 10,
   "metadata": {},
   "outputs": [],
   "source": [
    "test_loss_hist = []\n",
    "fmt = '[{:4d}/{:4d}]: train loss = {:7.3e} | test_loss = {:7.3e} ]'\n",
    "train_start_time = time.time()\n",
    "epoch = 0\n",
    "max_epochs = 10\n",
    "train_loss_ave = 0"
   ]
  },
  {
   "cell_type": "code",
   "execution_count": 11,
   "metadata": {},
   "outputs": [],
   "source": [
    "#### Testing Regret loss function\n",
    "# Make eval mode that rounds before computing cost.\n",
    "class RegretLoss(nn.Module):\n",
    "    def __init__(self, num_item, num_constraints, device):\n",
    "        super(RegretLoss, self).__init__()\n",
    "        self.device = device\n",
    "        self.num_items = num_item  # number of items, i.e. non-dummy variables\n",
    "        self.num_constraints = num_constraints # number of constraints, i.e. dummy variables\n",
    "    \n",
    "    def forward(self, w_true, x_pred, x_opt, opt_value, eval_mode=False):\n",
    "        '''\n",
    "          d is (batch of) contexts, w_true is (batch of) true \n",
    "          cost vectors.\n",
    "        '''\n",
    "        if eval_mode:\n",
    "            regret = opt_value - (w_true*torch.round(x_pred[:,:-(self.num_constraints + self.num_items)])).sum(dim=-1)\n",
    "            regret = torch.mean(regret)/torch.mean(opt_value) #normalized regret\n",
    "        else:\n",
    "            regret = opt_value - (w_true*x_pred[:,:-(self.num_constraints + self.num_items)]).sum(dim=-1)\n",
    "            regret = torch.mean(regret)\n",
    "        return regret\n",
    "    \n",
    "    # cost = torch.matmul(w_true.view(-1, self.num_items), x_pred[:,:-self.num_constraints]) # leave out dummy variables"
   ]
  },
  {
   "cell_type": "code",
   "execution_count": 12,
   "metadata": {},
   "outputs": [],
   "source": [
    "optimizer = optim.Adam(DYS_net.parameters(), lr=1e-3, weight_decay = 5e-4)\n",
    "criterion = RegretLoss(num_item, num_constraints, device=device)\n",
    "scheduler = ReduceLROnPlateau(optimizer, 'min')"
   ]
  },
  {
   "cell_type": "code",
   "execution_count": 13,
   "metadata": {},
   "outputs": [
    {
     "name": "stdout",
     "output_type": "stream",
     "text": [
      "epoch:  0 test loss is  0.9049567580223083\n",
      "epoch:  1 test loss is  0.30895093083381653\n",
      "epoch:  2 test loss is  0.2976419925689697\n",
      "epoch:  3 test loss is  0.25240617990493774\n",
      "epoch:  4 test loss is  0.25336864590644836\n",
      "epoch:  5 test loss is  0.2569778561592102\n",
      "epoch:  6 test loss is  0.2613089680671692\n",
      "epoch:  7 test loss is  0.25240617990493774\n",
      "epoch:  8 test loss is  0.2649182081222534\n",
      "epoch:  9 test loss is  0.2666025161743164\n",
      "epoch:  10 test loss is  0.2930702567100525\n"
     ]
    }
   ],
   "source": [
    "epoch = 0\n",
    "while epoch <= max_epochs:\n",
    "    for d_batch, w_batch, opt_sol, opt_value in loader_train:\n",
    "        d_batch = d_batch.to(device)\n",
    "        w_batch = w_batch.to(device)\n",
    "        opt_sol = opt_sol.to(device)\n",
    "        opt_value = opt_value.to(device)\n",
    "        DYS_net.train()\n",
    "        optimizer.zero_grad()\n",
    "        predicted = DYS_net(d_batch)\n",
    "        loss = criterion(w_batch, predicted, opt_sol, opt_value)\n",
    "        loss.backward()\n",
    "        optimizer.step()\n",
    "        train_loss_ave = 0.95*train_loss_ave + 0.05*loss.item()\n",
    "        \n",
    "    DYS_net.eval()\n",
    "    test_loss = 0\n",
    "    for d_batch, w_batch, opt_sol, opt_value in loader_test:\n",
    "        d_batch = d_batch.to(device)\n",
    "        w_batch = w_batch.to(device)\n",
    "        opt_sol = opt_sol.to(device)\n",
    "        opt_value = opt_value.to(device)\n",
    "        predicted = DYS_net(d_batch)\n",
    "        test_loss += max(0., criterion(w_batch, predicted, opt_sol, opt_value, eval_mode=True).item())\n",
    "    \n",
    "    # print(predicted)\n",
    "    scheduler.step(test_loss)\n",
    "    test_loss_hist.append(test_loss)\n",
    "    print('epoch: ', epoch, 'test loss is ', test_loss)\n",
    "    epoch += 1"
   ]
  },
  {
   "cell_type": "code",
   "execution_count": 14,
   "metadata": {},
   "outputs": [
    {
     "name": "stdout",
     "output_type": "stream",
     "text": [
      "tensor([29., 29., 26., 26., 58., 24., 34., 24., 38., 45., 31., 14., 33., 20.,\n",
      "        18., 43., 25., 29., 22., 25., 27., 25., 26., 25., 28., 48., 40., 29.,\n",
      "        61., 23., 30., 33., 35., 41., 30., 35., 43., 31., 25., 30., 21., 39.,\n",
      "        29., 25., 20., 24., 30., 35., 24., 27., 28., 21., 37., 29., 22., 22.,\n",
      "        24., 34., 23., 30., 15., 28., 24., 27., 22., 30., 42., 23., 31., 19.,\n",
      "        29., 32., 33., 42., 26., 27., 32., 25., 35., 32., 22., 19., 29., 36.,\n",
      "        34., 15., 32., 40., 25., 30., 29., 27., 31., 19., 43., 27., 33., 26.,\n",
      "        22., 23.], device='mps:0')\n"
     ]
    }
   ],
   "source": [
    "print((w_batch*torch.round(predicted[:,:-(num_item + num_constraints)])).sum(dim=-1))"
   ]
  },
  {
   "cell_type": "code",
   "execution_count": 16,
   "metadata": {},
   "outputs": [
    {
     "name": "stdout",
     "output_type": "stream",
     "text": [
      "tensor([[38.],\n",
      "        [42.],\n",
      "        [33.],\n",
      "        [40.],\n",
      "        [53.],\n",
      "        [39.],\n",
      "        [42.],\n",
      "        [32.],\n",
      "        [55.],\n",
      "        [50.],\n",
      "        [42.],\n",
      "        [33.],\n",
      "        [41.],\n",
      "        [40.],\n",
      "        [36.],\n",
      "        [50.],\n",
      "        [41.],\n",
      "        [46.],\n",
      "        [35.],\n",
      "        [37.],\n",
      "        [39.],\n",
      "        [40.],\n",
      "        [36.],\n",
      "        [37.],\n",
      "        [47.],\n",
      "        [59.],\n",
      "        [60.],\n",
      "        [42.],\n",
      "        [56.],\n",
      "        [32.],\n",
      "        [44.],\n",
      "        [45.],\n",
      "        [44.],\n",
      "        [50.],\n",
      "        [41.],\n",
      "        [53.],\n",
      "        [45.],\n",
      "        [47.],\n",
      "        [37.],\n",
      "        [42.],\n",
      "        [35.],\n",
      "        [45.],\n",
      "        [48.],\n",
      "        [36.],\n",
      "        [38.],\n",
      "        [40.],\n",
      "        [45.],\n",
      "        [50.],\n",
      "        [42.],\n",
      "        [38.],\n",
      "        [34.],\n",
      "        [36.],\n",
      "        [49.],\n",
      "        [42.],\n",
      "        [38.],\n",
      "        [34.],\n",
      "        [36.],\n",
      "        [43.],\n",
      "        [37.],\n",
      "        [45.],\n",
      "        [36.],\n",
      "        [45.],\n",
      "        [35.],\n",
      "        [35.],\n",
      "        [38.],\n",
      "        [40.],\n",
      "        [51.],\n",
      "        [38.],\n",
      "        [46.],\n",
      "        [34.],\n",
      "        [40.],\n",
      "        [41.],\n",
      "        [48.],\n",
      "        [46.],\n",
      "        [38.],\n",
      "        [39.],\n",
      "        [48.],\n",
      "        [40.],\n",
      "        [40.],\n",
      "        [44.],\n",
      "        [41.],\n",
      "        [37.],\n",
      "        [42.],\n",
      "        [44.],\n",
      "        [44.],\n",
      "        [32.],\n",
      "        [42.],\n",
      "        [44.],\n",
      "        [43.],\n",
      "        [44.],\n",
      "        [44.],\n",
      "        [38.],\n",
      "        [44.],\n",
      "        [35.],\n",
      "        [52.],\n",
      "        [38.],\n",
      "        [39.],\n",
      "        [35.],\n",
      "        [32.],\n",
      "        [32.]], device='mps:0')\n"
     ]
    }
   ],
   "source": [
    "print(opt_value)"
   ]
  },
  {
   "cell_type": "code",
   "execution_count": 17,
   "metadata": {},
   "outputs": [
    {
     "name": "stdout",
     "output_type": "stream",
     "text": [
      "tensor([[19.3500, 19.3500, 19.3500, 19.3500, 24.2200, 19.3500, 19.3500, 19.3500,\n",
      "         14.4800, 19.3500, 19.3500, 19.3500, 19.3500, 19.3500, 19.3500, 19.3500,\n",
      "         19.3500, 19.3500, 19.3500, 19.3500, 19.3500, 19.3500, 19.3500, 19.3500,\n",
      "         19.3500, 19.3500, 14.4800, 19.3500, 24.2200, 19.3500, 19.3500, 19.3500,\n",
      "         19.3500, 19.3500, 19.3500, 19.3500, 24.2200, 19.3500, 19.3500, 19.3500,\n",
      "         19.3500, 19.3500, 19.3500, 19.3500, 19.3500, 19.3500, 19.3500, 19.3500,\n",
      "         14.4800, 19.3500, 19.3500, 19.3500, 19.3500, 19.3500, 19.3500, 19.3500,\n",
      "         19.3500, 19.3500, 19.3500, 19.3500, 19.3500, 19.3500, 19.3500, 19.3500,\n",
      "         19.3500, 19.3500, 19.3500, 19.3500, 19.3500, 19.3500, 19.3500, 19.3500,\n",
      "         19.3500, 19.3500, 19.3500, 19.3500, 19.3500, 19.3500, 19.3500, 19.3500,\n",
      "         19.3500, 19.3500, 19.3500, 19.3500, 19.3500, 19.3500, 19.3500, 19.3500,\n",
      "         19.3500, 19.3500, 19.3500, 19.3500, 19.3500, 19.3500, 19.3500, 19.3500,\n",
      "         19.3500, 19.3500, 19.3500, 19.3500],\n",
      "        [18.2600, 18.2600, 18.2600, 18.2600, 21.7300, 18.2600, 18.2600, 18.2600,\n",
      "         15.1000, 18.2600, 18.2600, 18.2600, 18.2600, 18.2600, 18.2600, 18.2600,\n",
      "         18.2600, 18.2600, 18.2600, 18.2600, 18.2600, 18.2600, 18.2600, 18.2600,\n",
      "         18.2600, 18.2600, 15.1000, 18.2600, 21.7300, 18.2600, 18.2600, 18.2600,\n",
      "         18.2600, 18.2600, 18.2600, 18.2600, 21.7300, 18.2600, 18.2600, 18.2600,\n",
      "         18.2600, 18.2600, 18.2600, 18.2600, 18.2600, 18.2600, 18.2600, 18.2600,\n",
      "         15.1000, 18.2600, 18.2600, 18.2600, 18.2600, 18.2600, 18.2600, 18.2600,\n",
      "         18.2600, 18.2600, 18.2600, 18.2600, 18.2600, 18.2600, 18.2600, 18.2600,\n",
      "         18.2600, 18.2600, 18.2600, 18.2600, 18.2600, 18.2600, 18.2600, 18.2600,\n",
      "         18.2600, 18.2600, 18.2600, 18.2600, 18.2600, 18.2600, 18.2600, 18.2600,\n",
      "         18.2600, 18.2600, 18.2600, 18.2600, 18.2600, 18.2600, 18.2600, 18.2600,\n",
      "         18.2600, 18.2600, 18.2600, 18.2600, 18.2600, 18.2600, 18.2600, 18.2600,\n",
      "         18.2600, 18.2600, 18.2600, 18.2600]], device='mps:0')\n"
     ]
    }
   ],
   "source": [
    "print(torch.matmul(weights, torch.t(torch.round(predicted[:,:-(num_item + num_constraints)]))))"
   ]
  },
  {
   "cell_type": "code",
   "execution_count": 18,
   "metadata": {},
   "outputs": [
    {
     "name": "stdout",
     "output_type": "stream",
     "text": [
      "tensor([[5., 7., 6.,  ..., 7., 4., 8.],\n",
      "        [4., 4., 8.,  ..., 5., 7., 8.],\n",
      "        [4., 6., 4.,  ..., 4., 7., 8.],\n",
      "        ...,\n",
      "        [7., 3., 6.,  ..., 5., 5., 4.],\n",
      "        [3., 5., 7.,  ..., 7., 6., 4.],\n",
      "        [6., 6., 6.,  ..., 4., 6., 7.]], device='mps:0')\n"
     ]
    }
   ],
   "source": [
    "print(w_batch)"
   ]
  },
  {
   "cell_type": "code",
   "execution_count": 19,
   "metadata": {},
   "outputs": [
    {
     "name": "stdout",
     "output_type": "stream",
     "text": [
      "tensor([[4.5900, 4.8700, 5.1900, 7.5900, 6.8000, 4.9700, 4.8400, 3.2200, 7.9000,\n",
      "         3.6200, 3.1200, 6.8100, 7.0900, 3.2300, 4.4700, 5.2300, 6.1100, 5.2300,\n",
      "         4.2700, 6.6600, 5.2100, 3.7200, 7.8300, 5.6400, 7.5600, 3.2800, 4.3100,\n",
      "         3.8500, 6.4300, 4.2600, 7.5600, 6.4000, 6.0900, 6.4000, 4.5000, 6.3100,\n",
      "         6.3500, 3.0700, 6.0300, 7.3900, 3.4800, 5.5700, 6.2700, 4.5500, 5.6400,\n",
      "         5.6600, 3.2700, 6.6800, 4.2000, 5.6100, 6.1300, 7.8800, 4.6100, 4.9200,\n",
      "         6.0900, 7.9500, 7.1100, 4.0200, 3.0700, 7.8400, 6.2900, 5.7800, 5.5700,\n",
      "         5.6500, 7.4100, 5.2100, 3.4200, 6.4800, 5.7700, 7.6700, 7.3200, 3.3100,\n",
      "         4.3600, 4.7500, 3.3800, 3.4400, 6.3000, 4.8500, 7.0900, 5.7000, 4.0500,\n",
      "         6.0400, 6.5100, 3.4100, 7.9400, 6.0500, 7.1800, 3.6400, 4.3500, 4.4500,\n",
      "         4.2700, 4.8700, 5.7400, 3.1600, 5.4100, 3.8100, 3.5100, 5.9800, 5.7900,\n",
      "         6.6200],\n",
      "        [5.1100, 3.1600, 7.0100, 6.4800, 6.3600, 4.1200, 7.9000, 7.6900, 3.6800,\n",
      "         4.7300, 5.8500, 5.0300, 3.6900, 7.1300, 7.1100, 5.7200, 5.8000, 4.5900,\n",
      "         6.8500, 4.1400, 6.1800, 4.2800, 5.3800, 5.7900, 6.7800, 3.7900, 4.6100,\n",
      "         3.0600, 7.7800, 3.9400, 6.0600, 7.2200, 5.1800, 3.4400, 3.9300, 5.5600,\n",
      "         3.5600, 6.5900, 5.0000, 5.2400, 7.9400, 6.7500, 6.3700, 7.6400, 3.4000,\n",
      "         3.8700, 3.3400, 4.9500, 3.5300, 4.6400, 7.2800, 6.9000, 5.1600, 4.4900,\n",
      "         5.0400, 7.8200, 7.4100, 6.9200, 7.4500, 7.2900, 6.3100, 6.6000, 4.6600,\n",
      "         4.0700, 7.2500, 5.5800, 5.3300, 7.8200, 7.3700, 6.2300, 4.1200, 7.2400,\n",
      "         6.1000, 6.2600, 6.0900, 4.8700, 6.1200, 7.2000, 7.4800, 4.8700, 6.6600,\n",
      "         5.1000, 6.1700, 4.6900, 4.4100, 4.0400, 6.0000, 3.7100, 6.8200, 5.1500,\n",
      "         6.9500, 3.4700, 4.1600, 5.1700, 7.9700, 6.0800, 3.8700, 7.0300, 3.8800,\n",
      "         3.1300]], device='mps:0')\n"
     ]
    }
   ],
   "source": [
    "print(weights) # S matrix"
   ]
  },
  {
   "cell_type": "code",
   "execution_count": 20,
   "metadata": {},
   "outputs": [
    {
     "name": "stdout",
     "output_type": "stream",
     "text": [
      "tensor([[0., 0., 0., 0., 0., 0., 0., 0., 0., 0.],\n",
      "        [0., 0., 0., 0., 0., 0., 0., 0., 0., 0.],\n",
      "        [0., 0., 0., 0., 0., 0., 0., 0., 0., 0.],\n",
      "        [0., 0., 0., 0., 0., 0., 0., 0., 0., 0.],\n",
      "        [0., 0., 0., 0., 0., 0., 0., 0., 0., 0.],\n",
      "        [0., 0., 0., 0., 0., 0., 0., 0., 0., 0.],\n",
      "        [0., 0., 0., 0., 0., 0., 0., 0., 0., 0.],\n",
      "        [0., 0., 0., 0., 0., 0., 0., 0., 0., 0.],\n",
      "        [0., 0., 0., 0., 0., 0., 0., 0., 0., 0.],\n",
      "        [0., 0., 0., 0., 0., 0., 0., 0., 0., 0.],\n",
      "        [0., 0., 0., 0., 0., 0., 0., 0., 0., 0.],\n",
      "        [0., 0., 0., 0., 0., 0., 0., 0., 0., 0.],\n",
      "        [0., 0., 0., 0., 0., 0., 0., 0., 0., 0.],\n",
      "        [0., 0., 0., 0., 0., 0., 0., 0., 0., 0.],\n",
      "        [0., 0., 0., 0., 0., 0., 0., 0., 0., 0.],\n",
      "        [0., 0., 0., 0., 0., 0., 0., 0., 0., 0.],\n",
      "        [0., 0., 0., 0., 0., 0., 0., 0., 0., 0.],\n",
      "        [0., 0., 0., 0., 0., 0., 0., 0., 0., 0.],\n",
      "        [0., 0., 0., 0., 0., 0., 0., 0., 0., 0.],\n",
      "        [0., 0., 0., 0., 0., 0., 0., 0., 0., 0.],\n",
      "        [0., 0., 0., 0., 0., 0., 0., 0., 0., 0.],\n",
      "        [0., 0., 0., 0., 0., 0., 0., 0., 0., 0.],\n",
      "        [0., 0., 0., 0., 0., 0., 0., 0., 0., 0.],\n",
      "        [0., 0., 0., 0., 0., 0., 0., 0., 0., 0.],\n",
      "        [0., 0., 0., 0., 0., 0., 0., 0., 0., 0.],\n",
      "        [0., 0., 0., 0., 0., 0., 0., 0., 0., 0.],\n",
      "        [0., 0., 0., 0., 0., 0., 0., 0., 0., 0.],\n",
      "        [0., 0., 0., 0., 0., 0., 0., 0., 0., 0.],\n",
      "        [0., 0., 0., 0., 0., 0., 0., 0., 0., 0.],\n",
      "        [0., 0., 0., 0., 0., 0., 0., 0., 0., 0.],\n",
      "        [0., 0., 0., 0., 0., 0., 0., 0., 0., 0.],\n",
      "        [0., 0., 0., 0., 0., 0., 0., 0., 0., 0.],\n",
      "        [0., 0., 0., 0., 0., 0., 0., 0., 0., 0.],\n",
      "        [0., 0., 0., 0., 0., 0., 0., 0., 0., 0.],\n",
      "        [0., 0., 0., 0., 0., 0., 0., 0., 0., 0.],\n",
      "        [0., 0., 0., 0., 0., 0., 0., 0., 0., 0.],\n",
      "        [0., 0., 0., 0., 0., 0., 0., 0., 0., 0.],\n",
      "        [0., 0., 0., 0., 0., 0., 0., 0., 0., 0.],\n",
      "        [0., 0., 0., 0., 0., 0., 0., 0., 0., 0.],\n",
      "        [0., 0., 0., 0., 0., 0., 0., 0., 0., 0.],\n",
      "        [0., 0., 0., 0., 0., 0., 0., 0., 0., 0.],\n",
      "        [0., 0., 0., 0., 0., 0., 0., 0., 0., 0.],\n",
      "        [0., 0., 0., 0., 0., 0., 0., 0., 0., 0.],\n",
      "        [0., 0., 0., 0., 0., 0., 0., 0., 0., 0.],\n",
      "        [0., 0., 0., 0., 0., 0., 0., 0., 0., 0.],\n",
      "        [0., 0., 0., 0., 0., 0., 0., 0., 0., 0.],\n",
      "        [0., 0., 0., 0., 0., 0., 0., 0., 0., 0.],\n",
      "        [0., 0., 0., 0., 0., 0., 0., 0., 0., 0.],\n",
      "        [0., 0., 0., 0., 0., 0., 0., 0., 0., 0.],\n",
      "        [0., 0., 0., 0., 0., 0., 0., 0., 0., 0.],\n",
      "        [0., 0., 0., 0., 0., 0., 0., 0., 0., 0.],\n",
      "        [0., 0., 0., 0., 0., 0., 0., 0., 0., 0.],\n",
      "        [0., 0., 0., 0., 0., 0., 0., 0., 0., 0.],\n",
      "        [0., 0., 0., 0., 0., 0., 0., 0., 0., 0.],\n",
      "        [0., 0., 0., 0., 0., 0., 0., 0., 0., 0.],\n",
      "        [0., 0., 0., 0., 0., 0., 0., 0., 0., 0.],\n",
      "        [0., 0., 0., 0., 0., 0., 0., 0., 0., 0.],\n",
      "        [0., 0., 0., 0., 0., 0., 0., 0., 0., 0.],\n",
      "        [0., 0., 0., 0., 0., 0., 0., 0., 0., 0.],\n",
      "        [0., 0., 0., 0., 0., 0., 0., 0., 0., 0.],\n",
      "        [0., 0., 0., 0., 0., 0., 0., 0., 0., 0.],\n",
      "        [0., 0., 0., 0., 0., 0., 0., 0., 0., 0.],\n",
      "        [0., 0., 0., 0., 0., 0., 0., 0., 0., 0.],\n",
      "        [0., 0., 0., 0., 0., 0., 0., 0., 0., 0.],\n",
      "        [0., 0., 0., 0., 0., 0., 0., 0., 0., 0.],\n",
      "        [0., 0., 0., 0., 0., 0., 0., 0., 0., 0.],\n",
      "        [0., 0., 0., 0., 0., 0., 0., 0., 0., 0.],\n",
      "        [0., 0., 0., 0., 0., 0., 0., 0., 0., 0.],\n",
      "        [0., 0., 0., 0., 0., 0., 0., 0., 0., 0.],\n",
      "        [0., 0., 0., 0., 0., 0., 0., 0., 0., 0.],\n",
      "        [0., 0., 0., 0., 0., 0., 0., 0., 0., 0.],\n",
      "        [0., 0., 0., 0., 0., 0., 0., 0., 0., 0.],\n",
      "        [0., 0., 0., 0., 0., 0., 0., 0., 0., 0.],\n",
      "        [0., 0., 0., 0., 0., 0., 0., 0., 0., 0.],\n",
      "        [0., 0., 0., 0., 0., 0., 0., 0., 0., 0.],\n",
      "        [0., 0., 0., 0., 0., 0., 0., 0., 0., 0.],\n",
      "        [0., 0., 0., 0., 0., 0., 0., 0., 0., 0.],\n",
      "        [0., 0., 0., 0., 0., 0., 0., 0., 0., 0.],\n",
      "        [0., 0., 0., 0., 0., 0., 0., 0., 0., 0.],\n",
      "        [0., 0., 0., 0., 0., 0., 0., 0., 0., 0.],\n",
      "        [0., 0., 0., 0., 0., 0., 0., 0., 0., 0.],\n",
      "        [0., 0., 0., 0., 0., 0., 0., 0., 0., 0.],\n",
      "        [0., 0., 0., 0., 0., 0., 0., 0., 0., 0.],\n",
      "        [0., 0., 0., 0., 0., 0., 0., 0., 0., 0.],\n",
      "        [0., 0., 0., 0., 0., 0., 0., 0., 0., 0.],\n",
      "        [0., 0., 0., 0., 0., 0., 0., 0., 0., 0.],\n",
      "        [0., 0., 0., 0., 0., 0., 0., 0., 0., 0.],\n",
      "        [0., 0., 0., 0., 0., 0., 0., 0., 0., 0.],\n",
      "        [0., 0., 0., 0., 0., 0., 0., 0., 0., 0.],\n",
      "        [0., 0., 0., 0., 0., 0., 0., 0., 0., 0.],\n",
      "        [0., 0., 0., 0., 0., 0., 0., 0., 0., 0.],\n",
      "        [0., 0., 0., 0., 0., 0., 0., 0., 0., 0.],\n",
      "        [0., 0., 0., 0., 0., 0., 0., 0., 0., 0.],\n",
      "        [0., 0., 0., 0., 0., 0., 0., 0., 0., 0.],\n",
      "        [0., 0., 0., 0., 0., 0., 0., 0., 0., 0.],\n",
      "        [0., 0., 0., 0., 0., 0., 0., 0., 0., 0.],\n",
      "        [0., 0., 0., 0., 0., 0., 0., 0., 0., 0.],\n",
      "        [0., 0., 0., 0., 0., 0., 0., 0., 0., 0.],\n",
      "        [0., 0., 0., 0., 0., 0., 0., 0., 0., 0.],\n",
      "        [0., 0., 0., 0., 0., 0., 0., 0., 0., 0.]], device='mps:0')\n"
     ]
    }
   ],
   "source": [
    "# print(torch.round(predicted[:,:-12]) - torch.round(predicted[0,:-12]))\n",
    "print(torch.round((predicted[:,50:60])))#:-(num_constraints + num_item)])))"
   ]
  },
  {
   "cell_type": "code",
   "execution_count": 21,
   "metadata": {},
   "outputs": [
    {
     "name": "stdout",
     "output_type": "stream",
     "text": [
      "tensor([[ 0.,  0.,  0.,  ...,  0.,  0.,  0.],\n",
      "        [ 0., -1.,  0.,  ...,  0.,  0.,  0.],\n",
      "        [ 0., -1.,  0.,  ...,  0.,  0.,  0.],\n",
      "        ...,\n",
      "        [ 0., -1.,  0.,  ...,  0.,  0.,  0.],\n",
      "        [ 0., -1.,  0.,  ...,  0.,  0.,  0.],\n",
      "        [ 0., -1.,  0.,  ...,  0.,  0.,  0.]], device='mps:0')\n"
     ]
    }
   ],
   "source": [
    "print(opt_sol[:15,:] - opt_sol[0,:])"
   ]
  },
  {
   "cell_type": "code",
   "execution_count": 22,
   "metadata": {},
   "outputs": [],
   "source": [
    "import matplotlib.pyplot as plt"
   ]
  },
  {
   "cell_type": "code",
   "execution_count": 23,
   "metadata": {},
   "outputs": [
    {
     "data": {
      "text/plain": [
       "[<matplotlib.lines.Line2D at 0x2c13ea950>]"
      ]
     },
     "execution_count": 23,
     "metadata": {},
     "output_type": "execute_result"
    },
    {
     "data": {
      "image/png": "[encoded data removed]",
      "text/plain": [
       "<Figure size 640x480 with 1 Axes>"
      ]
     },
     "metadata": {},
     "output_type": "display_data"
    }
   ],
   "source": [
    "plt.plot(test_loss_hist)"
   ]
  },
  {
   "cell_type": "code",
   "execution_count": 24,
   "metadata": {},
   "outputs": [
    {
     "name": "stdout",
     "output_type": "stream",
     "text": [
      "tensor([0.0126, 0.0725, 0.7071, 0.7071, 0.7071, 0.7071, 0.7071, 0.7071, 0.7071,\n",
      "        0.7071, 0.7071, 0.7071, 0.7071, 0.7071, 0.7071, 0.7071, 0.7071, 0.7071,\n",
      "        0.7071, 0.7071, 0.7071, 0.7071, 0.7071, 0.7071, 0.7071, 0.7071, 0.7071,\n",
      "        0.7071, 0.7071, 0.7071, 0.7071, 0.7071, 0.7071, 0.7071, 0.7071, 0.7071,\n",
      "        0.7071, 0.7071, 0.7071, 0.7071, 0.7071, 0.7071, 0.7071, 0.7071, 0.7071,\n",
      "        0.7071, 0.7071, 0.7071, 0.7071, 0.7071, 0.7071, 0.7071, 0.7071, 0.7071,\n",
      "        0.7071, 0.7071, 0.7071, 0.7071, 0.7071, 0.7071, 0.7071, 0.7071, 0.7071,\n",
      "        0.7071, 0.7071, 0.7071, 0.7071, 0.7071, 0.7071, 0.7071, 0.7071, 0.7071,\n",
      "        0.7071, 0.7071, 0.7071, 0.7071, 0.7071, 0.7071, 0.7071, 0.7071, 0.7071,\n",
      "        0.7071, 0.7071, 0.7071, 0.7071, 0.7071, 0.7071, 0.7071, 0.7071, 0.7071,\n",
      "        0.7071, 0.7071, 0.7071, 0.7071, 0.7071, 0.7071, 0.7071, 0.7071, 0.7071,\n",
      "        0.7071, 1.0000, 1.0000], device='mps:0')\n"
     ]
    }
   ],
   "source": [
    "print(DYS_net.s_inv)"
   ]
  },
  {
   "cell_type": "code",
   "execution_count": 25,
   "metadata": {},
   "outputs": [
    {
     "name": "stdout",
     "output_type": "stream",
     "text": [
      "202\n"
     ]
    }
   ],
   "source": [
    "print(DYS_net.n2)"
   ]
  },
  {
   "cell_type": "code",
   "execution_count": 26,
   "metadata": {},
   "outputs": [
    {
     "name": "stdout",
     "output_type": "stream",
     "text": [
      "tensor([[4.5900, 4.8700, 5.1900,  ..., 0.0000, 0.0000, 0.0000],\n",
      "        [5.1100, 3.1600, 7.0100,  ..., 0.0000, 0.0000, 0.0000],\n",
      "        [1.0000, 0.0000, 0.0000,  ..., 0.0000, 0.0000, 0.0000],\n",
      "        ...,\n",
      "        [0.0000, 0.0000, 0.0000,  ..., 1.0000, 0.0000, 0.0000],\n",
      "        [0.0000, 0.0000, 0.0000,  ..., 0.0000, 1.0000, 0.0000],\n",
      "        [0.0000, 0.0000, 0.0000,  ..., 0.0000, 0.0000, 1.0000]],\n",
      "       device='mps:0')\n"
     ]
    }
   ],
   "source": [
    "print(DYS_net.A)"
   ]
  },
  {
   "cell_type": "code",
   "execution_count": 27,
   "metadata": {},
   "outputs": [
    {
     "name": "stdout",
     "output_type": "stream",
     "text": [
      "[[4.59 4.87 5.19 7.59 6.8  4.97 4.84 3.22 7.9  3.62 3.12 6.81 7.09 3.23\n",
      "  4.47 5.23 6.11 5.23 4.27 6.66 5.21 3.72 7.83 5.64 7.56 3.28 4.31 3.85\n",
      "  6.43 4.26 7.56 6.4  6.09 6.4  4.5  6.31 6.35 3.07 6.03 7.39 3.48 5.57\n",
      "  6.27 4.55 5.64 5.66 3.27 6.68 4.2  5.61 6.13 7.88 4.61 4.92 6.09 7.95\n",
      "  7.11 4.02 3.07 7.84 6.29 5.78 5.57 5.65 7.41 5.21 3.42 6.48 5.77 7.67\n",
      "  7.32 3.31 4.36 4.75 3.38 3.44 6.3  4.85 7.09 5.7  4.05 6.04 6.51 3.41\n",
      "  7.94 6.05 7.18 3.64 4.35 4.45 4.27 4.87 5.74 3.16 5.41 3.81 3.51 5.98\n",
      "  5.79 6.62]\n",
      " [5.11 3.16 7.01 6.48 6.36 4.12 7.9  7.69 3.68 4.73 5.85 5.03 3.69 7.13\n",
      "  7.11 5.72 5.8  4.59 6.85 4.14 6.18 4.28 5.38 5.79 6.78 3.79 4.61 3.06\n",
      "  7.78 3.94 6.06 7.22 5.18 3.44 3.93 5.56 3.56 6.59 5.   5.24 7.94 6.75\n",
      "  6.37 7.64 3.4  3.87 3.34 4.95 3.53 4.64 7.28 6.9  5.16 4.49 5.04 7.82\n",
      "  7.41 6.92 7.45 7.29 6.31 6.6  4.66 4.07 7.25 5.58 5.33 7.82 7.37 6.23\n",
      "  4.12 7.24 6.1  6.26 6.09 4.87 6.12 7.2  7.48 4.87 6.66 5.1  6.17 4.69\n",
      "  4.41 4.04 6.   3.71 6.82 5.15 6.95 3.47 4.16 5.17 7.97 6.08 3.87 7.03\n",
      "  3.88 3.13]]\n"
     ]
    }
   ],
   "source": [
    "print(weights_numpy)"
   ]
  },
  {
   "cell_type": "code",
   "execution_count": 28,
   "metadata": {},
   "outputs": [
    {
     "name": "stdout",
     "output_type": "stream",
     "text": [
      "[3. 5. 7. 3. 8. 5. 5. 7. 4. 6. 6. 3. 3. 5. 7. 6. 7. 6. 4. 6. 5. 4. 6. 6.\n",
      " 6. 4. 8. 7. 4. 6. 6. 7. 6. 5. 6. 6. 7. 8. 3. 6. 6. 6. 4. 5. 6. 3. 5. 6.\n",
      " 8. 3. 4. 7. 7. 5. 4. 7. 4. 8. 8. 4. 5. 3. 5. 5. 6. 4. 9. 4. 6. 5. 6. 6.\n",
      " 7. 7. 5. 7. 7. 4. 7. 7. 8. 6. 5. 7. 7. 9. 5. 5. 7. 5. 7. 7. 7. 6. 7. 8.\n",
      " 6. 6. 5. 5.]\n"
     ]
    }
   ],
   "source": [
    "print(costs_numpy[0,:])"
   ]
  },
  {
   "cell_type": "code",
   "execution_count": 29,
   "metadata": {},
   "outputs": [
    {
     "name": "stdout",
     "output_type": "stream",
     "text": [
      "tensor([18., 18.,  1.,  1.,  1.,  1.,  1.,  1.,  1.,  1.,  1.,  1.,  1.,  1.,\n",
      "         1.,  1.,  1.,  1.,  1.,  1.,  1.,  1.,  1.,  1.,  1.,  1.,  1.,  1.,\n",
      "         1.,  1.,  1.,  1.,  1.,  1.,  1.,  1.,  1.,  1.,  1.,  1.,  1.,  1.,\n",
      "         1.,  1.,  1.,  1.,  1.,  1.,  1.,  1.,  1.,  1.,  1.,  1.,  1.,  1.,\n",
      "         1.,  1.,  1.,  1.,  1.,  1.,  1.,  1.,  1.,  1.,  1.,  1.,  1.,  1.,\n",
      "         1.,  1.,  1.,  1.,  1.,  1.,  1.,  1.,  1.,  1.,  1.,  1.,  1.,  1.,\n",
      "         1.,  1.,  1.,  1.,  1.,  1.,  1.,  1.,  1.,  1.,  1.,  1.,  1.,  1.,\n",
      "         1.,  1.,  1.,  1.], device='mps:0')\n"
     ]
    }
   ],
   "source": [
    "print(DYS_net.b)"
   ]
  },
  {
   "cell_type": "code",
   "execution_count": 30,
   "metadata": {},
   "outputs": [
    {
     "data": {
      "text/plain": [
       "tensor(80.3926, device='mps:0')"
      ]
     },
     "execution_count": 30,
     "metadata": {},
     "output_type": "execute_result"
    }
   ],
   "source": [
    "torch.norm(weights)"
   ]
  },
  {
   "cell_type": "markdown",
   "metadata": {},
   "source": [
    "# 3. Preparing the benchmark approaches"
   ]
  },
  {
   "cell_type": "code",
   "execution_count": 31,
   "metadata": {},
   "outputs": [],
   "source": [
    "optmodel = pyepo.model.grb.knapsackModel(weights_numpy, capacities_numpy)\n",
    "val_net = ValPredictNet(num_constraints, num_item, num_feat, device=device)\n",
    "val_net.to(device)\n",
    "max_epochs = 10"
   ]
  },
  {
   "cell_type": "code",
   "execution_count": 32,
   "metadata": {},
   "outputs": [],
   "source": [
    "## Train a two-stage approach\n",
    "optimizer = optim.Adam(val_net.parameters(), lr=1e-2)\n",
    "criterion = nn.MSELoss()\n",
    "scheduler = ReduceLROnPlateau(optimizer, 'min')"
   ]
  },
  {
   "cell_type": "code",
   "execution_count": 33,
   "metadata": {},
   "outputs": [
    {
     "name": "stdout",
     "output_type": "stream",
     "text": [
      "epoch:  0 test loss is  6.611246109008789\n",
      "epoch:  1 test loss is  3.933697462081909\n",
      "epoch:  2 test loss is  3.5205788612365723\n",
      "epoch:  3 test loss is  3.3509225845336914\n",
      "epoch:  4 test loss is  3.2458724975585938\n",
      "epoch:  5 test loss is  3.165217399597168\n",
      "epoch:  6 test loss is  3.1080434322357178\n",
      "epoch:  7 test loss is  3.0606706142425537\n",
      "epoch:  8 test loss is  3.0264034271240234\n",
      "epoch:  9 test loss is  2.99825119972229\n",
      "epoch:  10 test loss is  2.9851582050323486\n"
     ]
    }
   ],
   "source": [
    "epoch = 0\n",
    "while epoch <= max_epochs:\n",
    "    for d_batch, w_batch, opt_sol, opt_value in loader_train:\n",
    "        d_batch = d_batch.to(device)\n",
    "        w_batch = w_batch.to(device)\n",
    "        opt_sol = opt_sol.to(device)\n",
    "        opt_value = opt_value.to(device)\n",
    "        val_net.train()\n",
    "        optimizer.zero_grad()\n",
    "        w_predicted = val_net(d_batch)\n",
    "        loss = criterion(w_batch, w_predicted)\n",
    "        loss.backward()\n",
    "        optimizer.step()\n",
    "        train_loss_ave = 0.95*train_loss_ave + 0.05*loss.item()\n",
    "        \n",
    "    val_net.eval()\n",
    "    test_loss = 0\n",
    "    for d_batch, w_batch, opt_sol, opt_value in loader_test:\n",
    "        d_batch = d_batch.to(device)\n",
    "        w_batch = w_batch.to(device)\n",
    "        opt_sol = opt_sol.to(device)\n",
    "        opt_value = opt_value.to(device)\n",
    "        w_predicted = val_net(d_batch)\n",
    "        test_loss += criterion(w_batch, w_predicted)\n",
    "    \n",
    "    # print(predicted)\n",
    "    scheduler.step(test_loss)\n",
    "    test_loss_hist.append(test_loss)\n",
    "    print('epoch: ', epoch, 'test loss is ', test_loss.item())\n",
    "    epoch += 1"
   ]
  },
  {
   "cell_type": "code",
   "execution_count": 34,
   "metadata": {},
   "outputs": [
    {
     "name": "stdout",
     "output_type": "stream",
     "text": [
      "Optimal value is  [38.]  while predicted value is  34.0\n",
      "Optimal value is  [42.]  while predicted value is  37.0\n",
      "Optimal value is  [33.]  while predicted value is  31.0\n",
      "Optimal value is  [40.]  while predicted value is  26.0\n",
      "Optimal value is  [53.]  while predicted value is  41.0\n",
      "Optimal value is  [39.]  while predicted value is  31.0\n",
      "Optimal value is  [42.]  while predicted value is  37.0\n",
      "Optimal value is  [32.]  while predicted value is  21.0\n",
      "Optimal value is  [55.]  while predicted value is  47.0\n",
      "Optimal value is  [50.]  while predicted value is  48.0\n",
      "Optimal value is  [42.]  while predicted value is  37.0\n",
      "Optimal value is  [33.]  while predicted value is  25.0\n",
      "Optimal value is  [41.]  while predicted value is  36.0\n",
      "Optimal value is  [40.]  while predicted value is  31.0\n",
      "Optimal value is  [36.]  while predicted value is  34.0\n",
      "Optimal value is  [50.]  while predicted value is  44.0\n",
      "Optimal value is  [41.]  while predicted value is  30.0\n",
      "Optimal value is  [46.]  while predicted value is  44.0\n",
      "Optimal value is  [35.]  while predicted value is  24.0\n",
      "Optimal value is  [37.]  while predicted value is  34.0\n",
      "Optimal value is  [39.]  while predicted value is  33.0\n",
      "Optimal value is  [40.]  while predicted value is  38.0\n",
      "Optimal value is  [36.]  while predicted value is  33.0\n",
      "Optimal value is  [37.]  while predicted value is  29.0\n",
      "Optimal value is  [47.]  while predicted value is  36.0\n",
      "Optimal value is  [59.]  while predicted value is  50.0\n",
      "Optimal value is  [60.]  while predicted value is  54.0\n",
      "Optimal value is  [42.]  while predicted value is  42.0\n",
      "Optimal value is  [56.]  while predicted value is  44.0\n",
      "Optimal value is  [32.]  while predicted value is  24.0\n",
      "Optimal value is  [44.]  while predicted value is  40.0\n",
      "Optimal value is  [45.]  while predicted value is  35.0\n",
      "Optimal value is  [44.]  while predicted value is  36.0\n",
      "Optimal value is  [50.]  while predicted value is  41.0\n",
      "Optimal value is  [41.]  while predicted value is  37.0\n",
      "Optimal value is  [53.]  while predicted value is  46.0\n",
      "Optimal value is  [45.]  while predicted value is  36.0\n",
      "Optimal value is  [47.]  while predicted value is  36.0\n",
      "Optimal value is  [37.]  while predicted value is  34.0\n",
      "Optimal value is  [42.]  while predicted value is  37.0\n",
      "Optimal value is  [35.]  while predicted value is  30.0\n",
      "Optimal value is  [45.]  while predicted value is  33.0\n",
      "Optimal value is  [48.]  while predicted value is  38.0\n",
      "Optimal value is  [36.]  while predicted value is  28.0\n",
      "Optimal value is  [38.]  while predicted value is  34.0\n",
      "Optimal value is  [40.]  while predicted value is  33.0\n",
      "Optimal value is  [45.]  while predicted value is  38.0\n",
      "Optimal value is  [50.]  while predicted value is  44.0\n",
      "Optimal value is  [42.]  while predicted value is  30.0\n",
      "Optimal value is  [38.]  while predicted value is  25.0\n",
      "Optimal value is  [34.]  while predicted value is  30.0\n",
      "Optimal value is  [36.]  while predicted value is  29.0\n",
      "Optimal value is  [49.]  while predicted value is  45.0\n",
      "Optimal value is  [42.]  while predicted value is  37.0\n",
      "Optimal value is  [38.]  while predicted value is  32.0\n",
      "Optimal value is  [34.]  while predicted value is  30.0\n",
      "Optimal value is  [36.]  while predicted value is  32.0\n",
      "Optimal value is  [43.]  while predicted value is  35.0\n",
      "Optimal value is  [37.]  while predicted value is  30.0\n",
      "Optimal value is  [45.]  while predicted value is  30.0\n",
      "Optimal value is  [36.]  while predicted value is  21.0\n",
      "Optimal value is  [45.]  while predicted value is  37.0\n",
      "Optimal value is  [35.]  while predicted value is  28.0\n",
      "Optimal value is  [35.]  while predicted value is  20.0\n",
      "Optimal value is  [38.]  while predicted value is  37.0\n",
      "Optimal value is  [40.]  while predicted value is  32.0\n",
      "Optimal value is  [51.]  while predicted value is  37.0\n",
      "Optimal value is  [38.]  while predicted value is  34.0\n",
      "Optimal value is  [46.]  while predicted value is  42.0\n",
      "Optimal value is  [34.]  while predicted value is  30.0\n",
      "Optimal value is  [40.]  while predicted value is  33.0\n",
      "Optimal value is  [41.]  while predicted value is  37.0\n",
      "Optimal value is  [48.]  while predicted value is  31.0\n",
      "Optimal value is  [46.]  while predicted value is  41.0\n",
      "Optimal value is  [38.]  while predicted value is  29.0\n",
      "Optimal value is  [39.]  while predicted value is  35.0\n",
      "Optimal value is  [48.]  while predicted value is  42.0\n",
      "Optimal value is  [40.]  while predicted value is  30.0\n",
      "Optimal value is  [40.]  while predicted value is  37.0\n",
      "Optimal value is  [44.]  while predicted value is  39.0\n",
      "Optimal value is  [41.]  while predicted value is  26.0\n",
      "Optimal value is  [37.]  while predicted value is  30.0\n",
      "Optimal value is  [42.]  while predicted value is  41.0\n",
      "Optimal value is  [44.]  while predicted value is  38.0\n",
      "Optimal value is  [44.]  while predicted value is  32.0\n",
      "Optimal value is  [32.]  while predicted value is  28.0\n",
      "Optimal value is  [42.]  while predicted value is  40.0\n",
      "Optimal value is  [44.]  while predicted value is  37.0\n",
      "Optimal value is  [43.]  while predicted value is  37.0\n",
      "Optimal value is  [44.]  while predicted value is  34.0\n",
      "Optimal value is  [44.]  while predicted value is  38.0\n",
      "Optimal value is  [38.]  while predicted value is  31.0\n",
      "Optimal value is  [44.]  while predicted value is  28.0\n",
      "Optimal value is  [35.]  while predicted value is  26.0\n",
      "Optimal value is  [52.]  while predicted value is  47.0\n",
      "Optimal value is  [38.]  while predicted value is  30.0\n",
      "Optimal value is  [39.]  while predicted value is  32.0\n",
      "Optimal value is  [35.]  while predicted value is  26.0\n",
      "Optimal value is  [32.]  while predicted value is  31.0\n",
      "Optimal value is  [32.]  while predicted value is  26.0\n"
     ]
    }
   ],
   "source": [
    "# compare solutions\n",
    "for d_batch, w_batch, opt_sol, opt_value in loader_test:\n",
    "    # load data\n",
    "    # convert to numpy\n",
    "    d_batch = d_batch.to(device)\n",
    "    # d_batch = d_batch.to(\"cpu\").detach().numpy()\n",
    "    w_batch = w_batch.to(\"cpu\").detach().numpy()\n",
    "    opt_sol = opt_sol.to(\"cpu\").detach().numpy()\n",
    "    opt_value = opt_value.to(\"cpu\").detach().numpy()\n",
    "    # predict\n",
    "    w_predicted = val_net(d_batch)\n",
    "    # print(w_predicted)\n",
    "    batch_size = d_batch.shape[0]\n",
    "    regret = 0\n",
    "    for i in range(batch_size):\n",
    "        optmodel.setObj(w_predicted[i])\n",
    "        pred_sol, pred_val = optmodel.solve()\n",
    "        regret += np.max(np.squeeze(opt_value[i]) - np.dot(w_batch[i], pred_sol),0)\n",
    "        # print((opt_value[i] - pred_val)/opt_value[i])\n",
    "        print('Optimal value is ', opt_value[i], ' while predicted value is ', np.dot(w_batch[i], pred_sol))\n",
    "#     if i == ind:\n",
    "#         # solve\n",
    "#         optmodel.setObj(cp[0])\n",
    "#         wp, _ = optmodel.solve()\n",
    "#         fig = plotSol(m, c, wp, weights, caps, \"Two-Stage with Linear Regression\")\n",
    "#         break\n",
    "\n",
    "    normalized_regret = regret/np.sum(opt_value)"
   ]
  },
  {
   "cell_type": "code",
   "execution_count": 35,
   "metadata": {},
   "outputs": [
    {
     "name": "stdout",
     "output_type": "stream",
     "text": [
      "0.17083734359961503\n"
     ]
    }
   ],
   "source": [
    "print(normalized_regret)"
   ]
  },
  {
   "cell_type": "code",
   "execution_count": 36,
   "metadata": {},
   "outputs": [
    {
     "name": "stdout",
     "output_type": "stream",
     "text": [
      "Num of cores: 1\n"
     ]
    }
   ],
   "source": [
    "## SPO+ Loss\n",
    "# initialize value-prediction network\n",
    "device = 'cpu'\n",
    "val_net2 = ValPredictNet(num_constraints, num_item, num_feat, device=device)\n",
    "val_net2.to(device)\n",
    "# set optimizer\n",
    "optimizer = torch.optim.Adam(val_net2.parameters(), lr=1e-2)\n",
    "# init SPO+ loss\n",
    "criterion = pyepo.func.SPOPlus(optmodel, processes=1)\n",
    "\n",
    "\n",
    "# # train model\n",
    "# num_epochs = 20\n",
    "# reg.train()\n",
    "# for epoch in range(num_epochs):\n",
    "#     # load data\n",
    "#     for i, data in enumerate(loader_train):\n",
    "#         x, c, w, z = data\n",
    "#         # cudaa\n",
    "#         if torch.cuda.is_available():\n",
    "#             x, c, w, z = x.cuda(), c.cuda(), w.cuda(), z.cuda()\n",
    "#         # forward pass\n",
    "#         cp = reg(x)\n",
    "#         # spo+ loss\n",
    "#         loss = spop(cp, c, w, z).mean()\n",
    "#         # backward pass\n",
    "#         optimizer.zero_grad()\n",
    "#         loss.backward()\n",
    "#         optimizer.step()\n",
    "#     if epoch % 5 == 0:\n",
    "#         # regret\n",
    "#         regret = pyepo.metric.regret(reg, optmodel, loader_test)\n",
    "#         print(\"Epoch {:3}, Loss: {:8.4f}, Regret: {:7.4f}%\".format(epoch, loss.item(), regret*100))\n",
    "# # regret\n",
    "# regret = pyepo.metric.regret(reg, optmodel, loader_test)\n",
    "# print(\"Epoch {:3}, Loss: {:8.4f}, Regret: {:7.4f}%\".format(epoch, loss.item(), regret*100))"
   ]
  },
  {
   "cell_type": "code",
   "execution_count": 37,
   "metadata": {},
   "outputs": [
    {
     "name": "stdout",
     "output_type": "stream",
     "text": [
      "epoch:  0 test loss is  21.098979949951172\n",
      "epoch:  1 test loss is  19.743213653564453\n",
      "epoch:  2 test loss is  19.175342559814453\n",
      "epoch:  3 test loss is  18.501697540283203\n",
      "epoch:  4 test loss is  18.271207809448242\n",
      "epoch:  5 test loss is  18.415706634521484\n",
      "epoch:  6 test loss is  18.457067489624023\n",
      "epoch:  7 test loss is  18.404882431030273\n",
      "epoch:  8 test loss is  18.315059661865234\n",
      "epoch:  9 test loss is  18.289501190185547\n",
      "epoch:  10 test loss is  18.100351333618164\n"
     ]
    }
   ],
   "source": [
    "# train model\n",
    "epoch = 0\n",
    "while epoch <= max_epochs:\n",
    "    for d_batch, w_batch, opt_sol, opt_value in loader_train:\n",
    "        d_batch = d_batch.to(device)\n",
    "        w_batch = w_batch.to(device)\n",
    "        opt_sol = opt_sol.to(device)\n",
    "        opt_value = opt_value.to(device)\n",
    "        val_net2.train()\n",
    "        optimizer.zero_grad()\n",
    "        w_predicted = val_net2(d_batch)\n",
    "        loss = criterion(w_predicted, w_batch, opt_sol, opt_value).mean()\n",
    "        loss.backward()\n",
    "        optimizer.step()\n",
    "        train_loss_ave = 0.95*train_loss_ave + 0.05*loss.item()\n",
    "        \n",
    "    val_net2.eval()\n",
    "    test_loss = 0\n",
    "    for d_batch, w_batch, opt_sol, opt_value in loader_test:\n",
    "        d_batch = d_batch.to(device)\n",
    "        w_batch = w_batch.to(device)\n",
    "        opt_sol = opt_sol.to(device)\n",
    "        opt_value = opt_value.to(device)\n",
    "        w_predicted = val_net2(d_batch)\n",
    "        #print(w_predicted[0])\n",
    "        test_loss += criterion(w_predicted, w_batch, opt_sol, opt_value).mean()\n",
    "    \n",
    "    # print(predicted)\n",
    "    #scheduler.step(test_loss)\n",
    "    test_loss_hist.append(test_loss)\n",
    "    print('epoch: ', epoch, 'test loss is ', test_loss.item())\n",
    "    epoch += 1"
   ]
  },
  {
   "cell_type": "code",
   "execution_count": null,
   "metadata": {},
   "outputs": [],
   "source": []
  }
 ],
 "metadata": {
  "kernelspec": {
   "display_name": "Python 3 (ipykernel)",
   "language": "python",
   "name": "python3"
  },
  "language_info": {
   "codemirror_mode": {
    "name": "ipython",
    "version": 3
   },
   "file_extension": ".py",
   "mimetype": "text/x-python",
   "name": "python",
   "nbconvert_exporter": "python",
   "pygments_lexer": "ipython3",
   "version": "3.10.10"
  }
 },
 "nbformat": 4,
 "nbformat_minor": 4
}

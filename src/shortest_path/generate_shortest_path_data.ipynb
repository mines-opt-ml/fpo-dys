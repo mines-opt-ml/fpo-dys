{
 "cells": [
  {
   "cell_type": "markdown",
   "metadata": {
    "id": "fnpzZdc01IvW"
   },
   "source": [
    "## Description\n",
    "This notebook generates the data for the shortest problem. We generate two versions of the same data: one where graphs are vertex-weighted and one where graphs are edge-weighted. The data consists of:\n",
    "  - pairs (d,x) where d is a five dim contextual vector and x encodes the shortest path. In the **v**ertex version of the data set, the path is represented via a binary $m\\times m$ matrix with ones indicating the vertices traversed by the path. In the **e**dge version, the data set is represented via a binary $|E|$ vector, where $|E|$ is the number of edges. \n",
    "  - W, a d-by-m^2 matrix which maps contexts to vertex weights.\n",
    "  - A, the vertex-edge adjacency matrix. b a vector\n",
    "  - Some useful metadata, e.g. the number of edges, and an edge list."
   ]
  },
  {
   "cell_type": "code",
   "execution_count": 6,
   "metadata": {
    "id": "iGYw-_NI1Iva"
   },
   "outputs": [],
   "source": [
    "import torch\n",
    "import time\n",
    "\n",
    "import sys\n",
    "root_dir = \"../../\"\n",
    "sys.path.append(root_dir)\n",
    "\n",
    "from matplotlib import pyplot as plt\n",
    "from torch.utils.data import DataLoader\n",
    "from src.utils import edge_to_node, create_shortest_path_data\n",
    "\n",
    "\n"
   ]
  },
  {
   "cell_type": "code",
   "execution_count": 13,
   "metadata": {
    "id": "ssvGZ8201Ivc"
   },
   "outputs": [],
   "source": [
    "## Fix some parameters\n",
    "train_size = 10000\n",
    "test_size = 200\n",
    "context_size = 5\n",
    "# m_max = 25 # generate m-by-m graphs, with m in increments of 5, between 5 and m_max inclusive. "
   ]
  },
  {
   "cell_type": "code",
   "execution_count": 14,
   "metadata": {
    "colab": {
     "base_uri": "https://localhost:8080/"
    },
    "id": "ZBr2WNgT1Ivc",
    "outputId": "35bbc070-b068-4b1f-88fd-0fd092622765"
   },
   "outputs": [
    {
     "name": "stdout",
     "output_type": "stream",
     "text": [
      "Start building dataset for m = 5\n",
      "Created data! Now saving\n",
      "Finished building dataset for m = 5 , Time =  9.458921909332275  seconds\n"
     ]
    }
   ],
   "source": [
    "# Loop over graph sizes\n",
    "# grid_array = [5,10,15,20,25,50,100]\n",
    "# for m in grid_array:\n",
    "m = 5\n",
    "start_time = time.time()\n",
    "print('Start building dataset for m = ' + str(m))\n",
    "train_dataset_v, test_dataset_v, train_dataset_e, test_dataset_e, WW, A, b, num_edges, Edge_list = create_shortest_path_data(m, train_size, test_size, context_size)\n",
    "end_time = time.time()\n",
    "print('Created data! Now saving')\n",
    "state = {\n",
    "      'WW': WW,\n",
    "      'train_dataset_v': train_dataset_v,\n",
    "      'test_dataset_v': test_dataset_v,\n",
    "      'train_dataset_e': train_dataset_e,\n",
    "      'test_dataset_e': test_dataset_e,\n",
    "      'm': m,\n",
    "      'A':A,\n",
    "      'b':b,\n",
    "      'num_edges': num_edges,\n",
    "      'Edge_list': Edge_list,\n",
    "      }\n",
    "save_dir = './shortest_path_data/' ############# CHANGE THIS BACK TO shortest_path_data\n",
    "state_path = save_dir + 'Shortest_Path_training_data' + str(m) +'.pth'\n",
    "torch.save(state, state_path)\n",
    "print('Finished building dataset for m = ' + str(m), ', Time = ', end_time - start_time, ' seconds')"
   ]
  },
  {
   "cell_type": "markdown",
   "metadata": {
    "id": "_P_vred41Ive"
   },
   "source": [
    "## Examine some paths\n",
    "The next two blocks are test code to see if the new data generating functions are working."
   ]
  },
  {
   "cell_type": "code",
   "execution_count": 11,
   "metadata": {
    "id": "13vOhqn21Ive"
   },
   "outputs": [],
   "source": [
    "## Examine some paths\n",
    "state = torch.load('./shortest_path_data/Shortest_Path_training_data5.pth')\n",
    "\n",
    "## Extract data from state\n",
    "train_dataset_e = state['train_dataset_e']\n",
    "test_dataset_e = state['test_dataset_e']\n",
    "train_dataset_v = state['train_dataset_v']\n",
    "test_dataset_v = state['test_dataset_v']\n",
    "m = state[\"m\"]\n",
    "A = state[\"A\"].float()\n",
    "b = state[\"b\"].float()\n",
    "num_edges = state[\"num_edges\"]\n",
    "Edge_list = state[\"Edge_list\"]\n",
    "Edge_list_torch = torch.tensor(Edge_list)"
   ]
  },
  {
   "cell_type": "markdown",
   "metadata": {
    "id": "HUjJnKwh1Ivj"
   },
   "source": [
    "## Visualization\n",
    "The next block of code visually verifies that the data in **v**ertex format and **e**dge format are the same. For any choise of `i`, the two paths illustrated should be the same."
   ]
  },
  {
   "cell_type": "code",
   "execution_count": 12,
   "metadata": {
    "id": "boPxUzcp1Ivk",
    "outputId": "eaf44886-ca1d-4201-f21f-d6f17fec9a23"
   },
   "outputs": [
    {
     "data": {
      "image/png": "[encoded data removed]",
      "text/plain": [
       "<Figure size 640x480 with 1 Axes>"
      ]
     },
     "metadata": {},
     "output_type": "display_data"
    },
    {
     "data": {
      "image/png": "[encoded data removed]",
      "text/plain": [
       "<Figure size 640x480 with 1 Axes>"
      ]
     },
     "metadata": {},
     "output_type": "display_data"
    }
   ],
   "source": [
    "train_loader_e = DataLoader(dataset=train_dataset_e, batch_size=200,\n",
    "                                  shuffle=False)\n",
    "d_batch_e, path_batch_e = next(iter(train_loader_e))\n",
    "\n",
    "train_loader_v = DataLoader(dataset=train_dataset_v, batch_size=200,\n",
    "                                  shuffle=False)\n",
    "d_batch_v, path_batch_v = next(iter(train_loader_v))\n",
    "\n",
    "# Choose a sample\n",
    "i = 47\n",
    "\n",
    "plt.imshow(path_batch_v[i,:,:])\n",
    "plt.show()\n",
    "plt.imshow(edge_to_node(path_batch_e[i,:], Edge_list, m, 'cpu'))\n",
    "plt.show()"
   ]
  },
  {
   "cell_type": "code",
   "execution_count": null,
   "metadata": {},
   "outputs": [],
   "source": []
  }
 ],
 "metadata": {
  "colab": {
   "provenance": []
  },
  "kernelspec": {
   "display_name": "Python 3 (ipykernel)",
   "language": "python",
   "name": "python3"
  },
  "language_info": {
   "codemirror_mode": {
    "name": "ipython",
    "version": 3
   },
   "file_extension": ".py",
   "mimetype": "text/x-python",
   "name": "python",
   "nbconvert_exporter": "python",
   "pygments_lexer": "ipython3",
   "version": "3.10.10"
  }
 },
 "nbformat": 4,
 "nbformat_minor": 1
}

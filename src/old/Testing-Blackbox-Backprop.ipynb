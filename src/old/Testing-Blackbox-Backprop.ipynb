{
 "cells": [
  {
   "cell_type": "markdown",
   "metadata": {},
   "source": [
    "## Introduction\n",
    "Testing the approach described in [this](https://arxiv.org/abs/1912.02175/) paper"
   ]
  },
  {
   "cell_type": "code",
   "execution_count": 1,
   "metadata": {},
   "outputs": [
    {
     "name": "stdout",
     "output_type": "stream",
     "text": [
      "GurobiPy missing, TSP module not available\n"
     ]
    }
   ],
   "source": [
    "import torch\n",
    "import torch.nn as nn\n",
    "import matplotlib.pyplot as plt\n",
    "import time as time\n",
    "import blackbox_backprop as bb\n",
    "\n",
    "import torch.optim as optim\n",
    "from torch.optim.lr_scheduler import ReduceLROnPlateau\n",
    "from torch.utils.data import Dataset, TensorDataset, DataLoader\n",
    "import time as time"
   ]
  },
  {
   "cell_type": "code",
   "execution_count": 26,
   "metadata": {},
   "outputs": [],
   "source": [
    "class bb_net(nn.Module):\n",
    "    '''\n",
    "    This net is equipped to run an m-by-m grid graphs. No A matrix is necessary.\n",
    "    '''\n",
    "    def __init__(self, m, context_size, device='cpu'):\n",
    "        super().__init__()\n",
    "        self.m = m\n",
    "        self.device = device\n",
    "        self.hidden_dim = 2*context_size  # Need to use a much larger network to get good results.\n",
    "        # self.shortestPath = bb.ShortestPath()\n",
    "\n",
    "        ## Standard layers\n",
    "        self.fc_1 = nn.Linear(context_size, self.hidden_dim)\n",
    "        self.fc_2 = nn.Linear(self.hidden_dim, self.m**2)\n",
    "        self.leaky_relu = nn.LeakyReLU(0.1)\n",
    "        \n",
    "    def forward(self, d):\n",
    "        w = self.leaky_relu(self.fc_1(d))\n",
    "        w = self.fc_2(w)\n",
    "        suggested_weights = w.view(w.shape[0], self.m, self.m)\n",
    "        # suggested_shortest_paths = bb.ShortestPath.apply(suggested_weights, 5.0)\n",
    "        \n",
    "        return suggested_weights"
   ]
  },
  {
   "cell_type": "code",
   "execution_count": 27,
   "metadata": {},
   "outputs": [],
   "source": [
    "BB_net = bb_net(10, 5)"
   ]
  },
  {
   "cell_type": "code",
   "execution_count": 28,
   "metadata": {},
   "outputs": [],
   "source": [
    "## Load data\n",
    "grid_size = 10\n",
    "data_path = './shortest_path_data/Shortest_Path_training_data'+str(grid_size)+'.pth'\n",
    "state = torch.load(data_path)\n",
    "\n",
    "## Extract data from state\n",
    "train_dataset_e = state['train_dataset_e']\n",
    "test_dataset_e = state['test_dataset_e']\n",
    "train_dataset_v = state['train_dataset_v']\n",
    "test_dataset_v = state['test_dataset_v']\n",
    "m = state[\"m\"]\n",
    "A = state[\"A\"].float()\n",
    "b = state[\"b\"].float()\n",
    "WW = state[\"WW\"].float()\n",
    "num_edges = state[\"num_edges\"]\n",
    "Edge_list = state[\"Edge_list\"]\n",
    "Edge_list_torch = torch.tensor(Edge_list)"
   ]
  },
  {
   "cell_type": "code",
   "execution_count": 29,
   "metadata": {},
   "outputs": [],
   "source": [
    "## Training setup\n",
    "train_dataset = train_dataset_v\n",
    "test_dataset = test_dataset_v\n",
    "net = BB_net\n",
    "learning_rate = 1e-3\n",
    "\n",
    "test_size = 200\n",
    "train_loader = DataLoader(dataset=train_dataset, batch_size=100,\n",
    "                              shuffle=True)\n",
    "test_loader = DataLoader(dataset=test_dataset, batch_size=test_size,\n",
    "                             shuffle=False)\n",
    "\n",
    "optimizer = optim.SGD(net.parameters(), lr=learning_rate)\n",
    "scheduler = ReduceLROnPlateau(optimizer, 'min', factor=0.5)\n",
    "criterion = nn.MSELoss()\n",
    "\n",
    "## Initialize arrays that will be returned.\n",
    "test_loss_hist= []\n",
    "test_acc_hist = []\n",
    "train_time = [0]\n",
    "train_loss_ave = 0\n",
    "max_time = 3600"
   ]
  },
  {
   "cell_type": "code",
   "execution_count": 30,
   "metadata": {},
   "outputs": [],
   "source": [
    "class HammingLoss(torch.nn.Module):\n",
    "    def forward(self, suggested, target):\n",
    "        errors = suggested * (1.0 - target) + (1.0 - suggested) * target\n",
    "        return errors.mean(dim=0).sum()\n",
    "        # return (torch.mean(suggested*(1.0-target)) + torch.mean((1.0-suggested)*target)) * 25.0\n"
   ]
  },
  {
   "cell_type": "code",
   "execution_count": 31,
   "metadata": {},
   "outputs": [],
   "source": [
    "# This is the lost function used in the original paper. We can try it, but it doesn't seem to \n",
    "# perform significantly better then nn.MSE\n",
    "# criterion = HammingLoss()"
   ]
  },
  {
   "cell_type": "code",
   "execution_count": 32,
   "metadata": {},
   "outputs": [
    {
     "name": "stdout",
     "output_type": "stream",
     "text": [
      "epoch: 0 , test_loss =  28.970001220703125\n",
      "epoch: 1 , test_loss =  26.48999786376953\n",
      "epoch: 2 , test_loss =  24.89999771118164\n",
      "epoch: 3 , test_loss =  23.349998474121094\n",
      "epoch: 4 , test_loss =  23.119998931884766\n",
      "epoch: 5 , test_loss =  23.189998626708984\n",
      "epoch: 6 , test_loss =  23.209999084472656\n",
      "epoch: 7 , test_loss =  23.029998779296875\n",
      "epoch: 8 , test_loss =  23.049999237060547\n",
      "epoch: 9 , test_loss =  23.220001220703125\n",
      "epoch: 10 , test_loss =  22.25\n",
      "epoch: 11 , test_loss =  21.89999771118164\n",
      "epoch: 12 , test_loss =  21.889999389648438\n",
      "epoch: 13 , test_loss =  21.849998474121094\n",
      "epoch: 14 , test_loss =  22.0\n",
      "epoch: 15 , test_loss =  22.099998474121094\n",
      "epoch: 16 , test_loss =  21.93000030517578\n",
      "epoch: 17 , test_loss =  21.959999084472656\n",
      "epoch: 18 , test_loss =  21.94999885559082\n",
      "epoch: 19 , test_loss =  22.0\n",
      "epoch: 20 , test_loss =  22.09000015258789\n",
      "epoch: 21 , test_loss =  22.040000915527344\n",
      "epoch: 22 , test_loss =  22.06999969482422\n",
      "epoch: 23 , test_loss =  22.03999900817871\n",
      "epoch: 24 , test_loss =  22.23999786376953\n",
      "epoch: 25 , test_loss =  22.119998931884766\n",
      "epoch: 26 , test_loss =  22.099998474121094\n",
      "epoch: 27 , test_loss =  22.079999923706055\n",
      "epoch: 28 , test_loss =  22.030000686645508\n",
      "epoch: 29 , test_loss =  22.030000686645508\n",
      "epoch: 30 , test_loss =  22.049999237060547\n",
      "epoch: 31 , test_loss =  21.98999786376953\n",
      "epoch: 32 , test_loss =  21.959999084472656\n",
      "epoch: 33 , test_loss =  21.939998626708984\n",
      "epoch: 34 , test_loss =  21.969999313354492\n",
      "epoch: 35 , test_loss =  21.970001220703125\n",
      "epoch: 36 , test_loss =  22.009998321533203\n",
      "epoch: 37 , test_loss =  22.009998321533203\n",
      "epoch: 38 , test_loss =  22.029998779296875\n",
      "epoch: 39 , test_loss =  21.979999542236328\n",
      "epoch: 40 , test_loss =  21.989999771118164\n",
      "epoch: 41 , test_loss =  22.020000457763672\n",
      "epoch: 42 , test_loss =  21.989999771118164\n",
      "epoch: 43 , test_loss =  22.0\n",
      "epoch: 44 , test_loss =  22.009998321533203\n",
      "epoch: 45 , test_loss =  22.03999900817871\n",
      "epoch: 46 , test_loss =  21.979999542236328\n",
      "epoch: 47 , test_loss =  22.010000228881836\n",
      "epoch: 48 , test_loss =  22.010000228881836\n",
      "epoch: 49 , test_loss =  22.010000228881836\n",
      "epoch: 50 , test_loss =  22.010000228881836\n",
      "epoch: 51 , test_loss =  22.010000228881836\n",
      "epoch: 52 , test_loss =  22.01999855041504\n",
      "epoch: 53 , test_loss =  22.029998779296875\n",
      "epoch: 54 , test_loss =  22.01999855041504\n",
      "epoch: 55 , test_loss =  22.029998779296875\n",
      "epoch: 56 , test_loss =  22.049999237060547\n",
      "epoch: 57 , test_loss =  22.009998321533203\n",
      "epoch: 58 , test_loss =  22.009998321533203\n",
      "epoch: 59 , test_loss =  22.009998321533203\n",
      "epoch: 60 , test_loss =  21.98999786376953\n",
      "epoch: 61 , test_loss =  21.98999786376953\n",
      "epoch: 62 , test_loss =  21.979999542236328\n",
      "epoch: 63 , test_loss =  21.979999542236328\n",
      "epoch: 64 , test_loss =  21.979999542236328\n",
      "epoch: 65 , test_loss =  21.979999542236328\n",
      "epoch: 66 , test_loss =  21.979999542236328\n",
      "epoch: 67 , test_loss =  21.979999542236328\n",
      "epoch: 68 , test_loss =  21.979999542236328\n",
      "epoch: 69 , test_loss =  21.979999542236328\n",
      "epoch: 70 , test_loss =  21.979999542236328\n",
      "epoch: 71 , test_loss =  21.979999542236328\n",
      "epoch: 72 , test_loss =  21.979999542236328\n",
      "epoch: 73 , test_loss =  21.979999542236328\n",
      "epoch: 74 , test_loss =  21.979999542236328\n",
      "epoch: 75 , test_loss =  21.979999542236328\n",
      "epoch: 76 , test_loss =  21.979999542236328\n",
      "epoch: 77 , test_loss =  21.979999542236328\n",
      "epoch: 78 , test_loss =  21.979999542236328\n",
      "epoch: 79 , test_loss =  21.979999542236328\n",
      "epoch: 80 , test_loss =  21.979999542236328\n",
      "epoch: 81 , test_loss =  21.979999542236328\n",
      "epoch: 82 , test_loss =  21.979999542236328\n",
      "epoch: 83 , test_loss =  21.979999542236328\n",
      "epoch: 84 , test_loss =  21.959999084472656\n",
      "epoch: 85 , test_loss =  21.959999084472656\n",
      "epoch: 86 , test_loss =  21.959999084472656\n",
      "epoch: 87 , test_loss =  21.959999084472656\n",
      "epoch: 88 , test_loss =  21.959999084472656\n",
      "epoch: 89 , test_loss =  21.959999084472656\n",
      "epoch: 90 , test_loss =  21.959999084472656\n",
      "epoch: 91 , test_loss =  21.959999084472656\n",
      "epoch: 92 , test_loss =  21.959999084472656\n",
      "epoch: 93 , test_loss =  21.959999084472656\n",
      "epoch: 94 , test_loss =  21.959999084472656\n",
      "epoch: 95 , test_loss =  21.959999084472656\n",
      "epoch: 96 , test_loss =  21.959999084472656\n",
      "epoch: 97 , test_loss =  21.959999084472656\n",
      "epoch: 98 , test_loss =  21.959999084472656\n",
      "epoch: 99 , test_loss =  21.959999084472656\n"
     ]
    }
   ],
   "source": [
    "## Train!\n",
    "max_epochs = 100\n",
    "device = 'mps' # 'cuda:0'\n",
    "net.to(device)\n",
    "hammingLoss = HammingLoss()\n",
    "\n",
    "for epoch in range(max_epochs):\n",
    "    net.train()\n",
    "    for d_batch, path_batch in train_loader:\n",
    "            d_batch = d_batch.to(device)\n",
    "            path_batch =path_batch.to(device)\n",
    "            optimizer.zero_grad()\n",
    "            # suggested_shortest_paths = net(d_batch)\n",
    "            suggested_weights = net(d_batch)\n",
    "            suggested_shortest_paths = bb.ShortestPath.apply(suggested_weights, 5.0) # Set the lambda hyperparameter\n",
    "            # print(suggested_shortest_paths.shape)\n",
    "            loss = hammingLoss(suggested_shortest_paths, path_batch)\n",
    "            # loss = criterion(suggested_shortest_paths, path_batch)\n",
    "            train_loss_ave = loss.item()\n",
    "            loss.backward()\n",
    "            optimizer.step()\n",
    "    net.eval()\n",
    "    for d_batch, path_batch in test_loader:\n",
    "        d_batch = d_batch.to(device)\n",
    "        path_batch =path_batch.to(device)\n",
    "        optimizer.zero_grad()\n",
    "        # suggested_shortest_paths = net(d_batch)\n",
    "        suggested_weights = net(d_batch)\n",
    "        suggested_shortest_paths = bb.ShortestPath.apply(suggested_weights, 5.0)\n",
    "        loss = hammingLoss(suggested_shortest_paths, path_batch)\n",
    "        test_loss = loss.item()\n",
    "        scheduler.step(test_loss)\n",
    "        print('epoch:', epoch, ', test_loss = ', test_loss)"
   ]
  },
  {
   "cell_type": "code",
   "execution_count": 33,
   "metadata": {},
   "outputs": [],
   "source": [
    "d_batch, path_batch = next(iter(test_loader))\n",
    "d_batch = d_batch.to(device)\n",
    "path_batch = path_batch.to(device)\n",
    "pred_weights = net(d_batch)\n",
    "pred_batch = bb.ShortestPath.apply(pred_weights, 0.0)"
   ]
  },
  {
   "cell_type": "code",
   "execution_count": 34,
   "metadata": {},
   "outputs": [
    {
     "data": {
      "image/png": "[encoded data removed]",
      "text/plain": [
       "<Figure size 640x480 with 3 Axes>"
      ]
     },
     "metadata": {},
     "output_type": "display_data"
    },
    {
     "data": {
      "image/png": "[encoded data removed]",
      "text/plain": [
       "<Figure size 640x480 with 3 Axes>"
      ]
     },
     "metadata": {},
     "output_type": "display_data"
    },
    {
     "data": {
      "image/png": "[encoded data removed]",
      "text/plain": [
       "<Figure size 640x480 with 3 Axes>"
      ]
     },
     "metadata": {},
     "output_type": "display_data"
    },
    {
     "data": {
      "image/png": "[encoded data removed]",
      "text/plain": [
       "<Figure size 640x480 with 3 Axes>"
      ]
     },
     "metadata": {},
     "output_type": "display_data"
    },
    {
     "data": {
      "image/png": "[encoded data removed]",
      "text/plain": [
       "<Figure size 640x480 with 3 Axes>"
      ]
     },
     "metadata": {},
     "output_type": "display_data"
    },
    {
     "data": {
      "image/png": "[encoded data removed]",
      "text/plain": [
       "<Figure size 640x480 with 3 Axes>"
      ]
     },
     "metadata": {},
     "output_type": "display_data"
    },
    {
     "data": {
      "image/png": "[encoded data removed]",
      "text/plain": [
       "<Figure size 640x480 with 3 Axes>"
      ]
     },
     "metadata": {},
     "output_type": "display_data"
    },
    {
     "data": {
      "image/png": "[encoded data removed]",
      "text/plain": [
       "<Figure size 640x480 with 3 Axes>"
      ]
     },
     "metadata": {},
     "output_type": "display_data"
    },
    {
     "data": {
      "image/png": "[encoded data removed]",
      "text/plain": [
       "<Figure size 640x480 with 3 Axes>"
      ]
     },
     "metadata": {},
     "output_type": "display_data"
    },
    {
     "data": {
      "image/png": "[encoded data removed]",
      "text/plain": [
       "<Figure size 640x480 with 3 Axes>"
      ]
     },
     "metadata": {},
     "output_type": "display_data"
    }
   ],
   "source": [
    "import matplotlib.pyplot as plt\n",
    "WW = WW.to(device)\n",
    "sp = bb.ShortestPath()\n",
    "\n",
    "for i in range(10):\n",
    "    fig, (ax1, ax2, ax3) = plt.subplots(1, 3)\n",
    "    ax1.matshow(pred_weights[i,:,:].cpu().detach().numpy())\n",
    "    ax2.matshow(pred_batch[i,:,:].cpu().detach().numpy())\n",
    "    ax3.matshow(path_batch[i,:,:].cpu().detach().numpy())\n",
    "    #plt.matshow(pred_batch[i,:,:].cpu().detach().numpy())\n",
    "    #plt.show()\n",
    "    #plt.matshow(path_batch[i,:,:].cpu().detach().numpy())\n",
    "    #plt.show()\n",
    "    #weights = torch.matmul(WW, d_batch[i]).view((1, 5, 5))\n",
    "    # print(weights)\n",
    "    #pred_sp = sp.apply(weights,20)\n",
    "    #plt.matshow(pred_sp[0,:,:].cpu().detach().numpy())\n",
    "    #plt.show()\n",
    "    "
   ]
  },
  {
   "cell_type": "code",
   "execution_count": 11,
   "metadata": {},
   "outputs": [
    {
     "data": {
      "text/plain": [
       "device(type='mps', index=0)"
      ]
     },
     "execution_count": 11,
     "metadata": {},
     "output_type": "execute_result"
    }
   ],
   "source": [
    "WW.device"
   ]
  },
  {
   "cell_type": "code",
   "execution_count": 24,
   "metadata": {},
   "outputs": [],
   "source": [
    "def get_lr(optimizer):\n",
    "    for p in optimizer.param_groups:\n",
    "        return p[\"lr\"]"
   ]
  },
  {
   "cell_type": "code",
   "execution_count": 25,
   "metadata": {},
   "outputs": [
    {
     "data": {
      "text/plain": [
       "0.00025"
      ]
     },
     "execution_count": 25,
     "metadata": {},
     "output_type": "execute_result"
    }
   ],
   "source": [
    "get_lr(optimizer)"
   ]
  },
  {
   "cell_type": "code",
   "execution_count": null,
   "metadata": {},
   "outputs": [],
   "source": []
  }
 ],
 "metadata": {
  "kernelspec": {
   "display_name": "Python 3 (ipykernel)",
   "language": "python",
   "name": "python3"
  },
  "language_info": {
   "codemirror_mode": {
    "name": "ipython",
    "version": 3
   },
   "file_extension": ".py",
   "mimetype": "text/x-python",
   "name": "python",
   "nbconvert_exporter": "python",
   "pygments_lexer": "ipython3",
   "version": "3.10.10"
  }
 },
 "nbformat": 4,
 "nbformat_minor": 4
}

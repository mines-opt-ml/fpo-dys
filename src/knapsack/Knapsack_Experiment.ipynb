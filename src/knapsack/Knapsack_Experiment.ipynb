{
 "cells": [
  {
   "cell_type": "code",
   "execution_count": 1,
   "id": "9d37fec5",
   "metadata": {},
   "outputs": [
    {
     "name": "stdout",
     "output_type": "stream",
     "text": [
      "Auto-Sklearn cannot be imported.\n"
     ]
    }
   ],
   "source": [
    "from Initialize_and_Train import initialize_and_train\n",
    "from generate_knapsack_data import Gen_Knapsack_data\n",
    "import numpy as np"
   ]
  },
  {
   "cell_type": "code",
   "execution_count": 2,
   "id": "dda79988",
   "metadata": {},
   "outputs": [],
   "source": [
    "models = ['DYS', 'SPO+', 'BBOpt', 'PertOpt', 'PertOpt-FY']\n",
    "item_values = np.arange(30,60,5)\n",
    "num_repeats = 1\n",
    "results_test_loss = np.zeros((len(models), len(item_values), num_repeats))\n",
    "results_train_time = np.zeros((len(models), len(item_values), num_repeats))\n",
    "results_time_till_val_loss = np.zeros((len(models), len(item_values), num_repeats))\n",
    "\n",
    "# hard code some data parameters\n",
    "num_knapsack = 2\n",
    "num_feat = 5\n",
    "num_data = 1100\n",
    "\n",
    "# max values\n",
    "max_epochs = 10\n",
    "# max time hardcoded to 1 hour"
   ]
  },
  {
   "cell_type": "code",
   "execution_count": 3,
   "id": "7fb14fc4",
   "metadata": {},
   "outputs": [
    {
     "name": "stdout",
     "output_type": "stream",
     "text": [
      "Generating training data for knapsack problem with 2 knapsacks and 30 items\n",
      "Restricted license - for non-production use only - expires 2024-10-28\n",
      "Optimizing for optDataset...\n"
     ]
    },
    {
     "name": "stderr",
     "output_type": "stream",
     "text": [
      "100%|████████████████████████████████████████| 900/900 [00:01<00:00, 522.47it/s]\n"
     ]
    },
    {
     "name": "stdout",
     "output_type": "stream",
     "text": [
      "Optimizing for optDataset...\n"
     ]
    },
    {
     "name": "stderr",
     "output_type": "stream",
     "text": [
      "100%|████████████████████████████████████████| 100/100 [00:00<00:00, 420.04it/s]\n"
     ]
    },
    {
     "name": "stdout",
     "output_type": "stream",
     "text": [
      "Optimizing for optDataset...\n"
     ]
    },
    {
     "name": "stderr",
     "output_type": "stream",
     "text": [
      "100%|████████████████████████████████████████| 100/100 [00:00<00:00, 496.22it/s]\n",
      "/Users/danielmckenzie/My-Drive/Research/Fixed_Point_Networks/Diff-Opt-Over-Polytopes-Project/SPO_with_DYS/source/Knapsack/dYS_opt_net.py:29: UserWarning: The operator 'aten::linalg_svd' is not currently supported on the MPS backend and will fall back to run on the CPU. This may have performance implications. (Triggered internally at /Users/runner/work/pytorch/pytorch/pytorch/aten/src/ATen/mps/MPSFallback.mm:11.)\n",
      "  U, s, VT = torch.linalg.svd(self.A, full_matrices=False)\n"
     ]
    },
    {
     "name": "stdout",
     "output_type": "stream",
     "text": [
      "Finished building dataset\n",
      "\n",
      " Currently training DYS\n",
      "\n",
      "Initial validation loss is  0.4470314383506775\n",
      "epoch:  1 validation loss is  0.04916158691048622 epoch time:  1.5471670627593994\n",
      "epoch:  2 validation loss is  0.04458841308951378 epoch time:  1.2285182476043701\n",
      "epoch:  3 validation loss is  0.047256097197532654 epoch time:  1.1927287578582764\n",
      "epoch:  4 validation loss is  0.036966461688280106 epoch time:  1.1612820625305176\n",
      "epoch:  5 validation loss is  0.036966461688280106 epoch time:  1.1341309547424316\n",
      "epoch:  6 validation loss is  0.041158534586429596 epoch time:  1.2286300659179688\n",
      "epoch:  7 validation loss is  0.04153963178396225 epoch time:  1.1661717891693115\n",
      "epoch:  8 validation loss is  0.049542684108018875 epoch time:  1.1287040710449219\n",
      "epoch:  9 validation loss is  0.04153963178396225 epoch time:  1.0909490585327148\n",
      "epoch:  10 validation loss is  0.038109757006168365 epoch time:  1.152785062789917\n",
      "\n",
      " Currently training SPO+\n",
      "\n",
      "Num of cores: 1\n",
      "Initial validation loss is  0.4470314383506775\n",
      "epoch:  1 validation loss is  0.04878048971295357 epoch time:  0.38660097122192383\n",
      "epoch:  2 validation loss is  0.028582317754626274 epoch time:  0.4770979881286621\n",
      "epoch:  3 validation loss is  0.012957317754626274 epoch time:  0.8674910068511963\n",
      "epoch:  4 validation loss is  0.015243901871144772 epoch time:  0.7379579544067383\n",
      "epoch:  5 validation loss is  0.013338414952158928 epoch time:  0.47712111473083496\n",
      "epoch:  6 validation loss is  0.012576219625771046 epoch time:  0.4269578456878662\n",
      "epoch:  7 validation loss is  0.009908536449074745 epoch time:  0.4477260112762451\n",
      "epoch:  8 validation loss is  0.009527439251542091 epoch time:  0.4138510227203369\n",
      "epoch:  9 validation loss is  0.010670731775462627 epoch time:  0.406541109085083\n",
      "epoch:  10 validation loss is  0.00876524392515421 epoch time:  0.3895151615142822\n",
      "Generating training data for knapsack problem with 2 knapsacks and 35 items\n",
      "Optimizing for optDataset...\n"
     ]
    },
    {
     "name": "stderr",
     "output_type": "stream",
     "text": [
      "100%|████████████████████████████████████████| 900/900 [00:02<00:00, 407.16it/s]\n"
     ]
    },
    {
     "name": "stdout",
     "output_type": "stream",
     "text": [
      "Optimizing for optDataset...\n"
     ]
    },
    {
     "name": "stderr",
     "output_type": "stream",
     "text": [
      "100%|████████████████████████████████████████| 100/100 [00:00<00:00, 379.99it/s]\n"
     ]
    },
    {
     "name": "stdout",
     "output_type": "stream",
     "text": [
      "Optimizing for optDataset...\n"
     ]
    },
    {
     "name": "stderr",
     "output_type": "stream",
     "text": [
      "100%|████████████████████████████████████████| 100/100 [00:00<00:00, 325.47it/s]\n"
     ]
    },
    {
     "name": "stdout",
     "output_type": "stream",
     "text": [
      "Finished building dataset\n",
      "\n",
      " Currently training DYS\n",
      "\n",
      "Initial validation loss is  0.4105012118816376\n",
      "epoch:  1 validation loss is  0.09215016663074493 epoch time:  1.3402369022369385\n",
      "epoch:  2 validation loss is  0.038680318742990494 epoch time:  1.2689039707183838\n",
      "epoch:  3 validation loss is  0.03602578863501549 epoch time:  1.4051330089569092\n",
      "epoch:  4 validation loss is  0.03450891375541687 epoch time:  1.2966978549957275\n",
      "epoch:  5 validation loss is  0.032612819224596024 epoch time:  1.288963794708252\n",
      "epoch:  6 validation loss is  0.03337125852704048 epoch time:  1.2313227653503418\n",
      "epoch:  7 validation loss is  0.03526734933257103 epoch time:  1.289996862411499\n",
      "epoch:  8 validation loss is  0.037921883165836334 epoch time:  1.26934814453125\n",
      "epoch:  9 validation loss is  0.043610163033008575 epoch time:  1.2433438301086426\n",
      "epoch:  10 validation loss is  0.037921883165836334 epoch time:  1.2589478492736816\n",
      "\n",
      " Currently training SPO+\n",
      "\n",
      "Num of cores: 1\n",
      "Initial validation loss is  0.4105012118816376\n",
      "epoch:  1 validation loss is  0.08229047805070877 epoch time:  0.4061591625213623\n",
      "epoch:  2 validation loss is  0.02313234843313694 epoch time:  0.6302671432495117\n",
      "epoch:  3 validation loss is  0.010238907299935818 epoch time:  1.081845998764038\n",
      "epoch:  4 validation loss is  0.010238907299935818 epoch time:  0.9255259037017822\n",
      "epoch:  5 validation loss is  0.012893440201878548 epoch time:  0.5055551528930664\n",
      "epoch:  6 validation loss is  0.011376564390957355 epoch time:  0.4694390296936035\n",
      "epoch:  7 validation loss is  0.00834281463176012 epoch time:  0.521489143371582\n",
      "epoch:  8 validation loss is  0.009480470791459084 epoch time:  0.49164319038391113\n",
      "epoch:  9 validation loss is  0.010238907299935818 epoch time:  0.4732968807220459\n",
      "epoch:  10 validation loss is  0.00834281463176012 epoch time:  0.4841890335083008\n",
      "Generating training data for knapsack problem with 2 knapsacks and 40 items\n",
      "Optimizing for optDataset...\n"
     ]
    },
    {
     "name": "stderr",
     "output_type": "stream",
     "text": [
      "100%|████████████████████████████████████████| 900/900 [00:02<00:00, 390.83it/s]\n"
     ]
    },
    {
     "name": "stdout",
     "output_type": "stream",
     "text": [
      "Optimizing for optDataset...\n"
     ]
    },
    {
     "name": "stderr",
     "output_type": "stream",
     "text": [
      "100%|████████████████████████████████████████| 100/100 [00:00<00:00, 350.68it/s]\n"
     ]
    },
    {
     "name": "stdout",
     "output_type": "stream",
     "text": [
      "Optimizing for optDataset...\n"
     ]
    },
    {
     "name": "stderr",
     "output_type": "stream",
     "text": [
      "100%|████████████████████████████████████████| 100/100 [00:00<00:00, 376.41it/s]\n"
     ]
    },
    {
     "name": "stdout",
     "output_type": "stream",
     "text": [
      "Finished building dataset\n",
      "\n",
      " Currently training DYS\n",
      "\n",
      "Initial validation loss is  0.44802170991897583\n",
      "epoch:  1 validation loss is  0.05863192677497864 epoch time:  1.425016164779663\n",
      "epoch:  2 validation loss is  0.05139341577887535 epoch time:  1.3204989433288574\n",
      "epoch:  3 validation loss is  0.04162142798304558 epoch time:  1.2979378700256348\n",
      "epoch:  4 validation loss is  0.038002174347639084 epoch time:  1.293245792388916\n",
      "epoch:  5 validation loss is  0.03872602432966232 epoch time:  1.313730001449585\n",
      "epoch:  6 validation loss is  0.037640247493982315 epoch time:  1.3336207866668701\n",
      "epoch:  7 validation loss is  0.03619254752993584 epoch time:  1.3791358470916748\n",
      "epoch:  8 validation loss is  0.03908794745802879 epoch time:  1.3111011981964111\n",
      "epoch:  9 validation loss is  0.04451683536171913 epoch time:  1.3442349433898926\n",
      "epoch:  10 validation loss is  0.04053565487265587 epoch time:  1.3794031143188477\n",
      "\n",
      " Currently training SPO+\n",
      "\n",
      "Num of cores: 1\n",
      "Initial validation loss is  0.44802170991897583\n",
      "epoch:  1 validation loss is  0.049221865832805634 epoch time:  0.47254109382629395\n",
      "epoch:  2 validation loss is  0.031849440187215805 epoch time:  0.6636428833007812\n",
      "epoch:  3 validation loss is  0.014477018266916275 epoch time:  1.0388989448547363\n",
      "epoch:  4 validation loss is  0.013391242362558842 epoch time:  0.9031288623809814\n",
      "epoch:  5 validation loss is  0.012667391449213028 epoch time:  0.5717530250549316\n",
      "epoch:  6 validation loss is  0.011943540535867214 epoch time:  0.5317111015319824\n",
      "epoch:  7 validation loss is  0.006876584142446518 epoch time:  0.5509848594665527\n",
      "epoch:  8 validation loss is  0.006876584142446518 epoch time:  0.541363000869751\n",
      "epoch:  9 validation loss is  0.006514658220112324 epoch time:  0.5181281566619873\n",
      "epoch:  10 validation loss is  0.006152733229100704 epoch time:  0.5052750110626221\n",
      "Generating training data for knapsack problem with 2 knapsacks and 45 items\n",
      "Optimizing for optDataset...\n"
     ]
    },
    {
     "name": "stderr",
     "output_type": "stream",
     "text": [
      "100%|████████████████████████████████████████| 900/900 [00:02<00:00, 425.00it/s]\n"
     ]
    },
    {
     "name": "stdout",
     "output_type": "stream",
     "text": [
      "Optimizing for optDataset...\n"
     ]
    },
    {
     "name": "stderr",
     "output_type": "stream",
     "text": [
      "100%|████████████████████████████████████████| 100/100 [00:00<00:00, 420.98it/s]\n"
     ]
    },
    {
     "name": "stdout",
     "output_type": "stream",
     "text": [
      "Optimizing for optDataset...\n"
     ]
    },
    {
     "name": "stderr",
     "output_type": "stream",
     "text": [
      "100%|████████████████████████████████████████| 100/100 [00:00<00:00, 362.55it/s]\n"
     ]
    },
    {
     "name": "stdout",
     "output_type": "stream",
     "text": [
      "Finished building dataset\n",
      "\n",
      " Currently training DYS\n",
      "\n",
      "Initial validation loss is  0.3714388906955719\n",
      "epoch:  1 validation loss is  0.05917753279209137 epoch time:  1.3676130771636963\n",
      "epoch:  2 validation loss is  0.028084252029657364 epoch time:  1.3155500888824463\n",
      "epoch:  3 validation loss is  0.03577398881316185 epoch time:  1.2658538818359375\n",
      "epoch:  4 validation loss is  0.03209628909826279 epoch time:  1.254594087600708\n",
      "epoch:  5 validation loss is  0.029755935072898865 epoch time:  1.259737253189087\n",
      "epoch:  6 validation loss is  0.03778000548481941 epoch time:  1.2697150707244873\n",
      "epoch:  7 validation loss is  0.03610832244157791 epoch time:  1.2504971027374268\n",
      "epoch:  8 validation loss is  0.03844868019223213 epoch time:  1.2701740264892578\n",
      "epoch:  9 validation loss is  0.03744567185640335 epoch time:  1.2747089862823486\n",
      "epoch:  10 validation loss is  0.03343363478779793 epoch time:  1.341174840927124\n",
      "\n",
      " Currently training SPO+\n",
      "\n",
      "Num of cores: 1\n",
      "Initial validation loss is  0.3714388906955719\n",
      "epoch:  1 validation loss is  0.05616850405931473 epoch time:  0.5363430976867676\n",
      "epoch:  2 validation loss is  0.018388500437140465 epoch time:  0.7071988582611084\n",
      "epoch:  3 validation loss is  0.01103309914469719 epoch time:  1.190727949142456\n",
      "epoch:  4 validation loss is  0.009027080610394478 epoch time:  0.9330630302429199\n",
      "epoch:  5 validation loss is  0.007021063007414341 epoch time:  0.6037948131561279\n",
      "epoch:  6 validation loss is  0.008358408696949482 epoch time:  0.558790922164917\n",
      "epoch:  7 validation loss is  0.0060180542059242725 epoch time:  0.6050708293914795\n",
      "epoch:  8 validation loss is  0.0076897358521819115 epoch time:  0.6174490451812744\n",
      "epoch:  9 validation loss is  0.005349381361156702 epoch time:  0.5952942371368408\n",
      "epoch:  10 validation loss is  0.005683717783540487 epoch time:  0.579658031463623\n",
      "Generating training data for knapsack problem with 2 knapsacks and 50 items\n",
      "Optimizing for optDataset...\n"
     ]
    },
    {
     "name": "stderr",
     "output_type": "stream",
     "text": [
      "100%|████████████████████████████████████████| 900/900 [00:02<00:00, 437.59it/s]\n"
     ]
    },
    {
     "name": "stdout",
     "output_type": "stream",
     "text": [
      "Optimizing for optDataset...\n"
     ]
    },
    {
     "name": "stderr",
     "output_type": "stream",
     "text": [
      "100%|████████████████████████████████████████| 100/100 [00:00<00:00, 438.70it/s]\n"
     ]
    },
    {
     "name": "stdout",
     "output_type": "stream",
     "text": [
      "Optimizing for optDataset...\n"
     ]
    },
    {
     "name": "stderr",
     "output_type": "stream",
     "text": [
      "100%|████████████████████████████████████████| 100/100 [00:00<00:00, 369.38it/s]\n"
     ]
    },
    {
     "name": "stdout",
     "output_type": "stream",
     "text": [
      "Finished building dataset\n",
      "\n",
      " Currently training DYS\n",
      "\n",
      "Initial validation loss is  0.4065701365470886\n",
      "epoch:  1 validation loss is  0.09421546012163162 epoch time:  1.5972800254821777\n",
      "epoch:  2 validation loss is  0.060962941497564316 epoch time:  1.2874081134796143\n",
      "epoch:  3 validation loss is  0.052303433418273926 epoch time:  1.2442150115966797\n",
      "epoch:  4 validation loss is  0.0502251498401165 epoch time:  1.3764879703521729\n",
      "epoch:  5 validation loss is  0.040872879326343536 epoch time:  1.317936897277832\n",
      "epoch:  6 validation loss is  0.048146869987249374 epoch time:  1.2858760356903076\n",
      "epoch:  7 validation loss is  0.05472809448838234 epoch time:  1.3362202644348145\n",
      "epoch:  8 validation loss is  0.05264981463551521 epoch time:  1.3388841152191162\n",
      "epoch:  9 validation loss is  0.05645999684929848 epoch time:  1.4395639896392822\n",
      "epoch:  10 validation loss is  0.059923797845840454 epoch time:  1.3523528575897217\n",
      "\n",
      " Currently training SPO+\n",
      "\n",
      "Num of cores: 1\n",
      "Initial validation loss is  0.4065701365470886\n",
      "epoch:  1 validation loss is  0.100450299680233 epoch time:  0.5670478343963623\n",
      "epoch:  2 validation loss is  0.023553865030407906 epoch time:  0.745988130569458\n",
      "epoch:  3 validation loss is  0.011430551297962666 epoch time:  1.244978904724121\n",
      "epoch:  4 validation loss is  0.006927606649696827 epoch time:  1.1165552139282227\n",
      "epoch:  5 validation loss is  0.009352268651127815 epoch time:  0.66432785987854\n",
      "epoch:  6 validation loss is  0.008313128724694252 epoch time:  0.6314539909362793\n",
      "epoch:  7 validation loss is  0.008659509010612965 epoch time:  0.6547660827636719\n",
      "epoch:  8 validation loss is  0.007273987401276827 epoch time:  0.6258010864257812\n",
      "epoch:  9 validation loss is  0.0076203676871955395 epoch time:  0.6191151142120361\n",
      "epoch:  10 validation loss is  0.0055420855060219765 epoch time:  0.62294602394104\n",
      "Generating training data for knapsack problem with 2 knapsacks and 55 items\n",
      "Optimizing for optDataset...\n"
     ]
    },
    {
     "name": "stderr",
     "output_type": "stream",
     "text": [
      "100%|████████████████████████████████████████| 900/900 [00:03<00:00, 229.18it/s]\n"
     ]
    },
    {
     "name": "stdout",
     "output_type": "stream",
     "text": [
      "Optimizing for optDataset...\n"
     ]
    },
    {
     "name": "stderr",
     "output_type": "stream",
     "text": [
      "100%|████████████████████████████████████████| 100/100 [00:00<00:00, 197.50it/s]\n"
     ]
    },
    {
     "name": "stdout",
     "output_type": "stream",
     "text": [
      "Optimizing for optDataset...\n"
     ]
    },
    {
     "name": "stderr",
     "output_type": "stream",
     "text": [
      "100%|████████████████████████████████████████| 100/100 [00:00<00:00, 221.36it/s]\n"
     ]
    },
    {
     "name": "stdout",
     "output_type": "stream",
     "text": [
      "Finished building dataset\n",
      "\n",
      " Currently training DYS\n",
      "\n",
      "Initial validation loss is  0.27250000834465027\n",
      "epoch:  1 validation loss is  0.11161810904741287 epoch time:  1.6625089645385742\n",
      "epoch:  2 validation loss is  0.06914706528186798 epoch time:  1.2984678745269775\n",
      "epoch:  3 validation loss is  0.04071604087948799 epoch time:  1.3295910358428955\n",
      "epoch:  4 validation loss is  0.03615303710103035 epoch time:  1.4512999057769775\n",
      "epoch:  5 validation loss is  0.03018602915108204 epoch time:  1.3233330249786377\n",
      "epoch:  6 validation loss is  0.03931203857064247 epoch time:  1.3998520374298096\n",
      "epoch:  7 validation loss is  0.04106704145669937 epoch time:  1.3723750114440918\n",
      "epoch:  8 validation loss is  0.04563004523515701 epoch time:  1.3525350093841553\n",
      "epoch:  9 validation loss is  0.04457704350352287 epoch time:  1.352607011795044\n",
      "epoch:  10 validation loss is  0.047034043818712234 epoch time:  1.2862882614135742\n",
      "\n",
      " Currently training SPO+\n",
      "\n",
      "Num of cores: 1\n",
      "Initial validation loss is  0.27250000834465027\n",
      "epoch:  1 validation loss is  0.08388908207416534 epoch time:  0.6113049983978271\n",
      "epoch:  2 validation loss is  0.022464022040367126 epoch time:  0.9467587471008301\n",
      "epoch:  3 validation loss is  0.016497015953063965 epoch time:  1.6604528427124023\n",
      "epoch:  4 validation loss is  0.016848016530275345 epoch time:  1.184070110321045\n",
      "epoch:  5 validation loss is  0.01509301457554102 epoch time:  0.7450089454650879\n",
      "epoch:  6 validation loss is  0.010881011374294758 epoch time:  0.7272980213165283\n",
      "epoch:  7 validation loss is  0.010530009865760803 epoch time:  0.7885010242462158\n",
      "epoch:  8 validation loss is  0.010179010219871998 epoch time:  0.7328977584838867\n",
      "epoch:  9 validation loss is  0.009828009642660618 epoch time:  0.6603899002075195\n",
      "epoch:  10 validation loss is  0.010179010219871998 epoch time:  0.6615400314331055\n"
     ]
    }
   ],
   "source": [
    "for item_counter, num_item in enumerate(item_values):\n",
    "    knapsack_data_dict = {'num_knapsack': num_knapsack,\n",
    "                          'num_item': num_item,\n",
    "                          'num_feat': num_feat,\n",
    "                          'num_data': num_data\n",
    "                         } \n",
    "    \n",
    "    # Do the thing\n",
    "    for repeat in range(num_repeats):\n",
    "        # Generate Data\n",
    "        knapsack_dict = Gen_Knapsack_data(num_data, num_feat, num_item, num_knapsack)\n",
    "        for model_counter, model_type in enumerate(models):\n",
    "            train_time, best_test_loss, time_till_best_test_loss = initialize_and_train(knapsack_dict, knapsack_data_dict, model_type, max_epochs)\n",
    "            results_test_loss[model_counter, item_counter, repeat] = best_test_loss\n",
    "            results_train_time[model_counter, item_counter, repeat] = train_time\n",
    "            results_time_till_val_loss[model_counter, item_counter, repeat] = time_till_best_test_loss\n",
    "    "
   ]
  },
  {
   "cell_type": "code",
   "execution_count": 4,
   "id": "67d3e6d1",
   "metadata": {},
   "outputs": [
    {
     "name": "stdout",
     "output_type": "stream",
     "text": [
      "[[[12.03106713]\n",
      "  [12.89289498]\n",
      "  [13.39792466]\n",
      "  [12.86961842]\n",
      "  [13.57622528]\n",
      "  [13.82885814]]\n",
      "\n",
      " [[ 5.03086019]\n",
      "  [ 5.98941064]\n",
      "  [ 6.29742694]\n",
      "  [ 6.92739081]\n",
      "  [ 7.49298024]\n",
      "  [ 8.71822238]]]\n"
     ]
    }
   ],
   "source": [
    "print(results_train_time)"
   ]
  },
  {
   "cell_type": "code",
   "execution_count": 5,
   "id": "24f40dcf",
   "metadata": {},
   "outputs": [
    {
     "name": "stdout",
     "output_type": "stream",
     "text": [
      "[[[0.03810976]\n",
      "  [0.03792188]\n",
      "  [0.04053565]\n",
      "  [0.03343363]\n",
      "  [0.0599238 ]\n",
      "  [0.04703404]]\n",
      "\n",
      " [[0.00876524]\n",
      "  [0.00834281]\n",
      "  [0.00615273]\n",
      "  [0.00568372]\n",
      "  [0.00554209]\n",
      "  [0.01017901]]]\n"
     ]
    }
   ],
   "source": [
    "print(results_test_loss)"
   ]
  },
  {
   "cell_type": "code",
   "execution_count": 6,
   "id": "2a93c416",
   "metadata": {},
   "outputs": [
    {
     "name": "stdout",
     "output_type": "stream",
     "text": [
      "[[0.03810976 0.03792188 0.04053565 0.03343363 0.0599238  0.04703404]\n",
      " [0.00876524 0.00834281 0.00615273 0.00568372 0.00554209 0.01017901]]\n"
     ]
    }
   ],
   "source": [
    "results_test_loss_mean = np.mean(results_test_loss, axis=2)\n",
    "print(results_test_loss_mean)"
   ]
  },
  {
   "cell_type": "code",
   "execution_count": 12,
   "id": "00be30e3",
   "metadata": {},
   "outputs": [
    {
     "data": {
      "image/png": "[encoded data removed]",
      "text/plain": [
       "<Figure size 640x480 with 1 Axes>"
      ]
     },
     "metadata": {},
     "output_type": "display_data"
    }
   ],
   "source": [
    "import matplotlib.pyplot as plt\n",
    "\n",
    "for idx, model_type in enumerate(models):\n",
    "    plt.plot(item_values, results_test_loss_mean[idx,:], label=model_type)\n",
    "\n",
    "plt.title(\"Best Regret Achieved\")\n",
    "plt.legend()\n",
    "plt.savefig('Knapsack_experiment_varying_num_items_regret_55.png')\n",
    "plt.show()\n",
    "\n",
    "    "
   ]
  },
  {
   "cell_type": "code",
   "execution_count": 8,
   "id": "333c9f74",
   "metadata": {},
   "outputs": [
    {
     "name": "stdout",
     "output_type": "stream",
     "text": [
      "[[12.03106713 12.89289498 13.39792466 12.86961842 13.57622528 13.82885814]\n",
      " [ 5.03086019  5.98941064  6.29742694  6.92739081  7.49298024  8.71822238]]\n"
     ]
    }
   ],
   "source": [
    "results_time_till_val_loss_mean = np.mean(results_time_till_val_loss, axis=2)\n",
    "print(results_time_till_val_loss_mean)"
   ]
  },
  {
   "cell_type": "code",
   "execution_count": 11,
   "id": "145d2f03",
   "metadata": {},
   "outputs": [
    {
     "name": "stdout",
     "output_type": "stream",
     "text": [
      "0 DYS\n",
      "1 SPO+\n"
     ]
    },
    {
     "data": {
      "image/png": "[encoded data removed]",
      "text/plain": [
       "<Figure size 640x480 with 1 Axes>"
      ]
     },
     "metadata": {},
     "output_type": "display_data"
    }
   ],
   "source": [
    "for idx, model_type in enumerate(models):\n",
    "    print(idx, model_type)\n",
    "    plt.plot(item_values, results_time_till_val_loss_mean[idx,:], label=model_type)\n",
    "\n",
    "plt.title(\"Train Time\")\n",
    "plt.legend()\n",
    "plt.savefig('Knapsack_experiment_varying_num_items_train_time_55.png')\n",
    "plt.show()"
   ]
  },
  {
   "cell_type": "code",
   "execution_count": 10,
   "id": "c8bed3a7",
   "metadata": {},
   "outputs": [
    {
     "name": "stdout",
     "output_type": "stream",
     "text": [
      "0 DYS\n"
     ]
    },
    {
     "ename": "NameError",
     "evalue": "name 'results_time_till_best_loss' is not defined",
     "output_type": "error",
     "traceback": [
      "\u001b[0;31m---------------------------------------------------------------------------\u001b[0m",
      "\u001b[0;31mNameError\u001b[0m                                 Traceback (most recent call last)",
      "Cell \u001b[0;32mIn[10], line 3\u001b[0m\n\u001b[1;32m      1\u001b[0m \u001b[38;5;28;01mfor\u001b[39;00m idx, model_type \u001b[38;5;129;01min\u001b[39;00m \u001b[38;5;28menumerate\u001b[39m(models):\n\u001b[1;32m      2\u001b[0m     \u001b[38;5;28mprint\u001b[39m(idx, model_type)\n\u001b[0;32m----> 3\u001b[0m     plt\u001b[38;5;241m.\u001b[39mplot(item_values, \u001b[43mresults_time_till_best_loss\u001b[49m[idx,:], label\u001b[38;5;241m=\u001b[39mmodel_type)\n\u001b[1;32m      5\u001b[0m plt\u001b[38;5;241m.\u001b[39mtitle(\u001b[38;5;124m\"\u001b[39m\u001b[38;5;124mTrain Time till Best Model\u001b[39m\u001b[38;5;124m\"\u001b[39m)\n\u001b[1;32m      6\u001b[0m plt\u001b[38;5;241m.\u001b[39mlegend()\n",
      "\u001b[0;31mNameError\u001b[0m: name 'results_time_till_best_loss' is not defined"
     ]
    }
   ],
   "source": [
    "for idx, model_type in enumerate(models):\n",
    "    print(idx, model_type)\n",
    "    plt.plot(item_values, results_time_till_best_loss[idx,:], label=model_type)\n",
    "\n",
    "plt.title(\"Train Time till Best Model\")\n",
    "plt.legend()\n",
    "# plt.savefig('Knapsack_experiment_varying_num_items_train_time.pdf')\n",
    "plt.show()"
   ]
  },
  {
   "cell_type": "code",
   "execution_count": null,
   "id": "5f136463",
   "metadata": {},
   "outputs": [],
   "source": [
    "print(results_time_till_best_loss)"
   ]
  },
  {
   "cell_type": "code",
   "execution_count": null,
   "id": "e883fa84",
   "metadata": {},
   "outputs": [],
   "source": []
  }
 ],
 "metadata": {
  "kernelspec": {
   "display_name": "Python 3 (ipykernel)",
   "language": "python",
   "name": "python3"
  },
  "language_info": {
   "codemirror_mode": {
    "name": "ipython",
    "version": 3
   },
   "file_extension": ".py",
   "mimetype": "text/x-python",
   "name": "python",
   "nbconvert_exporter": "python",
   "pygments_lexer": "ipython3",
   "version": "3.10.10"
  }
 },
 "nbformat": 4,
 "nbformat_minor": 5
}

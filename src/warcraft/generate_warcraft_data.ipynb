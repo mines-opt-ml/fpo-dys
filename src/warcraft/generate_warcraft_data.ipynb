{
 "cells": [
  {
   "cell_type": "code",
   "execution_count": 17,
   "metadata": {},
   "outputs": [],
   "source": [
    "import time\n",
    "import random\n",
    "# import pyepo\n",
    "import torch\n",
    "from torch import nn\n",
    "from matplotlib import pyplot as plt\n",
    "import numpy as np\n",
    "import pandas as pd\n",
    "from torch.utils.data import TensorDataset\n",
    "\n",
    "import sys\n",
    "root_dir = \"../../\"\n",
    "sys.path.append(root_dir)\n",
    "from src.torch_Dijkstra import Dijkstra\n",
    "from src.dys_opt_net import DYS_opt_net\n",
    "from src.utils import node_to_edge"
   ]
  },
  {
   "cell_type": "code",
   "execution_count": 18,
   "metadata": {},
   "outputs": [],
   "source": [
    "warcraft_data_folder = root_dir + './src/warcraft/warcraft_data/'\n",
    "\n",
    "tmaps_train = np.load(warcraft_data_folder + \"12x12/train_maps.npy\")\n",
    "tmaps_val = np.load(warcraft_data_folder + \"12x12/val_maps.npy\")\n",
    "tmaps_test = np.load(warcraft_data_folder + \"12x12/test_maps.npy\")\n",
    "\n",
    "# convert to Float Tensor and permute so that the channels are first\n",
    "tmaps_train = torch.FloatTensor(tmaps_train).permute(0, 3, 1, 2)\n",
    "tmaps_val = torch.FloatTensor(tmaps_val).permute(0, 3, 1, 2)\n",
    "tmaps_test = torch.FloatTensor(tmaps_test).permute(0, 3, 1, 2)\n",
    "\n",
    "# true_cost_train = np.load(warcraft_data_folder + \"12x12/train_vertex_weights.npy\")\n",
    "# true_cost_val = np.load(warcraft_data_folder + \"12x12/val_vertex_weights.npy\")\n",
    "# true_cost_test = np.load(warcraft_data_folder + \"12x12/test_vertex_weights.npy\")\n",
    "\n",
    "# true paths\n",
    "true_path_train = np.load(warcraft_data_folder + \"12x12/train_shortest_paths.npy\")\n",
    "true_path_val = np.load(warcraft_data_folder + \"12x12/val_shortest_paths.npy\")\n",
    "true_path_test = np.load(warcraft_data_folder + \"12x12/test_shortest_paths.npy\")\n",
    "\n",
    "# convert to Float Tensor \n",
    "true_path_train = torch.FloatTensor(true_path_train)\n",
    "true_path_val = torch.FloatTensor(true_path_val)\n",
    "true_path_test = torch.FloatTensor(true_path_test)"
   ]
  },
  {
   "cell_type": "code",
   "execution_count": 19,
   "metadata": {},
   "outputs": [
    {
     "name": "stdout",
     "output_type": "stream",
     "text": [
      "number of edges =  1012\n"
     ]
    }
   ],
   "source": [
    " # Construct vertices. Note each vertex is at the middle of the square.\n",
    "k = 12 # default\n",
    "vertices = []\n",
    "for i in range(k):\n",
    "    for j in range(k):\n",
    "        vertices.append((i+0.5, j+0.5))\n",
    "\n",
    "num_vertices = len(vertices)\n",
    "\n",
    "# Construct edges.\n",
    "edges = []\n",
    "for i, v1 in enumerate(vertices):\n",
    "    for j, v2 in enumerate(vertices):\n",
    "        norm_squared = (v1[0] - v2[0])**2 + (v1[1] - v2[1])**2\n",
    "        if 0 < norm_squared < 2.01 and i < j:\n",
    "            edges.append((v1, v2))\n",
    "            edges.append((v2, v1)) # have to double edges to allow for travel both ways\n",
    "\n",
    "num_edges = len(edges)\n",
    "print('number of edges = ', num_edges)"
   ]
  },
  {
   "cell_type": "code",
   "execution_count": 20,
   "metadata": {},
   "outputs": [
    {
     "name": "stdout",
     "output_type": "stream",
     "text": [
      "number of edges =  1012\n"
     ]
    }
   ],
   "source": [
    " # Construct vertices. Note each vertex is at the middle of the square.\n",
    "k = 12 # default\n",
    "vertices = []\n",
    "for i in range(k):\n",
    "    for j in range(k):\n",
    "        vertices.append((i+0.5, j+0.5))\n",
    "\n",
    "num_vertices = len(vertices)\n",
    "\n",
    "# Construct edges.\n",
    "edges = []\n",
    "for i, v1 in enumerate(vertices):\n",
    "    for j, v2 in enumerate(vertices):\n",
    "        norm_squared = (v1[0] - v2[0])**2 + (v1[1] - v2[1])**2\n",
    "        if 0 < norm_squared < 2.01 and i < j:\n",
    "            edges.append((v1, v2))\n",
    "            edges.append((v2, v1)) # have to double edges to allow for travel both ways\n",
    "\n",
    "num_edges = len(edges)\n",
    "print('number of edges = ', num_edges)\n",
    "\n",
    "# ## Small utility for rounding coordinates of points\n",
    "# def round_coordinates(vertex_name):\n",
    "#   vertex_coord = [int(vertex_name[0]), int(vertex_name[1])]\n",
    "#   return vertex_coord\n",
    "\n",
    "## vertex-edge incidence matrix\n",
    "A = torch.zeros((len(vertices), len(edges)))\n",
    "for j, e in enumerate(edges):\n",
    "    ind0 = vertices.index(e[0])\n",
    "    ind1 = vertices.index(e[1])\n",
    "    A[ind0,j] = -1.\n",
    "    A[ind1,j] = +1.\n",
    "\n",
    "## Create b vector necessary for LP approach to shortest path\n",
    "b = torch.zeros(k**2)\n",
    "b[0] = -1.0\n",
    "b[-1] = 1.0"
   ]
  },
  {
   "cell_type": "code",
   "execution_count": 21,
   "metadata": {},
   "outputs": [],
   "source": [
    "train_dataset_v = TensorDataset(tmaps_train, true_path_train)\n",
    "true_path_train_e = node_to_edge(true_path_train, edges)\n",
    "train_dataset_e = TensorDataset(tmaps_train, true_path_train_e)"
   ]
  },
  {
   "cell_type": "code",
   "execution_count": 22,
   "metadata": {},
   "outputs": [],
   "source": [
    "test_dataset_v = TensorDataset(tmaps_test, true_path_test)\n",
    "true_path_test_e = node_to_edge(true_path_test, edges)\n",
    "test_dataset_e = TensorDataset(tmaps_test, true_path_test_e)"
   ]
  },
  {
   "cell_type": "code",
   "execution_count": 12,
   "metadata": {},
   "outputs": [],
   "source": [
    "# d_test_v, path_test_v = test_dataset_v[0]\n",
    "# d_test_e, path_test_e = test_dataset_e[0]"
   ]
  },
  {
   "cell_type": "code",
   "execution_count": 14,
   "metadata": {},
   "outputs": [
    {
     "data": {
      "text/plain": [
       "tensor([[1., 0., 0., 0., 0., 0., 0., 0., 0., 0., 0., 0.],\n",
       "        [1., 0., 0., 0., 0., 0., 0., 0., 0., 0., 0., 0.],\n",
       "        [1., 0., 0., 0., 0., 0., 0., 0., 0., 0., 0., 0.],\n",
       "        [0., 1., 0., 0., 0., 0., 0., 0., 0., 0., 0., 0.],\n",
       "        [1., 0., 0., 0., 0., 0., 0., 0., 0., 0., 0., 0.],\n",
       "        [1., 0., 0., 0., 0., 0., 0., 0., 0., 0., 0., 0.],\n",
       "        [1., 0., 0., 0., 0., 0., 0., 0., 0., 0., 0., 0.],\n",
       "        [0., 1., 0., 0., 0., 0., 0., 1., 0., 0., 0., 0.],\n",
       "        [0., 0., 1., 0., 1., 0., 1., 0., 1., 0., 0., 0.],\n",
       "        [0., 0., 0., 1., 0., 1., 0., 0., 0., 1., 0., 0.],\n",
       "        [0., 0., 0., 0., 0., 0., 0., 0., 0., 0., 1., 0.],\n",
       "        [0., 0., 0., 0., 0., 0., 0., 0., 0., 0., 0., 1.]])"
      ]
     },
     "execution_count": 14,
     "metadata": {},
     "output_type": "execute_result"
    }
   ],
   "source": [
    "# path_test_v"
   ]
  },
  {
   "cell_type": "code",
   "execution_count": 16,
   "metadata": {},
   "outputs": [
    {
     "data": {
      "text/plain": [
       "tensor([[  2],\n",
       "        [ 92],\n",
       "        [184],\n",
       "        [278],\n",
       "        [362],\n",
       "        [452],\n",
       "        [544],\n",
       "        [642],\n",
       "        [687],\n",
       "        [690],\n",
       "        [740],\n",
       "        [753],\n",
       "        [756],\n",
       "        [769],\n",
       "        [788],\n",
       "        [886],\n",
       "        [984]])"
      ]
     },
     "execution_count": 16,
     "metadata": {},
     "output_type": "execute_result"
    }
   ],
   "source": [
    "# torch.nonzero(path_test_e)"
   ]
  },
  {
   "cell_type": "code",
   "execution_count": 23,
   "metadata": {},
   "outputs": [],
   "source": [
    "# Create a dictionary of the PyTorch variables\n",
    "state_dict = {\n",
    "'train_dataset_v': train_dataset_v,\n",
    "'train_dataset_e': train_dataset_e,\n",
    "'test_dataset_v': test_dataset_v,\n",
    "'test_dataset_e': test_dataset_e,\n",
    "'m': 12, # vertex grid size\n",
    "'A': A,\n",
    "'b': b,\n",
    "'num_edges': num_edges,\n",
    "'edge_list': edges\n",
    "}\n",
    "\n",
    "save_path = warcraft_data_folder + \"Warcraft_training_data12.pth\"\n",
    "\n",
    "# Save the dictionary to a file\n",
    "torch.save(state_dict, save_path)"
   ]
  },
  {
   "cell_type": "code",
   "execution_count": null,
   "metadata": {},
   "outputs": [],
   "source": []
  }
 ],
 "metadata": {
  "kernelspec": {
   "display_name": "fpo_dys_env",
   "language": "python",
   "name": "python3"
  },
  "language_info": {
   "codemirror_mode": {
    "name": "ipython",
    "version": 3
   },
   "file_extension": ".py",
   "mimetype": "text/x-python",
   "name": "python",
   "nbconvert_exporter": "python",
   "pygments_lexer": "ipython3",
   "version": "3.11.3"
  },
  "orig_nbformat": 4
 },
 "nbformat": 4,
 "nbformat_minor": 2
}

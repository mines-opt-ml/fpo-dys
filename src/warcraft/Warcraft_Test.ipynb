{
 "cells": [
  {
   "attachments": {},
   "cell_type": "markdown",
   "id": "e05df8d8",
   "metadata": {},
   "source": [
    "## Building a model to run on Warcarft 2 tile data set"
   ]
  },
  {
   "cell_type": "code",
   "execution_count": 15,
   "id": "5d7fb0a3",
   "metadata": {},
   "outputs": [
    {
     "data": {
      "text/plain": [
       "<torch._C.Generator at 0x10b737390>"
      ]
     },
     "execution_count": 15,
     "metadata": {},
     "output_type": "execute_result"
    }
   ],
   "source": [
    "import time\n",
    "import random\n",
    "# import pyepo\n",
    "import torch\n",
    "from torch import nn\n",
    "from matplotlib import pyplot as plt\n",
    "import numpy as np\n",
    "import pandas as pd\n",
    "from torch_Dijkstra import Dijkstra\n",
    "# fix random seed\n",
    "random.seed(135)\n",
    "np.random.seed(135)\n",
    "torch.manual_seed(135)"
   ]
  },
  {
   "cell_type": "code",
   "execution_count": 16,
   "id": "c208e13f",
   "metadata": {},
   "outputs": [],
   "source": [
    "warcraft_data_folder = './warcraft_data/'\n",
    "tmaps_train = np.load(warcraft_data_folder + \"12x12/train_maps.npy\")\n",
    "tmaps_val = np.load(warcraft_data_folder + \"12x12/val_maps.npy\")\n",
    "tmaps_test = np.load(warcraft_data_folder + \"12x12/test_maps.npy\")"
   ]
  },
  {
   "cell_type": "code",
   "execution_count": 17,
   "id": "a6cc2610",
   "metadata": {},
   "outputs": [
    {
     "data": {
      "image/png": "[encoded data removed]",
      "text/plain": [
       "<Figure size 640x480 with 1 Axes>"
      ]
     },
     "metadata": {},
     "output_type": "display_data"
    }
   ],
   "source": [
    "plt.axis(\"off\")\n",
    "plt.imshow(tmaps_train[1])\n",
    "plt.show()"
   ]
  },
  {
   "cell_type": "code",
   "execution_count": 18,
   "id": "1a6e6410",
   "metadata": {},
   "outputs": [],
   "source": [
    "costs_train = np.load(warcraft_data_folder + \"12x12/train_vertex_weights.npy\")\n",
    "costs_val = np.load(warcraft_data_folder + \"12x12/val_vertex_weights.npy\")\n",
    "costs_test = np.load(warcraft_data_folder + \"12x12/test_vertex_weights.npy\")"
   ]
  },
  {
   "attachments": {},
   "cell_type": "markdown",
   "id": "95911e07",
   "metadata": {},
   "source": []
  },
  {
   "cell_type": "code",
   "execution_count": 19,
   "id": "21466221",
   "metadata": {},
   "outputs": [],
   "source": [
    "paths_train = np.load(warcraft_data_folder + \"12x12/train_shortest_paths.npy\")\n",
    "paths_val = np.load(warcraft_data_folder + \"12x12/val_shortest_paths.npy\")\n",
    "paths_test = np.load(warcraft_data_folder + \"12x12/test_shortest_paths.npy\")"
   ]
  },
  {
   "cell_type": "code",
   "execution_count": 20,
   "id": "d839872c",
   "metadata": {},
   "outputs": [
    {
     "data": {
      "image/png": "[encoded data removed]",
      "text/plain": [
       "<Figure size 640x480 with 1 Axes>"
      ]
     },
     "metadata": {},
     "output_type": "display_data"
    }
   ],
   "source": [
    "plt.axis(\"off\")\n",
    "plt.imshow(paths_train[1])\n",
    "plt.show()"
   ]
  },
  {
   "cell_type": "code",
   "execution_count": 37,
   "id": "783fcce3",
   "metadata": {},
   "outputs": [],
   "source": [
    " # Construct vertices. Note each vertex is at the middle of the square.\n",
    "k = 12\n",
    "Vertices = []\n",
    "for i in range(k):\n",
    "    for j in range(k):\n",
    "        Vertices.append((i+0.5, j+0.5))\n",
    "\n",
    "num_vertices = len(Vertices)\n",
    "# Construct edges.\n",
    "Edges = []\n",
    "for i, v1 in enumerate(Vertices):\n",
    "    for j, v2 in enumerate(Vertices):\n",
    "        norm_squared = (v1[0] - v2[0])**2 + (v1[1] - v2[1])**2\n",
    "        if 0 < norm_squared < 2.01 and i < j:\n",
    "            Edges.append((v1, v2))\n",
    "            Edges.append((v2, v1)) # have to double edges to allow for travel both ways\n",
    "\n",
    "num_edges = len(Edges)"
   ]
  },
  {
   "cell_type": "code",
   "execution_count": 38,
   "id": "71e5b508",
   "metadata": {},
   "outputs": [
    {
     "name": "stdout",
     "output_type": "stream",
     "text": [
      "[((0.5, 0.5), (0.5, 1.5)), ((0.5, 1.5), (0.5, 0.5)), ((0.5, 0.5), (1.5, 0.5)), ((1.5, 0.5), (0.5, 0.5)), ((0.5, 0.5), (1.5, 1.5)), ((1.5, 1.5), (0.5, 0.5)), ((0.5, 1.5), (0.5, 2.5)), ((0.5, 2.5), (0.5, 1.5)), ((0.5, 1.5), (1.5, 0.5)), ((1.5, 0.5), (0.5, 1.5)), ((0.5, 1.5), (1.5, 1.5)), ((1.5, 1.5), (0.5, 1.5)), ((0.5, 1.5), (1.5, 2.5)), ((1.5, 2.5), (0.5, 1.5)), ((0.5, 2.5), (0.5, 3.5)), ((0.5, 3.5), (0.5, 2.5)), ((0.5, 2.5), (1.5, 1.5)), ((1.5, 1.5), (0.5, 2.5)), ((0.5, 2.5), (1.5, 2.5)), ((1.5, 2.5), (0.5, 2.5)), ((0.5, 2.5), (1.5, 3.5)), ((1.5, 3.5), (0.5, 2.5)), ((0.5, 3.5), (0.5, 4.5)), ((0.5, 4.5), (0.5, 3.5)), ((0.5, 3.5), (1.5, 2.5)), ((1.5, 2.5), (0.5, 3.5)), ((0.5, 3.5), (1.5, 3.5)), ((1.5, 3.5), (0.5, 3.5)), ((0.5, 3.5), (1.5, 4.5)), ((1.5, 4.5), (0.5, 3.5)), ((0.5, 4.5), (0.5, 5.5)), ((0.5, 5.5), (0.5, 4.5)), ((0.5, 4.5), (1.5, 3.5)), ((1.5, 3.5), (0.5, 4.5)), ((0.5, 4.5), (1.5, 4.5)), ((1.5, 4.5), (0.5, 4.5)), ((0.5, 4.5), (1.5, 5.5)), ((1.5, 5.5), (0.5, 4.5)), ((0.5, 5.5), (0.5, 6.5)), ((0.5, 6.5), (0.5, 5.5)), ((0.5, 5.5), (1.5, 4.5)), ((1.5, 4.5), (0.5, 5.5)), ((0.5, 5.5), (1.5, 5.5)), ((1.5, 5.5), (0.5, 5.5)), ((0.5, 5.5), (1.5, 6.5)), ((1.5, 6.5), (0.5, 5.5)), ((0.5, 6.5), (0.5, 7.5)), ((0.5, 7.5), (0.5, 6.5)), ((0.5, 6.5), (1.5, 5.5)), ((1.5, 5.5), (0.5, 6.5)), ((0.5, 6.5), (1.5, 6.5)), ((1.5, 6.5), (0.5, 6.5)), ((0.5, 6.5), (1.5, 7.5)), ((1.5, 7.5), (0.5, 6.5)), ((0.5, 7.5), (0.5, 8.5)), ((0.5, 8.5), (0.5, 7.5)), ((0.5, 7.5), (1.5, 6.5)), ((1.5, 6.5), (0.5, 7.5)), ((0.5, 7.5), (1.5, 7.5)), ((1.5, 7.5), (0.5, 7.5)), ((0.5, 7.5), (1.5, 8.5)), ((1.5, 8.5), (0.5, 7.5)), ((0.5, 8.5), (0.5, 9.5)), ((0.5, 9.5), (0.5, 8.5)), ((0.5, 8.5), (1.5, 7.5)), ((1.5, 7.5), (0.5, 8.5)), ((0.5, 8.5), (1.5, 8.5)), ((1.5, 8.5), (0.5, 8.5)), ((0.5, 8.5), (1.5, 9.5)), ((1.5, 9.5), (0.5, 8.5)), ((0.5, 9.5), (0.5, 10.5)), ((0.5, 10.5), (0.5, 9.5)), ((0.5, 9.5), (1.5, 8.5)), ((1.5, 8.5), (0.5, 9.5)), ((0.5, 9.5), (1.5, 9.5)), ((1.5, 9.5), (0.5, 9.5)), ((0.5, 9.5), (1.5, 10.5)), ((1.5, 10.5), (0.5, 9.5)), ((0.5, 10.5), (0.5, 11.5)), ((0.5, 11.5), (0.5, 10.5)), ((0.5, 10.5), (1.5, 9.5)), ((1.5, 9.5), (0.5, 10.5)), ((0.5, 10.5), (1.5, 10.5)), ((1.5, 10.5), (0.5, 10.5)), ((0.5, 10.5), (1.5, 11.5)), ((1.5, 11.5), (0.5, 10.5)), ((0.5, 11.5), (1.5, 10.5)), ((1.5, 10.5), (0.5, 11.5)), ((0.5, 11.5), (1.5, 11.5)), ((1.5, 11.5), (0.5, 11.5)), ((1.5, 0.5), (1.5, 1.5)), ((1.5, 1.5), (1.5, 0.5)), ((1.5, 0.5), (2.5, 0.5)), ((2.5, 0.5), (1.5, 0.5)), ((1.5, 0.5), (2.5, 1.5)), ((2.5, 1.5), (1.5, 0.5)), ((1.5, 1.5), (1.5, 2.5)), ((1.5, 2.5), (1.5, 1.5)), ((1.5, 1.5), (2.5, 0.5)), ((2.5, 0.5), (1.5, 1.5)), ((1.5, 1.5), (2.5, 1.5)), ((2.5, 1.5), (1.5, 1.5)), ((1.5, 1.5), (2.5, 2.5)), ((2.5, 2.5), (1.5, 1.5)), ((1.5, 2.5), (1.5, 3.5)), ((1.5, 3.5), (1.5, 2.5)), ((1.5, 2.5), (2.5, 1.5)), ((2.5, 1.5), (1.5, 2.5)), ((1.5, 2.5), (2.5, 2.5)), ((2.5, 2.5), (1.5, 2.5)), ((1.5, 2.5), (2.5, 3.5)), ((2.5, 3.5), (1.5, 2.5)), ((1.5, 3.5), (1.5, 4.5)), ((1.5, 4.5), (1.5, 3.5)), ((1.5, 3.5), (2.5, 2.5)), ((2.5, 2.5), (1.5, 3.5)), ((1.5, 3.5), (2.5, 3.5)), ((2.5, 3.5), (1.5, 3.5)), ((1.5, 3.5), (2.5, 4.5)), ((2.5, 4.5), (1.5, 3.5)), ((1.5, 4.5), (1.5, 5.5)), ((1.5, 5.5), (1.5, 4.5)), ((1.5, 4.5), (2.5, 3.5)), ((2.5, 3.5), (1.5, 4.5)), ((1.5, 4.5), (2.5, 4.5)), ((2.5, 4.5), (1.5, 4.5)), ((1.5, 4.5), (2.5, 5.5)), ((2.5, 5.5), (1.5, 4.5)), ((1.5, 5.5), (1.5, 6.5)), ((1.5, 6.5), (1.5, 5.5)), ((1.5, 5.5), (2.5, 4.5)), ((2.5, 4.5), (1.5, 5.5)), ((1.5, 5.5), (2.5, 5.5)), ((2.5, 5.5), (1.5, 5.5)), ((1.5, 5.5), (2.5, 6.5)), ((2.5, 6.5), (1.5, 5.5)), ((1.5, 6.5), (1.5, 7.5)), ((1.5, 7.5), (1.5, 6.5)), ((1.5, 6.5), (2.5, 5.5)), ((2.5, 5.5), (1.5, 6.5)), ((1.5, 6.5), (2.5, 6.5)), ((2.5, 6.5), (1.5, 6.5)), ((1.5, 6.5), (2.5, 7.5)), ((2.5, 7.5), (1.5, 6.5)), ((1.5, 7.5), (1.5, 8.5)), ((1.5, 8.5), (1.5, 7.5)), ((1.5, 7.5), (2.5, 6.5)), ((2.5, 6.5), (1.5, 7.5)), ((1.5, 7.5), (2.5, 7.5)), ((2.5, 7.5), (1.5, 7.5)), ((1.5, 7.5), (2.5, 8.5)), ((2.5, 8.5), (1.5, 7.5)), ((1.5, 8.5), (1.5, 9.5)), ((1.5, 9.5), (1.5, 8.5)), ((1.5, 8.5), (2.5, 7.5)), ((2.5, 7.5), (1.5, 8.5)), ((1.5, 8.5), (2.5, 8.5)), ((2.5, 8.5), (1.5, 8.5)), ((1.5, 8.5), (2.5, 9.5)), ((2.5, 9.5), (1.5, 8.5)), ((1.5, 9.5), (1.5, 10.5)), ((1.5, 10.5), (1.5, 9.5)), ((1.5, 9.5), (2.5, 8.5)), ((2.5, 8.5), (1.5, 9.5)), ((1.5, 9.5), (2.5, 9.5)), ((2.5, 9.5), (1.5, 9.5)), ((1.5, 9.5), (2.5, 10.5)), ((2.5, 10.5), (1.5, 9.5)), ((1.5, 10.5), (1.5, 11.5)), ((1.5, 11.5), (1.5, 10.5)), ((1.5, 10.5), (2.5, 9.5)), ((2.5, 9.5), (1.5, 10.5)), ((1.5, 10.5), (2.5, 10.5)), ((2.5, 10.5), (1.5, 10.5)), ((1.5, 10.5), (2.5, 11.5)), ((2.5, 11.5), (1.5, 10.5)), ((1.5, 11.5), (2.5, 10.5)), ((2.5, 10.5), (1.5, 11.5)), ((1.5, 11.5), (2.5, 11.5)), ((2.5, 11.5), (1.5, 11.5)), ((2.5, 0.5), (2.5, 1.5)), ((2.5, 1.5), (2.5, 0.5)), ((2.5, 0.5), (3.5, 0.5)), ((3.5, 0.5), (2.5, 0.5)), ((2.5, 0.5), (3.5, 1.5)), ((3.5, 1.5), (2.5, 0.5)), ((2.5, 1.5), (2.5, 2.5)), ((2.5, 2.5), (2.5, 1.5)), ((2.5, 1.5), (3.5, 0.5)), ((3.5, 0.5), (2.5, 1.5)), ((2.5, 1.5), (3.5, 1.5)), ((3.5, 1.5), (2.5, 1.5)), ((2.5, 1.5), (3.5, 2.5)), ((3.5, 2.5), (2.5, 1.5)), ((2.5, 2.5), (2.5, 3.5)), ((2.5, 3.5), (2.5, 2.5)), ((2.5, 2.5), (3.5, 1.5)), ((3.5, 1.5), (2.5, 2.5)), ((2.5, 2.5), (3.5, 2.5)), ((3.5, 2.5), (2.5, 2.5)), ((2.5, 2.5), (3.5, 3.5)), ((3.5, 3.5), (2.5, 2.5)), ((2.5, 3.5), (2.5, 4.5)), ((2.5, 4.5), (2.5, 3.5)), ((2.5, 3.5), (3.5, 2.5)), ((3.5, 2.5), (2.5, 3.5)), ((2.5, 3.5), (3.5, 3.5)), ((3.5, 3.5), (2.5, 3.5)), ((2.5, 3.5), (3.5, 4.5)), ((3.5, 4.5), (2.5, 3.5)), ((2.5, 4.5), (2.5, 5.5)), ((2.5, 5.5), (2.5, 4.5)), ((2.5, 4.5), (3.5, 3.5)), ((3.5, 3.5), (2.5, 4.5)), ((2.5, 4.5), (3.5, 4.5)), ((3.5, 4.5), (2.5, 4.5)), ((2.5, 4.5), (3.5, 5.5)), ((3.5, 5.5), (2.5, 4.5)), ((2.5, 5.5), (2.5, 6.5)), ((2.5, 6.5), (2.5, 5.5)), ((2.5, 5.5), (3.5, 4.5)), ((3.5, 4.5), (2.5, 5.5)), ((2.5, 5.5), (3.5, 5.5)), ((3.5, 5.5), (2.5, 5.5)), ((2.5, 5.5), (3.5, 6.5)), ((3.5, 6.5), (2.5, 5.5)), ((2.5, 6.5), (2.5, 7.5)), ((2.5, 7.5), (2.5, 6.5)), ((2.5, 6.5), (3.5, 5.5)), ((3.5, 5.5), (2.5, 6.5)), ((2.5, 6.5), (3.5, 6.5)), ((3.5, 6.5), (2.5, 6.5)), ((2.5, 6.5), (3.5, 7.5)), ((3.5, 7.5), (2.5, 6.5)), ((2.5, 7.5), (2.5, 8.5)), ((2.5, 8.5), (2.5, 7.5)), ((2.5, 7.5), (3.5, 6.5)), ((3.5, 6.5), (2.5, 7.5)), ((2.5, 7.5), (3.5, 7.5)), ((3.5, 7.5), (2.5, 7.5)), ((2.5, 7.5), (3.5, 8.5)), ((3.5, 8.5), (2.5, 7.5)), ((2.5, 8.5), (2.5, 9.5)), ((2.5, 9.5), (2.5, 8.5)), ((2.5, 8.5), (3.5, 7.5)), ((3.5, 7.5), (2.5, 8.5)), ((2.5, 8.5), (3.5, 8.5)), ((3.5, 8.5), (2.5, 8.5)), ((2.5, 8.5), (3.5, 9.5)), ((3.5, 9.5), (2.5, 8.5)), ((2.5, 9.5), (2.5, 10.5)), ((2.5, 10.5), (2.5, 9.5)), ((2.5, 9.5), (3.5, 8.5)), ((3.5, 8.5), (2.5, 9.5)), ((2.5, 9.5), (3.5, 9.5)), ((3.5, 9.5), (2.5, 9.5)), ((2.5, 9.5), (3.5, 10.5)), ((3.5, 10.5), (2.5, 9.5)), ((2.5, 10.5), (2.5, 11.5)), ((2.5, 11.5), (2.5, 10.5)), ((2.5, 10.5), (3.5, 9.5)), ((3.5, 9.5), (2.5, 10.5)), ((2.5, 10.5), (3.5, 10.5)), ((3.5, 10.5), (2.5, 10.5)), ((2.5, 10.5), (3.5, 11.5)), ((3.5, 11.5), (2.5, 10.5)), ((2.5, 11.5), (3.5, 10.5)), ((3.5, 10.5), (2.5, 11.5)), ((2.5, 11.5), (3.5, 11.5)), ((3.5, 11.5), (2.5, 11.5)), ((3.5, 0.5), (3.5, 1.5)), ((3.5, 1.5), (3.5, 0.5)), ((3.5, 0.5), (4.5, 0.5)), ((4.5, 0.5), (3.5, 0.5)), ((3.5, 0.5), (4.5, 1.5)), ((4.5, 1.5), (3.5, 0.5)), ((3.5, 1.5), (3.5, 2.5)), ((3.5, 2.5), (3.5, 1.5)), ((3.5, 1.5), (4.5, 0.5)), ((4.5, 0.5), (3.5, 1.5)), ((3.5, 1.5), (4.5, 1.5)), ((4.5, 1.5), (3.5, 1.5)), ((3.5, 1.5), (4.5, 2.5)), ((4.5, 2.5), (3.5, 1.5)), ((3.5, 2.5), (3.5, 3.5)), ((3.5, 3.5), (3.5, 2.5)), ((3.5, 2.5), (4.5, 1.5)), ((4.5, 1.5), (3.5, 2.5)), ((3.5, 2.5), (4.5, 2.5)), ((4.5, 2.5), (3.5, 2.5)), ((3.5, 2.5), (4.5, 3.5)), ((4.5, 3.5), (3.5, 2.5)), ((3.5, 3.5), (3.5, 4.5)), ((3.5, 4.5), (3.5, 3.5)), ((3.5, 3.5), (4.5, 2.5)), ((4.5, 2.5), (3.5, 3.5)), ((3.5, 3.5), (4.5, 3.5)), ((4.5, 3.5), (3.5, 3.5)), ((3.5, 3.5), (4.5, 4.5)), ((4.5, 4.5), (3.5, 3.5)), ((3.5, 4.5), (3.5, 5.5)), ((3.5, 5.5), (3.5, 4.5)), ((3.5, 4.5), (4.5, 3.5)), ((4.5, 3.5), (3.5, 4.5)), ((3.5, 4.5), (4.5, 4.5)), ((4.5, 4.5), (3.5, 4.5)), ((3.5, 4.5), (4.5, 5.5)), ((4.5, 5.5), (3.5, 4.5)), ((3.5, 5.5), (3.5, 6.5)), ((3.5, 6.5), (3.5, 5.5)), ((3.5, 5.5), (4.5, 4.5)), ((4.5, 4.5), (3.5, 5.5)), ((3.5, 5.5), (4.5, 5.5)), ((4.5, 5.5), (3.5, 5.5)), ((3.5, 5.5), (4.5, 6.5)), ((4.5, 6.5), (3.5, 5.5)), ((3.5, 6.5), (3.5, 7.5)), ((3.5, 7.5), (3.5, 6.5)), ((3.5, 6.5), (4.5, 5.5)), ((4.5, 5.5), (3.5, 6.5)), ((3.5, 6.5), (4.5, 6.5)), ((4.5, 6.5), (3.5, 6.5)), ((3.5, 6.5), (4.5, 7.5)), ((4.5, 7.5), (3.5, 6.5)), ((3.5, 7.5), (3.5, 8.5)), ((3.5, 8.5), (3.5, 7.5)), ((3.5, 7.5), (4.5, 6.5)), ((4.5, 6.5), (3.5, 7.5)), ((3.5, 7.5), (4.5, 7.5)), ((4.5, 7.5), (3.5, 7.5)), ((3.5, 7.5), (4.5, 8.5)), ((4.5, 8.5), (3.5, 7.5)), ((3.5, 8.5), (3.5, 9.5)), ((3.5, 9.5), (3.5, 8.5)), ((3.5, 8.5), (4.5, 7.5)), ((4.5, 7.5), (3.5, 8.5)), ((3.5, 8.5), (4.5, 8.5)), ((4.5, 8.5), (3.5, 8.5)), ((3.5, 8.5), (4.5, 9.5)), ((4.5, 9.5), (3.5, 8.5)), ((3.5, 9.5), (3.5, 10.5)), ((3.5, 10.5), (3.5, 9.5)), ((3.5, 9.5), (4.5, 8.5)), ((4.5, 8.5), (3.5, 9.5)), ((3.5, 9.5), (4.5, 9.5)), ((4.5, 9.5), (3.5, 9.5)), ((3.5, 9.5), (4.5, 10.5)), ((4.5, 10.5), (3.5, 9.5)), ((3.5, 10.5), (3.5, 11.5)), ((3.5, 11.5), (3.5, 10.5)), ((3.5, 10.5), (4.5, 9.5)), ((4.5, 9.5), (3.5, 10.5)), ((3.5, 10.5), (4.5, 10.5)), ((4.5, 10.5), (3.5, 10.5)), ((3.5, 10.5), (4.5, 11.5)), ((4.5, 11.5), (3.5, 10.5)), ((3.5, 11.5), (4.5, 10.5)), ((4.5, 10.5), (3.5, 11.5)), ((3.5, 11.5), (4.5, 11.5)), ((4.5, 11.5), (3.5, 11.5)), ((4.5, 0.5), (4.5, 1.5)), ((4.5, 1.5), (4.5, 0.5)), ((4.5, 0.5), (5.5, 0.5)), ((5.5, 0.5), (4.5, 0.5)), ((4.5, 0.5), (5.5, 1.5)), ((5.5, 1.5), (4.5, 0.5)), ((4.5, 1.5), (4.5, 2.5)), ((4.5, 2.5), (4.5, 1.5)), ((4.5, 1.5), (5.5, 0.5)), ((5.5, 0.5), (4.5, 1.5)), ((4.5, 1.5), (5.5, 1.5)), ((5.5, 1.5), (4.5, 1.5)), ((4.5, 1.5), (5.5, 2.5)), ((5.5, 2.5), (4.5, 1.5)), ((4.5, 2.5), (4.5, 3.5)), ((4.5, 3.5), (4.5, 2.5)), ((4.5, 2.5), (5.5, 1.5)), ((5.5, 1.5), (4.5, 2.5)), ((4.5, 2.5), (5.5, 2.5)), ((5.5, 2.5), (4.5, 2.5)), ((4.5, 2.5), (5.5, 3.5)), ((5.5, 3.5), (4.5, 2.5)), ((4.5, 3.5), (4.5, 4.5)), ((4.5, 4.5), (4.5, 3.5)), ((4.5, 3.5), (5.5, 2.5)), ((5.5, 2.5), (4.5, 3.5)), ((4.5, 3.5), (5.5, 3.5)), ((5.5, 3.5), (4.5, 3.5)), ((4.5, 3.5), (5.5, 4.5)), ((5.5, 4.5), (4.5, 3.5)), ((4.5, 4.5), (4.5, 5.5)), ((4.5, 5.5), (4.5, 4.5)), ((4.5, 4.5), (5.5, 3.5)), ((5.5, 3.5), (4.5, 4.5)), ((4.5, 4.5), (5.5, 4.5)), ((5.5, 4.5), (4.5, 4.5)), ((4.5, 4.5), (5.5, 5.5)), ((5.5, 5.5), (4.5, 4.5)), ((4.5, 5.5), (4.5, 6.5)), ((4.5, 6.5), (4.5, 5.5)), ((4.5, 5.5), (5.5, 4.5)), ((5.5, 4.5), (4.5, 5.5)), ((4.5, 5.5), (5.5, 5.5)), ((5.5, 5.5), (4.5, 5.5)), ((4.5, 5.5), (5.5, 6.5)), ((5.5, 6.5), (4.5, 5.5)), ((4.5, 6.5), (4.5, 7.5)), ((4.5, 7.5), (4.5, 6.5)), ((4.5, 6.5), (5.5, 5.5)), ((5.5, 5.5), (4.5, 6.5)), ((4.5, 6.5), (5.5, 6.5)), ((5.5, 6.5), (4.5, 6.5)), ((4.5, 6.5), (5.5, 7.5)), ((5.5, 7.5), (4.5, 6.5)), ((4.5, 7.5), (4.5, 8.5)), ((4.5, 8.5), (4.5, 7.5)), ((4.5, 7.5), (5.5, 6.5)), ((5.5, 6.5), (4.5, 7.5)), ((4.5, 7.5), (5.5, 7.5)), ((5.5, 7.5), (4.5, 7.5)), ((4.5, 7.5), (5.5, 8.5)), ((5.5, 8.5), (4.5, 7.5)), ((4.5, 8.5), (4.5, 9.5)), ((4.5, 9.5), (4.5, 8.5)), ((4.5, 8.5), (5.5, 7.5)), ((5.5, 7.5), (4.5, 8.5)), ((4.5, 8.5), (5.5, 8.5)), ((5.5, 8.5), (4.5, 8.5)), ((4.5, 8.5), (5.5, 9.5)), ((5.5, 9.5), (4.5, 8.5)), ((4.5, 9.5), (4.5, 10.5)), ((4.5, 10.5), (4.5, 9.5)), ((4.5, 9.5), (5.5, 8.5)), ((5.5, 8.5), (4.5, 9.5)), ((4.5, 9.5), (5.5, 9.5)), ((5.5, 9.5), (4.5, 9.5)), ((4.5, 9.5), (5.5, 10.5)), ((5.5, 10.5), (4.5, 9.5)), ((4.5, 10.5), (4.5, 11.5)), ((4.5, 11.5), (4.5, 10.5)), ((4.5, 10.5), (5.5, 9.5)), ((5.5, 9.5), (4.5, 10.5)), ((4.5, 10.5), (5.5, 10.5)), ((5.5, 10.5), (4.5, 10.5)), ((4.5, 10.5), (5.5, 11.5)), ((5.5, 11.5), (4.5, 10.5)), ((4.5, 11.5), (5.5, 10.5)), ((5.5, 10.5), (4.5, 11.5)), ((4.5, 11.5), (5.5, 11.5)), ((5.5, 11.5), (4.5, 11.5)), ((5.5, 0.5), (5.5, 1.5)), ((5.5, 1.5), (5.5, 0.5)), ((5.5, 0.5), (6.5, 0.5)), ((6.5, 0.5), (5.5, 0.5)), ((5.5, 0.5), (6.5, 1.5)), ((6.5, 1.5), (5.5, 0.5)), ((5.5, 1.5), (5.5, 2.5)), ((5.5, 2.5), (5.5, 1.5)), ((5.5, 1.5), (6.5, 0.5)), ((6.5, 0.5), (5.5, 1.5)), ((5.5, 1.5), (6.5, 1.5)), ((6.5, 1.5), (5.5, 1.5)), ((5.5, 1.5), (6.5, 2.5)), ((6.5, 2.5), (5.5, 1.5)), ((5.5, 2.5), (5.5, 3.5)), ((5.5, 3.5), (5.5, 2.5)), ((5.5, 2.5), (6.5, 1.5)), ((6.5, 1.5), (5.5, 2.5)), ((5.5, 2.5), (6.5, 2.5)), ((6.5, 2.5), (5.5, 2.5)), ((5.5, 2.5), (6.5, 3.5)), ((6.5, 3.5), (5.5, 2.5)), ((5.5, 3.5), (5.5, 4.5)), ((5.5, 4.5), (5.5, 3.5)), ((5.5, 3.5), (6.5, 2.5)), ((6.5, 2.5), (5.5, 3.5)), ((5.5, 3.5), (6.5, 3.5)), ((6.5, 3.5), (5.5, 3.5)), ((5.5, 3.5), (6.5, 4.5)), ((6.5, 4.5), (5.5, 3.5)), ((5.5, 4.5), (5.5, 5.5)), ((5.5, 5.5), (5.5, 4.5)), ((5.5, 4.5), (6.5, 3.5)), ((6.5, 3.5), (5.5, 4.5)), ((5.5, 4.5), (6.5, 4.5)), ((6.5, 4.5), (5.5, 4.5)), ((5.5, 4.5), (6.5, 5.5)), ((6.5, 5.5), (5.5, 4.5)), ((5.5, 5.5), (5.5, 6.5)), ((5.5, 6.5), (5.5, 5.5)), ((5.5, 5.5), (6.5, 4.5)), ((6.5, 4.5), (5.5, 5.5)), ((5.5, 5.5), (6.5, 5.5)), ((6.5, 5.5), (5.5, 5.5)), ((5.5, 5.5), (6.5, 6.5)), ((6.5, 6.5), (5.5, 5.5)), ((5.5, 6.5), (5.5, 7.5)), ((5.5, 7.5), (5.5, 6.5)), ((5.5, 6.5), (6.5, 5.5)), ((6.5, 5.5), (5.5, 6.5)), ((5.5, 6.5), (6.5, 6.5)), ((6.5, 6.5), (5.5, 6.5)), ((5.5, 6.5), (6.5, 7.5)), ((6.5, 7.5), (5.5, 6.5)), ((5.5, 7.5), (5.5, 8.5)), ((5.5, 8.5), (5.5, 7.5)), ((5.5, 7.5), (6.5, 6.5)), ((6.5, 6.5), (5.5, 7.5)), ((5.5, 7.5), (6.5, 7.5)), ((6.5, 7.5), (5.5, 7.5)), ((5.5, 7.5), (6.5, 8.5)), ((6.5, 8.5), (5.5, 7.5)), ((5.5, 8.5), (5.5, 9.5)), ((5.5, 9.5), (5.5, 8.5)), ((5.5, 8.5), (6.5, 7.5)), ((6.5, 7.5), (5.5, 8.5)), ((5.5, 8.5), (6.5, 8.5)), ((6.5, 8.5), (5.5, 8.5)), ((5.5, 8.5), (6.5, 9.5)), ((6.5, 9.5), (5.5, 8.5)), ((5.5, 9.5), (5.5, 10.5)), ((5.5, 10.5), (5.5, 9.5)), ((5.5, 9.5), (6.5, 8.5)), ((6.5, 8.5), (5.5, 9.5)), ((5.5, 9.5), (6.5, 9.5)), ((6.5, 9.5), (5.5, 9.5)), ((5.5, 9.5), (6.5, 10.5)), ((6.5, 10.5), (5.5, 9.5)), ((5.5, 10.5), (5.5, 11.5)), ((5.5, 11.5), (5.5, 10.5)), ((5.5, 10.5), (6.5, 9.5)), ((6.5, 9.5), (5.5, 10.5)), ((5.5, 10.5), (6.5, 10.5)), ((6.5, 10.5), (5.5, 10.5)), ((5.5, 10.5), (6.5, 11.5)), ((6.5, 11.5), (5.5, 10.5)), ((5.5, 11.5), (6.5, 10.5)), ((6.5, 10.5), (5.5, 11.5)), ((5.5, 11.5), (6.5, 11.5)), ((6.5, 11.5), (5.5, 11.5)), ((6.5, 0.5), (6.5, 1.5)), ((6.5, 1.5), (6.5, 0.5)), ((6.5, 0.5), (7.5, 0.5)), ((7.5, 0.5), (6.5, 0.5)), ((6.5, 0.5), (7.5, 1.5)), ((7.5, 1.5), (6.5, 0.5)), ((6.5, 1.5), (6.5, 2.5)), ((6.5, 2.5), (6.5, 1.5)), ((6.5, 1.5), (7.5, 0.5)), ((7.5, 0.5), (6.5, 1.5)), ((6.5, 1.5), (7.5, 1.5)), ((7.5, 1.5), (6.5, 1.5)), ((6.5, 1.5), (7.5, 2.5)), ((7.5, 2.5), (6.5, 1.5)), ((6.5, 2.5), (6.5, 3.5)), ((6.5, 3.5), (6.5, 2.5)), ((6.5, 2.5), (7.5, 1.5)), ((7.5, 1.5), (6.5, 2.5)), ((6.5, 2.5), (7.5, 2.5)), ((7.5, 2.5), (6.5, 2.5)), ((6.5, 2.5), (7.5, 3.5)), ((7.5, 3.5), (6.5, 2.5)), ((6.5, 3.5), (6.5, 4.5)), ((6.5, 4.5), (6.5, 3.5)), ((6.5, 3.5), (7.5, 2.5)), ((7.5, 2.5), (6.5, 3.5)), ((6.5, 3.5), (7.5, 3.5)), ((7.5, 3.5), (6.5, 3.5)), ((6.5, 3.5), (7.5, 4.5)), ((7.5, 4.5), (6.5, 3.5)), ((6.5, 4.5), (6.5, 5.5)), ((6.5, 5.5), (6.5, 4.5)), ((6.5, 4.5), (7.5, 3.5)), ((7.5, 3.5), (6.5, 4.5)), ((6.5, 4.5), (7.5, 4.5)), ((7.5, 4.5), (6.5, 4.5)), ((6.5, 4.5), (7.5, 5.5)), ((7.5, 5.5), (6.5, 4.5)), ((6.5, 5.5), (6.5, 6.5)), ((6.5, 6.5), (6.5, 5.5)), ((6.5, 5.5), (7.5, 4.5)), ((7.5, 4.5), (6.5, 5.5)), ((6.5, 5.5), (7.5, 5.5)), ((7.5, 5.5), (6.5, 5.5)), ((6.5, 5.5), (7.5, 6.5)), ((7.5, 6.5), (6.5, 5.5)), ((6.5, 6.5), (6.5, 7.5)), ((6.5, 7.5), (6.5, 6.5)), ((6.5, 6.5), (7.5, 5.5)), ((7.5, 5.5), (6.5, 6.5)), ((6.5, 6.5), (7.5, 6.5)), ((7.5, 6.5), (6.5, 6.5)), ((6.5, 6.5), (7.5, 7.5)), ((7.5, 7.5), (6.5, 6.5)), ((6.5, 7.5), (6.5, 8.5)), ((6.5, 8.5), (6.5, 7.5)), ((6.5, 7.5), (7.5, 6.5)), ((7.5, 6.5), (6.5, 7.5)), ((6.5, 7.5), (7.5, 7.5)), ((7.5, 7.5), (6.5, 7.5)), ((6.5, 7.5), (7.5, 8.5)), ((7.5, 8.5), (6.5, 7.5)), ((6.5, 8.5), (6.5, 9.5)), ((6.5, 9.5), (6.5, 8.5)), ((6.5, 8.5), (7.5, 7.5)), ((7.5, 7.5), (6.5, 8.5)), ((6.5, 8.5), (7.5, 8.5)), ((7.5, 8.5), (6.5, 8.5)), ((6.5, 8.5), (7.5, 9.5)), ((7.5, 9.5), (6.5, 8.5)), ((6.5, 9.5), (6.5, 10.5)), ((6.5, 10.5), (6.5, 9.5)), ((6.5, 9.5), (7.5, 8.5)), ((7.5, 8.5), (6.5, 9.5)), ((6.5, 9.5), (7.5, 9.5)), ((7.5, 9.5), (6.5, 9.5)), ((6.5, 9.5), (7.5, 10.5)), ((7.5, 10.5), (6.5, 9.5)), ((6.5, 10.5), (6.5, 11.5)), ((6.5, 11.5), (6.5, 10.5)), ((6.5, 10.5), (7.5, 9.5)), ((7.5, 9.5), (6.5, 10.5)), ((6.5, 10.5), (7.5, 10.5)), ((7.5, 10.5), (6.5, 10.5)), ((6.5, 10.5), (7.5, 11.5)), ((7.5, 11.5), (6.5, 10.5)), ((6.5, 11.5), (7.5, 10.5)), ((7.5, 10.5), (6.5, 11.5)), ((6.5, 11.5), (7.5, 11.5)), ((7.5, 11.5), (6.5, 11.5)), ((7.5, 0.5), (7.5, 1.5)), ((7.5, 1.5), (7.5, 0.5)), ((7.5, 0.5), (8.5, 0.5)), ((8.5, 0.5), (7.5, 0.5)), ((7.5, 0.5), (8.5, 1.5)), ((8.5, 1.5), (7.5, 0.5)), ((7.5, 1.5), (7.5, 2.5)), ((7.5, 2.5), (7.5, 1.5)), ((7.5, 1.5), (8.5, 0.5)), ((8.5, 0.5), (7.5, 1.5)), ((7.5, 1.5), (8.5, 1.5)), ((8.5, 1.5), (7.5, 1.5)), ((7.5, 1.5), (8.5, 2.5)), ((8.5, 2.5), (7.5, 1.5)), ((7.5, 2.5), (7.5, 3.5)), ((7.5, 3.5), (7.5, 2.5)), ((7.5, 2.5), (8.5, 1.5)), ((8.5, 1.5), (7.5, 2.5)), ((7.5, 2.5), (8.5, 2.5)), ((8.5, 2.5), (7.5, 2.5)), ((7.5, 2.5), (8.5, 3.5)), ((8.5, 3.5), (7.5, 2.5)), ((7.5, 3.5), (7.5, 4.5)), ((7.5, 4.5), (7.5, 3.5)), ((7.5, 3.5), (8.5, 2.5)), ((8.5, 2.5), (7.5, 3.5)), ((7.5, 3.5), (8.5, 3.5)), ((8.5, 3.5), (7.5, 3.5)), ((7.5, 3.5), (8.5, 4.5)), ((8.5, 4.5), (7.5, 3.5)), ((7.5, 4.5), (7.5, 5.5)), ((7.5, 5.5), (7.5, 4.5)), ((7.5, 4.5), (8.5, 3.5)), ((8.5, 3.5), (7.5, 4.5)), ((7.5, 4.5), (8.5, 4.5)), ((8.5, 4.5), (7.5, 4.5)), ((7.5, 4.5), (8.5, 5.5)), ((8.5, 5.5), (7.5, 4.5)), ((7.5, 5.5), (7.5, 6.5)), ((7.5, 6.5), (7.5, 5.5)), ((7.5, 5.5), (8.5, 4.5)), ((8.5, 4.5), (7.5, 5.5)), ((7.5, 5.5), (8.5, 5.5)), ((8.5, 5.5), (7.5, 5.5)), ((7.5, 5.5), (8.5, 6.5)), ((8.5, 6.5), (7.5, 5.5)), ((7.5, 6.5), (7.5, 7.5)), ((7.5, 7.5), (7.5, 6.5)), ((7.5, 6.5), (8.5, 5.5)), ((8.5, 5.5), (7.5, 6.5)), ((7.5, 6.5), (8.5, 6.5)), ((8.5, 6.5), (7.5, 6.5)), ((7.5, 6.5), (8.5, 7.5)), ((8.5, 7.5), (7.5, 6.5)), ((7.5, 7.5), (7.5, 8.5)), ((7.5, 8.5), (7.5, 7.5)), ((7.5, 7.5), (8.5, 6.5)), ((8.5, 6.5), (7.5, 7.5)), ((7.5, 7.5), (8.5, 7.5)), ((8.5, 7.5), (7.5, 7.5)), ((7.5, 7.5), (8.5, 8.5)), ((8.5, 8.5), (7.5, 7.5)), ((7.5, 8.5), (7.5, 9.5)), ((7.5, 9.5), (7.5, 8.5)), ((7.5, 8.5), (8.5, 7.5)), ((8.5, 7.5), (7.5, 8.5)), ((7.5, 8.5), (8.5, 8.5)), ((8.5, 8.5), (7.5, 8.5)), ((7.5, 8.5), (8.5, 9.5)), ((8.5, 9.5), (7.5, 8.5)), ((7.5, 9.5), (7.5, 10.5)), ((7.5, 10.5), (7.5, 9.5)), ((7.5, 9.5), (8.5, 8.5)), ((8.5, 8.5), (7.5, 9.5)), ((7.5, 9.5), (8.5, 9.5)), ((8.5, 9.5), (7.5, 9.5)), ((7.5, 9.5), (8.5, 10.5)), ((8.5, 10.5), (7.5, 9.5)), ((7.5, 10.5), (7.5, 11.5)), ((7.5, 11.5), (7.5, 10.5)), ((7.5, 10.5), (8.5, 9.5)), ((8.5, 9.5), (7.5, 10.5)), ((7.5, 10.5), (8.5, 10.5)), ((8.5, 10.5), (7.5, 10.5)), ((7.5, 10.5), (8.5, 11.5)), ((8.5, 11.5), (7.5, 10.5)), ((7.5, 11.5), (8.5, 10.5)), ((8.5, 10.5), (7.5, 11.5)), ((7.5, 11.5), (8.5, 11.5)), ((8.5, 11.5), (7.5, 11.5)), ((8.5, 0.5), (8.5, 1.5)), ((8.5, 1.5), (8.5, 0.5)), ((8.5, 0.5), (9.5, 0.5)), ((9.5, 0.5), (8.5, 0.5)), ((8.5, 0.5), (9.5, 1.5)), ((9.5, 1.5), (8.5, 0.5)), ((8.5, 1.5), (8.5, 2.5)), ((8.5, 2.5), (8.5, 1.5)), ((8.5, 1.5), (9.5, 0.5)), ((9.5, 0.5), (8.5, 1.5)), ((8.5, 1.5), (9.5, 1.5)), ((9.5, 1.5), (8.5, 1.5)), ((8.5, 1.5), (9.5, 2.5)), ((9.5, 2.5), (8.5, 1.5)), ((8.5, 2.5), (8.5, 3.5)), ((8.5, 3.5), (8.5, 2.5)), ((8.5, 2.5), (9.5, 1.5)), ((9.5, 1.5), (8.5, 2.5)), ((8.5, 2.5), (9.5, 2.5)), ((9.5, 2.5), (8.5, 2.5)), ((8.5, 2.5), (9.5, 3.5)), ((9.5, 3.5), (8.5, 2.5)), ((8.5, 3.5), (8.5, 4.5)), ((8.5, 4.5), (8.5, 3.5)), ((8.5, 3.5), (9.5, 2.5)), ((9.5, 2.5), (8.5, 3.5)), ((8.5, 3.5), (9.5, 3.5)), ((9.5, 3.5), (8.5, 3.5)), ((8.5, 3.5), (9.5, 4.5)), ((9.5, 4.5), (8.5, 3.5)), ((8.5, 4.5), (8.5, 5.5)), ((8.5, 5.5), (8.5, 4.5)), ((8.5, 4.5), (9.5, 3.5)), ((9.5, 3.5), (8.5, 4.5)), ((8.5, 4.5), (9.5, 4.5)), ((9.5, 4.5), (8.5, 4.5)), ((8.5, 4.5), (9.5, 5.5)), ((9.5, 5.5), (8.5, 4.5)), ((8.5, 5.5), (8.5, 6.5)), ((8.5, 6.5), (8.5, 5.5)), ((8.5, 5.5), (9.5, 4.5)), ((9.5, 4.5), (8.5, 5.5)), ((8.5, 5.5), (9.5, 5.5)), ((9.5, 5.5), (8.5, 5.5)), ((8.5, 5.5), (9.5, 6.5)), ((9.5, 6.5), (8.5, 5.5)), ((8.5, 6.5), (8.5, 7.5)), ((8.5, 7.5), (8.5, 6.5)), ((8.5, 6.5), (9.5, 5.5)), ((9.5, 5.5), (8.5, 6.5)), ((8.5, 6.5), (9.5, 6.5)), ((9.5, 6.5), (8.5, 6.5)), ((8.5, 6.5), (9.5, 7.5)), ((9.5, 7.5), (8.5, 6.5)), ((8.5, 7.5), (8.5, 8.5)), ((8.5, 8.5), (8.5, 7.5)), ((8.5, 7.5), (9.5, 6.5)), ((9.5, 6.5), (8.5, 7.5)), ((8.5, 7.5), (9.5, 7.5)), ((9.5, 7.5), (8.5, 7.5)), ((8.5, 7.5), (9.5, 8.5)), ((9.5, 8.5), (8.5, 7.5)), ((8.5, 8.5), (8.5, 9.5)), ((8.5, 9.5), (8.5, 8.5)), ((8.5, 8.5), (9.5, 7.5)), ((9.5, 7.5), (8.5, 8.5)), ((8.5, 8.5), (9.5, 8.5)), ((9.5, 8.5), (8.5, 8.5)), ((8.5, 8.5), (9.5, 9.5)), ((9.5, 9.5), (8.5, 8.5)), ((8.5, 9.5), (8.5, 10.5)), ((8.5, 10.5), (8.5, 9.5)), ((8.5, 9.5), (9.5, 8.5)), ((9.5, 8.5), (8.5, 9.5)), ((8.5, 9.5), (9.5, 9.5)), ((9.5, 9.5), (8.5, 9.5)), ((8.5, 9.5), (9.5, 10.5)), ((9.5, 10.5), (8.5, 9.5)), ((8.5, 10.5), (8.5, 11.5)), ((8.5, 11.5), (8.5, 10.5)), ((8.5, 10.5), (9.5, 9.5)), ((9.5, 9.5), (8.5, 10.5)), ((8.5, 10.5), (9.5, 10.5)), ((9.5, 10.5), (8.5, 10.5)), ((8.5, 10.5), (9.5, 11.5)), ((9.5, 11.5), (8.5, 10.5)), ((8.5, 11.5), (9.5, 10.5)), ((9.5, 10.5), (8.5, 11.5)), ((8.5, 11.5), (9.5, 11.5)), ((9.5, 11.5), (8.5, 11.5)), ((9.5, 0.5), (9.5, 1.5)), ((9.5, 1.5), (9.5, 0.5)), ((9.5, 0.5), (10.5, 0.5)), ((10.5, 0.5), (9.5, 0.5)), ((9.5, 0.5), (10.5, 1.5)), ((10.5, 1.5), (9.5, 0.5)), ((9.5, 1.5), (9.5, 2.5)), ((9.5, 2.5), (9.5, 1.5)), ((9.5, 1.5), (10.5, 0.5)), ((10.5, 0.5), (9.5, 1.5)), ((9.5, 1.5), (10.5, 1.5)), ((10.5, 1.5), (9.5, 1.5)), ((9.5, 1.5), (10.5, 2.5)), ((10.5, 2.5), (9.5, 1.5)), ((9.5, 2.5), (9.5, 3.5)), ((9.5, 3.5), (9.5, 2.5)), ((9.5, 2.5), (10.5, 1.5)), ((10.5, 1.5), (9.5, 2.5)), ((9.5, 2.5), (10.5, 2.5)), ((10.5, 2.5), (9.5, 2.5)), ((9.5, 2.5), (10.5, 3.5)), ((10.5, 3.5), (9.5, 2.5)), ((9.5, 3.5), (9.5, 4.5)), ((9.5, 4.5), (9.5, 3.5)), ((9.5, 3.5), (10.5, 2.5)), ((10.5, 2.5), (9.5, 3.5)), ((9.5, 3.5), (10.5, 3.5)), ((10.5, 3.5), (9.5, 3.5)), ((9.5, 3.5), (10.5, 4.5)), ((10.5, 4.5), (9.5, 3.5)), ((9.5, 4.5), (9.5, 5.5)), ((9.5, 5.5), (9.5, 4.5)), ((9.5, 4.5), (10.5, 3.5)), ((10.5, 3.5), (9.5, 4.5)), ((9.5, 4.5), (10.5, 4.5)), ((10.5, 4.5), (9.5, 4.5)), ((9.5, 4.5), (10.5, 5.5)), ((10.5, 5.5), (9.5, 4.5)), ((9.5, 5.5), (9.5, 6.5)), ((9.5, 6.5), (9.5, 5.5)), ((9.5, 5.5), (10.5, 4.5)), ((10.5, 4.5), (9.5, 5.5)), ((9.5, 5.5), (10.5, 5.5)), ((10.5, 5.5), (9.5, 5.5)), ((9.5, 5.5), (10.5, 6.5)), ((10.5, 6.5), (9.5, 5.5)), ((9.5, 6.5), (9.5, 7.5)), ((9.5, 7.5), (9.5, 6.5)), ((9.5, 6.5), (10.5, 5.5)), ((10.5, 5.5), (9.5, 6.5)), ((9.5, 6.5), (10.5, 6.5)), ((10.5, 6.5), (9.5, 6.5)), ((9.5, 6.5), (10.5, 7.5)), ((10.5, 7.5), (9.5, 6.5)), ((9.5, 7.5), (9.5, 8.5)), ((9.5, 8.5), (9.5, 7.5)), ((9.5, 7.5), (10.5, 6.5)), ((10.5, 6.5), (9.5, 7.5)), ((9.5, 7.5), (10.5, 7.5)), ((10.5, 7.5), (9.5, 7.5)), ((9.5, 7.5), (10.5, 8.5)), ((10.5, 8.5), (9.5, 7.5)), ((9.5, 8.5), (9.5, 9.5)), ((9.5, 9.5), (9.5, 8.5)), ((9.5, 8.5), (10.5, 7.5)), ((10.5, 7.5), (9.5, 8.5)), ((9.5, 8.5), (10.5, 8.5)), ((10.5, 8.5), (9.5, 8.5)), ((9.5, 8.5), (10.5, 9.5)), ((10.5, 9.5), (9.5, 8.5)), ((9.5, 9.5), (9.5, 10.5)), ((9.5, 10.5), (9.5, 9.5)), ((9.5, 9.5), (10.5, 8.5)), ((10.5, 8.5), (9.5, 9.5)), ((9.5, 9.5), (10.5, 9.5)), ((10.5, 9.5), (9.5, 9.5)), ((9.5, 9.5), (10.5, 10.5)), ((10.5, 10.5), (9.5, 9.5)), ((9.5, 10.5), (9.5, 11.5)), ((9.5, 11.5), (9.5, 10.5)), ((9.5, 10.5), (10.5, 9.5)), ((10.5, 9.5), (9.5, 10.5)), ((9.5, 10.5), (10.5, 10.5)), ((10.5, 10.5), (9.5, 10.5)), ((9.5, 10.5), (10.5, 11.5)), ((10.5, 11.5), (9.5, 10.5)), ((9.5, 11.5), (10.5, 10.5)), ((10.5, 10.5), (9.5, 11.5)), ((9.5, 11.5), (10.5, 11.5)), ((10.5, 11.5), (9.5, 11.5)), ((10.5, 0.5), (10.5, 1.5)), ((10.5, 1.5), (10.5, 0.5)), ((10.5, 0.5), (11.5, 0.5)), ((11.5, 0.5), (10.5, 0.5)), ((10.5, 0.5), (11.5, 1.5)), ((11.5, 1.5), (10.5, 0.5)), ((10.5, 1.5), (10.5, 2.5)), ((10.5, 2.5), (10.5, 1.5)), ((10.5, 1.5), (11.5, 0.5)), ((11.5, 0.5), (10.5, 1.5)), ((10.5, 1.5), (11.5, 1.5)), ((11.5, 1.5), (10.5, 1.5)), ((10.5, 1.5), (11.5, 2.5)), ((11.5, 2.5), (10.5, 1.5)), ((10.5, 2.5), (10.5, 3.5)), ((10.5, 3.5), (10.5, 2.5)), ((10.5, 2.5), (11.5, 1.5)), ((11.5, 1.5), (10.5, 2.5)), ((10.5, 2.5), (11.5, 2.5)), ((11.5, 2.5), (10.5, 2.5)), ((10.5, 2.5), (11.5, 3.5)), ((11.5, 3.5), (10.5, 2.5)), ((10.5, 3.5), (10.5, 4.5)), ((10.5, 4.5), (10.5, 3.5)), ((10.5, 3.5), (11.5, 2.5)), ((11.5, 2.5), (10.5, 3.5)), ((10.5, 3.5), (11.5, 3.5)), ((11.5, 3.5), (10.5, 3.5)), ((10.5, 3.5), (11.5, 4.5)), ((11.5, 4.5), (10.5, 3.5)), ((10.5, 4.5), (10.5, 5.5)), ((10.5, 5.5), (10.5, 4.5)), ((10.5, 4.5), (11.5, 3.5)), ((11.5, 3.5), (10.5, 4.5)), ((10.5, 4.5), (11.5, 4.5)), ((11.5, 4.5), (10.5, 4.5)), ((10.5, 4.5), (11.5, 5.5)), ((11.5, 5.5), (10.5, 4.5)), ((10.5, 5.5), (10.5, 6.5)), ((10.5, 6.5), (10.5, 5.5)), ((10.5, 5.5), (11.5, 4.5)), ((11.5, 4.5), (10.5, 5.5)), ((10.5, 5.5), (11.5, 5.5)), ((11.5, 5.5), (10.5, 5.5)), ((10.5, 5.5), (11.5, 6.5)), ((11.5, 6.5), (10.5, 5.5)), ((10.5, 6.5), (10.5, 7.5)), ((10.5, 7.5), (10.5, 6.5)), ((10.5, 6.5), (11.5, 5.5)), ((11.5, 5.5), (10.5, 6.5)), ((10.5, 6.5), (11.5, 6.5)), ((11.5, 6.5), (10.5, 6.5)), ((10.5, 6.5), (11.5, 7.5)), ((11.5, 7.5), (10.5, 6.5)), ((10.5, 7.5), (10.5, 8.5)), ((10.5, 8.5), (10.5, 7.5)), ((10.5, 7.5), (11.5, 6.5)), ((11.5, 6.5), (10.5, 7.5)), ((10.5, 7.5), (11.5, 7.5)), ((11.5, 7.5), (10.5, 7.5)), ((10.5, 7.5), (11.5, 8.5)), ((11.5, 8.5), (10.5, 7.5)), ((10.5, 8.5), (10.5, 9.5)), ((10.5, 9.5), (10.5, 8.5)), ((10.5, 8.5), (11.5, 7.5)), ((11.5, 7.5), (10.5, 8.5)), ((10.5, 8.5), (11.5, 8.5)), ((11.5, 8.5), (10.5, 8.5)), ((10.5, 8.5), (11.5, 9.5)), ((11.5, 9.5), (10.5, 8.5)), ((10.5, 9.5), (10.5, 10.5)), ((10.5, 10.5), (10.5, 9.5)), ((10.5, 9.5), (11.5, 8.5)), ((11.5, 8.5), (10.5, 9.5)), ((10.5, 9.5), (11.5, 9.5)), ((11.5, 9.5), (10.5, 9.5)), ((10.5, 9.5), (11.5, 10.5)), ((11.5, 10.5), (10.5, 9.5)), ((10.5, 10.5), (10.5, 11.5)), ((10.5, 11.5), (10.5, 10.5)), ((10.5, 10.5), (11.5, 9.5)), ((11.5, 9.5), (10.5, 10.5)), ((10.5, 10.5), (11.5, 10.5)), ((11.5, 10.5), (10.5, 10.5)), ((10.5, 10.5), (11.5, 11.5)), ((11.5, 11.5), (10.5, 10.5)), ((10.5, 11.5), (11.5, 10.5)), ((11.5, 10.5), (10.5, 11.5)), ((10.5, 11.5), (11.5, 11.5)), ((11.5, 11.5), (10.5, 11.5)), ((11.5, 0.5), (11.5, 1.5)), ((11.5, 1.5), (11.5, 0.5)), ((11.5, 1.5), (11.5, 2.5)), ((11.5, 2.5), (11.5, 1.5)), ((11.5, 2.5), (11.5, 3.5)), ((11.5, 3.5), (11.5, 2.5)), ((11.5, 3.5), (11.5, 4.5)), ((11.5, 4.5), (11.5, 3.5)), ((11.5, 4.5), (11.5, 5.5)), ((11.5, 5.5), (11.5, 4.5)), ((11.5, 5.5), (11.5, 6.5)), ((11.5, 6.5), (11.5, 5.5)), ((11.5, 6.5), (11.5, 7.5)), ((11.5, 7.5), (11.5, 6.5)), ((11.5, 7.5), (11.5, 8.5)), ((11.5, 8.5), (11.5, 7.5)), ((11.5, 8.5), (11.5, 9.5)), ((11.5, 9.5), (11.5, 8.5)), ((11.5, 9.5), (11.5, 10.5)), ((11.5, 10.5), (11.5, 9.5)), ((11.5, 10.5), (11.5, 11.5)), ((11.5, 11.5), (11.5, 10.5))]\n"
     ]
    }
   ],
   "source": [
    "print(Edges)"
   ]
  },
  {
   "cell_type": "code",
   "execution_count": 23,
   "id": "71614d5f",
   "metadata": {},
   "outputs": [],
   "source": [
    "## Small utility for rounding coordinates of points\n",
    "def RoundCoords(vertex_name):\n",
    "  vertex_coord = [int(vertex_name[0]), int(vertex_name[1])]\n",
    "  return vertex_coord"
   ]
  },
  {
   "cell_type": "code",
   "execution_count": 24,
   "id": "91a13f1a",
   "metadata": {},
   "outputs": [],
   "source": [
    "## Vertex Edge incidence matrix\n",
    "A = torch.zeros((len(Vertices), len(Edges)))\n",
    "for j, e in enumerate(Edges):\n",
    "    ind0 = Vertices.index(e[0])\n",
    "    ind1 = Vertices.index(e[1])\n",
    "    A[ind0,j] = -1.\n",
    "    A[ind1,j] = +1.\n",
    "\n",
    "## Create b vector necessary for LP approach to shortest path\n",
    "b = torch.zeros(k**2)\n",
    "b[0] = -1.0\n",
    "b[-1] = 1.0"
   ]
  },
  {
   "cell_type": "code",
   "execution_count": 25,
   "id": "9b6f0219",
   "metadata": {},
   "outputs": [
    {
     "name": "stdout",
     "output_type": "stream",
     "text": [
      "tensor([ 1., -1.,  0.,  0.,  0.,  0.,  0.,  0.,  0.,  0.,  0.,  0.,  0.,  0.,\n",
      "         0.,  0.,  0.,  0.,  0.,  0.,  0.,  0.,  0.,  0.,  0.,  0.,  0.,  0.,\n",
      "         0.,  0.,  0.,  0.,  0.,  0.,  0.,  0.,  0.,  0.,  0.,  0.,  0.,  0.,\n",
      "         0.,  0.,  0.,  0.,  0.,  0.,  0.,  0.,  0.,  0.,  0.,  0.,  0.,  0.,\n",
      "         0.,  0.,  0.,  0.,  0.,  0.,  0.,  0.,  0.,  0.,  0.,  0.,  0.,  0.,\n",
      "         0.,  0.,  0.,  0.,  0.,  0.,  0.,  0.,  0.,  0.,  0.,  0.,  0.,  0.,\n",
      "         0.,  0.,  0.,  0.,  0.,  0.,  0.,  0.,  0.,  0.,  0.,  0.,  0.,  0.,\n",
      "         0.,  0.,  0.,  0.,  0.,  0.,  0.,  0.,  0.,  0.,  0.,  0.,  0.,  0.,\n",
      "         0.,  0.,  0.,  0.,  0.,  0.,  0.,  0.,  0.,  0.,  0.,  0.,  0.,  0.,\n",
      "         0.,  0.,  0.,  0.,  0.,  0.,  0.,  0.,  0.,  0.,  0.,  0.,  0.,  0.,\n",
      "         0.,  0.,  0.,  0.])\n"
     ]
    }
   ],
   "source": [
    "print(A[:,1])"
   ]
  },
  {
   "cell_type": "code",
   "execution_count": 26,
   "id": "1f4604c6",
   "metadata": {},
   "outputs": [
    {
     "name": "stdout",
     "output_type": "stream",
     "text": [
      "True\n"
     ]
    }
   ],
   "source": [
    "print(len(Vertices) == k**2)"
   ]
  },
  {
   "cell_type": "code",
   "execution_count": 27,
   "id": "5ed3ba12",
   "metadata": {},
   "outputs": [],
   "source": [
    "## Utility for converting path in vertex format to edge list format\n",
    "dijkstra = Dijkstra(euclidean_weight=True,four_neighbors=False)"
   ]
  },
  {
   "cell_type": "code",
   "execution_count": 28,
   "id": "dd7132e1",
   "metadata": {},
   "outputs": [
    {
     "name": "stdout",
     "output_type": "stream",
     "text": [
      "[[1 2 2 2 2 2 2 2 2 2 2 2]\n",
      " [1 2 2 2 2 2 2 2 2 2 2 2]\n",
      " [2 1 2 2 2 2 2 2 2 2 2 2]\n",
      " [2 2 1 2 2 2 2 2 2 2 2 2]\n",
      " [2 2 2 1 2 2 2 2 2 2 2 2]\n",
      " [2 2 2 2 1 2 2 2 2 2 2 2]\n",
      " [2 2 2 2 2 1 2 2 2 2 2 2]\n",
      " [2 2 2 2 2 1 2 2 2 2 2 2]\n",
      " [2 2 2 2 2 2 1 2 2 2 2 2]\n",
      " [2 2 2 2 2 2 2 1 2 2 2 2]\n",
      " [2 2 2 2 2 2 2 2 1 2 1 2]\n",
      " [2 2 2 2 2 2 2 2 2 1 2 1]]\n"
     ]
    }
   ],
   "source": [
    "Costs = 2 - paths_train[0]\n",
    "print(Costs)\n",
    "path_v, path_e = dijkstra.run_single(Costs,Gen_Data=True)\n",
    "path_e.reverse() # reverse list as output starts from bottom right corner"
   ]
  },
  {
   "cell_type": "code",
   "execution_count": 29,
   "id": "6a5b6ea1",
   "metadata": {},
   "outputs": [
    {
     "name": "stdout",
     "output_type": "stream",
     "text": [
      "[(0.5, 0.5), (1.5, 0.5), (2.5, 1.5), (3.5, 2.5), (4.5, 3.5), (5.5, 4.5), (6.5, 5.5), (7.5, 5.5), (8.5, 6.5), (9.5, 7.5), (10.5, 8.5), (11.5, 9.5), (10.5, 10.5), (11.5, 11.5)]\n"
     ]
    }
   ],
   "source": [
    "print(path_e)"
   ]
  },
  {
   "cell_type": "code",
   "execution_count": 30,
   "id": "b769d979",
   "metadata": {},
   "outputs": [],
   "source": [
    "# Encode edge description of shortest path as a vector\n",
    "path_vec_e = torch.zeros(len(Edges))\n",
    "for i in range(len(path_e)-1):\n",
    "    path_vec_e[Edges.index((path_e[i], path_e[i+1]))] = 1"
   ]
  },
  {
   "cell_type": "code",
   "execution_count": 31,
   "id": "ff327ede",
   "metadata": {},
   "outputs": [
    {
     "name": "stdout",
     "output_type": "stream",
     "text": [
      "tensor([0., 0., 1.,  ..., 0., 0., 0.])\n"
     ]
    }
   ],
   "source": [
    "print(path_vec_e)"
   ]
  },
  {
   "cell_type": "code",
   "execution_count": 32,
   "id": "82285c1f",
   "metadata": {},
   "outputs": [],
   "source": [
    "## Test \n",
    "# test the accuracy of the above by converting back to node map\n",
    "## Utility for converting path in edge list format to node list format\n",
    "def Edge_to_Node(path, Edge_list, m, device):\n",
    "  node_map = torch.zeros((m,m), device=device)\n",
    "  node_map[0,0] = 1.\n",
    "  node_map[-1,-1] = 1.\n",
    "  path_list = []\n",
    "  for edge_num, edge_val in enumerate(path):\n",
    "    if edge_val > 0:\n",
    "      edge_name = Edge_list[edge_num]\n",
    "      path_list.append(edge_name)\n",
    "      node_0 = RoundCoords(edge_name[0])\n",
    "      node_1 = RoundCoords(edge_name[1])\n",
    "      node_map[node_0[0], node_0[1]] += edge_val\n",
    "      node_map[node_1[0], node_1[1]] += edge_val\n",
    "  return node_map/2"
   ]
  },
  {
   "cell_type": "code",
   "execution_count": 33,
   "id": "2c0c7e67",
   "metadata": {},
   "outputs": [],
   "source": [
    "node_map = Edge_to_Node(path_vec_e, Edges, k, 'cpu')"
   ]
  },
  {
   "cell_type": "code",
   "execution_count": 34,
   "id": "e3bbb633",
   "metadata": {},
   "outputs": [
    {
     "name": "stdout",
     "output_type": "stream",
     "text": [
      "tensor([[1., 0., 0., 0., 0., 0., 0., 0., 0., 0., 0., 0.],\n",
      "        [1., 0., 0., 0., 0., 0., 0., 0., 0., 0., 0., 0.],\n",
      "        [0., 1., 0., 0., 0., 0., 0., 0., 0., 0., 0., 0.],\n",
      "        [0., 0., 1., 0., 0., 0., 0., 0., 0., 0., 0., 0.],\n",
      "        [0., 0., 0., 1., 0., 0., 0., 0., 0., 0., 0., 0.],\n",
      "        [0., 0., 0., 0., 1., 0., 0., 0., 0., 0., 0., 0.],\n",
      "        [0., 0., 0., 0., 0., 1., 0., 0., 0., 0., 0., 0.],\n",
      "        [0., 0., 0., 0., 0., 1., 0., 0., 0., 0., 0., 0.],\n",
      "        [0., 0., 0., 0., 0., 0., 1., 0., 0., 0., 0., 0.],\n",
      "        [0., 0., 0., 0., 0., 0., 0., 1., 0., 0., 0., 0.],\n",
      "        [0., 0., 0., 0., 0., 0., 0., 0., 1., 0., 1., 0.],\n",
      "        [0., 0., 0., 0., 0., 0., 0., 0., 0., 1., 0., 1.]])\n"
     ]
    }
   ],
   "source": [
    "print(node_map)"
   ]
  },
  {
   "cell_type": "code",
   "execution_count": 35,
   "id": "95741bda",
   "metadata": {},
   "outputs": [
    {
     "name": "stdout",
     "output_type": "stream",
     "text": [
      "[[1 0 0 0 0 0 0 0 0 0 0 0]\n",
      " [1 0 0 0 0 0 0 0 0 0 0 0]\n",
      " [0 1 0 0 0 0 0 0 0 0 0 0]\n",
      " [0 0 1 0 0 0 0 0 0 0 0 0]\n",
      " [0 0 0 1 0 0 0 0 0 0 0 0]\n",
      " [0 0 0 0 1 0 0 0 0 0 0 0]\n",
      " [0 0 0 0 0 1 0 0 0 0 0 0]\n",
      " [0 0 0 0 0 1 0 0 0 0 0 0]\n",
      " [0 0 0 0 0 0 1 0 0 0 0 0]\n",
      " [0 0 0 0 0 0 0 1 0 0 0 0]\n",
      " [0 0 0 0 0 0 0 0 1 0 1 0]\n",
      " [0 0 0 0 0 0 0 0 0 1 0 1]]\n"
     ]
    }
   ],
   "source": [
    "print(paths_train[0])"
   ]
  },
  {
   "cell_type": "code",
   "execution_count": 36,
   "id": "646da9ae",
   "metadata": {},
   "outputs": [],
   "source": [
    "## TODO:\n",
    "# Need to remember to scale edge lengths to account for diagonals."
   ]
  },
  {
   "cell_type": "code",
   "execution_count": null,
   "id": "5ad28ace",
   "metadata": {},
   "outputs": [],
   "source": []
  }
 ],
 "metadata": {
  "kernelspec": {
   "display_name": "Python 3 (ipykernel)",
   "language": "python",
   "name": "python3"
  },
  "language_info": {
   "codemirror_mode": {
    "name": "ipython",
    "version": 3
   },
   "file_extension": ".py",
   "mimetype": "text/x-python",
   "name": "python",
   "nbconvert_exporter": "python",
   "pygments_lexer": "ipython3",
   "version": "3.11.3"
  }
 },
 "nbformat": 4,
 "nbformat_minor": 5
}
